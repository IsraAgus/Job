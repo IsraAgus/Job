{
 "cells": [
  {
   "cell_type": "code",
   "execution_count": 2,
   "metadata": {},
   "outputs": [],
   "source": [
    "###\n",
    "# Imports\n",
    "###\n",
    "import spacy"
   ]
  },
  {
   "cell_type": "code",
   "execution_count": null,
   "metadata": {},
   "outputs": [],
   "source": [
    "###\n",
    "# Methods\n",
    "###\n"
   ]
  },
  {
   "cell_type": "code",
   "execution_count": 3,
   "metadata": {},
   "outputs": [],
   "source": [
    "###\n",
    "# Load lenguages\n",
    "###\n",
    "nlp_en = spacy.load(\"en_core_web_sm\")\n",
    "nlp_es = spacy.load(\"es_core_news_sm\")"
   ]
  },
  {
   "cell_type": "code",
   "execution_count": 6,
   "metadata": {},
   "outputs": [],
   "source": [
    "###\n",
    "# Implementation\n",
    "###\n",
    "text = \"\"\"\n",
    "Tratare de ser objetivo. Realmente me cuesta creer que muchas personas escriban que la comida del hotel es buena, \n",
    "la comida del room service terrible, el restaurante MB (nos recomendaron hasta el cansancio) muy malo también, \n",
    "no sé si nos perdimos de algo pero la comida en todo el hotel dejó mucho que desear.\n",
    "\n",
    "Las bebidas fue lo que más me irritó, no puede ser que cobren una noche de 1,000 USD y no te puedan dar cosas decentes, \n",
    "dan un tequila que no es tequila, un ron que se llama antillano, el mejor gin que tienen es beefeater o tanqueray, \n",
    "es una verdadera pena que escatimen en estas cosas, no sé si debido a que muchos clientes son extranjeros no se dan \n",
    "cuenta pero lo que dan en bebidas es basura comparado con el precio.\n",
    "\n",
    "Las cabañas en la playa creo que si son un buen lugar, muy cómodas y con una excelente vista, el servicio de Antonio \n",
    "ahí fue excelente. Sin embargo, los masajes que incluían nuestras habitaciones no llegaron los últimos días, incluso \n",
    "cuando los pedimos más de tres veces.\n",
    "\n",
    "El aqua club realmente no sirve de mucho, al final los beneficios que incluye tener este upgrade es una tortura \n",
    "estarlos pidiendo a cada rato, el salón privado que tienen en el 5to piso se me hizo lo más equis del mundo, es \n",
    "una sala y ya.\n",
    "\n",
    "Los baños de la alberca olían horrible y siempre estaban mojados, increíble para un hotel que está considerado \n",
    "“uno de los mejores de Cancún”.\n",
    "\n",
    "Respecto a las habitacion, nos quedamos en una suite y me parecieron muy buenos acabados, espacios muy grandes, \n",
    "la terraza excelente, la cama muy cómoda y el baño también bastante bueno y limpio. Solo en el jacuzzi salía una \n",
    "especie de espuma café, pero que pudimos solucionar, de ahí en fuera el cuarto fue lo mejor del hotel.\n",
    "\n",
    "En general es un hotel bastante malo, quisiera que mi crítica fuera mejor dado que este hotel es de un grupo \n",
    "hotelero mexicano pero se siente casi un robo en lo que pagas vs lo que recibes, en ese caso puedes encontrar \n",
    "muchas otras opciones en Riviera Maya (incluso dentro de Mayakoba) donde te dan mucho mejores servicios, comida \n",
    "y bebidas.\n",
    "\n",
    "Lamentablemente no volvemos.\"\"\""
   ]
  },
  {
   "cell_type": "code",
   "execution_count": 7,
   "metadata": {},
   "outputs": [
    {
     "name": "stdout",
     "output_type": "stream",
     "text": [
      "Noun phrases: ['Tratare', 'objetivo', 'me', 'muchas personas', 'la comida', 'hotel', 'la comida', 'room', 'service', 'el restaurante', 'MB', 'nos', 'el cansancio', 'nos', 'algo', 'la comida', 'el hotel', 'Las bebidas', 'que', 'me', 'una noche', 'USD', 'te', 'cosas', 'un tequila', 'que', 'tequila', 'un ron', 'que', 'se', 'el mejor gin', 'que', 'beefeater', 'tanqueray', 'una verdadera pena', 'que', 'estas cosas', 'muchos clientes', 'se', 'que', 'bebidas', 'basura', 'el precio', 'Las cabañas', 'la playa', 'un buen lugar', 'una excelente vista', 'el servicio', 'Antonio', 'embargo', 'los masajes', 'que', 'nuestras habitaciones', 'los últimos días', 'los', 'veces', 'El aqua', 'club', 'final', 'los beneficios', 'que', 'este upgrade', 'una tortura', 'estarlos', 'cada rato', 'el salón', 'que', 'piso', 'se', 'me', 'mundo', 'una sala', 'Los baños', 'la alberca', 'un hotel', 'que', '“', 'uno', 'Cancún”', 'Respecto a', 'las habitacion', 'nos', 'una suite', 'me', 'acabados', 'espacios', 'la terraza', 'la cama', 'el baño', 'el jacuzzi', 'una \\nespecie', 'espuma', 'café', 'que', 'fuera', 'hotel', 'general', 'un hotel', 'mi crítica', 'dado', 'este hotel', 'un grupo', 'hotelero', 'se', 'un robo', 'que', 'que', 'ese caso', 'muchas otras opciones', 'Riviera Maya', 'Mayakoba', 'donde', 'te', 'mucho mejores servicios', 'comida', 'bebidas']\n",
      "Verbs: ['costar', 'creer', 'escribir', 'recomendar', 'ser', 'perder', 'dejar', 'desear', 'irritar', 'cobrar', 'dar', 'dar', 'llamar', 'tener', 'escatimar', 'ser', 'dar', 'contar', 'dar', 'creer', 'incluir', 'llegar', 'pedir', 'servir', 'incluir', 'tener', 'pedir', 'tener', 'hacer', 'oler', 'quedar', 'parecer', 'salir', 'solucionar', 'querer', 'sentir', 'pagar', 'recibir', 'encontrar', 'dar', 'volver']\n",
      "Tratare LOC\n",
      "Realmente me cuesta creer MISC\n",
      "Las bebidas MISC\n",
      "Antonio PER\n",
      "Sin embargo MISC\n",
      "El aqua club MISC\n",
      "Los baños de la alberca olían horrible MISC\n",
      "Cancún LOC\n",
      "Solo en el jacuzzi MISC\n",
      "Riviera Maya LOC\n",
      "Mayakoba LOC\n"
     ]
    }
   ],
   "source": [
    "doc = nlp_es(text)\n",
    "\n",
    "# Analyze syntax\n",
    "print(\"Noun phrases:\", [chunk.text for chunk in doc.noun_chunks])\n",
    "print(\"Verbs:\", [token.lemma_ for token in doc if token.pos_ == \"VERB\"])\n",
    "\n",
    "# Find named entities, phrases and concepts\n",
    "for entity in doc.ents:\n",
    "    print(entity.text, entity.label_)"
   ]
  },
  {
   "cell_type": "code",
   "execution_count": null,
   "metadata": {},
   "outputs": [],
   "source": []
  }
 ],
 "metadata": {
  "kernelspec": {
   "display_name": "Python 3",
   "language": "python",
   "name": "python3"
  },
  "language_info": {
   "codemirror_mode": {
    "name": "ipython",
    "version": 3
   },
   "file_extension": ".py",
   "mimetype": "text/x-python",
   "name": "python",
   "nbconvert_exporter": "python",
   "pygments_lexer": "ipython3",
   "version": "3.6.8"
  }
 },
 "nbformat": 4,
 "nbformat_minor": 2
}
