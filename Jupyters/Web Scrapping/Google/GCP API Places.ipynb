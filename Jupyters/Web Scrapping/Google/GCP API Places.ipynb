{
 "cells": [
  {
   "cell_type": "markdown",
   "metadata": {},
   "source": [
    "<div class=\"alert alert-info\" role=\"alert\">\n",
    "    <h2><center>GCP API places testing</center></h2>\n",
    "    <hr>\n",
    "    <p><b>Description: </b>\"Lorem ipsum dolor sit amet, consectetur adipiscing elit, sed do eiusmod tempor incididunt ut labore et dolore magna aliqua. Ut enim ad minim veniam, quis nostrud exercitation ullamco laboris nisi ut aliquip ex ea commodo consequat. Duis aute irure dolor in reprehenderit in voluptate velit esse cillum dolore eu fugiat nulla pariatur. Excepteur sint occaecat cupidatat non proident, sunt in culpa qui officia deserunt mollit anim id est laborum.\"</p>\n",
    "</div>"
   ]
  },
  {
   "cell_type": "markdown",
   "metadata": {},
   "source": [
    "<div class=\"alert alert-warning\" role=\"alert\">\n",
    "    <h4><center>Documentation:</center></h4>\n",
    "    <ul>\n",
    "        <li> <a class=\"btn btn-primary\" href=\"https://developers.google.com/\" role=\"button\">Get a GCP accound</a> \n",
    "        <li> <a class=\"btn btn-primary\" href=\"https://developers.google.com/places/web-service/get-api-key?hl=es-419\" role=\"button\">Get the API key</a>        \n",
    "        <li> <a class=\"btn btn-primary\" href=\"https://cloud.google.com/maps-platform/pricing/?hl=es-419&_ga=2.212606804.1531912151.1587653844-49927471.1576101148&_gac=1.260195071.1587653844.CjwKCAjw-YT1BRAFEiwAd2WRtvipcjgsEjouPqHsqO9Z7v5qyT9i5GEOdIWw7bXfU24SLSYFOtuughoCXkIQAvD_BwE\">Get pricing of APIs calling</a>\n",
    "        <li> <a class=\"btn btn-primary\" href=\"https://requests.readthedocs.io/en/master/\">Get information of request python library</a>\n",
    "        <li> <a class=\"btn btn-primary\" href=\"https://console.cloud.google.com/apis/library/places-backend.googleapis.com?filter=category:maps&id=ecefdd63-ee2b-4751-b6c3-8e9113791baf&project=tt2cultivos&hl=es-419\"> Get the documentation of the Places API</a>\n",
    "        <li> <a class=\"btn btn-primary\" href=\"https://developers.google.com/places/web-service/search\"> Get the documentation of the  Search Places API</a>\n",
    "    </ul>\n",
    "</div>"
   ]
  },
  {
   "cell_type": "code",
   "execution_count": 1,
   "metadata": {},
   "outputs": [],
   "source": [
    "###\n",
    "# Insert your keys here\n",
    "###\n",
    "API_KEY = \"APY_KEY\""
   ]
  },
  {
   "cell_type": "code",
   "execution_count": 2,
   "metadata": {},
   "outputs": [],
   "source": [
    "###\n",
    "# Imports API testing\n",
    "###\n",
    "import requests as rq\n",
    "###\n",
    "# Import Pandas\n",
    "###\n",
    "import pandas as pd"
   ]
  },
  {
   "cell_type": "code",
   "execution_count": 3,
   "metadata": {
    "code_folding": []
   },
   "outputs": [],
   "source": [
    "###\n",
    "# Methods\n",
    "###\n",
    "def pa_Nearby(key,location,output=\"json\",is_First=True,\n",
    "              radius=None,rankby=None,keyword=None,\n",
    "              type_=None,next_page_token=None):\n",
    "    \"\"\"Doc String\"\"\"\n",
    "    if is_First:\n",
    "        if radius == rankby == type_ == None:\n",
    "            print(\"There is a problem, you need to specify if you will use a search base on a radius or rankby\")\n",
    "            return None,None\n",
    "        elif radius != None and rankby == None:\n",
    "            if keyword != None:\n",
    "                str_ = \"https://maps.googleapis.com/maps/api/place/nearbysearch/\"+output+\"?location=\"+location+\"&radius=\"+radius+\"&type=\"+type_+\"&keyword=\"+keyword+\"&key=\"+API_KEY\n",
    "                rqst = rq.get(str_).json()\n",
    "                return rqst\n",
    "            else:\n",
    "                str_ = \"https://maps.googleapis.com/maps/api/place/nearbysearch/\"+output+\"?location=\"+location+\"&radius=\"+radius+\"&type=\"+type_+\"&key=\"+API_KEY\n",
    "                rqst = rq.get(str_).json()\n",
    "                return rqst\n",
    "        else:\n",
    "            if keyword != None:\n",
    "                str_ = \"https://maps.googleapis.com/maps/api/place/nearbysearch/\"+output+\"?location=\"+location+\"&rankby=\"+rankby+\"&type=\"+type_+\"&keyword=\"+keyword+\"&key=\"+API_KEY\n",
    "                rqst = rq.get(str_).json()\n",
    "                return rqst\n",
    "            else:\n",
    "                str_ = \"https://maps.googleapis.com/maps/api/place/nearbysearch/\"+output+\"?location=\"+location+\"&rankby=\"+rankby+\"&type=\"+type_+\"&key=\"+API_KEY\n",
    "                rqst = rq.get(str_).json()\n",
    "                return rqst\n",
    "    else:\n",
    "        str_ = \"https://maps.googleapis.com/maps/api/place/nearbysearch/json?pagetoken=\"+next_page_token+\"&key=\"+API_KEY\n",
    "        rqst = rq.get(str_).json()\n",
    "        return rqst"
   ]
  },
  {
   "cell_type": "code",
   "execution_count": 4,
   "metadata": {
    "code_folding": []
   },
   "outputs": [],
   "source": [
    "respuesta = pa_Nearby(API_KEY,\n",
    "                     \"19.4348513,-99.0888552\",\n",
    "                     output=\"json\",\n",
    "                     is_First=True,\n",
    "                     radius=None,\n",
    "                     rankby=\"distance\",\n",
    "                     keyword=\"mexican\",\n",
    "                     type_=\"restaurant\",\n",
    "                     next_page_token=None)"
   ]
  },
  {
   "cell_type": "code",
   "execution_count": 23,
   "metadata": {},
   "outputs": [],
   "source": [
    "dicc = {}\n",
    "for k in respuesta['results'][0]:\n",
    "    dicc[k] = []\n",
    "df_pa_Nearby = pd.DataFrame(dicc)"
   ]
  },
  {
   "cell_type": "code",
   "execution_count": 24,
   "metadata": {},
   "outputs": [
    {
     "data": {
      "text/plain": [
       "{'business_status': [],\n",
       " 'geometry': [],\n",
       " 'icon': [],\n",
       " 'id': [],\n",
       " 'name': [],\n",
       " 'opening_hours': [],\n",
       " 'photos': [],\n",
       " 'place_id': [],\n",
       " 'plus_code': [],\n",
       " 'price_level': [],\n",
       " 'rating': [],\n",
       " 'reference': [],\n",
       " 'scope': [],\n",
       " 'types': [],\n",
       " 'user_ratings_total': [],\n",
       " 'vicinity': []}"
      ]
     },
     "execution_count": 24,
     "metadata": {},
     "output_type": "execute_result"
    }
   ],
   "source": [
    "dicc"
   ]
  },
  {
   "cell_type": "code",
   "execution_count": null,
   "metadata": {},
   "outputs": [],
   "source": [
    "lista = []\n",
    "for item in respuesta['results']:\n",
    "    for k,v in item:\n",
    "        dica = {}\n",
    "        lista.append(\n",
    "            dica[k] = v\n",
    "        )"
   ]
  },
  {
   "cell_type": "code",
   "execution_count": null,
   "metadata": {},
   "outputs": [],
   "source": [
    "for item in respuesta['results']:\n",
    "    dicc = {\n",
    "        'business_status': item['business_status'],\n",
    "         'geometry': item['geometry'],\n",
    "         'icon': item['icon'],\n",
    "         'id': item['id'],\n",
    "         'name': item['name'],\n",
    "         'opening_hours': item['opening_hours'],\n",
    "         'photos': item['photos'],\n",
    "         'place_id': item['place_id'],\n",
    "         'plus_code': item['plus_code'],\n",
    "         'price_level': item['price_level'],\n",
    "         'rating': item['rating'],\n",
    "         'reference': item['reference'],\n",
    "         'scope': item['scope'],\n",
    "         'types': item['types'],\n",
    "         'user_ratings_total': item['user_ratings_total'],\n",
    "         'vicinity': item['vicinity']\n",
    "        }\n",
    "    df_pa_Nearby.append(dicc,ignore_index=True)"
   ]
  },
  {
   "cell_type": "code",
   "execution_count": 32,
   "metadata": {},
   "outputs": [
    {
     "data": {
      "text/plain": [
       "{'business_status': ['OPERATIONAL'],\n",
       " 'geometry': [{'location': {'lat': 19.4265016, 'lng': -99.0954609},\n",
       "   'viewport': {'northeast': {'lat': 19.42788967989272,\n",
       "     'lng': -99.09408992010728},\n",
       "    'southwest': {'lat': 19.42519002010727, 'lng': -99.09678957989271}}}],\n",
       " 'icon': ['https://maps.gstatic.com/mapfiles/place_api/icons/restaurant-71.png'],\n",
       " 'id': ['0909a7b35d0177afbf2b93818eb995394d9f3086'],\n",
       " 'name': ['Restaurante Alkimia'],\n",
       " 'opening_hours': [{'open_now': True}],\n",
       " 'photos': [[{'height': 3024,\n",
       "    'html_attributions': ['<a href=\"https://maps.google.com/maps/contrib/101823239090481410219\">A Google User</a>'],\n",
       "    'photo_reference': 'CmRaAAAAda-kPQO-XNsLgWmOFBOT0kexshr9QCSeneTE4OEtU-bc84TEakTaQKWT21PGbRjbS1zDW5uCgV2bh-BZWztTKWDKIAAggjWw0xyxe3n9I1ZWk9a_RfFGRCbxe_nvQnOPEhAL1Z9gFxbKNUB8n5F9jD36GhTH83DIUu1wktS9KpVB6mcOV7HDhQ',\n",
       "    'width': 3024}]],\n",
       " 'place_id': ['ChIJ8SubfQT80YURLDdIgTmONhw'],\n",
       " 'plus_code': [{'compound_code': 'CWG3+JR Mexico City',\n",
       "   'global_code': '76F2CWG3+JR'}],\n",
       " 'price_level': [],\n",
       " 'rating': [3.9],\n",
       " 'reference': ['ChIJ8SubfQT80YURLDdIgTmONhw'],\n",
       " 'scope': ['GOOGLE'],\n",
       " 'types': [['restaurant', 'food', 'point_of_interest', 'establishment']],\n",
       " 'user_ratings_total': [51],\n",
       " 'vicinity': ['Nte 13 #245, Moctezuma 2da Secc, Ciudad de México']}"
      ]
     },
     "execution_count": 32,
     "metadata": {},
     "output_type": "execute_result"
    }
   ],
   "source": [
    "dicc"
   ]
  },
  {
   "cell_type": "code",
   "execution_count": 33,
   "metadata": {},
   "outputs": [
    {
     "data": {
      "text/html": [
       "<div>\n",
       "<style scoped>\n",
       "    .dataframe tbody tr th:only-of-type {\n",
       "        vertical-align: middle;\n",
       "    }\n",
       "\n",
       "    .dataframe tbody tr th {\n",
       "        vertical-align: top;\n",
       "    }\n",
       "\n",
       "    .dataframe thead th {\n",
       "        text-align: right;\n",
       "    }\n",
       "</style>\n",
       "<table border=\"1\" class=\"dataframe\">\n",
       "  <thead>\n",
       "    <tr style=\"text-align: right;\">\n",
       "      <th></th>\n",
       "      <th>business_status</th>\n",
       "      <th>geometry</th>\n",
       "      <th>icon</th>\n",
       "      <th>id</th>\n",
       "      <th>name</th>\n",
       "      <th>opening_hours</th>\n",
       "      <th>photos</th>\n",
       "      <th>place_id</th>\n",
       "      <th>plus_code</th>\n",
       "      <th>price_level</th>\n",
       "      <th>rating</th>\n",
       "      <th>reference</th>\n",
       "      <th>scope</th>\n",
       "      <th>types</th>\n",
       "      <th>user_ratings_total</th>\n",
       "      <th>vicinity</th>\n",
       "    </tr>\n",
       "  </thead>\n",
       "  <tbody>\n",
       "    <tr>\n",
       "      <td>0</td>\n",
       "      <td>[OPERATIONAL]</td>\n",
       "      <td>[{'location': {'lat': 19.4265016, 'lng': -99.0...</td>\n",
       "      <td>[https://maps.gstatic.com/mapfiles/place_api/i...</td>\n",
       "      <td>[0909a7b35d0177afbf2b93818eb995394d9f3086]</td>\n",
       "      <td>[Restaurante Alkimia]</td>\n",
       "      <td>[{'open_now': True}]</td>\n",
       "      <td>[[{'height': 3024, 'html_attributions': ['&lt;a h...</td>\n",
       "      <td>[ChIJ8SubfQT80YURLDdIgTmONhw]</td>\n",
       "      <td>[{'compound_code': 'CWG3+JR Mexico City', 'glo...</td>\n",
       "      <td>[]</td>\n",
       "      <td>[3.9]</td>\n",
       "      <td>[ChIJ8SubfQT80YURLDdIgTmONhw]</td>\n",
       "      <td>[GOOGLE]</td>\n",
       "      <td>[[restaurant, food, point_of_interest, establi...</td>\n",
       "      <td>[51]</td>\n",
       "      <td>[Nte 13 #245, Moctezuma 2da Secc, Ciudad de Mé...</td>\n",
       "    </tr>\n",
       "  </tbody>\n",
       "</table>\n",
       "</div>"
      ],
      "text/plain": [
       "  business_status                                           geometry  \\\n",
       "0   [OPERATIONAL]  [{'location': {'lat': 19.4265016, 'lng': -99.0...   \n",
       "\n",
       "                                                icon  \\\n",
       "0  [https://maps.gstatic.com/mapfiles/place_api/i...   \n",
       "\n",
       "                                           id                   name  \\\n",
       "0  [0909a7b35d0177afbf2b93818eb995394d9f3086]  [Restaurante Alkimia]   \n",
       "\n",
       "          opening_hours                                             photos  \\\n",
       "0  [{'open_now': True}]  [[{'height': 3024, 'html_attributions': ['<a h...   \n",
       "\n",
       "                        place_id  \\\n",
       "0  [ChIJ8SubfQT80YURLDdIgTmONhw]   \n",
       "\n",
       "                                           plus_code price_level rating  \\\n",
       "0  [{'compound_code': 'CWG3+JR Mexico City', 'glo...          []  [3.9]   \n",
       "\n",
       "                       reference     scope  \\\n",
       "0  [ChIJ8SubfQT80YURLDdIgTmONhw]  [GOOGLE]   \n",
       "\n",
       "                                               types user_ratings_total  \\\n",
       "0  [[restaurant, food, point_of_interest, establi...               [51]   \n",
       "\n",
       "                                            vicinity  \n",
       "0  [Nte 13 #245, Moctezuma 2da Secc, Ciudad de Mé...  "
      ]
     },
     "execution_count": 33,
     "metadata": {},
     "output_type": "execute_result"
    }
   ],
   "source": [
    "df_pa_Nearby.append(dicc,ignore_index=True)"
   ]
  },
  {
   "cell_type": "code",
   "execution_count": null,
   "metadata": {},
   "outputs": [],
   "source": []
  }
 ],
 "metadata": {
  "kernelspec": {
   "display_name": "Python 3",
   "language": "python",
   "name": "python3"
  },
  "language_info": {
   "codemirror_mode": {
    "name": "ipython",
    "version": 3
   },
   "file_extension": ".py",
   "mimetype": "text/x-python",
   "name": "python",
   "nbconvert_exporter": "python",
   "pygments_lexer": "ipython3",
   "version": "3.7.1"
  }
 },
 "nbformat": 4,
 "nbformat_minor": 2
}
