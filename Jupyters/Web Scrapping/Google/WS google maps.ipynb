{
 "cells": [
  {
   "cell_type": "code",
   "execution_count": 1,
   "metadata": {},
   "outputs": [
    {
     "name": "stdout",
     "output_type": "stream",
     "text": [
      "Libraries 'Utils' ready...\n",
      "Selenium libraries ready...\n",
      "BeautifulSoup and urllib libraries ready...\n",
      "CurrencyRates libraries ready...\n",
      "Pandas libraries ready...\n"
     ]
    }
   ],
   "source": [
    "###\n",
    "# Libraries system or commonly called: Utils\n",
    "###\n",
    "import os\n",
    "import time\n",
    "import datetime\n",
    "from datetime import date\n",
    "import csv\n",
    "import random\n",
    "print(\"Libraries 'Utils' ready...\")\n",
    "###\n",
    "# Selenium\n",
    "###\n",
    "try:\n",
    "    from selenium import webdriver\n",
    "    from selenium.webdriver.common.keys import Keys\n",
    "    from selenium.webdriver.common.by import By\n",
    "    from selenium.webdriver.support.ui import WebDriverWait\n",
    "    from selenium.webdriver.support import expected_conditions as EC\n",
    "    from selenium.common.exceptions import NoSuchElementException,StaleElementReferenceException\n",
    "    print(\"Selenium libraries ready...\")\n",
    "except ImportError as error:\n",
    "    print(\"There is not a Module named 'Selenium' installed, please run the next cell...\")\n",
    "###\n",
    "# urllib and BautifulSoup\n",
    "###\n",
    "try:\n",
    "    import urllib\n",
    "    from bs4 import BeautifulSoup\n",
    "    print(\"BeautifulSoup and urllib libraries ready...\")\n",
    "except ImportError as error:\n",
    "    print(\"There is not a Module named 'BeautifulSoup' installed, please run the next cell..\")\n",
    "###\n",
    "# Forex -> Procing of the currencies\n",
    "###\n",
    "try:\n",
    "    from forex_python.converter import CurrencyRates\n",
    "    print(\"CurrencyRates libraries ready...\")\n",
    "except ImportError as error:\n",
    "    print(\"There is not a Module named 'CurrencyRates' installed, please run the next cell...\")\n",
    "###\n",
    "# Pandas\n",
    "###\n",
    "try:\n",
    "    import pandas as pd\n",
    "    print(\"Pandas libraries ready...\")\n",
    "except ImportError as error:\n",
    "    print(\"There is not a Module named 'pandas' installed, please tun the next cell...\")"
   ]
  },
  {
   "cell_type": "code",
   "execution_count": 2,
   "metadata": {},
   "outputs": [],
   "source": [
    "###\n",
    "# Methods for handling SELENIUM\n",
    "###\n",
    "def connect(url):\n",
    "    \"\"\"This method will connect to the web site using selenium\n",
    "       Parameters:\n",
    "       ----------\n",
    "           url: str, the url of the web page to scrap\n",
    "       Returns:\n",
    "       -------\n",
    "           driver: ChromeDriver, the browser \n",
    "       Example:\n",
    "       -------\n",
    "           >>> connect('http://www.somepage.com')\"\"\"\n",
    "    chromeOptions = webdriver.ChromeOptions()\n",
    "    #chromeOptions.add_argument(\"--incognito\")\n",
    "    driver = webdriver.Chrome(\"chromedriver.exe\",options=chromeOptions)\n",
    "    driver.get(url) \n",
    "    wait(3)\n",
    "    return driver\n",
    "\n",
    "def quit(driver):\n",
    "    \"\"\"This method will diconect the selenium web driver and closing the chrome windows\n",
    "       Parameters:\n",
    "       Returns:\n",
    "       Example:\"\"\"\n",
    "    print(\"Fishing the selenium web driver\")\n",
    "    driver.quit()\n",
    "    \n",
    "def page_Ready(driver):\n",
    "    \"\"\"Method uses to wxecute some jquery code to wait until the page is ready\n",
    "       Parameters:\n",
    "       Returns:\n",
    "       Example:\"\"\"\n",
    "    page_state = driver.execute_script('return document.readyState;')\n",
    "    return page_state\n",
    "    \n",
    "def is_Ready(driver):\n",
    "    \"\"\"The page ready method, make infinite loop to wait until web page has been downladed.\n",
    "       Parameters:\n",
    "       Returns:\n",
    "       Example:\"\"\"\n",
    "    while True:\n",
    "        page_state = page_Ready(driver)\n",
    "        if page_state == 'complete':\n",
    "            print(\"Page ready...\")\n",
    "            break"
   ]
  },
  {
   "cell_type": "code",
   "execution_count": 6,
   "metadata": {},
   "outputs": [],
   "source": [
    "###\n",
    "# Methods to create waits\n",
    "###\n",
    "def explicit_wait(driver,many,key,path_element,num):\n",
    "    \"\"\"This method is create to create a explicit wait\n",
    "       Parameters:\n",
    "       Returns:\n",
    "       Example:\"\"\"\n",
    "    dicc_Bys={'selector':By.CSS_SELECTOR,'id':By.ID,\n",
    "              'tag':By.TAG_NAME,'xpath':By.XPATH}\n",
    "    try:\n",
    "        if many:\n",
    "            element = WebDriverWait(driver,num).until(\n",
    "                EC.presence_of_all_elements_located(\n",
    "                    (dicc_Bys[key],path_element)\n",
    "                )\n",
    "            )\n",
    "        else:\n",
    "            element = WebDriverWait(driver,num).until(\n",
    "                EC.presence_of_element_located(\n",
    "                    (dicc_Bys[key],path_element)\n",
    "                )\n",
    "            )\n",
    "    except:\n",
    "        print(\"\\x1b[31m\\\"Something bad happen with the explicit wait \\\"\\x1b[0m\")\n",
    "    return element\n",
    "\n",
    "def implicit_wait(driver,many,key,path_element,num):\n",
    "    \"\"\"Method used to handle a implicit wait:\n",
    "       Parameters:\n",
    "       Returns:\n",
    "       Example:\"\"\"\n",
    "    driver.implicitly_wait(num)\n",
    "    try:\n",
    "        if many:\n",
    "            if key == 'id':\n",
    "                element = driver.find_element_by_id(path_element)\n",
    "            if key == 'selector':\n",
    "                element = driver.find_elements_by_css_selector(path_element)\n",
    "            if key ==  'xpath':\n",
    "                element = driver.find_elements_by_xpath(path_element)\n",
    "            if key == 'tag':\n",
    "                element = driver.find_elements_by_tag_name(path_element)\n",
    "        else:\n",
    "            if key == 'selector':\n",
    "                element = driver.find_element_by_css_selector(path_element)\n",
    "            if key == 'xpath':\n",
    "                element = driver.find_element_by_xpath(path_element)\n",
    "            if key == 'tag':\n",
    "                element = driver.find_element_by_tag_name(path_element)\n",
    "    except:\n",
    "        print(\"\\x1b[31m\\\"Something bad happen with the implicit wait function \\\"\\x1b[0m\")\n",
    "    return element\n",
    "\n",
    "def hard_wait(driver,many,key,path_element,num):\n",
    "    \"\"\"This method create a system wait fro handdle in genereal all the Ajax interactions\n",
    "       Parameters:\n",
    "       Returns:\n",
    "       Example:\"\"\"\n",
    "    time.sleep(num)\n",
    "    try:\n",
    "        if many:\n",
    "            if key == 'id':\n",
    "                element = driver.find_element_by_id(path_element)\n",
    "            if key == 'selector':\n",
    "                element = driver.find_elements_by_css_selector(path_element)\n",
    "            if key ==  'xpath':\n",
    "                element = driver.find_elements_by_xpath(path_element)\n",
    "            if key == 'tag':\n",
    "                element = driver.find_elements_by_tag_name(path_element)\n",
    "        else:\n",
    "            if key == 'selector':\n",
    "                element = driver.find_element_by_css_selector(path_element)\n",
    "            if key == 'xpath':\n",
    "                element = driver.find_element_by_xpath(path_element)\n",
    "            if key == 'tag':\n",
    "                element = driver.find_element_by_tag_name(path_element)\n",
    "    except:\n",
    "        print(\"\\x1b[31m\\\"Something bad happen with the hard wait function \\\"\\x1b[0m\")\n",
    "    return element\n",
    "\n",
    "def wait(num):\n",
    "    \"\"\"This method create a system wait fro handdle in genereal all the Ajax interactions\n",
    "       Parameters:\n",
    "       Returns:\n",
    "       Example:\"\"\"\n",
    "    time.sleep(num)\n",
    "    return None\n",
    "\n",
    "def waits_and_elements(driver,many,key,path_element,time,nombre):\n",
    "    \"\"\"Method used to handdle all waits\n",
    "       Parameters:\n",
    "       Returns:\n",
    "       Example:\"\"\"\n",
    "    try:\n",
    "        elements = explicit_wait(driver,many,key,path_element,time)\n",
    "    except:\n",
    "        try:\n",
    "            elements = implicit_wait(driver,many,key,path_element,time)\n",
    "            if elements == []:\n",
    "                elements = hard_wait(driver,many,key,path_element,time)\n",
    "        except:\n",
    "            print(\"\\x1b[31m\\\"Something really bad happend, with: \"+nombre+\" \"+path_element+\", could be a change of the HTML DOM \\\"\\x1b[0m\")\n",
    "    return elements"
   ]
  },
  {
   "cell_type": "code",
   "execution_count": 3,
   "metadata": {},
   "outputs": [],
   "source": [
    "url = \"https://www.google.com/maps\""
   ]
  },
  {
   "cell_type": "code",
   "execution_count": 7,
   "metadata": {},
   "outputs": [],
   "source": [
    "driver = connect(url)"
   ]
  },
  {
   "cell_type": "code",
   "execution_count": 11,
   "metadata": {},
   "outputs": [],
   "source": [
    "div_input = driver.find_element_by_id(\"gs_lc50\")"
   ]
  },
  {
   "cell_type": "code",
   "execution_count": 12,
   "metadata": {},
   "outputs": [
    {
     "data": {
      "text/plain": [
       "''"
      ]
     },
     "execution_count": 12,
     "metadata": {},
     "output_type": "execute_result"
    }
   ],
   "source": [
    "div_input.text"
   ]
  },
  {
   "cell_type": "code",
   "execution_count": 14,
   "metadata": {},
   "outputs": [],
   "source": [
    "input_t = div_input.find_element_by_id(\"searchboxinput\")"
   ]
  },
  {
   "cell_type": "code",
   "execution_count": 16,
   "metadata": {},
   "outputs": [
    {
     "data": {
      "text/plain": [
       "'Search Google Maps'"
      ]
     },
     "execution_count": 16,
     "metadata": {},
     "output_type": "execute_result"
    }
   ],
   "source": [
    "input_t.get_attribute(\"aria-label\")"
   ]
  },
  {
   "cell_type": "code",
   "execution_count": 24,
   "metadata": {},
   "outputs": [],
   "source": [
    "input_t.send_keys(\"Fiesta Inn Aeropuerto\")"
   ]
  },
  {
   "cell_type": "code",
   "execution_count": 25,
   "metadata": {},
   "outputs": [],
   "source": [
    "button = driver.find_element_by_id(\"searchbox-searchbutton\")"
   ]
  },
  {
   "cell_type": "code",
   "execution_count": 26,
   "metadata": {},
   "outputs": [],
   "source": [
    "button.click()"
   ]
  },
  {
   "cell_type": "code",
   "execution_count": null,
   "metadata": {},
   "outputs": [],
   "source": []
  }
 ],
 "metadata": {
  "kernelspec": {
   "display_name": "Python 3",
   "language": "python",
   "name": "python3"
  },
  "language_info": {
   "codemirror_mode": {
    "name": "ipython",
    "version": 3
   },
   "file_extension": ".py",
   "mimetype": "text/x-python",
   "name": "python",
   "nbconvert_exporter": "python",
   "pygments_lexer": "ipython3",
   "version": "3.7.1"
  }
 },
 "nbformat": 4,
 "nbformat_minor": 2
}
