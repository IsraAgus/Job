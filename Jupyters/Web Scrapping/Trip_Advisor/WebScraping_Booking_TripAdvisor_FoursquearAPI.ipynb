{
 "cells": [
  {
   "cell_type": "markdown",
   "metadata": {},
   "source": [
    "<div class=\"alert alert-block alert-info\">\n",
    "    <h1><center>Proyecto de WEB Scraping y API calling.</center></h1>\n",
    "    <b>Objetivo:</b> <br/> Armar un conjunto de datos que contenga la tarifa en TripAdvisor al día de la consulta, así como las opiniones de los clientes y el precio en los diferentes citios en los que se conforma. Agregando más información al conjunto de datos, como la ubicación y las opiniones de usuarios particulares (Foursquare), también la información que caracteriza al hotel, como \"Desayuno incluido etc.\"\n",
    "</div>"
   ]
  },
  {
   "cell_type": "markdown",
   "metadata": {},
   "source": [
    "<div class=\"alert alert-block alert-warning\">\n",
    "    <h3><center>Importaciones necesarias.</center></h3>\n",
    "    A continuación se agregan las importaciones necesarias para correr el proyecto.\n",
    "</div>"
   ]
  },
  {
   "cell_type": "code",
   "execution_count": 1,
   "metadata": {},
   "outputs": [
    {
     "name": "stdout",
     "output_type": "stream",
     "text": [
      "Folium installed\n",
      "Libraries imported.\n"
     ]
    }
   ],
   "source": [
    "###\n",
    "# WEB Scraping TripAdvisor and Booking\n",
    "###\n",
    "from lxml import html,etree\n",
    "from bs4 import BeautifulSoup \n",
    "import requests,re,json\n",
    "import selenium\n",
    "from selenium import webdriver\n",
    "from selenium.webdriver import Firefox\n",
    "from selenium.webdriver.common.by import By\n",
    "from selenium.webdriver.common.keys import Keys\n",
    "#from selenium.webdriver.firefox.options import Options\n",
    "from selenium.webdriver.support import expected_conditions as EC\n",
    "from selenium.webdriver.support.wait import WebDriverWait\n",
    "from selenium.webdriver.common.desired_capabilities import DesiredCapabilities\n",
    "from urllib.request import urlopen\n",
    "###\n",
    "# API Foursquere\n",
    "###\n",
    "import unittest\n",
    "import foursquare\n",
    "###\n",
    "# System\n",
    "###\n",
    "import os,sys\n",
    "from time import time,sleep\n",
    "import time as ti\n",
    "from datetime import datetime\n",
    "import random\n",
    "import datetime\n",
    "###\n",
    "# Interface\n",
    "###\n",
    "import ipywidgets as widgets\n",
    "###\n",
    "# Data Science (Data Analytics, Data Visualization and Data Cleaning)\n",
    "###\n",
    "import pandas as pd\n",
    "from six.moves import urllib\n",
    "from pandas.io.json import json_normalize\n",
    "import requests # library to handle requests\n",
    "import pandas as pd # library for data analsysis\n",
    "import numpy as np # library to handle data in a vectorized manner\n",
    "import random # library for random number generation\n",
    "\n",
    "\n",
    "\n",
    "#!conda install -c conda-forge geopy --yes \n",
    "from geopy.geocoders import Nominatim # module to convert an address into latitude and longitude values\n",
    "\n",
    "# libraries for displaying images\n",
    "from IPython.display import Image \n",
    "from IPython.core.display import HTML \n",
    "    \n",
    "# tranforming json file into a pandas dataframe library\n",
    "from pandas.io.json import json_normalize\n",
    "\n",
    "#!conda install -c conda-forge folium=0.5.0 --yes\n",
    "import folium # plotting library\n",
    "\n",
    "print('Folium installed')\n",
    "print('Libraries imported.')"
   ]
  },
  {
   "cell_type": "markdown",
   "metadata": {},
   "source": [
    "<div class=\"alert alert-block alert-warning\">\n",
    "    <b><center>Witget parala interacción del usuario, selecciona la fecha de entrada y salida.</center></b> \n",
    "</div>"
   ]
  },
  {
   "cell_type": "code",
   "execution_count": 2,
   "metadata": {},
   "outputs": [
    {
     "data": {
      "application/vnd.jupyter.widget-view+json": {
       "model_id": "d14f559202444db8b522b20d720eb046",
       "version_major": 2,
       "version_minor": 0
      },
      "text/plain": [
       "DatePicker(value=None, description='Pick a Date')"
      ]
     },
     "metadata": {},
     "output_type": "display_data"
    }
   ],
   "source": [
    "###\n",
    "# CHECKIN\n",
    "###\n",
    "date_IN = widgets.DatePicker(\n",
    "    description='Pick a Date',\n",
    "    disabled=False\n",
    ")\n",
    "date_IN"
   ]
  },
  {
   "cell_type": "code",
   "execution_count": 49,
   "metadata": {},
   "outputs": [
    {
     "data": {
      "text/plain": [
       "'2019/10/10'"
      ]
     },
     "execution_count": 49,
     "metadata": {},
     "output_type": "execute_result"
    }
   ],
   "source": [
    "date_IN = date_IN.value.strftime(\"%Y/%m/%d\")\n",
    "date_IN"
   ]
  },
  {
   "cell_type": "code",
   "execution_count": 50,
   "metadata": {},
   "outputs": [
    {
     "data": {
      "application/vnd.jupyter.widget-view+json": {
       "model_id": "3df1f3f0560f4f64b5ca1c4e2ac8ad1c",
       "version_major": 2,
       "version_minor": 0
      },
      "text/plain": [
       "DatePicker(value=None, description='Pick a Date')"
      ]
     },
     "metadata": {},
     "output_type": "display_data"
    }
   ],
   "source": [
    "###\n",
    "# CHECKIN\n",
    "###\n",
    "date_OUT = widgets.DatePicker(\n",
    "    description='Pick a Date',\n",
    "    disabled=False\n",
    ")\n",
    "date_OUT"
   ]
  },
  {
   "cell_type": "code",
   "execution_count": 51,
   "metadata": {},
   "outputs": [
    {
     "data": {
      "text/plain": [
       "'2019/10/11'"
      ]
     },
     "execution_count": 51,
     "metadata": {},
     "output_type": "execute_result"
    }
   ],
   "source": [
    "date_OUT = date_OUT.value.strftime(\"%Y/%m/%d\")\n",
    "date_OUT"
   ]
  },
  {
   "cell_type": "code",
   "execution_count": 52,
   "metadata": {},
   "outputs": [
    {
     "data": {
      "application/vnd.jupyter.widget-view+json": {
       "model_id": "a9a57ea3baa843fa8ba232dc10d65942",
       "version_major": 2,
       "version_minor": 0
      },
      "text/plain": [
       "RadioButtons(description='Seleccione el modo de ordenamiento:', options=('priceLow', 'distLow', 'recommended',…"
      ]
     },
     "metadata": {},
     "output_type": "display_data"
    }
   ],
   "source": [
    "#priceLow - hotels with lowest price,\n",
    "#distLow : Hotels located near to the search center,\n",
    "#recommended: highest rated hotels based on traveler reviews,\n",
    "#popularity :Most popular hotels as chosen by Tripadvisor users \n",
    "sort1 = widgets.RadioButtons(\n",
    "    options=['priceLow', 'distLow', 'recommended','popularity'],\n",
    "    #value='3',\n",
    "    description='Seleccione el modo de ordenamiento:',\n",
    "    disabled=False,\n",
    ")\n",
    "sort1"
   ]
  },
  {
   "cell_type": "markdown",
   "metadata": {},
   "source": [
    "<div class=\"alert alert-block alert-warning\">\n",
    "    <b><center>Statical variables.</center></b> \n",
    "</div>"
   ]
  },
  {
   "cell_type": "code",
   "execution_count": 59,
   "metadata": {},
   "outputs": [],
   "source": [
    "__STATES = ['Ciudad de Mexico','Aguascalientes','Baja California','Baja California Sur','Campeche','Chiapas','Chihuahua',\n",
    "            'Coahuila','Colima','Durango','Guanajuato','Guerrero Mexico','Hidalgo Mexico','Jalisco','Estado de Mexico','Michoacan',\n",
    "            'Morelos','Nayarit','Nuevo Leon','Oaxaca','Puebla','Queretaro','Quintana Roo','San Luis Potosi','Sinaloa',\n",
    "            'Sonora','Tabasco','Tamaulipas','Tlaxcala','Veracruz','Yucatan','Zacatecas']\n",
    "#__STATES = ['Baja California']\n",
    "__CHEKIN_DATE = date_IN\n",
    "__CHEKOUT_DATE = date_OUT\n",
    "#__LOCALITY = locality\n",
    "########################\n",
    "# FILTROS Trip Advisor #\n",
    "########################\n",
    "__SORT = sort1.value\n",
    "__TYPE_DATA = {'changeSet': 'TRAVEL_INFO',\n",
    "                'showSnippets': 'false',\n",
    "                'staydates':__CHEKIN_DATE+'_'+__CHEKOUT_DATE,\n",
    "                'uguests': '2',\n",
    "                'sortOrder':__SORT}\n",
    "__GEO_URL = ''\n",
    "__API_RESPONSE  = ''\n",
    "__URL_from_AUTOCOMPLETE = '' \n",
    "__HEADERS = ''\n",
    "__CoOKi3S = {\"SetCurrency\":\"MXN\"}\n",
    "diccio = {'Nombre_Hotel':[],\n",
    "        'URL':[],\n",
    "        'Localidad':[],\n",
    "        'Comentarios':[],\n",
    "        'Tripadvisor_Rating':[],\n",
    "        'CheckIn':[],\n",
    "        'CheckOut':[],\n",
    "        'Caracteristicas_hotel':[],\n",
    "        'Precio_X_Noche':[],\n",
    "        'Num_Ofertas (Comparaciones)':[],\n",
    "        'Proveedor_de_reserva_BP':[]}\n",
    "df_output = pd.DataFrame.from_dict(diccio)\n",
    "diccio_booking = {'Hotel_Name:':[],\n",
    "                  'Hotel_Desc_Link':[],\n",
    "                  'Hotel_Coordinates':[],\n",
    "                  'Hotel_Place':[],\n",
    "                  'Place_Close':[],\n",
    "                  'Text_Score':[],\n",
    "                  'Score':[],\n",
    "                  'Num_Comments':[],\n",
    "                  'Ubication_Score':[],\n",
    "                  'Room_Type':[],\n",
    "                  'Max_People':[],\n",
    "                  'Room_Info':[],\n",
    "                  'Urgency':[],\n",
    "                  'Reservation_Info':[],\n",
    "                  'Price':[],\n",
    "                  'Amenities':[],\n",
    "                  'Info':[],\n",
    "                  'Check_in':[],\n",
    "                  'Check_out':[],\n",
    "                  'Estado':[],\n",
    "                  'Pagina':[]\n",
    "                  }\n",
    "DF_BOOKING = pd.DataFrame.from_dict(diccio_booking)\n",
    "########################\n",
    "# FILTROS Booking.com  #\n",
    "########################\n",
    "__DOMAIN = \"https://www.booking.com/index.es.html\""
   ]
  },
  {
   "cell_type": "markdown",
   "metadata": {},
   "source": [
    "<div class=\"alert alert-block alert-warning\">\n",
    "    <b><center>Funciones, paradigma estructurado.</center></b> \n",
    "</div>"
   ]
  },
  {
   "cell_type": "code",
   "execution_count": 2,
   "metadata": {},
   "outputs": [],
   "source": [
    "############################\n",
    "## FUNCIONES TRIP ADVISOR ##\n",
    "############################\n",
    "def _get(localidad):\n",
    "    \"\"\"Desc: Obteniene la URL de TripAdvisor con base en una consulta autocompletada\n",
    "       Param: \n",
    "           -> localidad: (str) Cadena de texto necesaria para dar una referencia geográfica\n",
    "       Return:\n",
    "           -> Nothing\"\"\"\n",
    "    __GEO_URL = 'https://www.tripadvisor.com.mx/TypeAheadJson?action=API&startTime='+str(int(time()))+'&uiOrigin=GEOSCOPE&source=GEOSCOPE&interleaved=true&types=geo,theme_park&neighborhood_geos=true&link_type=hotel&details=true&max=12&injectNeighborhoods=true&query='+__LOCALITY\n",
    "    __API_RESPONSE = requests.get(__GEO_URL, verify=False).json()\n",
    "    __URL_from_AUTOCOMPLETE = \"http://www.tripadvisor.com.mx\"+__API_RESPONSE['results'][0]['url']\n",
    "    #print('URL found %s'%__URL_from_AUTOCOMPLETE)\n",
    "    return __GEO_URL,__API_RESPONSE,__URL_from_AUTOCOMPLETE\n",
    "\n",
    "def _post():\n",
    "    \"\"\"Desc: Envia una consulta al servidor de TripAdvisor\n",
    "       Param: \n",
    "           -> Nothing\n",
    "       Return: \n",
    "           -> page_reponse: (HTML response) The response of the consult\"\"\"\n",
    "    page_response  = requests.post(url = __URL_from_AUTOCOMPLETE,data=__TYPE_DATA,headers = __HEADERS, cookies = __CoOKi3S, verify=False)\n",
    "    #print(\"Respuesta: \",page_response)\n",
    "    return page_response\n",
    "\n",
    "def _parser(page_response):\n",
    "    \"\"\"Desc: Traduce el texto fuente de la página web\n",
    "       Param: \n",
    "           -> page_response: (HTML response) Recive la respuesta HTML\n",
    "       Return:\n",
    "           -> parser: (parser) Traductor del texto\"\"\"\n",
    "    parser = html.fromstring(page_response.text)\n",
    "    #print(\"Lector de sintaxis... listo\")\n",
    "    return parser\n",
    "\n",
    "def _read__scarper(parser,df):\n",
    "    \"\"\"Desc: Itera los nodos del parser para obtener la información que deseada\n",
    "       Param: \n",
    "           -> parser: (parser) Traductor del texto\n",
    "       Return:\n",
    "           -> data: (dict) Diccionario que contiene la información consultada\n",
    "    \"\"\"\n",
    "    #print(\"Scraper doing its job... There is a spyder on the net\")\n",
    "    hotel_lists = parser.xpath('//div[contains(@class,\"listItem\")]//div[contains(@class,\"listing collapsed\")]')\n",
    "    hotel_data = []\n",
    "    if not hotel_lists:  \n",
    "        hotel_lists = parser.xpath('//div[contains(@class,\"listItem\")]//div[@class=\"listing \"]')\n",
    "\n",
    "    for hotel in hotel_lists:\n",
    "        XPATH_HOTEL_LINK = './/a[contains(@class,\"property_title\")]/@href'\n",
    "        XPATH_REVIEWS  = './/a[@class=\"review_count\"]//text()'\n",
    "        XPATH_RANK = './/div[@class=\"popRanking\"]//text()'\n",
    "        XPATH_RATING = './/span[contains(@class,\"rating\")]/@alt'\n",
    "        XPATH_HOTEL_NAME = './/a[contains(@class,\"property_title\")]//text()'\n",
    "        XPATH_HOTEL_FEATURES = './/div[contains(@class,\"common_hotel_icons_list\")]//li//text()'\n",
    "        XPATH_HOTEL_PRICE = './/div[contains(@data-sizegroup,\"mini-meta-price\")]/text()'\n",
    "        XPATH_VIEW_DEALS = './/div[contains(@data-ajax-preserve,\"viewDeals\")]//text()' \n",
    "        XPATH_BOOKING_PROVIDER = './/div[contains(@data-sizegroup,\"mini-meta-provider\")]//text()'\n",
    "\n",
    "        raw_booking_provider = hotel.xpath(XPATH_BOOKING_PROVIDER)\n",
    "        raw_no_of_deals =  hotel.xpath(XPATH_VIEW_DEALS)\n",
    "        raw_hotel_link = hotel.xpath(XPATH_HOTEL_LINK)\n",
    "        raw_no_of_reviews = hotel.xpath(XPATH_REVIEWS)\n",
    "        raw_rank = hotel.xpath(XPATH_RANK)\n",
    "        raw_rating = hotel.xpath(XPATH_RATING)\n",
    "        raw_hotel_name = hotel.xpath(XPATH_HOTEL_NAME)\n",
    "        raw_hotel_features = hotel.xpath(XPATH_HOTEL_FEATURES)\n",
    "        raw_hotel_price_per_night  = hotel.xpath(XPATH_HOTEL_PRICE)\n",
    "\n",
    "        url = 'http://www.tripadvisor.com.mx'+raw_hotel_link[0] if raw_hotel_link else  None\n",
    "        reviews = ''.join(raw_no_of_reviews).replace(\"reviews\",\"\").replace(\",\",\"\") if raw_no_of_reviews else 0 \n",
    "        rank = ''.join(raw_rank) if raw_rank else None\n",
    "        rating = ''.join(raw_rating).replace('of 5 bubbles','').strip() if raw_rating else None\n",
    "        name = ''.join(raw_hotel_name).strip() if raw_hotel_name else None\n",
    "        hotel_features = ','.join(raw_hotel_features)\n",
    "        price_per_night = ''.join(raw_hotel_price_per_night).replace('\\n','') if raw_hotel_price_per_night else None\n",
    "        no_of_deals = re.findall(\"all\\s+?(\\d+)\\s+?\",''.join(raw_no_of_deals))\n",
    "        booking_provider = ''.join(raw_booking_provider).strip() if raw_booking_provider else None\n",
    "\n",
    "        if no_of_deals:\n",
    "            no_of_deals = no_of_deals[0]\n",
    "        else:\n",
    "            no_of_deals = 0\n",
    "\n",
    "        data = {\n",
    "                    'Nombre_Hotel':name,\n",
    "                    'URL':url,\n",
    "                    'Localidad':__LOCALITY,\n",
    "                    'Comentarios':reviews,\n",
    "                    'Tripadvisor_Rating':rating,\n",
    "                    'CheckIn':__CHEKIN_DATE,\n",
    "                    'CheckOut':__CHEKOUT_DATE,\n",
    "                    'Caracteristicas_hotel':hotel_features,\n",
    "                    'Precio_X_Noche':price_per_night,\n",
    "                    'Num_Ofertas (Comparaciones)':no_of_deals,\n",
    "                    'Proveedor_de_reserva_BP':booking_provider\n",
    "\n",
    "        }\n",
    "        df = df.append(data,ignore_index = True)\n",
    "    return df\n",
    "\n",
    "def _particles(parser):\n",
    "    \"\"\"Desc: Obtiene datos particulares para hacer el proceso poderoso\n",
    "       Param: \n",
    "           -> parser: (parser) Traductor del texto\n",
    "       Return:\n",
    "           -> total_pages: (int) Número de páginas totales para la paginación\n",
    "           -> total_hotels: (int) Número total de hoteles encontrados\n",
    "           -> data_p_page: (int) Número de hoteles por página\n",
    "           -> next_web: (str) La siguiente url WEB para iterarla\"\"\"\n",
    "    total_pages = parser.xpath('.//a[@class=\"pageNum last taLnk \"]//text()')\n",
    "    if len(total_pages) == 0:\n",
    "        total_pages = parser.xpath('.//span[@class=\"pageNum last taLnk \"]//text()')\n",
    "    total_hotels = parser.xpath('.//button[@class=\"ui_button primary\"]//text()')\n",
    "    aux_total = total_hotels[0].split()\n",
    "    if len(aux_total[1])>3:\n",
    "        total_hotels = int(aux_total[1])\n",
    "        print(total_hotels)\n",
    "    else:\n",
    "        total_hotels = int(aux_total[1])\n",
    "    data_p_page = parser.xpath('.//a[contains(@data-page-number,\"2\")]/@data-offset')\n",
    "    if len(data_p_page) != 0:\n",
    "        data_p_page = int(data_p_page[0])\n",
    "        next_web = parser.xpath('.//a[contains(@data-page-number,\"2\")]/@href')\n",
    "        next_web = next_web[0]\n",
    "    else: \n",
    "        data_p_page = parser.xpath('.//span[contains(@data-page-number,\"2\")]/@data-offset')\n",
    "        data_p_page = int(data_p_page[0])\n",
    "        next_web = parser.xpath('.//span[contains(@data-page-number,\"2\")]/@onclick')\n",
    "        next_web = next_web[0]\n",
    "        next_web = next_web.split(',')\n",
    "        next_web = next_web[-1].replace(\"'\",'')\n",
    "        next_web = next_web.replace(\");\",'')\n",
    "        next_web = next_web.replace(' ','')\n",
    "        next_web = next_web+'#BODYCON'\n",
    "    return total_pages,total_hotels,data_p_page,next_web\n",
    "\n",
    "def _pagination(url):\n",
    "    \"\"\"Desc: Genera un nueva parser con la URL recibida\n",
    "       Param: \n",
    "           -> url: (srt) next url\n",
    "       Return: \n",
    "           -> parser: (HTML response) new parser\"\"\"\n",
    "    #print('Pagination: ',url)\n",
    "    url_from_autocomplete = 'https://www.tripadvisor.com.mx'+url\n",
    "    print(url_from_autocomplete)\n",
    "    #print(\"Downloading search results page\")\n",
    "    page_response  = requests.post(url = url_from_autocomplete,data=__TYPE_DATA,headers = __HEADERS, cookies = __CoOKi3S, verify=False)\n",
    "    parser = html.fromstring(page_response.text)\n",
    "    return parser\n",
    "\n",
    "def _sleeper():\n",
    "    \"\"\"Crea un hilo que se duerme por tres segundos, con la intención de imitar el comportamiento de un humano haciendo busqueda\"\"\"\n",
    "    #print('Dormilon...')\n",
    "    val = random.uniform(0, 1)\n",
    "    sleep(round(val,2)) # Time in seconds\n",
    "\n",
    "def _saver(df):\n",
    "    \"\"\"Desc: Guarda la información en un archivo csv.\n",
    "       Param:\n",
    "           -> df: (PandasDataFrame) DF que contiene toda la información\n",
    "       Return:\n",
    "           -> Nothing\"\"\"\n",
    "    df.to_csv('./Data/TripAdvisor'+'_'+__LOCALITY+'_'+__CHEKIN_DATE.replace(\"/\",'-')+'_'+__CHEKOUT_DATE.replace(\"/\",'-')+'.csv',index=False,encoding='utf-8-sig')\n",
    "    #print(\"Archivo guardado...\")\n",
    "############################\n",
    "## FUNCIONES FOURSQUERE   ##\n",
    "############################\n",
    "def _API_Auth():\n",
    "    \"\"\"Desc: Return the autentication CLIENT for future callings\n",
    "       Param:\n",
    "           -> Nothing\n",
    "       Return:\n",
    "           -> Client autentucation\"\"\"\n",
    "    return foursquare.Foursquare(client_id='3INF5YDHXUTENQXFC4BP0NPA00WMWKM4FMVGVTU4E42PR3O1',\n",
    "                                 client_secret='QIF3MR01TXHE3ZCSVBPFVVA11UVKXDU0RFO4FYDQQ3141M1C',\n",
    "                                 redirect_uri='http://fondu.com/oauth/authorize')\n",
    "############################\n",
    "## FUNCIONES BOOKING      ##\n",
    "############################\n",
    "def _selenium_booking(ubc):    \n",
    "    \"\"\"Desc: Crea un webdriver el cual instancia a un navegador, este se encarga de activar el bot para llenar los\n",
    "             formularios y lanzar la petición.\n",
    "       Param:\n",
    "           -> ubc: (str) Ubicacion\n",
    "       Return:\n",
    "           -> url: (str) Url de la pagina para completar los filtros\"\"\"\n",
    "    url = ''\n",
    "    try:\n",
    "        cap = DesiredCapabilities().FIREFOX\n",
    "        cap[\"marionette\"] = False\n",
    "        driver = webdriver.Firefox(capabilities=cap, executable_path=r'C:\\geckodriver-v0.25.0-win64\\geckodriver.exe')\n",
    "        driver.get(__DOMAIN)\n",
    "\n",
    "        print(\"Localidad: \", ubc)\n",
    "        search_state = driver.find_element_by_id('ss')\n",
    "        search_state.send_keys(ubc)\n",
    "        element = WebDriverWait(driver, 10).until(\n",
    "            EC.presence_of_element_located((By.ID, \"ss\"))\n",
    "        )\n",
    "\n",
    "        driver.find_element_by_class_name('sb-searchbox__button')\\\n",
    "                .click()\n",
    "        wait = WebDriverWait(driver, timeout=10).until(\n",
    "            EC.presence_of_all_elements_located(\n",
    "                (By.CLASS_NAME, 'sb-searchbox__button')))\n",
    "        \n",
    "        url = driver.current_url\n",
    "    finally: \n",
    "        driver.quit()\n",
    "    return url\n",
    "\n",
    "def _selenium_booking_2(df,chi,cho):    \n",
    "    \"\"\"Desc: Crea un webdriver el cual instancia a un navegador, este se encarga de activar el bot para llenar los\n",
    "             formularios y lanzar la petición.\n",
    "       Param:\n",
    "           -> ubc: (str) Ubicacion\n",
    "       Return:\n",
    "           -> url: (str) Url de la pagina para completar los filtros\"\"\"\n",
    "    url = ''\n",
    "    try:\n",
    "        cap = DesiredCapabilities().FIREFOX\n",
    "        cap[\"marionette\"] = False\n",
    "        driver = webdriver.Firefox(capabilities=cap, executable_path=r'C:\\geckodriver-v0.25.0-win64\\geckodriver.exe')\n",
    "        driver.get(__DOMAIN)\n",
    "\n",
    "        print(\"Localidad: \", __STATES[0])\n",
    "        search_state = driver.find_element_by_id('ss')\n",
    "        search_state.send_keys(__STATES[0])\n",
    "        element = WebDriverWait(driver, 10).until(\n",
    "            EC.presence_of_element_located((By.ID, \"ss\"))\n",
    "        )\n",
    "\n",
    "        driver.find_element_by_class_name('\\nsb-searchbox__button\\n')\\\n",
    "                .click()\n",
    "        wait = WebDriverWait(driver, timeout=10).until(\n",
    "            EC.presence_of_all_elements_located(\n",
    "                (By.CLASS_NAME, '\\nsb-searchbox__button\\n')))\n",
    "        url = driver.current_url\n",
    "        url = _url_completition(url,chi,cho)\n",
    "        html_page = driver.page_source\n",
    "        iterator = _give_iteration(html_page)\n",
    "        print(iterator)\n",
    "        ######Aqui irá el código para hacer el scraping.\n",
    "        parser_booking = html.fromstring(html_page)\n",
    "        df_aux = _scraper(parser_booking,df,1,__STATES[0],chi,cho)\n",
    "        print(df_aux.shape)\n",
    "        for i in range(2,iterator,1):\n",
    "            driver.find_element_by_xpath('//*[@title=\"Página siguiente\"]').click()\n",
    "            wait = WebDriverWait(driver, timeout=10).until(\n",
    "                EC.presence_of_all_elements_located(\n",
    "                    (By.XPATH, '//*[@title=\"Página siguiente\"]')))\n",
    "            html_page = driver.page_source\n",
    "            parser_booking = html.fromstring(html_page)\n",
    "            df_aux = _scraper(parser_booking,df_aux,i,__STATES[0],chi,cho)\n",
    "        ######\n",
    "        ######Encontrar el logo de booking y hacerle click \n",
    "        driver.find_element_by_id('logo_no_globe_new_logo').click()\n",
    "        wait = WebDriverWait(driver, timeout=10).until(\n",
    "            EC.presence_of_all_elements_located(\n",
    "                (By.ID, 'logo_no_globe_new_logo')))\n",
    "        _booking_saver(df_aux,chi,cho,__STATES[0])\n",
    "        print(\"salvando... \",__STATES[0],' ',chi,' ',cho,' ',df_aux.shape)\n",
    "        df_aux = df\n",
    "        print(df_aux.shape)\n",
    "        ######Hacer el ciclo para los siguientes estados\n",
    "        for i in range(1,len(__STATES),1):\n",
    "            search_state = driver.find_element_by_id('ss')\n",
    "            search_state.send_keys(__STATES[i])\n",
    "            element = WebDriverWait(driver, 10).until(\n",
    "                EC.presence_of_element_located((By.ID, \"ss\"))\n",
    "            )\n",
    "\n",
    "            driver.find_element_by_class_name('\\nsb-searchbox__button\\n')\\\n",
    "                    .click()\n",
    "            wait = WebDriverWait(driver, timeout=10).until(\n",
    "                EC.presence_of_all_elements_located(\n",
    "                    (By.CLASS_NAME, '\\nsb-searchbox__button\\n')))\n",
    "            url = driver.current_url\n",
    "            url = _url_completition(url,chi,cho)\n",
    "            html_page = driver.page_source\n",
    "            iterator = _give_iteration(html_page)\n",
    "            print(iterator)\n",
    "            ######Aqui irá el código para hacer el scraping.\n",
    "            parser_booking = html.fromstring(html_page)\n",
    "            df_aux = _scraper(parser_booking,df,i,__STATES[i],chi,cho)\n",
    "            print(df_aux.shape)\n",
    "            for j in range(2,iterator,1):\n",
    "                driver.find_element_by_xpath('//*[@title=\"Página siguiente\"]').click()\n",
    "                wait = WebDriverWait(driver, timeout=10).until(\n",
    "                    EC.presence_of_all_elements_located(\n",
    "                        (By.XPATH, '//*[@title=\"Página siguiente\"]')))\n",
    "                html_page = driver.page_source\n",
    "                parser_booking = html.fromstring(html_page)\n",
    "                df_aux = _scraper(parser_booking,df_aux,j,__STATES[i],chi,cho)\n",
    "            _booking_saver(df_aux,chi,cho,__STATES[i])\n",
    "            print(\"salvando... \",__STATES[i],' ',chi,' ',cho,' ',df_aux.shape)\n",
    "            ######\n",
    "            #####Aquí poner el mismo código del logo de booking para que se encierre dentro de nuestro ciclo\n",
    "            driver.find_element_by_id('logo_no_globe_new_logo').click()\n",
    "            wait = WebDriverWait(driver, timeout=10).until(\n",
    "                EC.presence_of_all_elements_located(\n",
    "                    (By.ID, 'logo_no_globe_new_logo')))\n",
    "            #####\n",
    "            df_aux = df\n",
    "        print(\"Todo fue un exito\")\n",
    "    finally: \n",
    "        driver.quit()\n",
    "    return \"Todo ha terminado...\"\n",
    "\n",
    "def _url_completition(url,chi,cho):\n",
    "    \"\"\"Desc: Completa la url\n",
    "       Param:\n",
    "           -> chi: (str) Checkin date\n",
    "           -> cho: (str) Checkout date\n",
    "           -> url: (str) La url del driver\n",
    "       Return:\n",
    "           -> url: (str) La url completada\"\"\"\n",
    "    chi_D = chi.split('/')\n",
    "    cho_D = cho.split('/')\n",
    "    checkin_dia = chi_D[2]\n",
    "    checkin_mes = chi_D[1]\n",
    "    checkin_ano = chi_D[0]\n",
    "    checkou_dia = cho_D[2]\n",
    "    checkou_mes = cho_D[1]\n",
    "    checkou_ano = cho_D[0]\n",
    "    url = url.replace('checkin_monthday=','checkin_monthday='+checkin_dia)\n",
    "    url = url.replace('checkin_month=','checkin_month='+checkin_mes)\n",
    "    url = url.replace('checkin_year=','checkin_year='+checkin_ano)\n",
    "    url = url.replace('checkout_monthday=','checkout_monthday='+checkou_dia)\n",
    "    url = url.replace('checkout_month=','checkout_month='+checkou_mes)\n",
    "    url = url.replace('checkout_year=','checkout_year='+checkou_ano)\n",
    "    print(url)\n",
    "    return url\n",
    "\n",
    "def _second_call(url,df,estado,CHEKIN_DATE,CHEKOUT_DATE):\n",
    "    \"\"\"Desc: Recibe la segunda url para llamar a booking.com con la url ya completa\n",
    "       Param:\n",
    "           -> url: (str) url ya completada\n",
    "       Return:\n",
    "           -> parser_booking: (parser) retorna el traductor de documento\"\"\"\n",
    "    try:\n",
    "        cap = DesiredCapabilities().FIREFOX\n",
    "        cap[\"marionette\"] = False\n",
    "        driver = webdriver.Firefox(capabilities=cap, executable_path=r'C:\\geckodriver-v0.25.0-win64\\geckodriver.exe')\n",
    "        driver.get(url)\n",
    "        print(url)\n",
    "        html_page = driver.page_source\n",
    "        iterator = _give_iteration(html_page)\n",
    "        print(iterator)\n",
    "        # if you use a if clause when the program detect a iterator = 0, the program will continue to the other state\n",
    "        \"\"\"while iterator == 0:###instead of if use a while for ciclyn untile the value of the iterator change\n",
    "            driver.quit()\n",
    "            driver = webdriver.Firefox(capabilities=cap, executable_path=r'C:\\geckodriver-v0.25.0-win64\\geckodriver.exe')\n",
    "            driver.get(url)\n",
    "            print(url)\n",
    "            html_page = driver.page_source\n",
    "            print(html)\n",
    "            iterator = _give_iteration(html_page)\"\"\"\n",
    "        parser_booking = html.fromstring(html_page)\n",
    "        df = _scraper(parser_booking,df,1,estado,CHEKIN_DATE,CHEKOUT_DATE)\n",
    "        for i in range(2,iterator,1):\n",
    "            try:\n",
    "                val = driver.find_element_by_xpath('//*[@title=\"Página siguiente\"]').click()\n",
    "                wait = WebDriverWait(driver, timeout=10).until(\n",
    "                    EC.presence_of_all_elements_located(\n",
    "                        (By.XPATH, '//*[@title=\"Página siguiente\"]')))\n",
    "                html_page = driver.page_source\n",
    "                parser_booking = html.fromstring(html_page)\n",
    "                df = _scraper(parser_booking,df,i,estado,CHEKIN_DATE,CHEKOUT_DATE)\n",
    "            except:\n",
    "                print(\"Llegamos al tope...\")\n",
    "        #df,_,_ = _scraper(html.fromstring(html_page),df,pag,driver)\n",
    "    finally: \n",
    "        driver.quit()\n",
    "    return df\n",
    "\n",
    "def _give_iteration(html_driver_page):\n",
    "    \"\"\"\n",
    "    Desc: Permite con el primer resultado obtener el máximo de páginas que tiene nuestra busqueda.\n",
    "    Param: \n",
    "        -> html: (html_page) Recibe la página web del primer resiltado (pagination 1)\n",
    "    Return: \n",
    "        -> iterator: (int) EL número de páginas a iterar\"\"\"\n",
    "    parser_booking = html.fromstring(html_driver_page)\n",
    "    iterator = parser_booking.xpath('.//div[@class = \"bui-u-inline\"]/text()')\n",
    "    #print(iterator)\n",
    "    if iterator == []: \n",
    "        iterator = 0\n",
    "    else: \n",
    "        if iterator[-1] == '\\n':\n",
    "            iterator = 1\n",
    "        else:\n",
    "            iterator = int(iterator[-1])\n",
    "        #print(iterator)\n",
    "    return iterator\n",
    "    \n",
    "def _scraper(parser_booking,df,pag,estado,chin,chou):\n",
    "    \"\"\"Desc: Obtenemos la información del documento que necesitamos\n",
    "       Param:\n",
    "           -> parser_booking: (parser) El documento ya traducido\n",
    "           -> df: (Pandas Dataframe) El dataframe de booking\n",
    "       Return:\n",
    "           -> df: (Pandas Dataframe) El data frame ya llenado\"\"\"\n",
    "    ###\n",
    "    # OBTENIENDO EL DESTINO\n",
    "    ###\n",
    "    oferta_bk = parser_booking.xpath('//div[contains(@class,\"sr_header \")]//h1//text()')\n",
    "    ###\n",
    "    # OBTENIENDO LA LISTA\n",
    "    ###//*[@id=\"hotellist_inner\"]/div[5]/div[2]/div[1]/div[2]/div/div/a[1]/div/div[1]\n",
    "    #hotel_lists_1 = parser_booking.xpath('//div[contains(@id,\"hotellist_inner\")]//div[contains(@class,\"sr_item  sr_item_new sr_item_default sr_property_block  sr_flex_layout                 \")]')\n",
    "    #hotel_lists_2 = parser_booking.xpath('//div[contains(@id,\"hotellist_inner\")]//div[contains(@class,\"sr_item_content sr_item_content_slider_wrapper \")]')\n",
    "    #hotel_lists = hotel_lists_1 + hotel_lists_2\n",
    "    hotel_lists_1 = parser_booking.xpath('//div[contains(@id,\"hotellist_inner\")]//div//div//div/@id')\n",
    "    hotel_lists_2 = parser_booking.xpath('//div[contains(@id,\"hotellist_inner\")]//div[contains(@class,\"sr_item_content sr_item_content_slider_wrapper \")]')\n",
    "    hotel_lists = hotel_lists_1 + hotel_lists_2\n",
    "    if not hotel_lists:  \n",
    "        hotel_lists = parser_booking.xpath('//div[contains(@class,\"listItem\")]//div[@class=\"listing \"]')\n",
    "    ###\n",
    "    # RECORRER LA LISTA\n",
    "    ###\n",
    "    #print(len(hotel_lists))\n",
    "    cont = 1\n",
    "    for i,hotel in enumerate(hotel_lists):\n",
    "        hotel_name = hotel.xpath('.//span[@class=\"sr-hotel__name\\n\"]//text()')\n",
    "        hotel_desc_link = hotel.xpath('.//a[@class=\"bui-link\"]/@href')\n",
    "        hotel_coordinates = hotel.xpath('.//a[@class=\"bui-link\"]/@data-coords')\n",
    "        hotel_place = hotel.xpath('.//a[@class=\"bui-link\"]//text()')\n",
    "        places_close = hotel.xpath('.//span[@data-bui-component=\"Tooltip\"]//text()')\n",
    "        text_score = hotel.xpath('.//div[@class=\"bui-review-score__title\"]//text()')\n",
    "        score = hotel.xpath('.//div[@class=\"bui-review-score__badge\"]//text()')\n",
    "        num_comments = hotel.xpath('.//div[@class=\"bui-review-score__text\"]//text()')\n",
    "        ubication_score = hotel.xpath('.//span[@class=\"review-score-badge\"]//text()')\n",
    "        room_type = hotel.xpath('.//strong//text()')\n",
    "        max_people = hotel.xpath('.//span[@class=\"bui-u-sr-only\"]//text()')\n",
    "        room_info = hotel.xpath('.//span[@class=\"sr_gr_bed_type\"]//text()')\n",
    "        urgency = hotel.xpath('.//span[@class=\"only_x_left sr_rooms_left_wrap \"]//text()')\n",
    "        reserv_info = hotel.xpath('.//div[@class=\"bui-price-display__label prco-inline-block-maker-helper\"]//text()')\n",
    "        amenities = hotel.xpath('.//sup[@class=\"sr_room_reinforcement\"]//text()')\n",
    "        #prices = hotel.xpath('.//div[@class=\"prco-ltr-right-align-helper\"]//text()')\n",
    "        #print(prices)\n",
    "        info_hotel_IMPORTANT = hotel.xpath('.//a[@class = \"b-button b-button_primary  sr_cta_button\"]/@href') #concat with https://www.booking.com\n",
    "        ###\n",
    "        # CLEANING THE STRINGS\n",
    "        ###\n",
    "        hotel_name = hotel_name[0].replace('\\n','')\n",
    "        hotel_desc_link = hotel_desc_link[0]\n",
    "        hotel_coordinates = hotel_coordinates[0]\n",
    "        hotel_place = hotel_place[0].replace('\\n','')\n",
    "        if len(places_close) == 1:places_close = places_close[0].replace('\\n','')\n",
    "        elif len(places_close) == 0: places_close = ''\n",
    "        else: places_close = places_close[0].replace('\\n','') + ', ' + places_close[-1].replace('\\n','') \n",
    "        try:\n",
    "            text_score = text_score[0].replace('\\n','')\n",
    "            score = score[0].replace('\\n','')\n",
    "            num_comments = num_comments[0].replace('\\n','')\n",
    "        except:\n",
    "            text_score = ''\n",
    "            score = ''\n",
    "            num_comments = ''\n",
    "        if len(ubication_score) == 1 : ubication_score =  ubication_score[0].replace('\\n','')\n",
    "        else: ubication_score = ''\n",
    "        if len(room_type) == 0 : room_type = ''\n",
    "        else: room_type =  room_type[0]\n",
    "        if len(max_people) == 0 : \n",
    "            max_people = '' \n",
    "            price = ''\n",
    "        else:\n",
    "            price = max_people[-1].replace('\\n','')\n",
    "            max_people = max_people[0].replace('\\n','')\n",
    "        if len(room_info) == 0 : room_info = ''\n",
    "        else: room_info =  room_info[0].replace('\\n','')\n",
    "        if len(urgency) == 0 : urgency = ''\n",
    "        else: urgency =  urgency[0].replace('\\n','')\n",
    "        if len(reserv_info) == 0 : reserv_info = ''\n",
    "        else: reserv_info =  reserv_info[0].replace('\\n','')\n",
    "        if len(amenities) == 0 : amenities = ''\n",
    "        else: amenities =  amenities[0].replace('\\n','')\n",
    "        if len(info_hotel_IMPORTANT) == 0 : info_hotel_IMPORTANT = ''\n",
    "        else: info_hotel_IMPORTANT = info_hotel_IMPORTANT[0]\n",
    "        #print(hotel_name,hotel_desc_link,hotel_coordinates,hotel_place,hotel_ubication,places_close,text_score,score,num_comments,\n",
    "        #      ubication_score,room_type,max_people,room_info,urgency,reserv_info,price,amenities,info_hotel_IMPORTANT,cont)\n",
    "        cont += 1\n",
    "        diccio_booking = {'Hotel_Name:':hotel_name,\n",
    "                      'Hotel_Desc_Link':hotel_desc_link,\n",
    "                      'Hotel_Coordinates':hotel_coordinates,\n",
    "                      'Hotel_Place':hotel_place,\n",
    "                      'Place_Close':places_close,\n",
    "                      'Text_Score':text_score,\n",
    "                      'Score':score,\n",
    "                      'Num_Comments':num_comments,\n",
    "                      'Ubication_Score':ubication_score,\n",
    "                      'Room_Type':room_type,\n",
    "                      'Max_People':max_people,\n",
    "                      'Room_Info':room_info,\n",
    "                      'Urgency':urgency,\n",
    "                      'Reservation_Info':reserv_info,\n",
    "                      'Price':price,\n",
    "                      'Amenities':amenities,\n",
    "                      'Info':info_hotel_IMPORTANT,\n",
    "                      'Check_in':chin,\n",
    "                      'Check_out':chou,\n",
    "                      'Estado':estado,\n",
    "                      'Pagina':pag\n",
    "                      }\n",
    "        df = df.append(diccio_booking,ignore_index = True)\n",
    "    #num_pages = parser_booking.xpath('.//div[@class = \"bui-u-inline\"]/text()')\n",
    "    #num_pages = int(num_pages[-1])\n",
    "    url2 = parser_booking.xpath('.//a[@title = \"Página siguiente\"]/@href')\n",
    "    ###\n",
    "    # FOR PARA RECORRER LAS PÁGINAS.\n",
    "    ###\n",
    "    #print(url2)\n",
    "    return df\n",
    "\n",
    "def _booking_saver(df,chi,cho,locality):\n",
    "    \"\"\"Desc:\n",
    "       Param:\n",
    "           -> df: (Pandas Dataframe) El data frame ya llenado\n",
    "           -> chi: (str) Checkin date\n",
    "           -> cho: (str) Checkout date\n",
    "       Return:\n",
    "           -> Nothing\"\"\"\n",
    "    chi = chi.replace('/','-')\n",
    "    cho = cho.replace('/','-')\n",
    "    df.to_csv('./Data/Booking_'+locality+'_'+chi+'_'+cho+'.csv',index=False,encoding='utf-8-sig')"
   ]
  },
  {
   "cell_type": "markdown",
   "metadata": {},
   "source": [
    "<div class=\"alert alert-block alert-info\">\n",
    "    <h2><center>Implementación para todos los estados:</center></h2> <br/>\n",
    "    <br/>\n",
    "    <br/>\n",
    "    <p><right>\"With great power comes great responsibility.\" -El tío Ben</right></p>\n",
    "</div>"
   ]
  },
  {
   "cell_type": "markdown",
   "metadata": {},
   "source": [
    "<div class=\"alert alert-block alert-success\">\n",
    "    <h2><center>Implementación scraper Trip Advisor:</center></h2> <br/>\n",
    "    <b><center>Lee el recuadro rojo al final</center></b>\n",
    "    <br/>\n",
    "    <br/>\n",
    "    <p><right>\"With great power comes great responsibility.\" -El tío Ben</right></p>\n",
    "</div>"
   ]
  },
  {
   "cell_type": "code",
   "execution_count": 55,
   "metadata": {
    "scrolled": true
   },
   "outputs": [
    {
     "name": "stderr",
     "output_type": "stream",
     "text": [
      "C:\\Users\\israel.vargas\\AppData\\Local\\Continuum\\anaconda3\\envs\\EnvPos\\lib\\site-packages\\urllib3\\connectionpool.py:847: InsecureRequestWarning: Unverified HTTPS request is being made. Adding certificate verification is strongly advised. See: https://urllib3.readthedocs.io/en/latest/advanced-usage.html#ssl-warnings\n",
      "  InsecureRequestWarning)\n",
      "C:\\Users\\israel.vargas\\AppData\\Local\\Continuum\\anaconda3\\envs\\EnvPos\\lib\\site-packages\\urllib3\\connectionpool.py:847: InsecureRequestWarning: Unverified HTTPS request is being made. Adding certificate verification is strongly advised. See: https://urllib3.readthedocs.io/en/latest/advanced-usage.html#ssl-warnings\n",
      "  InsecureRequestWarning)\n"
     ]
    },
    {
     "name": "stdout",
     "output_type": "stream",
     "text": [
      "<Response [200]>\n",
      "https://www.tripadvisor.com.mx/Hotels-g150800-Mexico_City_Central_Mexico_and_Gulf_Coast-Hotels.html\n",
      "1039\n",
      "/Hotels-g150800-oa30-Mexico_City_Central_Mexico_and_Gulf_Coast-Hotels.html#BODYCON\n",
      "https://www.tripadvisor.com.mx/Hotels-g150800-oa30-Mexico_City_Central_Mexico_and_Gulf_Coast-Hotels.html#BODYCON\n"
     ]
    },
    {
     "name": "stderr",
     "output_type": "stream",
     "text": [
      "C:\\Users\\israel.vargas\\AppData\\Local\\Continuum\\anaconda3\\envs\\EnvPos\\lib\\site-packages\\urllib3\\connectionpool.py:847: InsecureRequestWarning: Unverified HTTPS request is being made. Adding certificate verification is strongly advised. See: https://urllib3.readthedocs.io/en/latest/advanced-usage.html#ssl-warnings\n",
      "  InsecureRequestWarning)\n"
     ]
    },
    {
     "name": "stdout",
     "output_type": "stream",
     "text": [
      "https://www.tripadvisor.com.mx/Hotels-g150800-oa60-Mexico_City_Central_Mexico_and_Gulf_Coast-Hotels.html#BODYCON\n"
     ]
    },
    {
     "name": "stderr",
     "output_type": "stream",
     "text": [
      "C:\\Users\\israel.vargas\\AppData\\Local\\Continuum\\anaconda3\\envs\\EnvPos\\lib\\site-packages\\urllib3\\connectionpool.py:847: InsecureRequestWarning: Unverified HTTPS request is being made. Adding certificate verification is strongly advised. See: https://urllib3.readthedocs.io/en/latest/advanced-usage.html#ssl-warnings\n",
      "  InsecureRequestWarning)\n"
     ]
    },
    {
     "name": "stdout",
     "output_type": "stream",
     "text": [
      "https://www.tripadvisor.com.mx/Hotels-g150800-oa90-Mexico_City_Central_Mexico_and_Gulf_Coast-Hotels.html#BODYCON\n"
     ]
    },
    {
     "name": "stderr",
     "output_type": "stream",
     "text": [
      "C:\\Users\\israel.vargas\\AppData\\Local\\Continuum\\anaconda3\\envs\\EnvPos\\lib\\site-packages\\urllib3\\connectionpool.py:847: InsecureRequestWarning: Unverified HTTPS request is being made. Adding certificate verification is strongly advised. See: https://urllib3.readthedocs.io/en/latest/advanced-usage.html#ssl-warnings\n",
      "  InsecureRequestWarning)\n"
     ]
    },
    {
     "name": "stdout",
     "output_type": "stream",
     "text": [
      "https://www.tripadvisor.com.mx/Hotels-g150800-oa120-Mexico_City_Central_Mexico_and_Gulf_Coast-Hotels.html#BODYCON\n"
     ]
    },
    {
     "name": "stderr",
     "output_type": "stream",
     "text": [
      "C:\\Users\\israel.vargas\\AppData\\Local\\Continuum\\anaconda3\\envs\\EnvPos\\lib\\site-packages\\urllib3\\connectionpool.py:847: InsecureRequestWarning: Unverified HTTPS request is being made. Adding certificate verification is strongly advised. See: https://urllib3.readthedocs.io/en/latest/advanced-usage.html#ssl-warnings\n",
      "  InsecureRequestWarning)\n"
     ]
    },
    {
     "name": "stdout",
     "output_type": "stream",
     "text": [
      "https://www.tripadvisor.com.mx/Hotels-g150800-oa150-Mexico_City_Central_Mexico_and_Gulf_Coast-Hotels.html#BODYCON\n"
     ]
    },
    {
     "name": "stderr",
     "output_type": "stream",
     "text": [
      "C:\\Users\\israel.vargas\\AppData\\Local\\Continuum\\anaconda3\\envs\\EnvPos\\lib\\site-packages\\urllib3\\connectionpool.py:847: InsecureRequestWarning: Unverified HTTPS request is being made. Adding certificate verification is strongly advised. See: https://urllib3.readthedocs.io/en/latest/advanced-usage.html#ssl-warnings\n",
      "  InsecureRequestWarning)\n"
     ]
    },
    {
     "name": "stdout",
     "output_type": "stream",
     "text": [
      "https://www.tripadvisor.com.mx/Hotels-g150800-oa180-Mexico_City_Central_Mexico_and_Gulf_Coast-Hotels.html#BODYCON\n"
     ]
    },
    {
     "name": "stderr",
     "output_type": "stream",
     "text": [
      "C:\\Users\\israel.vargas\\AppData\\Local\\Continuum\\anaconda3\\envs\\EnvPos\\lib\\site-packages\\urllib3\\connectionpool.py:847: InsecureRequestWarning: Unverified HTTPS request is being made. Adding certificate verification is strongly advised. See: https://urllib3.readthedocs.io/en/latest/advanced-usage.html#ssl-warnings\n",
      "  InsecureRequestWarning)\n"
     ]
    },
    {
     "name": "stdout",
     "output_type": "stream",
     "text": [
      "https://www.tripadvisor.com.mx/Hotels-g150800-oa210-Mexico_City_Central_Mexico_and_Gulf_Coast-Hotels.html#BODYCON\n"
     ]
    },
    {
     "name": "stderr",
     "output_type": "stream",
     "text": [
      "C:\\Users\\israel.vargas\\AppData\\Local\\Continuum\\anaconda3\\envs\\EnvPos\\lib\\site-packages\\urllib3\\connectionpool.py:847: InsecureRequestWarning: Unverified HTTPS request is being made. Adding certificate verification is strongly advised. See: https://urllib3.readthedocs.io/en/latest/advanced-usage.html#ssl-warnings\n",
      "  InsecureRequestWarning)\n"
     ]
    },
    {
     "name": "stdout",
     "output_type": "stream",
     "text": [
      "https://www.tripadvisor.com.mx/Hotels-g150800-oa240-Mexico_City_Central_Mexico_and_Gulf_Coast-Hotels.html#BODYCON\n"
     ]
    },
    {
     "name": "stderr",
     "output_type": "stream",
     "text": [
      "C:\\Users\\israel.vargas\\AppData\\Local\\Continuum\\anaconda3\\envs\\EnvPos\\lib\\site-packages\\urllib3\\connectionpool.py:847: InsecureRequestWarning: Unverified HTTPS request is being made. Adding certificate verification is strongly advised. See: https://urllib3.readthedocs.io/en/latest/advanced-usage.html#ssl-warnings\n",
      "  InsecureRequestWarning)\n"
     ]
    },
    {
     "name": "stdout",
     "output_type": "stream",
     "text": [
      "https://www.tripadvisor.com.mx/Hotels-g150800-oa270-Mexico_City_Central_Mexico_and_Gulf_Coast-Hotels.html#BODYCON\n"
     ]
    },
    {
     "name": "stderr",
     "output_type": "stream",
     "text": [
      "C:\\Users\\israel.vargas\\AppData\\Local\\Continuum\\anaconda3\\envs\\EnvPos\\lib\\site-packages\\urllib3\\connectionpool.py:847: InsecureRequestWarning: Unverified HTTPS request is being made. Adding certificate verification is strongly advised. See: https://urllib3.readthedocs.io/en/latest/advanced-usage.html#ssl-warnings\n",
      "  InsecureRequestWarning)\n"
     ]
    },
    {
     "name": "stdout",
     "output_type": "stream",
     "text": [
      "https://www.tripadvisor.com.mx/Hotels-g150800-oa300-Mexico_City_Central_Mexico_and_Gulf_Coast-Hotels.html#BODYCON\n"
     ]
    },
    {
     "name": "stderr",
     "output_type": "stream",
     "text": [
      "C:\\Users\\israel.vargas\\AppData\\Local\\Continuum\\anaconda3\\envs\\EnvPos\\lib\\site-packages\\urllib3\\connectionpool.py:847: InsecureRequestWarning: Unverified HTTPS request is being made. Adding certificate verification is strongly advised. See: https://urllib3.readthedocs.io/en/latest/advanced-usage.html#ssl-warnings\n",
      "  InsecureRequestWarning)\n"
     ]
    },
    {
     "name": "stdout",
     "output_type": "stream",
     "text": [
      "https://www.tripadvisor.com.mx/Hotels-g150800-oa330-Mexico_City_Central_Mexico_and_Gulf_Coast-Hotels.html#BODYCON\n"
     ]
    },
    {
     "name": "stderr",
     "output_type": "stream",
     "text": [
      "C:\\Users\\israel.vargas\\AppData\\Local\\Continuum\\anaconda3\\envs\\EnvPos\\lib\\site-packages\\urllib3\\connectionpool.py:847: InsecureRequestWarning: Unverified HTTPS request is being made. Adding certificate verification is strongly advised. See: https://urllib3.readthedocs.io/en/latest/advanced-usage.html#ssl-warnings\n",
      "  InsecureRequestWarning)\n"
     ]
    },
    {
     "name": "stdout",
     "output_type": "stream",
     "text": [
      "https://www.tripadvisor.com.mx/Hotels-g150800-oa360-Mexico_City_Central_Mexico_and_Gulf_Coast-Hotels.html#BODYCON\n"
     ]
    },
    {
     "name": "stderr",
     "output_type": "stream",
     "text": [
      "C:\\Users\\israel.vargas\\AppData\\Local\\Continuum\\anaconda3\\envs\\EnvPos\\lib\\site-packages\\urllib3\\connectionpool.py:847: InsecureRequestWarning: Unverified HTTPS request is being made. Adding certificate verification is strongly advised. See: https://urllib3.readthedocs.io/en/latest/advanced-usage.html#ssl-warnings\n",
      "  InsecureRequestWarning)\n"
     ]
    },
    {
     "name": "stdout",
     "output_type": "stream",
     "text": [
      "https://www.tripadvisor.com.mx/Hotels-g150800-oa390-Mexico_City_Central_Mexico_and_Gulf_Coast-Hotels.html#BODYCON\n"
     ]
    },
    {
     "name": "stderr",
     "output_type": "stream",
     "text": [
      "C:\\Users\\israel.vargas\\AppData\\Local\\Continuum\\anaconda3\\envs\\EnvPos\\lib\\site-packages\\urllib3\\connectionpool.py:847: InsecureRequestWarning: Unverified HTTPS request is being made. Adding certificate verification is strongly advised. See: https://urllib3.readthedocs.io/en/latest/advanced-usage.html#ssl-warnings\n",
      "  InsecureRequestWarning)\n"
     ]
    },
    {
     "name": "stdout",
     "output_type": "stream",
     "text": [
      "https://www.tripadvisor.com.mx/Hotels-g150800-oa420-Mexico_City_Central_Mexico_and_Gulf_Coast-Hotels.html#BODYCON\n"
     ]
    },
    {
     "name": "stderr",
     "output_type": "stream",
     "text": [
      "C:\\Users\\israel.vargas\\AppData\\Local\\Continuum\\anaconda3\\envs\\EnvPos\\lib\\site-packages\\urllib3\\connectionpool.py:847: InsecureRequestWarning: Unverified HTTPS request is being made. Adding certificate verification is strongly advised. See: https://urllib3.readthedocs.io/en/latest/advanced-usage.html#ssl-warnings\n",
      "  InsecureRequestWarning)\n"
     ]
    },
    {
     "name": "stdout",
     "output_type": "stream",
     "text": [
      "https://www.tripadvisor.com.mx/Hotels-g150800-oa450-Mexico_City_Central_Mexico_and_Gulf_Coast-Hotels.html#BODYCON\n"
     ]
    },
    {
     "name": "stderr",
     "output_type": "stream",
     "text": [
      "C:\\Users\\israel.vargas\\AppData\\Local\\Continuum\\anaconda3\\envs\\EnvPos\\lib\\site-packages\\urllib3\\connectionpool.py:847: InsecureRequestWarning: Unverified HTTPS request is being made. Adding certificate verification is strongly advised. See: https://urllib3.readthedocs.io/en/latest/advanced-usage.html#ssl-warnings\n",
      "  InsecureRequestWarning)\n"
     ]
    },
    {
     "name": "stdout",
     "output_type": "stream",
     "text": [
      "https://www.tripadvisor.com.mx/Hotels-g150800-oa480-Mexico_City_Central_Mexico_and_Gulf_Coast-Hotels.html#BODYCON\n"
     ]
    },
    {
     "name": "stderr",
     "output_type": "stream",
     "text": [
      "C:\\Users\\israel.vargas\\AppData\\Local\\Continuum\\anaconda3\\envs\\EnvPos\\lib\\site-packages\\urllib3\\connectionpool.py:847: InsecureRequestWarning: Unverified HTTPS request is being made. Adding certificate verification is strongly advised. See: https://urllib3.readthedocs.io/en/latest/advanced-usage.html#ssl-warnings\n",
      "  InsecureRequestWarning)\n"
     ]
    },
    {
     "name": "stdout",
     "output_type": "stream",
     "text": [
      "https://www.tripadvisor.com.mx/Hotels-g150800-oa510-Mexico_City_Central_Mexico_and_Gulf_Coast-Hotels.html#BODYCON\n"
     ]
    },
    {
     "name": "stderr",
     "output_type": "stream",
     "text": [
      "C:\\Users\\israel.vargas\\AppData\\Local\\Continuum\\anaconda3\\envs\\EnvPos\\lib\\site-packages\\urllib3\\connectionpool.py:847: InsecureRequestWarning: Unverified HTTPS request is being made. Adding certificate verification is strongly advised. See: https://urllib3.readthedocs.io/en/latest/advanced-usage.html#ssl-warnings\n",
      "  InsecureRequestWarning)\n"
     ]
    },
    {
     "name": "stdout",
     "output_type": "stream",
     "text": [
      "https://www.tripadvisor.com.mx/Hotels-g150800-oa540-Mexico_City_Central_Mexico_and_Gulf_Coast-Hotels.html#BODYCON\n"
     ]
    },
    {
     "name": "stderr",
     "output_type": "stream",
     "text": [
      "C:\\Users\\israel.vargas\\AppData\\Local\\Continuum\\anaconda3\\envs\\EnvPos\\lib\\site-packages\\urllib3\\connectionpool.py:847: InsecureRequestWarning: Unverified HTTPS request is being made. Adding certificate verification is strongly advised. See: https://urllib3.readthedocs.io/en/latest/advanced-usage.html#ssl-warnings\n",
      "  InsecureRequestWarning)\n"
     ]
    },
    {
     "name": "stdout",
     "output_type": "stream",
     "text": [
      "https://www.tripadvisor.com.mx/Hotels-g150800-oa570-Mexico_City_Central_Mexico_and_Gulf_Coast-Hotels.html#BODYCON\n"
     ]
    },
    {
     "name": "stderr",
     "output_type": "stream",
     "text": [
      "C:\\Users\\israel.vargas\\AppData\\Local\\Continuum\\anaconda3\\envs\\EnvPos\\lib\\site-packages\\urllib3\\connectionpool.py:847: InsecureRequestWarning: Unverified HTTPS request is being made. Adding certificate verification is strongly advised. See: https://urllib3.readthedocs.io/en/latest/advanced-usage.html#ssl-warnings\n",
      "  InsecureRequestWarning)\n"
     ]
    },
    {
     "name": "stdout",
     "output_type": "stream",
     "text": [
      "https://www.tripadvisor.com.mx/Hotels-g150800-oa600-Mexico_City_Central_Mexico_and_Gulf_Coast-Hotels.html#BODYCON\n"
     ]
    },
    {
     "name": "stderr",
     "output_type": "stream",
     "text": [
      "C:\\Users\\israel.vargas\\AppData\\Local\\Continuum\\anaconda3\\envs\\EnvPos\\lib\\site-packages\\urllib3\\connectionpool.py:847: InsecureRequestWarning: Unverified HTTPS request is being made. Adding certificate verification is strongly advised. See: https://urllib3.readthedocs.io/en/latest/advanced-usage.html#ssl-warnings\n",
      "  InsecureRequestWarning)\n"
     ]
    },
    {
     "name": "stdout",
     "output_type": "stream",
     "text": [
      "https://www.tripadvisor.com.mx/Hotels-g150800-oa630-Mexico_City_Central_Mexico_and_Gulf_Coast-Hotels.html#BODYCON\n"
     ]
    },
    {
     "name": "stderr",
     "output_type": "stream",
     "text": [
      "C:\\Users\\israel.vargas\\AppData\\Local\\Continuum\\anaconda3\\envs\\EnvPos\\lib\\site-packages\\urllib3\\connectionpool.py:847: InsecureRequestWarning: Unverified HTTPS request is being made. Adding certificate verification is strongly advised. See: https://urllib3.readthedocs.io/en/latest/advanced-usage.html#ssl-warnings\n",
      "  InsecureRequestWarning)\n"
     ]
    },
    {
     "name": "stdout",
     "output_type": "stream",
     "text": [
      "https://www.tripadvisor.com.mx/Hotels-g150800-oa660-Mexico_City_Central_Mexico_and_Gulf_Coast-Hotels.html#BODYCON\n"
     ]
    },
    {
     "name": "stderr",
     "output_type": "stream",
     "text": [
      "C:\\Users\\israel.vargas\\AppData\\Local\\Continuum\\anaconda3\\envs\\EnvPos\\lib\\site-packages\\urllib3\\connectionpool.py:847: InsecureRequestWarning: Unverified HTTPS request is being made. Adding certificate verification is strongly advised. See: https://urllib3.readthedocs.io/en/latest/advanced-usage.html#ssl-warnings\n",
      "  InsecureRequestWarning)\n"
     ]
    },
    {
     "name": "stdout",
     "output_type": "stream",
     "text": [
      "https://www.tripadvisor.com.mx/Hotels-g150800-oa690-Mexico_City_Central_Mexico_and_Gulf_Coast-Hotels.html#BODYCON\n"
     ]
    },
    {
     "name": "stderr",
     "output_type": "stream",
     "text": [
      "C:\\Users\\israel.vargas\\AppData\\Local\\Continuum\\anaconda3\\envs\\EnvPos\\lib\\site-packages\\urllib3\\connectionpool.py:847: InsecureRequestWarning: Unverified HTTPS request is being made. Adding certificate verification is strongly advised. See: https://urllib3.readthedocs.io/en/latest/advanced-usage.html#ssl-warnings\n",
      "  InsecureRequestWarning)\n"
     ]
    },
    {
     "name": "stdout",
     "output_type": "stream",
     "text": [
      "https://www.tripadvisor.com.mx/Hotels-g150800-oa720-Mexico_City_Central_Mexico_and_Gulf_Coast-Hotels.html#BODYCON\n"
     ]
    },
    {
     "name": "stderr",
     "output_type": "stream",
     "text": [
      "C:\\Users\\israel.vargas\\AppData\\Local\\Continuum\\anaconda3\\envs\\EnvPos\\lib\\site-packages\\urllib3\\connectionpool.py:847: InsecureRequestWarning: Unverified HTTPS request is being made. Adding certificate verification is strongly advised. See: https://urllib3.readthedocs.io/en/latest/advanced-usage.html#ssl-warnings\n",
      "  InsecureRequestWarning)\n"
     ]
    },
    {
     "name": "stdout",
     "output_type": "stream",
     "text": [
      "https://www.tripadvisor.com.mx/Hotels-g150800-oa750-Mexico_City_Central_Mexico_and_Gulf_Coast-Hotels.html#BODYCON\n"
     ]
    },
    {
     "name": "stderr",
     "output_type": "stream",
     "text": [
      "C:\\Users\\israel.vargas\\AppData\\Local\\Continuum\\anaconda3\\envs\\EnvPos\\lib\\site-packages\\urllib3\\connectionpool.py:847: InsecureRequestWarning: Unverified HTTPS request is being made. Adding certificate verification is strongly advised. See: https://urllib3.readthedocs.io/en/latest/advanced-usage.html#ssl-warnings\n",
      "  InsecureRequestWarning)\n"
     ]
    },
    {
     "name": "stdout",
     "output_type": "stream",
     "text": [
      "https://www.tripadvisor.com.mx/Hotels-g150800-oa780-Mexico_City_Central_Mexico_and_Gulf_Coast-Hotels.html#BODYCON\n"
     ]
    },
    {
     "name": "stderr",
     "output_type": "stream",
     "text": [
      "C:\\Users\\israel.vargas\\AppData\\Local\\Continuum\\anaconda3\\envs\\EnvPos\\lib\\site-packages\\urllib3\\connectionpool.py:847: InsecureRequestWarning: Unverified HTTPS request is being made. Adding certificate verification is strongly advised. See: https://urllib3.readthedocs.io/en/latest/advanced-usage.html#ssl-warnings\n",
      "  InsecureRequestWarning)\n"
     ]
    },
    {
     "name": "stdout",
     "output_type": "stream",
     "text": [
      "https://www.tripadvisor.com.mx/Hotels-g150800-oa810-Mexico_City_Central_Mexico_and_Gulf_Coast-Hotels.html#BODYCON\n"
     ]
    },
    {
     "name": "stderr",
     "output_type": "stream",
     "text": [
      "C:\\Users\\israel.vargas\\AppData\\Local\\Continuum\\anaconda3\\envs\\EnvPos\\lib\\site-packages\\urllib3\\connectionpool.py:847: InsecureRequestWarning: Unverified HTTPS request is being made. Adding certificate verification is strongly advised. See: https://urllib3.readthedocs.io/en/latest/advanced-usage.html#ssl-warnings\n",
      "  InsecureRequestWarning)\n"
     ]
    },
    {
     "name": "stdout",
     "output_type": "stream",
     "text": [
      "https://www.tripadvisor.com.mx/Hotels-g150800-oa840-Mexico_City_Central_Mexico_and_Gulf_Coast-Hotels.html#BODYCON\n"
     ]
    },
    {
     "name": "stderr",
     "output_type": "stream",
     "text": [
      "C:\\Users\\israel.vargas\\AppData\\Local\\Continuum\\anaconda3\\envs\\EnvPos\\lib\\site-packages\\urllib3\\connectionpool.py:847: InsecureRequestWarning: Unverified HTTPS request is being made. Adding certificate verification is strongly advised. See: https://urllib3.readthedocs.io/en/latest/advanced-usage.html#ssl-warnings\n",
      "  InsecureRequestWarning)\n"
     ]
    },
    {
     "name": "stdout",
     "output_type": "stream",
     "text": [
      "https://www.tripadvisor.com.mx/Hotels-g150800-oa870-Mexico_City_Central_Mexico_and_Gulf_Coast-Hotels.html#BODYCON\n"
     ]
    },
    {
     "name": "stderr",
     "output_type": "stream",
     "text": [
      "C:\\Users\\israel.vargas\\AppData\\Local\\Continuum\\anaconda3\\envs\\EnvPos\\lib\\site-packages\\urllib3\\connectionpool.py:847: InsecureRequestWarning: Unverified HTTPS request is being made. Adding certificate verification is strongly advised. See: https://urllib3.readthedocs.io/en/latest/advanced-usage.html#ssl-warnings\n",
      "  InsecureRequestWarning)\n"
     ]
    },
    {
     "name": "stdout",
     "output_type": "stream",
     "text": [
      "https://www.tripadvisor.com.mx/Hotels-g150800-oa900-Mexico_City_Central_Mexico_and_Gulf_Coast-Hotels.html#BODYCON\n"
     ]
    },
    {
     "name": "stderr",
     "output_type": "stream",
     "text": [
      "C:\\Users\\israel.vargas\\AppData\\Local\\Continuum\\anaconda3\\envs\\EnvPos\\lib\\site-packages\\urllib3\\connectionpool.py:847: InsecureRequestWarning: Unverified HTTPS request is being made. Adding certificate verification is strongly advised. See: https://urllib3.readthedocs.io/en/latest/advanced-usage.html#ssl-warnings\n",
      "  InsecureRequestWarning)\n"
     ]
    },
    {
     "name": "stdout",
     "output_type": "stream",
     "text": [
      "https://www.tripadvisor.com.mx/Hotels-g150800-oa930-Mexico_City_Central_Mexico_and_Gulf_Coast-Hotels.html#BODYCON\n"
     ]
    },
    {
     "name": "stderr",
     "output_type": "stream",
     "text": [
      "C:\\Users\\israel.vargas\\AppData\\Local\\Continuum\\anaconda3\\envs\\EnvPos\\lib\\site-packages\\urllib3\\connectionpool.py:847: InsecureRequestWarning: Unverified HTTPS request is being made. Adding certificate verification is strongly advised. See: https://urllib3.readthedocs.io/en/latest/advanced-usage.html#ssl-warnings\n",
      "  InsecureRequestWarning)\n"
     ]
    },
    {
     "name": "stdout",
     "output_type": "stream",
     "text": [
      "https://www.tripadvisor.com.mx/Hotels-g150800-oa960-Mexico_City_Central_Mexico_and_Gulf_Coast-Hotels.html#BODYCON\n"
     ]
    },
    {
     "name": "stderr",
     "output_type": "stream",
     "text": [
      "C:\\Users\\israel.vargas\\AppData\\Local\\Continuum\\anaconda3\\envs\\EnvPos\\lib\\site-packages\\urllib3\\connectionpool.py:847: InsecureRequestWarning: Unverified HTTPS request is being made. Adding certificate verification is strongly advised. See: https://urllib3.readthedocs.io/en/latest/advanced-usage.html#ssl-warnings\n",
      "  InsecureRequestWarning)\n"
     ]
    },
    {
     "name": "stdout",
     "output_type": "stream",
     "text": [
      "https://www.tripadvisor.com.mx/Hotels-g150800-oa990-Mexico_City_Central_Mexico_and_Gulf_Coast-Hotels.html#BODYCON\n"
     ]
    },
    {
     "name": "stderr",
     "output_type": "stream",
     "text": [
      "C:\\Users\\israel.vargas\\AppData\\Local\\Continuum\\anaconda3\\envs\\EnvPos\\lib\\site-packages\\urllib3\\connectionpool.py:847: InsecureRequestWarning: Unverified HTTPS request is being made. Adding certificate verification is strongly advised. See: https://urllib3.readthedocs.io/en/latest/advanced-usage.html#ssl-warnings\n",
      "  InsecureRequestWarning)\n"
     ]
    },
    {
     "name": "stdout",
     "output_type": "stream",
     "text": [
      "https://www.tripadvisor.com.mx/Hotels-g150800-oa1020-Mexico_City_Central_Mexico_and_Gulf_Coast-Hotels.html#BODYCON\n"
     ]
    },
    {
     "name": "stderr",
     "output_type": "stream",
     "text": [
      "C:\\Users\\israel.vargas\\AppData\\Local\\Continuum\\anaconda3\\envs\\EnvPos\\lib\\site-packages\\urllib3\\connectionpool.py:847: InsecureRequestWarning: Unverified HTTPS request is being made. Adding certificate verification is strongly advised. See: https://urllib3.readthedocs.io/en/latest/advanced-usage.html#ssl-warnings\n",
      "  InsecureRequestWarning)\n",
      "C:\\Users\\israel.vargas\\AppData\\Local\\Continuum\\anaconda3\\envs\\EnvPos\\lib\\site-packages\\urllib3\\connectionpool.py:847: InsecureRequestWarning: Unverified HTTPS request is being made. Adding certificate verification is strongly advised. See: https://urllib3.readthedocs.io/en/latest/advanced-usage.html#ssl-warnings\n",
      "  InsecureRequestWarning)\n",
      "C:\\Users\\israel.vargas\\AppData\\Local\\Continuum\\anaconda3\\envs\\EnvPos\\lib\\site-packages\\urllib3\\connectionpool.py:847: InsecureRequestWarning: Unverified HTTPS request is being made. Adding certificate verification is strongly advised. See: https://urllib3.readthedocs.io/en/latest/advanced-usage.html#ssl-warnings\n",
      "  InsecureRequestWarning)\n"
     ]
    },
    {
     "name": "stdout",
     "output_type": "stream",
     "text": [
      "<Response [200]>\n",
      "https://www.tripadvisor.com.mx/Hotels-g153976-Aguascalientes_Central_Mexico_and_Gulf_Coast-Hotels.html\n",
      "/Hotels-g153976-oa30-Aguascalientes_Central_Mexico_and_Gulf_Coast-Hotels.html#BODYCON\n",
      "https://www.tripadvisor.com.mx/Hotels-g153976-oa30-Aguascalientes_Central_Mexico_and_Gulf_Coast-Hotels.html#BODYCON\n"
     ]
    },
    {
     "name": "stderr",
     "output_type": "stream",
     "text": [
      "C:\\Users\\israel.vargas\\AppData\\Local\\Continuum\\anaconda3\\envs\\EnvPos\\lib\\site-packages\\urllib3\\connectionpool.py:847: InsecureRequestWarning: Unverified HTTPS request is being made. Adding certificate verification is strongly advised. See: https://urllib3.readthedocs.io/en/latest/advanced-usage.html#ssl-warnings\n",
      "  InsecureRequestWarning)\n"
     ]
    },
    {
     "name": "stdout",
     "output_type": "stream",
     "text": [
      "https://www.tripadvisor.com.mx/Hotels-g153976-oa60-Aguascalientes_Central_Mexico_and_Gulf_Coast-Hotels.html#BODYCON\n"
     ]
    },
    {
     "name": "stderr",
     "output_type": "stream",
     "text": [
      "C:\\Users\\israel.vargas\\AppData\\Local\\Continuum\\anaconda3\\envs\\EnvPos\\lib\\site-packages\\urllib3\\connectionpool.py:847: InsecureRequestWarning: Unverified HTTPS request is being made. Adding certificate verification is strongly advised. See: https://urllib3.readthedocs.io/en/latest/advanced-usage.html#ssl-warnings\n",
      "  InsecureRequestWarning)\n"
     ]
    },
    {
     "name": "stdout",
     "output_type": "stream",
     "text": [
      "https://www.tripadvisor.com.mx/Hotels-g153976-oa90-Aguascalientes_Central_Mexico_and_Gulf_Coast-Hotels.html#BODYCON\n"
     ]
    },
    {
     "name": "stderr",
     "output_type": "stream",
     "text": [
      "C:\\Users\\israel.vargas\\AppData\\Local\\Continuum\\anaconda3\\envs\\EnvPos\\lib\\site-packages\\urllib3\\connectionpool.py:847: InsecureRequestWarning: Unverified HTTPS request is being made. Adding certificate verification is strongly advised. See: https://urllib3.readthedocs.io/en/latest/advanced-usage.html#ssl-warnings\n",
      "  InsecureRequestWarning)\n"
     ]
    },
    {
     "name": "stdout",
     "output_type": "stream",
     "text": [
      "https://www.tripadvisor.com.mx/Hotels-g153976-oa120-Aguascalientes_Central_Mexico_and_Gulf_Coast-Hotels.html#BODYCON\n"
     ]
    },
    {
     "name": "stderr",
     "output_type": "stream",
     "text": [
      "C:\\Users\\israel.vargas\\AppData\\Local\\Continuum\\anaconda3\\envs\\EnvPos\\lib\\site-packages\\urllib3\\connectionpool.py:847: InsecureRequestWarning: Unverified HTTPS request is being made. Adding certificate verification is strongly advised. See: https://urllib3.readthedocs.io/en/latest/advanced-usage.html#ssl-warnings\n",
      "  InsecureRequestWarning)\n"
     ]
    },
    {
     "name": "stdout",
     "output_type": "stream",
     "text": [
      "Tiempo del proceso:  66.83875179290771\n"
     ]
    }
   ],
   "source": [
    "start_time = ti.time()\n",
    "today = datetime.now()\n",
    "if today<datetime.strptime(__CHEKIN_DATE,\"%Y/%m/%d\") and datetime.strptime(__CHEKIN_DATE,\"%Y/%m/%d\")<datetime.strptime(__CHEKOUT_DATE,\"%Y/%m/%d\"):\n",
    "    for i in __STATES:\n",
    "        __LOCALITY = i\n",
    "        __GEO_URL,__API_RESPONSE,__URL_from_AUTOCOMPLETE = _get(__LOCALITY)\n",
    "        __HEADERS = {'Accept': 'text/javascript, text/html, application/xml, text/xml, */*',\n",
    "                'Accept-Encoding': 'gzip,deflate',\n",
    "                'Accept-Language': 'en-US,en,es;q=0.5',\n",
    "                'Cache-Control': 'no-cache',\n",
    "                'Connection': 'keep-alive',\n",
    "                'Content-Type': 'application/x-www-form-urlencoded; charset=utf-8',\n",
    "                'Host': 'www.tripadvisor.com.mx',\n",
    "                'Pragma': 'no-cache',\n",
    "                'Referer': __URL_from_AUTOCOMPLETE,\n",
    "                'User-Agent': 'Mozilla/5.0 (X11; Ubuntu; Linux i686; rv:28.0) Gecko/20100101 Firefox/28.0',\n",
    "                'X-Requested-With': 'XMLHttpRequest'}\n",
    "        page_response = _post()\n",
    "        print(page_response)\n",
    "        print(page_response.url)\n",
    "        parser = _parser(page_response)\n",
    "        df = _read__scarper(parser,df_output)\n",
    "        total_pages,total_hotels,data_p_page,next_web = _particles(parser) #Aún no he llamado a la siguiente página\n",
    "        saver = total_pages[0]\n",
    "        scraper_pb = total_pages[0]\n",
    "        url = str(next_web)\n",
    "        count = 1\n",
    "        print(url)\n",
    "        for i in range(data_p_page,total_hotels,data_p_page): #La primera iteración llama a la página 2\n",
    "            parser = _pagination(url)\n",
    "            #print(df.shape)\n",
    "            df = _read__scarper(parser,df)\n",
    "            #print(df.shape)\n",
    "            url = url.replace('oa'+str(i),'oa'+str(i+30))\n",
    "            scraper_pb = count\n",
    "            count += 1\n",
    "            _sleeper()\n",
    "        _saver(df)\n",
    "    end_time = ti.time()\n",
    "    print('Tiempo del proceso: ',end_time-start_time)\n",
    "    \n",
    "elif today>datetime.strptime(__CHEKIN_DATE,\"%Y/%m/%d\") or today>datetime.strptime(__CHEKOUT_DATE,\"%Y/%m/%d\"):\n",
    "    print(\"La fecha de CheckIn ó CheckOut es invalida: la fecha de entrada de alguno de los dos campos ya es pasado...\")\n",
    "    print(__CHEKIN_DATE,__CHEKOUT_DATE)\n",
    "\n",
    "elif datetime.strptime(__CHEKIN_DATE,\"%Y/%m/%d\")>datetime.strptime(__CHEKOUT_DATE,\"%Y/%m/%d\"):\n",
    "    print(\"La fecha de ChechIn es invalida: Tu fecha de salida debe ser al menos un día posterior a la de llegada...\")\n",
    "    print(__CHEKIN_DATE,__CHEKOUT_DATE)"
   ]
  },
  {
   "cell_type": "markdown",
   "metadata": {},
   "source": [
    "<div class=\"alert alert-block alert-success\">\n",
    "    <h2><center>Implementación scraper Booking:</center></h2> <br/>\n",
    "    <br/>\n",
    "    <br/>\n",
    "    <p><right>\"With great power comes great responsibility.\" -El tío Ben</right></p>\n",
    "</div>"
   ]
  },
  {
   "cell_type": "code",
   "execution_count": 56,
   "metadata": {},
   "outputs": [
    {
     "name": "stdout",
     "output_type": "stream",
     "text": [
      "Localidad:  Ciudad de Mexico\n",
      "https://www.booking.com/searchresults.es.html?label=gen173nr-1FCAEoggI46AdIClgEaKABiAEBmAEKuAEIyAEP2AEB6AEB-AECiAIBqAIDuALQzffsBcACAQ&lang=es&sid=87670e4b2ca1d693089a25552aefd7d1&sb=1&src=index&src_elem=sb&error_url=https%3A%2F%2Fwww.booking.com%2Findex.es.html%3Flabel%3Dgen173nr-1FCAEoggI46AdIClgEaKABiAEBmAEKuAEIyAEP2AEB6AEB-AECiAIBqAIDuALQzffsBcACAQ%3Bsid%3D87670e4b2ca1d693089a25552aefd7d1%3Bsb_price_type%3Dtotal%26%3B&ss=Ciudad+de+Mexico&is_ski_area=0&checkin_monthday=10&checkin_month=10&checkin_year=2019&checkout_monthday=11&checkout_month=10&checkout_year=2019&group_adults=2&group_children=0&no_rooms=1&b_h4u_keep_filters=&from_sf=1\n",
      "40\n",
      "(25, 21)\n",
      "salvando...  Ciudad de Mexico   2019/10/10   2019/10/11   (975, 21)\n",
      "(0, 21)\n",
      "https://www.booking.com/searchresults.es.html?aid=304142&label=gen173nr-1FCAEoggI46AdIClgEaKABiAEBmAEKuAEIyAEP2AEB6AEB-AECiAIBqAIDuALQzffsBcACAQ&lang=es&sid=87670e4b2ca1d693089a25552aefd7d1&sb=1&src=index&src_elem=sb&error_url=https%3A%2F%2Fwww.booking.com%2Findex.es.html%3Faid%3D304142%3Blabel%3Dgen173nr-1FCAEoggI46AdIClgEaKABiAEBmAEKuAEIyAEP2AEB6AEB-AECiAIBqAIDuALQzffsBcACAQ%3Bsid%3D87670e4b2ca1d693089a25552aefd7d1%3Bsb_price_type%3Dtotal%3Bsrpvid%3Db0fb61ebd99f0012%26%3B&ss=Aguascalientes&is_ski_area=0&checkin_monthday=10&checkin_month=10&checkin_year=2019&checkout_monthday=11&checkout_month=10&checkout_year=2019&group_adults=2&group_children=0&no_rooms=1&b_h4u_keep_filters=&from_sf=1\n",
      "4\n",
      "(25, 21)\n",
      "salvando...  Aguascalientes   2019/10/10   2019/10/11   (75, 21)\n",
      "Todo fue un exito\n",
      "Soy leyenda... Todo ha terminado...\n",
      "Tiempo del proceso:  241.39332056045532\n"
     ]
    }
   ],
   "source": [
    "start_time = ti.time()\n",
    "today = datetime.now()\n",
    "if today<datetime.strptime(__CHEKIN_DATE,\"%Y/%m/%d\") and datetime.strptime(__CHEKIN_DATE,\"%Y/%m/%d\")<datetime.strptime(__CHEKOUT_DATE,\"%Y/%m/%d\"):\n",
    "    leyenda = _selenium_booking_2(DF_BOOKING,__CHEKIN_DATE,__CHEKOUT_DATE)\n",
    "    \"\"\"for i in __STATES:\n",
    "        url = _selenium_booking(i)\n",
    "        url = _url_completition(url,__CHEKIN_DATE,__CHEKOUT_DATE)\n",
    "        df = _second_call(url,DF_BOOKING,i,__CHEKIN_DATE,__CHEKOUT_DATE)\"\"\"\n",
    "    print(\"Soy leyenda...\",leyenda)\n",
    "    end_time = ti.time()\n",
    "    ########CAMBIAR LO DE ARRIBA PARA HACER EL SCRAPER 2 (FUNCION)\n",
    "    print('Tiempo del proceso: ',end_time-start_time)\n",
    "    \n",
    "elif today>datetime.strptime(__CHEKIN_DATE,\"%Y/%m/%d\") or today>datetime.strptime(__CHEKOUT_DATE,\"%Y/%m/%d\"):\n",
    "    print(\"La fecha de CheckIn ó CheckOut es invalida: la fecha de entrada de alguno de los dos campos ya es pasado...\")\n",
    "    print(__CHEKIN_DATE,__CHEKOUT_DATE)\n",
    "\n",
    "elif datetime.strptime(__CHEKIN_DATE,\"%Y/%m/%d\")>datetime.strptime(__CHEKOUT_DATE,\"%Y/%m/%d\"):\n",
    "    print(\"La fecha de ChechIn es invalida: Tu fecha de salida debe ser al menos un día posterior a la de llegada...\")\n",
    "    print(__CHEKIN_DATE,__CHEKOUT_DATE)"
   ]
  },
  {
   "cell_type": "code",
   "execution_count": null,
   "metadata": {
    "scrolled": true
   },
   "outputs": [],
   "source": [
    "today = datetime.now()\n",
    "if today<datetime.strptime(__CHEKIN_DATE,\"%Y/%m/%d\") and datetime.strptime(__CHEKIN_DATE,\"%Y/%m/%d\")<datetime.strptime(__CHEKOUT_DATE,\"%Y/%m/%d\"):\n",
    "    __GEO_URL,__API_RESPONSE,__URL_from_AUTOCOMPLETE = _get(__LOCALITY)\n",
    "    __HEADERS = {'Accept': 'text/javascript, text/html, application/xml, text/xml, */*',\n",
    "            'Accept-Encoding': 'gzip,deflate',\n",
    "            'Accept-Language': 'en-US,en,es;q=0.5',\n",
    "            'Cache-Control': 'no-cache',\n",
    "            'Connection': 'keep-alive',\n",
    "            'Content-Type': 'application/x-www-form-urlencoded; charset=utf-8',\n",
    "            'Host': 'www.tripadvisor.com.mx',\n",
    "            'Pragma': 'no-cache',\n",
    "            'Referer': __URL_from_AUTOCOMPLETE,\n",
    "            'User-Agent': 'Mozilla/5.0 (X11; Ubuntu; Linux i686; rv:28.0) Gecko/20100101 Firefox/28.0',\n",
    "            'X-Requested-With': 'XMLHttpRequest'}\n",
    "    page_response = _post()\n",
    "    print(page_response.url)\n",
    "    parser = _parser(page_response)\n",
    "    df = _read__scarper(parser,df_output)\n",
    "    total_pages,total_hotels,data_p_page,next_web = _particles(parser) #Aún no he llamado a la siguiente página\n",
    "    saver.max = total_pages[0]\n",
    "    scraper_pb.max = total_pages[0]\n",
    "    url = str(next_web)\n",
    "    count = 1\n",
    "    for i in range(data_p_page,total_hotels,data_p_page): #La primera iteración llama a la página 2\n",
    "        parser = _pagination(url)\n",
    "        #print(df.shape)\n",
    "        df = _read__scarper(parser,df)\n",
    "        #print(df.shape)\n",
    "        url = url.replace('oa'+str(i),'oa'+str(i+30))\n",
    "        scraper_pb.value = count\n",
    "        count += 1\n",
    "        _sleeper()\n",
    "    _saver(df)\n",
    "    \n",
    "elif today>datetime.strptime(__CHEKIN_DATE,\"%Y/%m/%d\") or today>datetime.strptime(__CHEKOUT_DATE,\"%Y/%m/%d\"):\n",
    "    print(\"La fecha de CheckIn ó CheckOut es invalida: la fecha de entrada de alguno de los dos campos ya es pasado...\")\n",
    "    print(__CHEKIN_DATE,__CHEKOUT_DATE)\n",
    "\n",
    "elif datetime.strptime(__CHEKIN_DATE,\"%Y/%m/%d\")>datetime.strptime(__CHEKOUT_DATE,\"%Y/%m/%d\"):\n",
    "    print(\"La fecha de ChechIn es invalida: Tu fecha de salida debe ser al menos un día posterior a la de llegada...\")\n",
    "    print(__CHEKIN_DATE,__CHEKOUT_DATE)"
   ]
  },
  {
   "cell_type": "code",
   "execution_count": null,
   "metadata": {
    "scrolled": true
   },
   "outputs": [],
   "source": [
    "today = datetime.now()\n",
    "if today<datetime.strptime(__CHEKIN_DATE,\"%Y/%m/%d\") and datetime.strptime(__CHEKIN_DATE,\"%Y/%m/%d\")<datetime.strptime(__CHEKOUT_DATE,\"%Y/%m/%d\"):\n",
    "    url = _selenium_booking(__LOCALITY)\n",
    "    url = _url_completition(url,__CHEKIN_DATE,__CHEKOUT_DATE)\n",
    "    print(url)\n",
    "    parser_booking = _second_call(url)\n",
    "    df,num,url = _scraper(parser_booking,DF_BOOKING,1)\n",
    "    for i in range(2,num,1):\n",
    "        url = \"https://www.booking.com\" + url[0]\n",
    "        print(url)\n",
    "        parser_booking = _second_call(url)\n",
    "        df,_,url = _scraper(parser_booking,df,i)\n",
    "    _booking_saver(df,__CHEKIN_DATE,__CHEKOUT_DATE,__LOCALITY)\n",
    "    \n",
    "elif today>datetime.strptime(__CHEKIN_DATE,\"%Y/%m/%d\") or today>datetime.strptime(__CHEKOUT_DATE,\"%Y/%m/%d\"):\n",
    "    print(\"La fecha de CheckIn ó CheckOut es invalida: la fecha de entrada de alguno de los dos campos ya es pasado...\")\n",
    "    print(__CHEKIN_DATE,__CHEKOUT_DATE)\n",
    "\n",
    "elif datetime.strptime(__CHEKIN_DATE,\"%Y/%m/%d\")>datetime.strptime(__CHEKOUT_DATE,\"%Y/%m/%d\"):\n",
    "    print(\"La fecha de ChechIn es invalida: Tu fecha de salida debe ser al menos un día posterior a la de llegada...\")\n",
    "    print(__CHEKIN_DATE,__CHEKOUT_DATE)"
   ]
  },
  {
   "cell_type": "markdown",
   "metadata": {},
   "source": [
    "<div class=\"alert alert-block alert-success\">\n",
    "    <h2><center>Implementación scraper Set Competitivo a FA Condesa Cancún:</center></h2> <br/>\n",
    "    <br/>\n",
    "    <br/>\n",
    "    <p><right>\"With great power comes great responsibility.\" -El tío Ben</right></p>\n",
    "</div>"
   ]
  },
  {
   "cell_type": "code",
   "execution_count": 2,
   "metadata": {},
   "outputs": [
    {
     "data": {
      "text/plain": [
       "int"
      ]
     },
     "execution_count": 2,
     "metadata": {},
     "output_type": "execute_result"
    }
   ],
   "source": [
    "d = datetime.datetime.today()\n",
    "type(d.year)"
   ]
  },
  {
   "cell_type": "markdown",
   "metadata": {},
   "source": [
    "<div class=\"alert alert-block alert-danger\">\n",
    "<b>Aguas con el baneo:</b> Hacer WEB Scraping no esta muy bien visto por las páginas de internet y algunos citios restringen bastante sus accesos, ten cuidado, el banerarte puede significar bloquear tu IP por algunas horas o permanentemente (aunque este en contra de las reglas de internet), toma tus precaciones, no descargues tanta inforamción de un solo tajo, utiliza un VPN y has la IP dinámica. \n",
    "</div>"
   ]
  },
  {
   "cell_type": "markdown",
   "metadata": {},
   "source": [
    "<div class=\"alert alert-block alert-success\">\n",
    "    <h2><center>Implementación scraper API Foursquere:</center></h2> <br/>\n",
    "    <b><center>Lee el recuadro rojo al final</center></b>\n",
    "    <br/>\n",
    "    <br/>\n",
    "    <p><right>\"With great power comes great responsibility.\" -El tío Ben</right></p>\n",
    "</div>"
   ]
  },
  {
   "cell_type": "markdown",
   "metadata": {},
   "source": [
    "<div class=\"alert alert-block alert-warning\">\n",
    "    <b><center>KEY: xpath.</center></b>\n",
    "    <b><center>Configure Foursquere: https://docs.mageplaza.com/social-login-m2/how-to-configure-foursquare-api.html</center></b>\n",
    "</div>"
   ]
  },
  {
   "cell_type": "code",
   "execution_count": 4,
   "metadata": {},
   "outputs": [
    {
     "name": "stdout",
     "output_type": "stream",
     "text": [
      "Total venues found: 17\n"
     ]
    },
    {
     "data": {
      "text/plain": [
       "{'venues': [{'id': '5674398a498ec531704cf08a',\n",
       "   'name': 'Lat20 by Live Aqua',\n",
       "   'location': {'address': '5th Ave. btwn 30 and 32 North',\n",
       "    'lat': 20.63313226440197,\n",
       "    'lng': -87.06726050421692,\n",
       "    'labeledLatLngs': [{'label': 'display',\n",
       "      'lat': 20.63313226440197,\n",
       "      'lng': -87.06726050421692}],\n",
       "    'cc': 'MX',\n",
       "    'city': 'Playa del Carmen',\n",
       "    'state': 'Quintana Roo',\n",
       "    'country': 'México',\n",
       "    'formattedAddress': ['5th Ave. btwn 30 and 32 North',\n",
       "     'Playa Del Carmen, Quintana Roo',\n",
       "     'México']},\n",
       "   'categories': [{'id': '4bf58dd8d48988d1fa931735',\n",
       "     'name': 'Hotel',\n",
       "     'pluralName': 'Hotels',\n",
       "     'shortName': 'Hotel',\n",
       "     'icon': {'prefix': 'https://ss3.4sqi.net/img/categories_v2/travel/hotel_',\n",
       "      'suffix': '.png'},\n",
       "     'primary': True}],\n",
       "   'referralId': 'v-1572966312',\n",
       "   'hasPerk': False},\n",
       "  {'id': '577734b8498ee216f9c0100e',\n",
       "   'name': 'Live Aqua Boutique Resort',\n",
       "   'location': {'lat': 20.632754,\n",
       "    'lng': -87.067409,\n",
       "    'labeledLatLngs': [{'label': 'display',\n",
       "      'lat': 20.632754,\n",
       "      'lng': -87.067409}],\n",
       "    'cc': 'MX',\n",
       "    'city': 'Playa del Carmen',\n",
       "    'state': 'Quintana Roo',\n",
       "    'country': 'México',\n",
       "    'formattedAddress': ['Playa del Carmen, Quintana Roo', 'México']},\n",
       "   'categories': [{'id': '4bf58dd8d48988d1fa931735',\n",
       "     'name': 'Hotel',\n",
       "     'pluralName': 'Hotels',\n",
       "     'shortName': 'Hotel',\n",
       "     'icon': {'prefix': 'https://ss3.4sqi.net/img/categories_v2/travel/hotel_',\n",
       "      'suffix': '.png'},\n",
       "     'primary': True}],\n",
       "   'referralId': 'v-1572966312',\n",
       "   'hasPerk': False},\n",
       "  {'id': '4cbfad58021ca143bdb95d0c',\n",
       "   'name': 'Live Aqua Cancún',\n",
       "   'location': {'address': 'Blvd. Kukulcan Km. 12.5',\n",
       "    'lat': 21.107076417347354,\n",
       "    'lng': -86.76303648111964,\n",
       "    'labeledLatLngs': [{'label': 'display',\n",
       "      'lat': 21.107076417347354,\n",
       "      'lng': -86.76303648111964}],\n",
       "    'postalCode': '77500',\n",
       "    'cc': 'MX',\n",
       "    'city': 'Cancún',\n",
       "    'state': 'Quintana Roo',\n",
       "    'country': 'México',\n",
       "    'formattedAddress': ['Blvd. Kukulcan Km. 12.5',\n",
       "     '77500 Cancún, Quintana Roo',\n",
       "     'México']},\n",
       "   'categories': [{'id': '4bf58dd8d48988d12f951735',\n",
       "     'name': 'Resort',\n",
       "     'pluralName': 'Resorts',\n",
       "     'shortName': 'Resort',\n",
       "     'icon': {'prefix': 'https://ss3.4sqi.net/img/categories_v2/travel/resort_',\n",
       "      'suffix': '.png'},\n",
       "     'primary': True}],\n",
       "   'referralId': 'v-1572966312',\n",
       "   'hasPerk': False},\n",
       "  {'id': '5ad8fe5967a9fe724446946b',\n",
       "   'name': 'Pool Club Live Aqua',\n",
       "   'location': {'lat': 21.107446,\n",
       "    'lng': -86.761703,\n",
       "    'labeledLatLngs': [{'label': 'display',\n",
       "      'lat': 21.107446,\n",
       "      'lng': -86.761703}],\n",
       "    'cc': 'MX',\n",
       "    'city': 'Cancún',\n",
       "    'state': 'QROO',\n",
       "    'country': 'México',\n",
       "    'formattedAddress': ['Cancún, QROO', 'México']},\n",
       "   'categories': [{'id': '4bf58dd8d48988d1fa931735',\n",
       "     'name': 'Hotel',\n",
       "     'pluralName': 'Hotels',\n",
       "     'shortName': 'Hotel',\n",
       "     'icon': {'prefix': 'https://ss3.4sqi.net/img/categories_v2/travel/hotel_',\n",
       "      'suffix': '.png'},\n",
       "     'primary': True}],\n",
       "   'referralId': 'v-1572966312',\n",
       "   'hasPerk': False},\n",
       "  {'id': '4dd7c82dfa76ad96d12c8f7c',\n",
       "   'name': 'Siete',\n",
       "   'location': {'address': 'Hotel Live Aqua Cancun, Boulevard Kukulkan Km. 12.5 Zona Hotelera. México',\n",
       "    'lat': 21.10733076547517,\n",
       "    'lng': -86.76224414251709,\n",
       "    'labeledLatLngs': [{'label': 'display',\n",
       "      'lat': 21.10733076547517,\n",
       "      'lng': -86.76224414251709}],\n",
       "    'postalCode': '77500',\n",
       "    'cc': 'MX',\n",
       "    'city': 'Cancún',\n",
       "    'state': 'Quintana Roo',\n",
       "    'country': 'México',\n",
       "    'formattedAddress': ['Hotel Live Aqua Cancun, Boulevard Kukulkan Km. 12.5 Zona Hotelera. México',\n",
       "     '77500 Cancún, Quintana Roo',\n",
       "     'México']},\n",
       "   'categories': [{'id': '4bf58dd8d48988d1c1941735',\n",
       "     'name': 'Mexican Restaurant',\n",
       "     'pluralName': 'Mexican Restaurants',\n",
       "     'shortName': 'Mexican',\n",
       "     'icon': {'prefix': 'https://ss3.4sqi.net/img/categories_v2/food/mexican_',\n",
       "      'suffix': '.png'},\n",
       "     'primary': True}],\n",
       "   'referralId': 'v-1572966312',\n",
       "   'hasPerk': False},\n",
       "  {'id': '4d70d78142b0721e0e978267',\n",
       "   'name': 'Be Live Grand Viva Beach',\n",
       "   'location': {'address': 'Blvd. Kukulcan Km. 8',\n",
       "    'lat': 21.137676611581817,\n",
       "    'lng': -86.75223112106323,\n",
       "    'labeledLatLngs': [{'label': 'display',\n",
       "      'lat': 21.137676611581817,\n",
       "      'lng': -86.75223112106323}],\n",
       "    'postalCode': '77500',\n",
       "    'cc': 'MX',\n",
       "    'city': 'Cancún',\n",
       "    'state': 'Quintana Roo',\n",
       "    'country': 'México',\n",
       "    'formattedAddress': ['Blvd. Kukulcan Km. 8',\n",
       "     '77500 Cancún, Quintana Roo',\n",
       "     'México']},\n",
       "   'categories': [{'id': '4bf58dd8d48988d12f951735',\n",
       "     'name': 'Resort',\n",
       "     'pluralName': 'Resorts',\n",
       "     'shortName': 'Resort',\n",
       "     'icon': {'prefix': 'https://ss3.4sqi.net/img/categories_v2/travel/resort_',\n",
       "      'suffix': '.png'},\n",
       "     'primary': True}],\n",
       "   'referralId': 'v-1572966312',\n",
       "   'hasPerk': False},\n",
       "  {'id': '4dc05bd81e72dd48b206efc3',\n",
       "   'name': 'Be Live',\n",
       "   'location': {'address': 'Quintana Roo',\n",
       "    'lat': 20.37494240521669,\n",
       "    'lng': -87.32544983120032,\n",
       "    'labeledLatLngs': [{'label': 'display',\n",
       "      'lat': 20.37494240521669,\n",
       "      'lng': -87.32544983120032}],\n",
       "    'cc': 'MX',\n",
       "    'city': 'Akumal',\n",
       "    'state': 'Quintana Roo',\n",
       "    'country': 'México',\n",
       "    'formattedAddress': ['Quintana Roo', 'Akumal, Quintana Roo', 'México']},\n",
       "   'categories': [{'id': '4bf58dd8d48988d12f951735',\n",
       "     'name': 'Resort',\n",
       "     'pluralName': 'Resorts',\n",
       "     'shortName': 'Resort',\n",
       "     'icon': {'prefix': 'https://ss3.4sqi.net/img/categories_v2/travel/resort_',\n",
       "      'suffix': '.png'},\n",
       "     'primary': True}],\n",
       "   'referralId': 'v-1572966312',\n",
       "   'hasPerk': False},\n",
       "  {'id': '4b82c65cf964a52010e430e3',\n",
       "   'name': 'Spa Aqua',\n",
       "   'location': {'address': 'Live Aqua',\n",
       "    'lat': 21.107156421654523,\n",
       "    'lng': -86.7626518490225,\n",
       "    'labeledLatLngs': [{'label': 'display',\n",
       "      'lat': 21.107156421654523,\n",
       "      'lng': -86.7626518490225}],\n",
       "    'postalCode': '77500',\n",
       "    'cc': 'MX',\n",
       "    'city': 'Cancún',\n",
       "    'state': 'Quintana Roo',\n",
       "    'country': 'México',\n",
       "    'formattedAddress': ['Live Aqua', '77500 Cancún, Quintana Roo', 'México']},\n",
       "   'categories': [{'id': '4bf58dd8d48988d1ed941735',\n",
       "     'name': 'Spa',\n",
       "     'pluralName': 'Spas',\n",
       "     'shortName': 'Spa',\n",
       "     'icon': {'prefix': 'https://ss3.4sqi.net/img/categories_v2/shops/spa_',\n",
       "      'suffix': '.png'},\n",
       "     'primary': True}],\n",
       "   'venuePage': {'id': '83203244'},\n",
       "   'referralId': 'v-1572966312',\n",
       "   'hasPerk': False},\n",
       "  {'id': '4cedf8e8b80da09303622500',\n",
       "   'name': 'Aquamarinabeach Hotel',\n",
       "   'location': {'address': 'Blvd Kukulkan km 4.5',\n",
       "    'lat': 21.14643453266052,\n",
       "    'lng': -86.79065349150731,\n",
       "    'labeledLatLngs': [{'label': 'display',\n",
       "      'lat': 21.14643453266052,\n",
       "      'lng': -86.79065349150731}],\n",
       "    'postalCode': '77500',\n",
       "    'cc': 'MX',\n",
       "    'city': 'Cancún',\n",
       "    'state': 'Quintana Roo',\n",
       "    'country': 'México',\n",
       "    'formattedAddress': ['Blvd Kukulkan km 4.5',\n",
       "     '77500 Cancún, Quintana Roo',\n",
       "     'México']},\n",
       "   'categories': [{'id': '4bf58dd8d48988d12f951735',\n",
       "     'name': 'Resort',\n",
       "     'pluralName': 'Resorts',\n",
       "     'shortName': 'Resort',\n",
       "     'icon': {'prefix': 'https://ss3.4sqi.net/img/categories_v2/travel/resort_',\n",
       "      'suffix': '.png'},\n",
       "     'primary': True}],\n",
       "   'referralId': 'v-1572966312',\n",
       "   'hasPerk': False},\n",
       "  {'id': '54bb24fe498ec5c269157873',\n",
       "   'name': 'LiveTulum',\n",
       "   'location': {'lat': 20.212914139059258,\n",
       "    'lng': -87.45425617045103,\n",
       "    'labeledLatLngs': [{'label': 'display',\n",
       "      'lat': 20.212914139059258,\n",
       "      'lng': -87.45425617045103}],\n",
       "    'cc': 'MX',\n",
       "    'city': 'Tulum',\n",
       "    'state': 'Quintana Roo',\n",
       "    'country': 'México',\n",
       "    'formattedAddress': ['Tulum, Quintana Roo', 'México']},\n",
       "   'categories': [{'id': '4bf58dd8d48988d1fa931735',\n",
       "     'name': 'Hotel',\n",
       "     'pluralName': 'Hotels',\n",
       "     'shortName': 'Hotel',\n",
       "     'icon': {'prefix': 'https://ss3.4sqi.net/img/categories_v2/travel/hotel_',\n",
       "      'suffix': '.png'},\n",
       "     'primary': True}],\n",
       "   'referralId': 'v-1572966312',\n",
       "   'hasPerk': False},\n",
       "  {'id': '5878eb216d349d17a0cdcf2b',\n",
       "   'name': 'Aqua Fitness @ Royal Islander Pool',\n",
       "   'location': {'lat': 21.070276,\n",
       "    'lng': -86.776764,\n",
       "    'labeledLatLngs': [{'label': 'display',\n",
       "      'lat': 21.070276,\n",
       "      'lng': -86.776764}],\n",
       "    'cc': 'MX',\n",
       "    'country': 'México',\n",
       "    'formattedAddress': ['México']},\n",
       "   'categories': [{'id': '4bf58dd8d48988d132951735',\n",
       "     'name': 'Hotel Pool',\n",
       "     'pluralName': 'Hotel Pools',\n",
       "     'shortName': 'Pool',\n",
       "     'icon': {'prefix': 'https://ss3.4sqi.net/img/categories_v2/parks_outdoors/pool_',\n",
       "      'suffix': '.png'},\n",
       "     'primary': True}],\n",
       "   'referralId': 'v-1572966312',\n",
       "   'hasPerk': False},\n",
       "  {'id': '5224f0f2049316bf6bce6201',\n",
       "   'name': 'AQUA VIVA',\n",
       "   'location': {'address': 'Calle Tulum, manzana 31, lote 2',\n",
       "    'lat': 20.208763392243874,\n",
       "    'lng': -87.47350931167603,\n",
       "    'labeledLatLngs': [{'label': 'display',\n",
       "      'lat': 20.208763392243874,\n",
       "      'lng': -87.47350931167603}],\n",
       "    'postalCode': '77780',\n",
       "    'cc': 'MX',\n",
       "    'neighborhood': 'Mayapax',\n",
       "    'city': 'Tulum',\n",
       "    'state': 'Quintana Roo',\n",
       "    'country': 'México',\n",
       "    'formattedAddress': ['Calle Tulum, manzana 31, lote 2',\n",
       "     '77780 Tulum, Quintana Roo',\n",
       "     'México']},\n",
       "   'categories': [{'id': '4bf58dd8d48988d12f951735',\n",
       "     'name': 'Resort',\n",
       "     'pluralName': 'Resorts',\n",
       "     'shortName': 'Resort',\n",
       "     'icon': {'prefix': 'https://ss3.4sqi.net/img/categories_v2/travel/resort_',\n",
       "      'suffix': '.png'},\n",
       "     'primary': True}],\n",
       "   'venuePage': {'id': '65784273'},\n",
       "   'referralId': 'v-1572966312',\n",
       "   'hasPerk': False},\n",
       "  {'id': '4d6290d81939a35d4ca739ee',\n",
       "   'name': 'Aqualuna Boutique Hotel',\n",
       "   'location': {'address': '10 Av. Norte 236',\n",
       "    'lat': 20.628907610591686,\n",
       "    'lng': -87.07208091887486,\n",
       "    'labeledLatLngs': [{'label': 'display',\n",
       "      'lat': 20.628907610591686,\n",
       "      'lng': -87.07208091887486}],\n",
       "    'postalCode': '77710',\n",
       "    'cc': 'MX',\n",
       "    'city': 'Playa del Carmen',\n",
       "    'state': 'Quintana Roo',\n",
       "    'country': 'México',\n",
       "    'formattedAddress': ['10 Av. Norte 236',\n",
       "     '77710 Playa del Carmen, Quintana Roo',\n",
       "     'México']},\n",
       "   'categories': [{'id': '4bf58dd8d48988d1fa931735',\n",
       "     'name': 'Hotel',\n",
       "     'pluralName': 'Hotels',\n",
       "     'shortName': 'Hotel',\n",
       "     'icon': {'prefix': 'https://ss3.4sqi.net/img/categories_v2/travel/hotel_',\n",
       "      'suffix': '.png'},\n",
       "     'primary': True}],\n",
       "   'referralId': 'v-1572966312',\n",
       "   'hasPerk': False},\n",
       "  {'id': '58b0e63aa8b75911ad4ff4bd',\n",
       "   'name': 'Aquamarina Suites',\n",
       "   'location': {'address': 'Calle 48',\n",
       "    'crossStreet': 'Av. 10',\n",
       "    'lat': 20.638992,\n",
       "    'lng': -87.06439,\n",
       "    'labeledLatLngs': [{'label': 'display',\n",
       "      'lat': 20.638992,\n",
       "      'lng': -87.06439}],\n",
       "    'cc': 'MX',\n",
       "    'city': 'Playa del Carmen',\n",
       "    'state': 'Quintana Roo',\n",
       "    'country': 'México',\n",
       "    'formattedAddress': ['Calle 48 (Av. 10)',\n",
       "     'Playa del Carmen, Quintana Roo',\n",
       "     'México']},\n",
       "   'categories': [{'id': '56aa371be4b08b9a8d5734e1',\n",
       "     'name': 'Vacation Rental',\n",
       "     'pluralName': 'Vacation Rentals',\n",
       "     'shortName': 'Vacation Rental',\n",
       "     'icon': {'prefix': 'https://ss3.4sqi.net/img/categories_v2/travel/hostel_',\n",
       "      'suffix': '.png'},\n",
       "     'primary': True}],\n",
       "   'referralId': 'v-1572966312',\n",
       "   'hasPerk': False},\n",
       "  {'id': '4c82efa7d92ea093bafb4f72',\n",
       "   'name': 'Cozumel Palace',\n",
       "   'location': {'address': 'Rafael E. Melgar',\n",
       "    'crossStreet': 'at Calle 17 Sur',\n",
       "    'lat': 20.502997921640493,\n",
       "    'lng': -86.95940508686184,\n",
       "    'labeledLatLngs': [{'label': 'display',\n",
       "      'lat': 20.502997921640493,\n",
       "      'lng': -86.95940508686184}],\n",
       "    'postalCode': '77600',\n",
       "    'cc': 'MX',\n",
       "    'city': 'San Miguel',\n",
       "    'state': 'Quintana Roo',\n",
       "    'country': 'México',\n",
       "    'formattedAddress': ['Rafael E. Melgar (at Calle 17 Sur)',\n",
       "     '77600 San Miguel, Quintana Roo',\n",
       "     'México']},\n",
       "   'categories': [{'id': '4bf58dd8d48988d1fa931735',\n",
       "     'name': 'Hotel',\n",
       "     'pluralName': 'Hotels',\n",
       "     'shortName': 'Hotel',\n",
       "     'icon': {'prefix': 'https://ss3.4sqi.net/img/categories_v2/travel/hotel_',\n",
       "      'suffix': '.png'},\n",
       "     'primary': True}],\n",
       "   'referralId': 'v-1572966312',\n",
       "   'hasPerk': False},\n",
       "  {'id': '5012db32e4b08f147bdc7f36',\n",
       "   'name': 'Club Nites Aquamarina',\n",
       "   'location': {'address': 'Kukulkan km 4.5',\n",
       "    'lat': 21.145016140237942,\n",
       "    'lng': -86.79099078751933,\n",
       "    'labeledLatLngs': [{'label': 'display',\n",
       "      'lat': 21.145016140237942,\n",
       "      'lng': -86.79099078751933}],\n",
       "    'postalCode': '77500',\n",
       "    'cc': 'MX',\n",
       "    'city': 'Cancun',\n",
       "    'state': 'QRoo',\n",
       "    'country': 'México',\n",
       "    'formattedAddress': ['Kukulkan km 4.5', '77500 Cancun, QRoo', 'México']},\n",
       "   'categories': [{'id': '4bf58dd8d48988d12f951735',\n",
       "     'name': 'Resort',\n",
       "     'pluralName': 'Resorts',\n",
       "     'shortName': 'Resort',\n",
       "     'icon': {'prefix': 'https://ss3.4sqi.net/img/categories_v2/travel/resort_',\n",
       "      'suffix': '.png'},\n",
       "     'primary': True}],\n",
       "   'referralId': 'v-1572966312',\n",
       "   'hasPerk': False},\n",
       "  {'id': '5109cc63e4b0ca178d0f5eaf',\n",
       "   'name': 'Aquatech Villas DeRosa Resort',\n",
       "   'location': {'lat': 20.37282914277772,\n",
       "    'lng': -87.32786605713729,\n",
       "    'labeledLatLngs': [{'label': 'display',\n",
       "      'lat': 20.37282914277772,\n",
       "      'lng': -87.32786605713729}],\n",
       "    'cc': 'MX',\n",
       "    'city': 'Akumal',\n",
       "    'state': 'Quintana Roo',\n",
       "    'country': 'México',\n",
       "    'formattedAddress': ['Akumal, Quintana Roo', 'México']},\n",
       "   'categories': [{'id': '4bf58dd8d48988d1fa931735',\n",
       "     'name': 'Hotel',\n",
       "     'pluralName': 'Hotels',\n",
       "     'shortName': 'Hotel',\n",
       "     'icon': {'prefix': 'https://ss3.4sqi.net/img/categories_v2/travel/hotel_',\n",
       "      'suffix': '.png'},\n",
       "     'primary': True}],\n",
       "   'referralId': 'v-1572966312',\n",
       "   'hasPerk': False}],\n",
       " 'geocode': {'what': '',\n",
       "  'where': 'playa del carmen',\n",
       "  'feature': {'cc': 'MX',\n",
       "   'name': 'Playa del Carmen',\n",
       "   'displayName': 'Playa del Carmen, QR, Mexico',\n",
       "   'matchedName': 'Playa del Carmen, QR, Mexico',\n",
       "   'highlightedName': '<b>Playa del Carmen</b>, QR, Mexico',\n",
       "   'woeType': 7,\n",
       "   'slug': 'playa-del-carmen-mexico',\n",
       "   'id': 'geonameid:3521342',\n",
       "   'longId': '72057594041449278',\n",
       "   'geometry': {'center': {'lat': 20.6274, 'lng': -87.07987},\n",
       "    'bounds': {'ne': {'lat': 20.709390172856555, 'lng': -87.02172505212904},\n",
       "     'sw': {'lat': 20.600182360272555, 'lng': -87.11403718538024}}}},\n",
       "  'parents': []}}"
      ]
     },
     "execution_count": 4,
     "metadata": {},
     "output_type": "execute_result"
    }
   ],
   "source": [
    "##\n",
    "# Autentication\n",
    "## \n",
    "client = _API_Auth()\n",
    "##\n",
    "# Looking for: \n",
    "# Hotels: using the parameter id to identify hotels -> 4bf58dd8d48988d1fa931735\n",
    "# Query: Use for find considences in the name of the place\n",
    "# Radius: Use a radius of 100,000 meters\n",
    "# Near: Is a parameter to locate a place bases on a general name zone like \"Playa del Carmen\"\n",
    "# Intent: Using the statment \"browse\" you will find all the venues in a entire area\n",
    "##\n",
    "#client.venues.search(params={'query': 'coffee', 'll': '40.7233,-74.0030'})\n",
    "result = client.venues.search(params={'radius':100000,'query': 'Live Aqua', 'near': 'Playa del Carmen','intent':'browse','categoryId':'4bf58dd8d48988d1fa931735'})\n",
    "print('Total venues found: {}'.format(len(result['venues'])))\n",
    "result "
   ]
  },
  {
   "cell_type": "markdown",
   "metadata": {},
   "source": [
    "<div class=\"alert alert-block alert-warning\">\n",
    "    <b><center>Set competitivo LAT 20</center></b>\n",
    "    <b><center>Obtención del set competitivo LAT 20</center></b>\n",
    "</div>"
   ]
  },
  {
   "cell_type": "code",
   "execution_count": 27,
   "metadata": {},
   "outputs": [
    {
     "data": {
      "text/html": [
       "<div>\n",
       "<style scoped>\n",
       "    .dataframe tbody tr th:only-of-type {\n",
       "        vertical-align: middle;\n",
       "    }\n",
       "\n",
       "    .dataframe tbody tr th {\n",
       "        vertical-align: top;\n",
       "    }\n",
       "\n",
       "    .dataframe thead th {\n",
       "        text-align: right;\n",
       "    }\n",
       "</style>\n",
       "<table border=\"1\" class=\"dataframe\">\n",
       "  <thead>\n",
       "    <tr style=\"text-align: right;\">\n",
       "      <th></th>\n",
       "      <th>id</th>\n",
       "      <th>name</th>\n",
       "      <th>categories</th>\n",
       "      <th>referralId</th>\n",
       "      <th>hasPerk</th>\n",
       "      <th>location.address</th>\n",
       "      <th>location.lat</th>\n",
       "      <th>location.lng</th>\n",
       "      <th>location.labeledLatLngs</th>\n",
       "      <th>location.cc</th>\n",
       "      <th>location.city</th>\n",
       "      <th>location.state</th>\n",
       "      <th>location.country</th>\n",
       "      <th>location.formattedAddress</th>\n",
       "      <th>location.postalCode</th>\n",
       "      <th>venuePage.id</th>\n",
       "      <th>location.neighborhood</th>\n",
       "      <th>location.crossStreet</th>\n",
       "    </tr>\n",
       "  </thead>\n",
       "  <tbody>\n",
       "    <tr>\n",
       "      <th>0</th>\n",
       "      <td>5674398a498ec531704cf08a</td>\n",
       "      <td>Lat20 by Live Aqua</td>\n",
       "      <td>{'id': '4bf58dd8d48988d1fa931735', 'name': 'Ho...</td>\n",
       "      <td>v-1572966312</td>\n",
       "      <td>False</td>\n",
       "      <td>5th Ave. btwn 30 and 32 North</td>\n",
       "      <td>20.633132</td>\n",
       "      <td>-87.067261</td>\n",
       "      <td>[{'label': 'display', 'lat': 20.63313226440197...</td>\n",
       "      <td>MX</td>\n",
       "      <td>Playa del Carmen</td>\n",
       "      <td>Quintana Roo</td>\n",
       "      <td>México</td>\n",
       "      <td>[5th Ave. btwn 30 and 32 North, Playa Del Carm...</td>\n",
       "      <td>NaN</td>\n",
       "      <td>NaN</td>\n",
       "      <td>NaN</td>\n",
       "      <td>NaN</td>\n",
       "    </tr>\n",
       "    <tr>\n",
       "      <th>1</th>\n",
       "      <td>577734b8498ee216f9c0100e</td>\n",
       "      <td>Live Aqua Boutique Resort</td>\n",
       "      <td>{'id': '4bf58dd8d48988d1fa931735', 'name': 'Ho...</td>\n",
       "      <td>v-1572966312</td>\n",
       "      <td>False</td>\n",
       "      <td>NaN</td>\n",
       "      <td>20.632754</td>\n",
       "      <td>-87.067409</td>\n",
       "      <td>[{'label': 'display', 'lat': 20.632754, 'lng':...</td>\n",
       "      <td>MX</td>\n",
       "      <td>Playa del Carmen</td>\n",
       "      <td>Quintana Roo</td>\n",
       "      <td>México</td>\n",
       "      <td>[Playa del Carmen, Quintana Roo, México]</td>\n",
       "      <td>NaN</td>\n",
       "      <td>NaN</td>\n",
       "      <td>NaN</td>\n",
       "      <td>NaN</td>\n",
       "    </tr>\n",
       "    <tr>\n",
       "      <th>2</th>\n",
       "      <td>4cbfad58021ca143bdb95d0c</td>\n",
       "      <td>Live Aqua Cancún</td>\n",
       "      <td>{'id': '4bf58dd8d48988d1fa931735', 'name': 'Ho...</td>\n",
       "      <td>v-1572966312</td>\n",
       "      <td>False</td>\n",
       "      <td>Blvd. Kukulcan Km. 12.5</td>\n",
       "      <td>21.107076</td>\n",
       "      <td>-86.763036</td>\n",
       "      <td>[{'label': 'display', 'lat': 21.10707641734735...</td>\n",
       "      <td>MX</td>\n",
       "      <td>Cancún</td>\n",
       "      <td>Quintana Roo</td>\n",
       "      <td>México</td>\n",
       "      <td>[Blvd. Kukulcan Km. 12.5, 77500 Cancún, Quinta...</td>\n",
       "      <td>77500</td>\n",
       "      <td>NaN</td>\n",
       "      <td>NaN</td>\n",
       "      <td>NaN</td>\n",
       "    </tr>\n",
       "    <tr>\n",
       "      <th>3</th>\n",
       "      <td>5ad8fe5967a9fe724446946b</td>\n",
       "      <td>Pool Club Live Aqua</td>\n",
       "      <td>{'id': '4bf58dd8d48988d1fa931735', 'name': 'Ho...</td>\n",
       "      <td>v-1572966312</td>\n",
       "      <td>False</td>\n",
       "      <td>NaN</td>\n",
       "      <td>21.107446</td>\n",
       "      <td>-86.761703</td>\n",
       "      <td>[{'label': 'display', 'lat': 21.107446, 'lng':...</td>\n",
       "      <td>MX</td>\n",
       "      <td>Cancún</td>\n",
       "      <td>QROO</td>\n",
       "      <td>México</td>\n",
       "      <td>[Cancún, QROO, México]</td>\n",
       "      <td>NaN</td>\n",
       "      <td>NaN</td>\n",
       "      <td>NaN</td>\n",
       "      <td>NaN</td>\n",
       "    </tr>\n",
       "    <tr>\n",
       "      <th>4</th>\n",
       "      <td>4dd7c82dfa76ad96d12c8f7c</td>\n",
       "      <td>Siete</td>\n",
       "      <td>{'id': '4bf58dd8d48988d1fa931735', 'name': 'Ho...</td>\n",
       "      <td>v-1572966312</td>\n",
       "      <td>False</td>\n",
       "      <td>Hotel Live Aqua Cancun, Boulevard Kukulkan Km....</td>\n",
       "      <td>21.107331</td>\n",
       "      <td>-86.762244</td>\n",
       "      <td>[{'label': 'display', 'lat': 21.10733076547517...</td>\n",
       "      <td>MX</td>\n",
       "      <td>Cancún</td>\n",
       "      <td>Quintana Roo</td>\n",
       "      <td>México</td>\n",
       "      <td>[Hotel Live Aqua Cancun, Boulevard Kukulkan Km...</td>\n",
       "      <td>77500</td>\n",
       "      <td>NaN</td>\n",
       "      <td>NaN</td>\n",
       "      <td>NaN</td>\n",
       "    </tr>\n",
       "    <tr>\n",
       "      <th>5</th>\n",
       "      <td>4d70d78142b0721e0e978267</td>\n",
       "      <td>Be Live Grand Viva Beach</td>\n",
       "      <td>{'id': '4bf58dd8d48988d1fa931735', 'name': 'Ho...</td>\n",
       "      <td>v-1572966312</td>\n",
       "      <td>False</td>\n",
       "      <td>Blvd. Kukulcan Km. 8</td>\n",
       "      <td>21.137677</td>\n",
       "      <td>-86.752231</td>\n",
       "      <td>[{'label': 'display', 'lat': 21.13767661158181...</td>\n",
       "      <td>MX</td>\n",
       "      <td>Cancún</td>\n",
       "      <td>Quintana Roo</td>\n",
       "      <td>México</td>\n",
       "      <td>[Blvd. Kukulcan Km. 8, 77500 Cancún, Quintana ...</td>\n",
       "      <td>77500</td>\n",
       "      <td>NaN</td>\n",
       "      <td>NaN</td>\n",
       "      <td>NaN</td>\n",
       "    </tr>\n",
       "    <tr>\n",
       "      <th>6</th>\n",
       "      <td>4dc05bd81e72dd48b206efc3</td>\n",
       "      <td>Be Live</td>\n",
       "      <td>{'id': '4bf58dd8d48988d1fa931735', 'name': 'Ho...</td>\n",
       "      <td>v-1572966312</td>\n",
       "      <td>False</td>\n",
       "      <td>Quintana Roo</td>\n",
       "      <td>20.374942</td>\n",
       "      <td>-87.325450</td>\n",
       "      <td>[{'label': 'display', 'lat': 20.37494240521669...</td>\n",
       "      <td>MX</td>\n",
       "      <td>Akumal</td>\n",
       "      <td>Quintana Roo</td>\n",
       "      <td>México</td>\n",
       "      <td>[Quintana Roo, Akumal, Quintana Roo, México]</td>\n",
       "      <td>NaN</td>\n",
       "      <td>NaN</td>\n",
       "      <td>NaN</td>\n",
       "      <td>NaN</td>\n",
       "    </tr>\n",
       "    <tr>\n",
       "      <th>7</th>\n",
       "      <td>4b82c65cf964a52010e430e3</td>\n",
       "      <td>Spa Aqua</td>\n",
       "      <td>{'id': '4bf58dd8d48988d1fa931735', 'name': 'Ho...</td>\n",
       "      <td>v-1572966312</td>\n",
       "      <td>False</td>\n",
       "      <td>Live Aqua</td>\n",
       "      <td>21.107156</td>\n",
       "      <td>-86.762652</td>\n",
       "      <td>[{'label': 'display', 'lat': 21.10715642165452...</td>\n",
       "      <td>MX</td>\n",
       "      <td>Cancún</td>\n",
       "      <td>Quintana Roo</td>\n",
       "      <td>México</td>\n",
       "      <td>[Live Aqua, 77500 Cancún, Quintana Roo, México]</td>\n",
       "      <td>77500</td>\n",
       "      <td>83203244</td>\n",
       "      <td>NaN</td>\n",
       "      <td>NaN</td>\n",
       "    </tr>\n",
       "    <tr>\n",
       "      <th>8</th>\n",
       "      <td>4cedf8e8b80da09303622500</td>\n",
       "      <td>Aquamarinabeach Hotel</td>\n",
       "      <td>{'id': '4bf58dd8d48988d1fa931735', 'name': 'Ho...</td>\n",
       "      <td>v-1572966312</td>\n",
       "      <td>False</td>\n",
       "      <td>Blvd Kukulkan km 4.5</td>\n",
       "      <td>21.146435</td>\n",
       "      <td>-86.790653</td>\n",
       "      <td>[{'label': 'display', 'lat': 21.14643453266052...</td>\n",
       "      <td>MX</td>\n",
       "      <td>Cancún</td>\n",
       "      <td>Quintana Roo</td>\n",
       "      <td>México</td>\n",
       "      <td>[Blvd Kukulkan km 4.5, 77500 Cancún, Quintana ...</td>\n",
       "      <td>77500</td>\n",
       "      <td>NaN</td>\n",
       "      <td>NaN</td>\n",
       "      <td>NaN</td>\n",
       "    </tr>\n",
       "    <tr>\n",
       "      <th>9</th>\n",
       "      <td>54bb24fe498ec5c269157873</td>\n",
       "      <td>LiveTulum</td>\n",
       "      <td>{'id': '4bf58dd8d48988d1fa931735', 'name': 'Ho...</td>\n",
       "      <td>v-1572966312</td>\n",
       "      <td>False</td>\n",
       "      <td>NaN</td>\n",
       "      <td>20.212914</td>\n",
       "      <td>-87.454256</td>\n",
       "      <td>[{'label': 'display', 'lat': 20.21291413905925...</td>\n",
       "      <td>MX</td>\n",
       "      <td>Tulum</td>\n",
       "      <td>Quintana Roo</td>\n",
       "      <td>México</td>\n",
       "      <td>[Tulum, Quintana Roo, México]</td>\n",
       "      <td>NaN</td>\n",
       "      <td>NaN</td>\n",
       "      <td>NaN</td>\n",
       "      <td>NaN</td>\n",
       "    </tr>\n",
       "    <tr>\n",
       "      <th>10</th>\n",
       "      <td>5878eb216d349d17a0cdcf2b</td>\n",
       "      <td>Aqua Fitness @ Royal Islander Pool</td>\n",
       "      <td>{'id': '4bf58dd8d48988d1fa931735', 'name': 'Ho...</td>\n",
       "      <td>v-1572966312</td>\n",
       "      <td>False</td>\n",
       "      <td>NaN</td>\n",
       "      <td>21.070276</td>\n",
       "      <td>-86.776764</td>\n",
       "      <td>[{'label': 'display', 'lat': 21.070276, 'lng':...</td>\n",
       "      <td>MX</td>\n",
       "      <td>NaN</td>\n",
       "      <td>NaN</td>\n",
       "      <td>México</td>\n",
       "      <td>[México]</td>\n",
       "      <td>NaN</td>\n",
       "      <td>NaN</td>\n",
       "      <td>NaN</td>\n",
       "      <td>NaN</td>\n",
       "    </tr>\n",
       "    <tr>\n",
       "      <th>11</th>\n",
       "      <td>5224f0f2049316bf6bce6201</td>\n",
       "      <td>AQUA VIVA</td>\n",
       "      <td>{'id': '4bf58dd8d48988d1fa931735', 'name': 'Ho...</td>\n",
       "      <td>v-1572966312</td>\n",
       "      <td>False</td>\n",
       "      <td>Calle Tulum, manzana 31, lote 2</td>\n",
       "      <td>20.208763</td>\n",
       "      <td>-87.473509</td>\n",
       "      <td>[{'label': 'display', 'lat': 20.20876339224387...</td>\n",
       "      <td>MX</td>\n",
       "      <td>Tulum</td>\n",
       "      <td>Quintana Roo</td>\n",
       "      <td>México</td>\n",
       "      <td>[Calle Tulum, manzana 31, lote 2, 77780 Tulum,...</td>\n",
       "      <td>77780</td>\n",
       "      <td>65784273</td>\n",
       "      <td>Mayapax</td>\n",
       "      <td>NaN</td>\n",
       "    </tr>\n",
       "    <tr>\n",
       "      <th>12</th>\n",
       "      <td>4d6290d81939a35d4ca739ee</td>\n",
       "      <td>Aqualuna Boutique Hotel</td>\n",
       "      <td>{'id': '4bf58dd8d48988d1fa931735', 'name': 'Ho...</td>\n",
       "      <td>v-1572966312</td>\n",
       "      <td>False</td>\n",
       "      <td>10 Av. Norte 236</td>\n",
       "      <td>20.628908</td>\n",
       "      <td>-87.072081</td>\n",
       "      <td>[{'label': 'display', 'lat': 20.62890761059168...</td>\n",
       "      <td>MX</td>\n",
       "      <td>Playa del Carmen</td>\n",
       "      <td>Quintana Roo</td>\n",
       "      <td>México</td>\n",
       "      <td>[10 Av. Norte 236, 77710 Playa del Carmen, Qui...</td>\n",
       "      <td>77710</td>\n",
       "      <td>NaN</td>\n",
       "      <td>NaN</td>\n",
       "      <td>NaN</td>\n",
       "    </tr>\n",
       "    <tr>\n",
       "      <th>13</th>\n",
       "      <td>58b0e63aa8b75911ad4ff4bd</td>\n",
       "      <td>Aquamarina Suites</td>\n",
       "      <td>{'id': '4bf58dd8d48988d1fa931735', 'name': 'Ho...</td>\n",
       "      <td>v-1572966312</td>\n",
       "      <td>False</td>\n",
       "      <td>Calle 48</td>\n",
       "      <td>20.638992</td>\n",
       "      <td>-87.064390</td>\n",
       "      <td>[{'label': 'display', 'lat': 20.638992, 'lng':...</td>\n",
       "      <td>MX</td>\n",
       "      <td>Playa del Carmen</td>\n",
       "      <td>Quintana Roo</td>\n",
       "      <td>México</td>\n",
       "      <td>[Calle 48 (Av. 10), Playa del Carmen, Quintana...</td>\n",
       "      <td>NaN</td>\n",
       "      <td>NaN</td>\n",
       "      <td>NaN</td>\n",
       "      <td>Av. 10</td>\n",
       "    </tr>\n",
       "    <tr>\n",
       "      <th>14</th>\n",
       "      <td>4c82efa7d92ea093bafb4f72</td>\n",
       "      <td>Cozumel Palace</td>\n",
       "      <td>{'id': '4bf58dd8d48988d1fa931735', 'name': 'Ho...</td>\n",
       "      <td>v-1572966312</td>\n",
       "      <td>False</td>\n",
       "      <td>Rafael E. Melgar</td>\n",
       "      <td>20.502998</td>\n",
       "      <td>-86.959405</td>\n",
       "      <td>[{'label': 'display', 'lat': 20.50299792164049...</td>\n",
       "      <td>MX</td>\n",
       "      <td>San Miguel</td>\n",
       "      <td>Quintana Roo</td>\n",
       "      <td>México</td>\n",
       "      <td>[Rafael E. Melgar (at Calle 17 Sur), 77600 San...</td>\n",
       "      <td>77600</td>\n",
       "      <td>NaN</td>\n",
       "      <td>NaN</td>\n",
       "      <td>at Calle 17 Sur</td>\n",
       "    </tr>\n",
       "    <tr>\n",
       "      <th>15</th>\n",
       "      <td>5012db32e4b08f147bdc7f36</td>\n",
       "      <td>Club Nites Aquamarina</td>\n",
       "      <td>{'id': '4bf58dd8d48988d1fa931735', 'name': 'Ho...</td>\n",
       "      <td>v-1572966312</td>\n",
       "      <td>False</td>\n",
       "      <td>Kukulkan km 4.5</td>\n",
       "      <td>21.145016</td>\n",
       "      <td>-86.790991</td>\n",
       "      <td>[{'label': 'display', 'lat': 21.14501614023794...</td>\n",
       "      <td>MX</td>\n",
       "      <td>Cancun</td>\n",
       "      <td>QRoo</td>\n",
       "      <td>México</td>\n",
       "      <td>[Kukulkan km 4.5, 77500 Cancun, QRoo, México]</td>\n",
       "      <td>77500</td>\n",
       "      <td>NaN</td>\n",
       "      <td>NaN</td>\n",
       "      <td>NaN</td>\n",
       "    </tr>\n",
       "    <tr>\n",
       "      <th>16</th>\n",
       "      <td>5109cc63e4b0ca178d0f5eaf</td>\n",
       "      <td>Aquatech Villas DeRosa Resort</td>\n",
       "      <td>{'id': '4bf58dd8d48988d1fa931735', 'name': 'Ho...</td>\n",
       "      <td>v-1572966312</td>\n",
       "      <td>False</td>\n",
       "      <td>NaN</td>\n",
       "      <td>20.372829</td>\n",
       "      <td>-87.327866</td>\n",
       "      <td>[{'label': 'display', 'lat': 20.37282914277772...</td>\n",
       "      <td>MX</td>\n",
       "      <td>Akumal</td>\n",
       "      <td>Quintana Roo</td>\n",
       "      <td>México</td>\n",
       "      <td>[Akumal, Quintana Roo, México]</td>\n",
       "      <td>NaN</td>\n",
       "      <td>NaN</td>\n",
       "      <td>NaN</td>\n",
       "      <td>NaN</td>\n",
       "    </tr>\n",
       "  </tbody>\n",
       "</table>\n",
       "</div>"
      ],
      "text/plain": [
       "                          id                                name  \\\n",
       "0   5674398a498ec531704cf08a                  Lat20 by Live Aqua   \n",
       "1   577734b8498ee216f9c0100e           Live Aqua Boutique Resort   \n",
       "2   4cbfad58021ca143bdb95d0c                    Live Aqua Cancún   \n",
       "3   5ad8fe5967a9fe724446946b                 Pool Club Live Aqua   \n",
       "4   4dd7c82dfa76ad96d12c8f7c                               Siete   \n",
       "5   4d70d78142b0721e0e978267            Be Live Grand Viva Beach   \n",
       "6   4dc05bd81e72dd48b206efc3                             Be Live   \n",
       "7   4b82c65cf964a52010e430e3                            Spa Aqua   \n",
       "8   4cedf8e8b80da09303622500               Aquamarinabeach Hotel   \n",
       "9   54bb24fe498ec5c269157873                           LiveTulum   \n",
       "10  5878eb216d349d17a0cdcf2b  Aqua Fitness @ Royal Islander Pool   \n",
       "11  5224f0f2049316bf6bce6201                           AQUA VIVA   \n",
       "12  4d6290d81939a35d4ca739ee             Aqualuna Boutique Hotel   \n",
       "13  58b0e63aa8b75911ad4ff4bd                   Aquamarina Suites   \n",
       "14  4c82efa7d92ea093bafb4f72                      Cozumel Palace   \n",
       "15  5012db32e4b08f147bdc7f36               Club Nites Aquamarina   \n",
       "16  5109cc63e4b0ca178d0f5eaf       Aquatech Villas DeRosa Resort   \n",
       "\n",
       "                                           categories    referralId  hasPerk  \\\n",
       "0   {'id': '4bf58dd8d48988d1fa931735', 'name': 'Ho...  v-1572966312    False   \n",
       "1   {'id': '4bf58dd8d48988d1fa931735', 'name': 'Ho...  v-1572966312    False   \n",
       "2   {'id': '4bf58dd8d48988d1fa931735', 'name': 'Ho...  v-1572966312    False   \n",
       "3   {'id': '4bf58dd8d48988d1fa931735', 'name': 'Ho...  v-1572966312    False   \n",
       "4   {'id': '4bf58dd8d48988d1fa931735', 'name': 'Ho...  v-1572966312    False   \n",
       "5   {'id': '4bf58dd8d48988d1fa931735', 'name': 'Ho...  v-1572966312    False   \n",
       "6   {'id': '4bf58dd8d48988d1fa931735', 'name': 'Ho...  v-1572966312    False   \n",
       "7   {'id': '4bf58dd8d48988d1fa931735', 'name': 'Ho...  v-1572966312    False   \n",
       "8   {'id': '4bf58dd8d48988d1fa931735', 'name': 'Ho...  v-1572966312    False   \n",
       "9   {'id': '4bf58dd8d48988d1fa931735', 'name': 'Ho...  v-1572966312    False   \n",
       "10  {'id': '4bf58dd8d48988d1fa931735', 'name': 'Ho...  v-1572966312    False   \n",
       "11  {'id': '4bf58dd8d48988d1fa931735', 'name': 'Ho...  v-1572966312    False   \n",
       "12  {'id': '4bf58dd8d48988d1fa931735', 'name': 'Ho...  v-1572966312    False   \n",
       "13  {'id': '4bf58dd8d48988d1fa931735', 'name': 'Ho...  v-1572966312    False   \n",
       "14  {'id': '4bf58dd8d48988d1fa931735', 'name': 'Ho...  v-1572966312    False   \n",
       "15  {'id': '4bf58dd8d48988d1fa931735', 'name': 'Ho...  v-1572966312    False   \n",
       "16  {'id': '4bf58dd8d48988d1fa931735', 'name': 'Ho...  v-1572966312    False   \n",
       "\n",
       "                                     location.address  location.lat  \\\n",
       "0                       5th Ave. btwn 30 and 32 North     20.633132   \n",
       "1                                                 NaN     20.632754   \n",
       "2                             Blvd. Kukulcan Km. 12.5     21.107076   \n",
       "3                                                 NaN     21.107446   \n",
       "4   Hotel Live Aqua Cancun, Boulevard Kukulkan Km....     21.107331   \n",
       "5                                Blvd. Kukulcan Km. 8     21.137677   \n",
       "6                                        Quintana Roo     20.374942   \n",
       "7                                           Live Aqua     21.107156   \n",
       "8                                Blvd Kukulkan km 4.5     21.146435   \n",
       "9                                                 NaN     20.212914   \n",
       "10                                                NaN     21.070276   \n",
       "11                    Calle Tulum, manzana 31, lote 2     20.208763   \n",
       "12                                   10 Av. Norte 236     20.628908   \n",
       "13                                           Calle 48     20.638992   \n",
       "14                                   Rafael E. Melgar     20.502998   \n",
       "15                                    Kukulkan km 4.5     21.145016   \n",
       "16                                                NaN     20.372829   \n",
       "\n",
       "    location.lng                            location.labeledLatLngs  \\\n",
       "0     -87.067261  [{'label': 'display', 'lat': 20.63313226440197...   \n",
       "1     -87.067409  [{'label': 'display', 'lat': 20.632754, 'lng':...   \n",
       "2     -86.763036  [{'label': 'display', 'lat': 21.10707641734735...   \n",
       "3     -86.761703  [{'label': 'display', 'lat': 21.107446, 'lng':...   \n",
       "4     -86.762244  [{'label': 'display', 'lat': 21.10733076547517...   \n",
       "5     -86.752231  [{'label': 'display', 'lat': 21.13767661158181...   \n",
       "6     -87.325450  [{'label': 'display', 'lat': 20.37494240521669...   \n",
       "7     -86.762652  [{'label': 'display', 'lat': 21.10715642165452...   \n",
       "8     -86.790653  [{'label': 'display', 'lat': 21.14643453266052...   \n",
       "9     -87.454256  [{'label': 'display', 'lat': 20.21291413905925...   \n",
       "10    -86.776764  [{'label': 'display', 'lat': 21.070276, 'lng':...   \n",
       "11    -87.473509  [{'label': 'display', 'lat': 20.20876339224387...   \n",
       "12    -87.072081  [{'label': 'display', 'lat': 20.62890761059168...   \n",
       "13    -87.064390  [{'label': 'display', 'lat': 20.638992, 'lng':...   \n",
       "14    -86.959405  [{'label': 'display', 'lat': 20.50299792164049...   \n",
       "15    -86.790991  [{'label': 'display', 'lat': 21.14501614023794...   \n",
       "16    -87.327866  [{'label': 'display', 'lat': 20.37282914277772...   \n",
       "\n",
       "   location.cc     location.city location.state location.country  \\\n",
       "0           MX  Playa del Carmen   Quintana Roo           México   \n",
       "1           MX  Playa del Carmen   Quintana Roo           México   \n",
       "2           MX            Cancún   Quintana Roo           México   \n",
       "3           MX            Cancún           QROO           México   \n",
       "4           MX            Cancún   Quintana Roo           México   \n",
       "5           MX            Cancún   Quintana Roo           México   \n",
       "6           MX            Akumal   Quintana Roo           México   \n",
       "7           MX            Cancún   Quintana Roo           México   \n",
       "8           MX            Cancún   Quintana Roo           México   \n",
       "9           MX             Tulum   Quintana Roo           México   \n",
       "10          MX               NaN            NaN           México   \n",
       "11          MX             Tulum   Quintana Roo           México   \n",
       "12          MX  Playa del Carmen   Quintana Roo           México   \n",
       "13          MX  Playa del Carmen   Quintana Roo           México   \n",
       "14          MX        San Miguel   Quintana Roo           México   \n",
       "15          MX            Cancun           QRoo           México   \n",
       "16          MX            Akumal   Quintana Roo           México   \n",
       "\n",
       "                            location.formattedAddress location.postalCode  \\\n",
       "0   [5th Ave. btwn 30 and 32 North, Playa Del Carm...                 NaN   \n",
       "1            [Playa del Carmen, Quintana Roo, México]                 NaN   \n",
       "2   [Blvd. Kukulcan Km. 12.5, 77500 Cancún, Quinta...               77500   \n",
       "3                              [Cancún, QROO, México]                 NaN   \n",
       "4   [Hotel Live Aqua Cancun, Boulevard Kukulkan Km...               77500   \n",
       "5   [Blvd. Kukulcan Km. 8, 77500 Cancún, Quintana ...               77500   \n",
       "6        [Quintana Roo, Akumal, Quintana Roo, México]                 NaN   \n",
       "7     [Live Aqua, 77500 Cancún, Quintana Roo, México]               77500   \n",
       "8   [Blvd Kukulkan km 4.5, 77500 Cancún, Quintana ...               77500   \n",
       "9                       [Tulum, Quintana Roo, México]                 NaN   \n",
       "10                                           [México]                 NaN   \n",
       "11  [Calle Tulum, manzana 31, lote 2, 77780 Tulum,...               77780   \n",
       "12  [10 Av. Norte 236, 77710 Playa del Carmen, Qui...               77710   \n",
       "13  [Calle 48 (Av. 10), Playa del Carmen, Quintana...                 NaN   \n",
       "14  [Rafael E. Melgar (at Calle 17 Sur), 77600 San...               77600   \n",
       "15      [Kukulkan km 4.5, 77500 Cancun, QRoo, México]               77500   \n",
       "16                     [Akumal, Quintana Roo, México]                 NaN   \n",
       "\n",
       "   venuePage.id location.neighborhood location.crossStreet  \n",
       "0           NaN                   NaN                  NaN  \n",
       "1           NaN                   NaN                  NaN  \n",
       "2           NaN                   NaN                  NaN  \n",
       "3           NaN                   NaN                  NaN  \n",
       "4           NaN                   NaN                  NaN  \n",
       "5           NaN                   NaN                  NaN  \n",
       "6           NaN                   NaN                  NaN  \n",
       "7      83203244                   NaN                  NaN  \n",
       "8           NaN                   NaN                  NaN  \n",
       "9           NaN                   NaN                  NaN  \n",
       "10          NaN                   NaN                  NaN  \n",
       "11     65784273               Mayapax                  NaN  \n",
       "12          NaN                   NaN                  NaN  \n",
       "13          NaN                   NaN               Av. 10  \n",
       "14          NaN                   NaN      at Calle 17 Sur  \n",
       "15          NaN                   NaN                  NaN  \n",
       "16          NaN                   NaN                  NaN  "
      ]
     },
     "execution_count": 27,
     "metadata": {},
     "output_type": "execute_result"
    }
   ],
   "source": [
    "##\n",
    "# Getting the most significant venue, the venue than we were looking for.\n",
    "##\n",
    "result['venues']\n",
    "live_Aqua = json_normalize(result['venues'],max_level=1)\n",
    "live_Aqua['categories'] = pd.DataFrame(live_Aqua['categories'].apply(lambda x:live_Aqua['categories'][0][0]))\n",
    "live_Aqua"
   ]
  },
  {
   "cell_type": "code",
   "execution_count": 26,
   "metadata": {},
   "outputs": [
    {
     "data": {
      "text/plain": [
       "[{'id': '4bf58dd8d48988d1fa931735',\n",
       "  'name': 'Hotel',\n",
       "  'pluralName': 'Hotels',\n",
       "  'shortName': 'Hotel',\n",
       "  'icon': {'prefix': 'https://ss3.4sqi.net/img/categories_v2/travel/hotel_',\n",
       "   'suffix': '.png'},\n",
       "  'primary': True}]"
      ]
     },
     "execution_count": 26,
     "metadata": {},
     "output_type": "execute_result"
    }
   ],
   "source": [
    "other = pd.DataFrame(result['venues'])\n",
    "other[\"location\"] = json_normalize(other[\"location\"])\n",
    "other[\"categories\"][1] \n",
    "#df3 = df2[\"Pollutants\"].apply(pd.Series )"
   ]
  },
  {
   "cell_type": "code",
   "execution_count": 29,
   "metadata": {},
   "outputs": [],
   "source": [
    "details_of_Lat20_by_Live_Aqua = client.venues('5674398a498ec531704cf08a')"
   ]
  },
  {
   "cell_type": "code",
   "execution_count": 30,
   "metadata": {},
   "outputs": [],
   "source": [
    "details_of_Live_Aqua_Boutique_Resort = client.venues('577734b8498ee216f9c0100e')"
   ]
  },
  {
   "cell_type": "code",
   "execution_count": 31,
   "metadata": {},
   "outputs": [
    {
     "name": "stdout",
     "output_type": "stream",
     "text": [
      "Venue ID: 5674398a498ec531704cf08a and ID: 577734b8498ee216f9c0100e\n",
      "Venue name: Lat20 by Live Aqua and name: Live Aqua Boutique Resort\n",
      "Venue contact: {} and contact: {}\n",
      "Venue formattedAddress: ['5th Ave. btwn 30 and 32 North', 'Playa Del Carmen, Quintana Roo', 'México'] and formattedAddress: ['Playa del Carmen, Quintana Roo', 'México']\n",
      "Venue lat-lon: [{'label': 'display', 'lat': 20.63313226440197, 'lng': -87.06726050421692}] and lat-lon: [{'label': 'display', 'lat': 20.632754, 'lng': -87.067409}]\n",
      "Venue tipCount: 18 and tipCount: 1\n",
      "Venue url: http://www.liveaqua.com and url: --\n",
      "Venue likes: 69 Likes and likes: 6 Likes\n",
      "Venue rating: 8.7\n",
      "Venue general opinion: Lots of people like this place\n",
      "Venue description: Deja que tus sentidos descubran el disfrute pleno y vive una experiencia de lujo chic en Lat20 by Live Aqua, inmerso en el ambiente de Playa del Carmen\n",
      "Venue total tips: 18 and total tips: 1\n",
      "Venue opinion: El hotel está bonito y a gusto, la comida y las bebidas ricas pero el servicio es lento.\n",
      "Opinion by: id = 97282865 -- Name = Jorge -- Last Name = Law -- gender = male\n",
      "Venue opinion: La comida riquísima\n",
      "Opinion by: id = 88118566 -- Name = Yasmin -- Last Name = Padron -- gender = female\n",
      "Venue opinion: \n",
      "Opinion by: id = 72296 -- Name = Daniela -- Last Name = Cuevas -- gender = female\n",
      "Venue opinion: \n",
      "Opinion by: id = 194589071 -- Name = Erica -- Last Name = Cortes Lurie -- gender = female\n",
      "Venue opinion: From food to beach to sunset spots😎🌴🍺\n",
      "Opinion by: id = 8275168 -- Name = Ian -- Last Name = Russell -- gender = male\n",
      "Venue opinion: \n",
      "Opinion by: id = 5608188 -- Name = Begüm -- Last Name = Hepelmas -- gender = female\n",
      "\n"
     ]
    }
   ],
   "source": [
    "##\n",
    "# Details of the vanue, I select the two most important vanues on my list\n",
    "##\n",
    "lat20 = details_of_Lat20_by_Live_Aqua\n",
    "labr = details_of_Live_Aqua_Boutique_Resort\n",
    "print('''Venue ID: {} and ID: {}\n",
    "Venue name: {} and name: {}\n",
    "Venue contact: {} and contact: {}\n",
    "Venue formattedAddress: {} and formattedAddress: {}\n",
    "Venue lat-lon: {} and lat-lon: {}\n",
    "Venue tipCount: {} and tipCount: {}\n",
    "Venue url: {} and url: --\n",
    "Venue likes: {} and likes: {}\n",
    "Venue rating: {}\n",
    "Venue general opinion: {}\n",
    "Venue description: {}\n",
    "Venue total tips: {} and total tips: {}\n",
    "Venue opinion: {}\n",
    "Opinion by: id = {} -- Name = {} -- Last Name = {} -- gender = {}\n",
    "Venue opinion: {}\n",
    "Opinion by: id = {} -- Name = {} -- Last Name = {} -- gender = {}\n",
    "Venue opinion: {}\n",
    "Opinion by: id = {} -- Name = {} -- Last Name = {} -- gender = {}\n",
    "Venue opinion: {}\n",
    "Opinion by: id = {} -- Name = {} -- Last Name = {} -- gender = {}\n",
    "Venue opinion: {}\n",
    "Opinion by: id = {} -- Name = {} -- Last Name = {} -- gender = {}\n",
    "Venue opinion: {}\n",
    "Opinion by: id = {} -- Name = {} -- Last Name = {} -- gender = {}\n",
    "'''.format(lat20['venue']['id'],\n",
    "labr['venue']['id'],\n",
    "lat20['venue']['name'],\n",
    "labr['venue']['name'],\n",
    "lat20['venue']['contact'],\n",
    "labr['venue']['contact'],\n",
    "lat20['venue']['location']['formattedAddress'][:],\n",
    "labr['venue']['location']['formattedAddress'][:],\n",
    "lat20['venue']['location']['labeledLatLngs'],\n",
    "labr['venue']['location']['labeledLatLngs'],\n",
    "lat20['venue']['stats']['tipCount'],\n",
    "labr['venue']['stats']['tipCount'],\n",
    "lat20['venue']['url'],\n",
    "lat20['venue']['likes']['summary'],\n",
    "labr['venue']['likes']['summary'],\n",
    "lat20['venue']['rating'],\n",
    "lat20['venue']['reasons']['items'][0]['summary'],\n",
    "lat20['venue']['description'],\n",
    "lat20['venue']['tips']['count'],\n",
    "labr['venue']['tips']['count'],\n",
    "lat20['venue']['tips']['groups'][0]['items'][0]['text'],\n",
    "lat20['venue']['tips']['groups'][0]['items'][0]['user']['id'],\n",
    "lat20['venue']['tips']['groups'][0]['items'][0]['user']['firstName'],\n",
    "lat20['venue']['tips']['groups'][0]['items'][0]['user']['lastName'],\n",
    "lat20['venue']['tips']['groups'][0]['items'][0]['user']['gender'],\n",
    "labr['venue']['tips']['groups'][0]['items'][0]['text'],\n",
    "labr['venue']['tips']['groups'][0]['items'][0]['user']['id'],\n",
    "labr['venue']['tips']['groups'][0]['items'][0]['user']['firstName'],\n",
    "labr['venue']['tips']['groups'][0]['items'][0]['user']['lastName'],\n",
    "labr['venue']['tips']['groups'][0]['items'][0]['user']['gender'],\n",
    "lat20['venue']['listed']['groups'][0]['items'][0]['description'],\n",
    "lat20['venue']['listed']['groups'][0]['items'][0]['user']['id'],\n",
    "lat20['venue']['listed']['groups'][0]['items'][0]['user']['firstName'],\n",
    "lat20['venue']['listed']['groups'][0]['items'][0]['user']['lastName'],\n",
    "lat20['venue']['listed']['groups'][0]['items'][0]['user']['gender'],  \n",
    "lat20['venue']['listed']['groups'][0]['items'][1]['description'],\n",
    "lat20['venue']['listed']['groups'][0]['items'][1]['user']['id'],\n",
    "lat20['venue']['listed']['groups'][0]['items'][1]['user']['firstName'],\n",
    "lat20['venue']['listed']['groups'][0]['items'][1]['user']['lastName'],\n",
    "lat20['venue']['listed']['groups'][0]['items'][1]['user']['gender'],  \n",
    "lat20['venue']['listed']['groups'][0]['items'][2]['description'],\n",
    "lat20['venue']['listed']['groups'][0]['items'][2]['user']['id'],\n",
    "lat20['venue']['listed']['groups'][0]['items'][2]['user']['firstName'],\n",
    "lat20['venue']['listed']['groups'][0]['items'][2]['user']['lastName'],\n",
    "lat20['venue']['listed']['groups'][0]['items'][2]['user']['gender'],\n",
    "lat20['venue']['listed']['groups'][0]['items'][3]['description'],\n",
    "lat20['venue']['listed']['groups'][0]['items'][3]['user']['id'],\n",
    "lat20['venue']['listed']['groups'][0]['items'][3]['user']['firstName'],\n",
    "lat20['venue']['listed']['groups'][0]['items'][3]['user']['lastName'],\n",
    "lat20['venue']['listed']['groups'][0]['items'][3]['user']['gender']))"
   ]
  },
  {
   "cell_type": "code",
   "execution_count": 38,
   "metadata": {},
   "outputs": [
    {
     "data": {
      "text/html": [
       "<div>\n",
       "<style scoped>\n",
       "    .dataframe tbody tr th:only-of-type {\n",
       "        vertical-align: middle;\n",
       "    }\n",
       "\n",
       "    .dataframe tbody tr th {\n",
       "        vertical-align: top;\n",
       "    }\n",
       "\n",
       "    .dataframe thead th {\n",
       "        text-align: right;\n",
       "    }\n",
       "</style>\n",
       "<table border=\"1\" class=\"dataframe\">\n",
       "  <thead>\n",
       "    <tr style=\"text-align: right;\">\n",
       "      <th></th>\n",
       "      <th>id</th>\n",
       "      <th>name</th>\n",
       "      <th>canonicalUrl</th>\n",
       "      <th>categories</th>\n",
       "      <th>verified</th>\n",
       "      <th>url</th>\n",
       "      <th>dislike</th>\n",
       "      <th>ok</th>\n",
       "      <th>rating</th>\n",
       "      <th>ratingColor</th>\n",
       "      <th>...</th>\n",
       "      <th>bestPhoto.prefix</th>\n",
       "      <th>bestPhoto.suffix</th>\n",
       "      <th>bestPhoto.width</th>\n",
       "      <th>bestPhoto.height</th>\n",
       "      <th>bestPhoto.visibility</th>\n",
       "      <th>colors.highlightColor.photoId</th>\n",
       "      <th>colors.highlightColor.value</th>\n",
       "      <th>colors.highlightTextColor.photoId</th>\n",
       "      <th>colors.highlightTextColor.value</th>\n",
       "      <th>colors.algoVersion</th>\n",
       "    </tr>\n",
       "  </thead>\n",
       "  <tbody>\n",
       "    <tr>\n",
       "      <th>0</th>\n",
       "      <td>5674398a498ec531704cf08a</td>\n",
       "      <td>Lat20 by Live Aqua</td>\n",
       "      <td>https://foursquare.com/v/lat20-by-live-aqua/56...</td>\n",
       "      <td>[{'id': '4bf58dd8d48988d1fa931735', 'name': 'H...</td>\n",
       "      <td>True</td>\n",
       "      <td>http://www.liveaqua.com</td>\n",
       "      <td>False</td>\n",
       "      <td>False</td>\n",
       "      <td>8.7</td>\n",
       "      <td>73CF42</td>\n",
       "      <td>...</td>\n",
       "      <td>https://fastly.4sqi.net/img/general/</td>\n",
       "      <td>/156949382_Vtj9vcQJVd39qS3R2TIAUUtFCoTZsNPmmg7...</td>\n",
       "      <td>5200</td>\n",
       "      <td>3461</td>\n",
       "      <td>public</td>\n",
       "      <td>56bcf3d2498e28185afde5ca</td>\n",
       "      <td>-14143416</td>\n",
       "      <td>56bcf3d2498e28185afde5ca</td>\n",
       "      <td>-1</td>\n",
       "      <td>3</td>\n",
       "    </tr>\n",
       "  </tbody>\n",
       "</table>\n",
       "<p>1 rows × 85 columns</p>\n",
       "</div>"
      ],
      "text/plain": [
       "                         id                name  \\\n",
       "0  5674398a498ec531704cf08a  Lat20 by Live Aqua   \n",
       "\n",
       "                                        canonicalUrl  \\\n",
       "0  https://foursquare.com/v/lat20-by-live-aqua/56...   \n",
       "\n",
       "                                          categories  verified  \\\n",
       "0  [{'id': '4bf58dd8d48988d1fa931735', 'name': 'H...      True   \n",
       "\n",
       "                       url  dislike     ok  rating ratingColor  ...  \\\n",
       "0  http://www.liveaqua.com    False  False     8.7      73CF42  ...   \n",
       "\n",
       "                       bestPhoto.prefix  \\\n",
       "0  https://fastly.4sqi.net/img/general/   \n",
       "\n",
       "                                    bestPhoto.suffix bestPhoto.width  \\\n",
       "0  /156949382_Vtj9vcQJVd39qS3R2TIAUUtFCoTZsNPmmg7...            5200   \n",
       "\n",
       "  bestPhoto.height  bestPhoto.visibility colors.highlightColor.photoId  \\\n",
       "0             3461                public      56bcf3d2498e28185afde5ca   \n",
       "\n",
       "  colors.highlightColor.value colors.highlightTextColor.photoId  \\\n",
       "0                   -14143416          56bcf3d2498e28185afde5ca   \n",
       "\n",
       "   colors.highlightTextColor.value  colors.algoVersion  \n",
       "0                               -1                   3  \n",
       "\n",
       "[1 rows x 85 columns]"
      ]
     },
     "execution_count": 38,
     "metadata": {},
     "output_type": "execute_result"
    }
   ],
   "source": [
    "lat20_df = json_normalize(lat20['venue'])\n",
    "lat20_df"
   ]
  },
  {
   "cell_type": "code",
   "execution_count": 39,
   "metadata": {},
   "outputs": [
    {
     "data": {
      "text/html": [
       "<div>\n",
       "<style scoped>\n",
       "    .dataframe tbody tr th:only-of-type {\n",
       "        vertical-align: middle;\n",
       "    }\n",
       "\n",
       "    .dataframe tbody tr th {\n",
       "        vertical-align: top;\n",
       "    }\n",
       "\n",
       "    .dataframe thead th {\n",
       "        text-align: right;\n",
       "    }\n",
       "</style>\n",
       "<table border=\"1\" class=\"dataframe\">\n",
       "  <thead>\n",
       "    <tr style=\"text-align: right;\">\n",
       "      <th></th>\n",
       "      <th>id</th>\n",
       "      <th>name</th>\n",
       "      <th>canonicalUrl</th>\n",
       "      <th>categories</th>\n",
       "      <th>verified</th>\n",
       "      <th>dislike</th>\n",
       "      <th>ok</th>\n",
       "      <th>allowMenuUrlEdit</th>\n",
       "      <th>createdAt</th>\n",
       "      <th>shortUrl</th>\n",
       "      <th>...</th>\n",
       "      <th>attributes.groups</th>\n",
       "      <th>bestPhoto.id</th>\n",
       "      <th>bestPhoto.createdAt</th>\n",
       "      <th>bestPhoto.source.name</th>\n",
       "      <th>bestPhoto.source.url</th>\n",
       "      <th>bestPhoto.prefix</th>\n",
       "      <th>bestPhoto.suffix</th>\n",
       "      <th>bestPhoto.width</th>\n",
       "      <th>bestPhoto.height</th>\n",
       "      <th>bestPhoto.visibility</th>\n",
       "    </tr>\n",
       "  </thead>\n",
       "  <tbody>\n",
       "    <tr>\n",
       "      <th>0</th>\n",
       "      <td>577734b8498ee216f9c0100e</td>\n",
       "      <td>Live Aqua Boutique Resort</td>\n",
       "      <td>https://foursquare.com/v/live-aqua-boutique-re...</td>\n",
       "      <td>[{'id': '4bf58dd8d48988d1fa931735', 'name': 'H...</td>\n",
       "      <td>False</td>\n",
       "      <td>False</td>\n",
       "      <td>False</td>\n",
       "      <td>True</td>\n",
       "      <td>1467430072</td>\n",
       "      <td>http://4sq.com/29781M6</td>\n",
       "      <td>...</td>\n",
       "      <td>[{'type': 'payments', 'name': 'Credit Cards', ...</td>\n",
       "      <td>5cd467c50e3239002b591c99</td>\n",
       "      <td>1557424069</td>\n",
       "      <td>Swarm for iOS</td>\n",
       "      <td>https://www.swarmapp.com</td>\n",
       "      <td>https://fastly.4sqi.net/img/general/</td>\n",
       "      <td>/25566437_0LsUE-n16qAPJ7RCahJHf5Q8IgHvZXfacb4l...</td>\n",
       "      <td>1920</td>\n",
       "      <td>1440</td>\n",
       "      <td>public</td>\n",
       "    </tr>\n",
       "  </tbody>\n",
       "</table>\n",
       "<p>1 rows × 54 columns</p>\n",
       "</div>"
      ],
      "text/plain": [
       "                         id                       name  \\\n",
       "0  577734b8498ee216f9c0100e  Live Aqua Boutique Resort   \n",
       "\n",
       "                                        canonicalUrl  \\\n",
       "0  https://foursquare.com/v/live-aqua-boutique-re...   \n",
       "\n",
       "                                          categories  verified  dislike  \\\n",
       "0  [{'id': '4bf58dd8d48988d1fa931735', 'name': 'H...     False    False   \n",
       "\n",
       "      ok  allowMenuUrlEdit   createdAt                shortUrl  ...  \\\n",
       "0  False              True  1467430072  http://4sq.com/29781M6  ...   \n",
       "\n",
       "                                   attributes.groups  \\\n",
       "0  [{'type': 'payments', 'name': 'Credit Cards', ...   \n",
       "\n",
       "               bestPhoto.id  bestPhoto.createdAt bestPhoto.source.name  \\\n",
       "0  5cd467c50e3239002b591c99           1557424069         Swarm for iOS   \n",
       "\n",
       "       bestPhoto.source.url                      bestPhoto.prefix  \\\n",
       "0  https://www.swarmapp.com  https://fastly.4sqi.net/img/general/   \n",
       "\n",
       "                                    bestPhoto.suffix bestPhoto.width  \\\n",
       "0  /25566437_0LsUE-n16qAPJ7RCahJHf5Q8IgHvZXfacb4l...            1920   \n",
       "\n",
       "  bestPhoto.height  bestPhoto.visibility  \n",
       "0             1440                public  \n",
       "\n",
       "[1 rows x 54 columns]"
      ]
     },
     "execution_count": 39,
     "metadata": {},
     "output_type": "execute_result"
    }
   ],
   "source": [
    "labr_df = json_normalize(labr['venue'])\n",
    "labr_df"
   ]
  },
  {
   "cell_type": "code",
   "execution_count": 40,
   "metadata": {},
   "outputs": [],
   "source": [
    "l20_likes = client.venues.likes('5674398a498ec531704cf08a')"
   ]
  },
  {
   "cell_type": "code",
   "execution_count": 41,
   "metadata": {},
   "outputs": [],
   "source": [
    "labr_likes = client.venues.likes('577734b8498ee216f9c0100e')"
   ]
  },
  {
   "cell_type": "code",
   "execution_count": 42,
   "metadata": {},
   "outputs": [
    {
     "data": {
      "text/html": [
       "<div>\n",
       "<style scoped>\n",
       "    .dataframe tbody tr th:only-of-type {\n",
       "        vertical-align: middle;\n",
       "    }\n",
       "\n",
       "    .dataframe tbody tr th {\n",
       "        vertical-align: top;\n",
       "    }\n",
       "\n",
       "    .dataframe thead th {\n",
       "        text-align: right;\n",
       "    }\n",
       "</style>\n",
       "<table border=\"1\" class=\"dataframe\">\n",
       "  <thead>\n",
       "    <tr style=\"text-align: right;\">\n",
       "      <th></th>\n",
       "      <th>id</th>\n",
       "      <th>firstName</th>\n",
       "      <th>lastName</th>\n",
       "      <th>gender</th>\n",
       "      <th>photo.prefix</th>\n",
       "      <th>photo.suffix</th>\n",
       "      <th>photo.default</th>\n",
       "    </tr>\n",
       "  </thead>\n",
       "  <tbody>\n",
       "    <tr>\n",
       "      <th>0</th>\n",
       "      <td>47972442</td>\n",
       "      <td>Rubén</td>\n",
       "      <td>Rodríguez</td>\n",
       "      <td>male</td>\n",
       "      <td>https://fastly.4sqi.net/img/user/</td>\n",
       "      <td>/blank_boy.png</td>\n",
       "      <td>True</td>\n",
       "    </tr>\n",
       "    <tr>\n",
       "      <th>1</th>\n",
       "      <td>76953200</td>\n",
       "      <td>Luz</td>\n",
       "      <td>Ruiz</td>\n",
       "      <td>female</td>\n",
       "      <td>https://fastly.4sqi.net/img/user/</td>\n",
       "      <td>/76953200-NQUEOZCU1BABJSQW.jpg</td>\n",
       "      <td>NaN</td>\n",
       "    </tr>\n",
       "    <tr>\n",
       "      <th>2</th>\n",
       "      <td>17012106</td>\n",
       "      <td>Ferenc</td>\n",
       "      <td>Chao</td>\n",
       "      <td>male</td>\n",
       "      <td>https://fastly.4sqi.net/img/user/</td>\n",
       "      <td>/17012106-X32WC3CFZOHGM5U4.jpg</td>\n",
       "      <td>NaN</td>\n",
       "    </tr>\n",
       "  </tbody>\n",
       "</table>\n",
       "</div>"
      ],
      "text/plain": [
       "         id firstName   lastName  gender                       photo.prefix  \\\n",
       "0  47972442     Rubén  Rodríguez    male  https://fastly.4sqi.net/img/user/   \n",
       "1  76953200       Luz       Ruiz  female  https://fastly.4sqi.net/img/user/   \n",
       "2  17012106    Ferenc       Chao    male  https://fastly.4sqi.net/img/user/   \n",
       "\n",
       "                     photo.suffix photo.default  \n",
       "0                  /blank_boy.png          True  \n",
       "1  /76953200-NQUEOZCU1BABJSQW.jpg           NaN  \n",
       "2  /17012106-X32WC3CFZOHGM5U4.jpg           NaN  "
      ]
     },
     "execution_count": 42,
     "metadata": {},
     "output_type": "execute_result"
    }
   ],
   "source": [
    "data_likes_1 = json_normalize(l20_likes['likes']['items'])\n",
    "data_likes_1"
   ]
  },
  {
   "cell_type": "code",
   "execution_count": 43,
   "metadata": {},
   "outputs": [
    {
     "data": {
      "text/html": [
       "<div>\n",
       "<style scoped>\n",
       "    .dataframe tbody tr th:only-of-type {\n",
       "        vertical-align: middle;\n",
       "    }\n",
       "\n",
       "    .dataframe tbody tr th {\n",
       "        vertical-align: top;\n",
       "    }\n",
       "\n",
       "    .dataframe thead th {\n",
       "        text-align: right;\n",
       "    }\n",
       "</style>\n",
       "<table border=\"1\" class=\"dataframe\">\n",
       "  <thead>\n",
       "    <tr style=\"text-align: right;\">\n",
       "      <th></th>\n",
       "      <th>id</th>\n",
       "      <th>firstName</th>\n",
       "      <th>lastName</th>\n",
       "      <th>gender</th>\n",
       "      <th>photo.prefix</th>\n",
       "      <th>photo.suffix</th>\n",
       "    </tr>\n",
       "  </thead>\n",
       "  <tbody>\n",
       "    <tr>\n",
       "      <th>0</th>\n",
       "      <td>46160626</td>\n",
       "      <td>David</td>\n",
       "      <td>Agren</td>\n",
       "      <td>male</td>\n",
       "      <td>https://fastly.4sqi.net/img/user/</td>\n",
       "      <td>/5TWS0K0DLOCFAXU2.jpg</td>\n",
       "    </tr>\n",
       "    <tr>\n",
       "      <th>1</th>\n",
       "      <td>25566437</td>\n",
       "      <td>Ainee</td>\n",
       "      <td>Tiny</td>\n",
       "      <td>female</td>\n",
       "      <td>https://fastly.4sqi.net/img/user/</td>\n",
       "      <td>/25566437-BPXU3SOQSREIK3K2.jpg</td>\n",
       "    </tr>\n",
       "    <tr>\n",
       "      <th>2</th>\n",
       "      <td>88118566</td>\n",
       "      <td>Yasmin</td>\n",
       "      <td>Padron</td>\n",
       "      <td>female</td>\n",
       "      <td>https://fastly.4sqi.net/img/user/</td>\n",
       "      <td>/88118566_Es7apYJt_xBWeahIBZt49I8rbKpszFRHBerQ...</td>\n",
       "    </tr>\n",
       "  </tbody>\n",
       "</table>\n",
       "</div>"
      ],
      "text/plain": [
       "         id firstName lastName  gender                       photo.prefix  \\\n",
       "0  46160626     David    Agren    male  https://fastly.4sqi.net/img/user/   \n",
       "1  25566437     Ainee     Tiny  female  https://fastly.4sqi.net/img/user/   \n",
       "2  88118566    Yasmin   Padron  female  https://fastly.4sqi.net/img/user/   \n",
       "\n",
       "                                        photo.suffix  \n",
       "0                              /5TWS0K0DLOCFAXU2.jpg  \n",
       "1                     /25566437-BPXU3SOQSREIK3K2.jpg  \n",
       "2  /88118566_Es7apYJt_xBWeahIBZt49I8rbKpszFRHBerQ...  "
      ]
     },
     "execution_count": 43,
     "metadata": {},
     "output_type": "execute_result"
    }
   ],
   "source": [
    "data_likes_2 = json_normalize(labr_likes['likes']['items'])\n",
    "data_likes_2"
   ]
  },
  {
   "cell_type": "code",
   "execution_count": 2,
   "metadata": {},
   "outputs": [],
   "source": [
    "##################################\n",
    "## FUNCIONES BOOKING   LABRPC   ##\n",
    "##################################\n",
    "dicc_labrpc = {'Usuarios':[],\n",
    "              'Comentarios':[]}\n",
    "df_labrpc = pd.DataFrame.from_dict(dicc_labrpc)\n",
    "dicc_labrpc_v = {'Comentarios':[]}\n",
    "df_labrpc_v = pd.DataFrame.from_dict(dicc_labrpc_v)\n",
    "dicc_labrpc = {'Calificacion':[],\n",
    "              'Puntaje':[]}\n",
    "df_gencom = pd.DataFrame.from_dict(dicc_labrpc)\n",
    "df_gencom_v = pd.DataFrame.from_dict(dicc_labrpc)\n",
    "def scraper_comment(parser_booking,df_labrpc):\n",
    "    usuarios = parser_booking.xpath('//a[contains(@class,\"ui_header_link social-member-event-MemberEventOnObjectBlock__member--35-jC\")]//text()')\n",
    "    comentarios = parser_booking.xpath('//q[contains(@class,\"hotels-review-list-parts-ExpandableReview__reviewText--3oMkH\")]//text()')\n",
    "    url = parser_booking.xpath('//a[contains(@class,\"ui_button nav next primary \")]/@href')\n",
    "    print(\"1. {}\".format(url))\n",
    "    if url == []:\n",
    "        url = parser_booking.xpath('//a[contains(@class,\"nav next taLnk ui_button primary\")]/@href')\n",
    "        if type(url) == list:\n",
    "            url = url[-1]\n",
    "        print(\"2. \"+ url)\n",
    "    else: url = url[-1]\n",
    "    for i in range(len(usuarios)):\n",
    "        dicc = {'Usuarios':usuarios[i],\n",
    "                'Comentarios':comentarios[i]}\n",
    "        df_labrpc = df_labrpc.append(dicc,ignore_index = True)\n",
    "    return df_labrpc,url\n",
    "\n",
    "def scraper_comment_restaurant(parser_booking,df_labrpc):\n",
    "    #usuarios = parser_booking.xpath('//*[@id=\"UID_8FE0F817BA19288406616830E0405317-SRC_716744939\"]/div[2]/div[1]//text()')\n",
    "    comentarios = parser_booking.xpath('//p[contains(@class,\"partial_entry\")]//text()')\n",
    "    #url = parser_booking.xpath('//a[contains(@class,\"ui_button nav next primary \")]/@href')\n",
    "    #if url == []:\n",
    "    #    url = parser_booking.xpath('//a[contains(@class,\"nav next taLnk ui_button primary\")]/@href')\n",
    "    #    if type(url) == list:\n",
    "    #        url = url[-1]\n",
    "    #else: url = url[-1]\n",
    "    url = ''\n",
    "    for i in range(len(comentarios)):\n",
    "        dicc = {'Comentarios':comentarios[i]}\n",
    "        df_labrpc = df_labrpc.append(dicc,ignore_index = True)\n",
    "    return df_labrpc,url\n",
    "\n",
    "def general_info_hotel(parser_booking,df_gencom):\n",
    "    resumen = parser_booking.xpath('//label[contains(@class,\"hotels-review-list-parts-ReviewFilter__row_label--1A-0n\")]//text()')\n",
    "    dat_res = parser_booking.xpath('//span[contains(@class,\"hotels-review-list-parts-ReviewRatingFilter__row_num--gIW_f\")]//text()')\n",
    "    for i in range(5):\n",
    "        dicc = {'Calificacion':resumen[i],\n",
    "                'Puntaje':dat_res[i]}\n",
    "        df_gencom = df_gencom.append(dicc,ignore_index = True)\n",
    "    return df_gencom\n",
    "\n",
    "def competitive_set(driver,parse_booking):\n",
    "    value = driver.find_element_by_xpath('//a[@class=\"cross-sells-shelves-ShelfTitle__title--3b9-Y cross-sells-shelves-ShelfTitle__titleLink--1i9ho\"]')\n",
    "    wait = WebDriverWait(driver, timeout=10).until(\n",
    "        EC.presence_of_all_elements_located(\n",
    "            (By.XPTAH, '//a[@class=\"cross-sells-shelves-ShelfTitle__title--3b9-Y cross-sells-shelves-ShelfTitle__titleLink--1i9ho\"]')))\n",
    "    #Link de los hoteles competitivos a nuestro hotel\n",
    "    #url = parse_booking.xpath('//a[text() = \"Similar(es)\"]/@href') #link al set competitivo\n",
    "    #print(url)\n",
    "    #url_from_autocomplete = 'https://www.tripadvisor.com.mx'+url[-1] #completo url con el link\n",
    "    #page_response  = requests.get(url = url_from_autocomplete, verify=False) #solicito la página\n",
    "    #parser = html.fromstring(page_response.text) #creo el parse de los primeros n_hoteles\n",
    "    html_page = driver.page_source\n",
    "    parser = html.fromstring(html_page)\n",
    "    # Obteniendo el nombre de los hoteles y sus ligas a sus comentarios.\n",
    "    title_list = parser.xpath('//a[contains(@class,\"property_title prominent \")]//text()') #Name for save the dataframe\n",
    "    links_list = parser.xpath('//a[contains(@class,\"review_count\")]/@href') #Link to the general opinions\n",
    "    for index, element in enumerate(title_list): #iterando nombres de los hoteles (titulos)\n",
    "        url_from_autocomplete = 'https://www.tripadvisor.com.mx'+links_list[index] #Construyendo liga a los comentarios de los hoteles\n",
    "        page_response = requests.get(url = url_from_autocomplete, verify=False) #parse de los comentarios de ese hotel\n",
    "        parser = html.fromstring(page_response.text) #Conversion de la página (texto html) a un traductor de nodos\n",
    "        dicc_labrpc = {'Calificacion':[],\n",
    "              'Puntaje':[]}\n",
    "        df_gencom_v = pd.DataFrame.from_dict(dicc_labrpc)\n",
    "        df_gencom_v = general_info_hotel(parser,df_gencom_v)\n",
    "        df_gencom_v.to_csv('./DataPC/'+element+'_General_C.csv',index=False,encoding='utf-8-sig') #Gardado de datos generales\n",
    "        num_max = iter_opinion(parser_booking) #Máximo número de paginaciones\n",
    "        dicc_labrpc = {'Usuarios':[],\n",
    "                      'Comentarios':[]}\n",
    "        df_labrpc_v = pd.DataFrame.from_dict(dicc_labrpc)\n",
    "        for i in range(2,20,1):\n",
    "            parse = _pagination_la(url_from_autocomplete)\n",
    "            df_labrpc_v = scraper_comment(parser,df_labrpc_v) # Guardado de los comentarios\n",
    "        df_labrpc_v.to_csv('./DataPC/'+element+'_Coments.csv',index=False,encoding='utf-8-sig')\n",
    "\n",
    "def iter_opinion(parser_booking):\n",
    "    num = parser_booking.xpath('//a[contains(@class,\"pageNum \")]/@data-page-number')\n",
    "    return int(num[-1])\n",
    "\n",
    "def _pagination_la(url):\n",
    "    \"\"\"Desc: Genera un nueva parser con la URL recibida\n",
    "       Param: \n",
    "           -> url: (srt) next url\n",
    "       Return: \n",
    "           -> parser: (HTML response) new parser\"\"\"\n",
    "    #print('Pagination: ',url)\n",
    "    url_from_autocomplete = 'https://www.tripadvisor.com.mx'+url\n",
    "    print('url 000: '+url_from_autocomplete)\n",
    "    #print(\"Downloading search results page\")\n",
    "    page_response  = requests.get(url = url_from_autocomplete, verify=False)\n",
    "    parser = html.fromstring(page_response.text)\n",
    "    return parser\n",
    "\n",
    "def _pagination_la_grindos(url):\n",
    "    \"\"\"Desc: Genera un nueva parser con la URL recibida\n",
    "       Param: \n",
    "           -> url: (srt) next url\n",
    "       Return: \n",
    "           -> parser: (HTML response) new parser\"\"\"\n",
    "    #print('Pagination: ',url)\n",
    "    url_from_autocomplete = 'https://www.tripadvisor.com'+url\n",
    "    print(url_from_autocomplete)\n",
    "    #print(\"Downloading search results page\")\n",
    "    page_response  = requests.get(url = url_from_autocomplete, verify=False)\n",
    "    parser = html.fromstring(page_response.text)\n",
    "    return parser\n",
    "\n",
    "def _selenium_booking_LABRPC(url): \n",
    "    try:\n",
    "        cap = DesiredCapabilities().FIREFOX\n",
    "        cap[\"marionette\"] = False\n",
    "        driver = webdriver.Firefox(capabilities=cap, executable_path=r'C:\\geckodriver-v0.25.0-win64\\geckodriver.exe')\n",
    "        driver.get(url)\n",
    "        ###\n",
    "        # Función para traerte los comentarios\n",
    "        ###\n",
    "        url = driver.current_url\n",
    "        html_page = driver.page_source\n",
    "        parser_booking = html.fromstring(html_page)\n",
    "        df_gencom_2 = general_info_hotel(parser_booking,df_gencom)\n",
    "        df_comentarios,url = scraper_comment(parser_booking,df_labrpc)\n",
    "        #competitive_set(driver,parser_booking)\n",
    "        num_max = iter_opinion(parser_booking)\n",
    "        for i in range(2,num_max,1):\n",
    "            parse = _pagination_la(url)\n",
    "            df_comentarios,url = scraper_comment(parse,df_comentarios)\n",
    "        return df_gencom_2,df_comentarios\n",
    "    finally: \n",
    "        driver.quit()\n",
    "    return url\n",
    "\n",
    "def _selenium_booking_LABRPC_gringos(url):  #Obtener los comentarios de los gringos\n",
    "    try:\n",
    "        cap = DesiredCapabilities().FIREFOX\n",
    "        cap[\"marionette\"] = False\n",
    "        driver = webdriver.Firefox(capabilities=cap, executable_path=r'C:\\geckodriver-v0.25.0-win64\\geckodriver.exe')\n",
    "        driver.get(url)\n",
    "        ###\n",
    "        # Función para traerte los comentarios\n",
    "        ###\n",
    "        url = driver.current_url\n",
    "        html_page = driver.page_source\n",
    "        parser_booking = html.fromstring(html_page)\n",
    "        #driver.find_element_by_xpath('/html/body/div[2]/div[2]/div[2]/div[6]/div/div[1]/div[1]/div/div/div[3]/div[1]/div[1]/div[4]/ul/li[2]/input\"]').click()# .getAttribute(\"value\");\n",
    "        #driver.manage().timeouts().implicitlyWait(10, TimeUnit.SECONDS);\n",
    "        df_comentarios,url = scraper_comment(parser_booking,df_labrpc)\n",
    "        #competitive_set(driver,parser_booking)\n",
    "        num_max = iter_opinion(parser_booking)\n",
    "        for i in range(2,num_max,1):\n",
    "            parse = _pagination_la_grindos(url)\n",
    "            df_comentarios,url = scraper_comment(parse,df_comentarios)\n",
    "        return df_comentarios\n",
    "    finally: \n",
    "        driver.quit()\n",
    "    return url\n",
    "\n",
    "def _selenium_booking_LABRPC_restaurantes(url):  #Obtener los comentarios de los gringos\n",
    "    #cap = DesiredCapabilities().FIREFOX\n",
    "    #cap[\"marionette\"] = False\n",
    "    #driver = webdriver.Firefox(capabilities=cap, executable_path=r'C:\\geckodriver-v0.25.0-win64\\geckodriver.exe')\n",
    "    #driver.get(url)\n",
    "    ###\n",
    "    # Función para traerte los comentarios\n",
    "    ###\n",
    "    #url = driver.current_url\n",
    "    page_response  = requests.get(url = url, verify=False)\n",
    "    parser_booking = html.fromstring(page_response.text)\n",
    "    #driver.find_element_by_xpath('/html/body/div[2]/div[2]/div[2]/div[6]/div/div[1]/div[1]/div/div/div[3]/div[1]/div[1]/div[4]/ul/li[2]/input\"]').click()# .getAttribute(\"value\");\n",
    "    #driver.manage().timeouts().implicitlyWait(10, TimeUnit.SECONDS);\n",
    "    df_comentarios,_ = scraper_comment_restaurant(parser_booking,df_labrpc_v)\n",
    "    #competitive_set(driver,parser_booking)\n",
    "    num_max = iter_opinion(parser_booking)\n",
    "    print(num_max)\n",
    "    j = 10\n",
    "    print(\"Esta es la url inicial: \",url)\n",
    "    url = url.replace('Reviews-','Reviews-or'+str(j)+'-')\n",
    "    iter_ = iter_opinion(parser_booking)\n",
    "    for i in range(2,iter_,1):\n",
    "        ti.sleep(random.randint(1,5))\n",
    "        #url = 'https://www.tripadvisor.com.mx' + url\n",
    "        print('url 000: '+url)\n",
    "        val = j\n",
    "        #print(\"Downloading search results page\")\n",
    "        page_response  = requests.get(url = url, verify=False)\n",
    "        parser = html.fromstring(page_response.text)\n",
    "        df_comentarios,_ = scraper_comment_restaurant(parser,df_comentarios)\n",
    "        print(\"Esta es mi segunda url: {}\".format(url))\n",
    "        j += 10\n",
    "        url = url.replace('Reviews-or'+str(val)+'-','Reviews-or'+str(j)+'-')\n",
    "    return df_comentarios"
   ]
  },
  {
   "cell_type": "code",
   "execution_count": 6,
   "metadata": {},
   "outputs": [
    {
     "name": "stderr",
     "output_type": "stream",
     "text": [
      "C:\\Users\\israel.vargas\\AppData\\Local\\Continuum\\anaconda3\\envs\\EnvPos\\lib\\site-packages\\urllib3\\connectionpool.py:847: InsecureRequestWarning: Unverified HTTPS request is being made. Adding certificate verification is strongly advised. See: https://urllib3.readthedocs.io/en/latest/advanced-usage.html#ssl-warnings\n",
      "  InsecureRequestWarning)\n"
     ]
    },
    {
     "name": "stdout",
     "output_type": "stream",
     "text": [
      "11\n",
      "Esta es la url inicial:  https://www.tripadvisor.com.mx/Attraction_Review-g150812-d8628350-Reviews-Coralina_Daylight_Club-Playa_del_Carmen_Yucatan_Peninsula.html\n",
      "url 000: https://www.tripadvisor.com.mx/Attraction_Review-g150812-d8628350-Reviews-or10-Coralina_Daylight_Club-Playa_del_Carmen_Yucatan_Peninsula.html\n"
     ]
    },
    {
     "name": "stderr",
     "output_type": "stream",
     "text": [
      "C:\\Users\\israel.vargas\\AppData\\Local\\Continuum\\anaconda3\\envs\\EnvPos\\lib\\site-packages\\urllib3\\connectionpool.py:847: InsecureRequestWarning: Unverified HTTPS request is being made. Adding certificate verification is strongly advised. See: https://urllib3.readthedocs.io/en/latest/advanced-usage.html#ssl-warnings\n",
      "  InsecureRequestWarning)\n"
     ]
    },
    {
     "name": "stdout",
     "output_type": "stream",
     "text": [
      "Esta es mi segunda url: https://www.tripadvisor.com.mx/Attraction_Review-g150812-d8628350-Reviews-or10-Coralina_Daylight_Club-Playa_del_Carmen_Yucatan_Peninsula.html\n",
      "url 000: https://www.tripadvisor.com.mx/Attraction_Review-g150812-d8628350-Reviews-or20-Coralina_Daylight_Club-Playa_del_Carmen_Yucatan_Peninsula.html\n"
     ]
    },
    {
     "name": "stderr",
     "output_type": "stream",
     "text": [
      "C:\\Users\\israel.vargas\\AppData\\Local\\Continuum\\anaconda3\\envs\\EnvPos\\lib\\site-packages\\urllib3\\connectionpool.py:847: InsecureRequestWarning: Unverified HTTPS request is being made. Adding certificate verification is strongly advised. See: https://urllib3.readthedocs.io/en/latest/advanced-usage.html#ssl-warnings\n",
      "  InsecureRequestWarning)\n"
     ]
    },
    {
     "name": "stdout",
     "output_type": "stream",
     "text": [
      "Esta es mi segunda url: https://www.tripadvisor.com.mx/Attraction_Review-g150812-d8628350-Reviews-or20-Coralina_Daylight_Club-Playa_del_Carmen_Yucatan_Peninsula.html\n",
      "url 000: https://www.tripadvisor.com.mx/Attraction_Review-g150812-d8628350-Reviews-or30-Coralina_Daylight_Club-Playa_del_Carmen_Yucatan_Peninsula.html\n"
     ]
    },
    {
     "name": "stderr",
     "output_type": "stream",
     "text": [
      "C:\\Users\\israel.vargas\\AppData\\Local\\Continuum\\anaconda3\\envs\\EnvPos\\lib\\site-packages\\urllib3\\connectionpool.py:847: InsecureRequestWarning: Unverified HTTPS request is being made. Adding certificate verification is strongly advised. See: https://urllib3.readthedocs.io/en/latest/advanced-usage.html#ssl-warnings\n",
      "  InsecureRequestWarning)\n"
     ]
    },
    {
     "name": "stdout",
     "output_type": "stream",
     "text": [
      "Esta es mi segunda url: https://www.tripadvisor.com.mx/Attraction_Review-g150812-d8628350-Reviews-or30-Coralina_Daylight_Club-Playa_del_Carmen_Yucatan_Peninsula.html\n",
      "url 000: https://www.tripadvisor.com.mx/Attraction_Review-g150812-d8628350-Reviews-or40-Coralina_Daylight_Club-Playa_del_Carmen_Yucatan_Peninsula.html\n"
     ]
    },
    {
     "name": "stderr",
     "output_type": "stream",
     "text": [
      "C:\\Users\\israel.vargas\\AppData\\Local\\Continuum\\anaconda3\\envs\\EnvPos\\lib\\site-packages\\urllib3\\connectionpool.py:847: InsecureRequestWarning: Unverified HTTPS request is being made. Adding certificate verification is strongly advised. See: https://urllib3.readthedocs.io/en/latest/advanced-usage.html#ssl-warnings\n",
      "  InsecureRequestWarning)\n"
     ]
    },
    {
     "name": "stdout",
     "output_type": "stream",
     "text": [
      "Esta es mi segunda url: https://www.tripadvisor.com.mx/Attraction_Review-g150812-d8628350-Reviews-or40-Coralina_Daylight_Club-Playa_del_Carmen_Yucatan_Peninsula.html\n",
      "url 000: https://www.tripadvisor.com.mx/Attraction_Review-g150812-d8628350-Reviews-or50-Coralina_Daylight_Club-Playa_del_Carmen_Yucatan_Peninsula.html\n"
     ]
    },
    {
     "name": "stderr",
     "output_type": "stream",
     "text": [
      "C:\\Users\\israel.vargas\\AppData\\Local\\Continuum\\anaconda3\\envs\\EnvPos\\lib\\site-packages\\urllib3\\connectionpool.py:847: InsecureRequestWarning: Unverified HTTPS request is being made. Adding certificate verification is strongly advised. See: https://urllib3.readthedocs.io/en/latest/advanced-usage.html#ssl-warnings\n",
      "  InsecureRequestWarning)\n"
     ]
    },
    {
     "name": "stdout",
     "output_type": "stream",
     "text": [
      "Esta es mi segunda url: https://www.tripadvisor.com.mx/Attraction_Review-g150812-d8628350-Reviews-or50-Coralina_Daylight_Club-Playa_del_Carmen_Yucatan_Peninsula.html\n",
      "url 000: https://www.tripadvisor.com.mx/Attraction_Review-g150812-d8628350-Reviews-or60-Coralina_Daylight_Club-Playa_del_Carmen_Yucatan_Peninsula.html\n"
     ]
    },
    {
     "name": "stderr",
     "output_type": "stream",
     "text": [
      "C:\\Users\\israel.vargas\\AppData\\Local\\Continuum\\anaconda3\\envs\\EnvPos\\lib\\site-packages\\urllib3\\connectionpool.py:847: InsecureRequestWarning: Unverified HTTPS request is being made. Adding certificate verification is strongly advised. See: https://urllib3.readthedocs.io/en/latest/advanced-usage.html#ssl-warnings\n",
      "  InsecureRequestWarning)\n"
     ]
    },
    {
     "name": "stdout",
     "output_type": "stream",
     "text": [
      "Esta es mi segunda url: https://www.tripadvisor.com.mx/Attraction_Review-g150812-d8628350-Reviews-or60-Coralina_Daylight_Club-Playa_del_Carmen_Yucatan_Peninsula.html\n",
      "url 000: https://www.tripadvisor.com.mx/Attraction_Review-g150812-d8628350-Reviews-or70-Coralina_Daylight_Club-Playa_del_Carmen_Yucatan_Peninsula.html\n"
     ]
    },
    {
     "name": "stderr",
     "output_type": "stream",
     "text": [
      "C:\\Users\\israel.vargas\\AppData\\Local\\Continuum\\anaconda3\\envs\\EnvPos\\lib\\site-packages\\urllib3\\connectionpool.py:847: InsecureRequestWarning: Unverified HTTPS request is being made. Adding certificate verification is strongly advised. See: https://urllib3.readthedocs.io/en/latest/advanced-usage.html#ssl-warnings\n",
      "  InsecureRequestWarning)\n"
     ]
    },
    {
     "name": "stdout",
     "output_type": "stream",
     "text": [
      "Esta es mi segunda url: https://www.tripadvisor.com.mx/Attraction_Review-g150812-d8628350-Reviews-or70-Coralina_Daylight_Club-Playa_del_Carmen_Yucatan_Peninsula.html\n",
      "url 000: https://www.tripadvisor.com.mx/Attraction_Review-g150812-d8628350-Reviews-or80-Coralina_Daylight_Club-Playa_del_Carmen_Yucatan_Peninsula.html\n"
     ]
    },
    {
     "name": "stderr",
     "output_type": "stream",
     "text": [
      "C:\\Users\\israel.vargas\\AppData\\Local\\Continuum\\anaconda3\\envs\\EnvPos\\lib\\site-packages\\urllib3\\connectionpool.py:847: InsecureRequestWarning: Unverified HTTPS request is being made. Adding certificate verification is strongly advised. See: https://urllib3.readthedocs.io/en/latest/advanced-usage.html#ssl-warnings\n",
      "  InsecureRequestWarning)\n"
     ]
    },
    {
     "name": "stdout",
     "output_type": "stream",
     "text": [
      "Esta es mi segunda url: https://www.tripadvisor.com.mx/Attraction_Review-g150812-d8628350-Reviews-or80-Coralina_Daylight_Club-Playa_del_Carmen_Yucatan_Peninsula.html\n",
      "url 000: https://www.tripadvisor.com.mx/Attraction_Review-g150812-d8628350-Reviews-or90-Coralina_Daylight_Club-Playa_del_Carmen_Yucatan_Peninsula.html\n"
     ]
    },
    {
     "name": "stderr",
     "output_type": "stream",
     "text": [
      "C:\\Users\\israel.vargas\\AppData\\Local\\Continuum\\anaconda3\\envs\\EnvPos\\lib\\site-packages\\urllib3\\connectionpool.py:847: InsecureRequestWarning: Unverified HTTPS request is being made. Adding certificate verification is strongly advised. See: https://urllib3.readthedocs.io/en/latest/advanced-usage.html#ssl-warnings\n",
      "  InsecureRequestWarning)\n"
     ]
    },
    {
     "name": "stdout",
     "output_type": "stream",
     "text": [
      "Esta es mi segunda url: https://www.tripadvisor.com.mx/Attraction_Review-g150812-d8628350-Reviews-or90-Coralina_Daylight_Club-Playa_del_Carmen_Yucatan_Peninsula.html\n"
     ]
    },
    {
     "name": "stderr",
     "output_type": "stream",
     "text": [
      "C:\\Users\\israel.vargas\\AppData\\Local\\Continuum\\anaconda3\\envs\\EnvPos\\lib\\site-packages\\urllib3\\connectionpool.py:847: InsecureRequestWarning: Unverified HTTPS request is being made. Adding certificate verification is strongly advised. See: https://urllib3.readthedocs.io/en/latest/advanced-usage.html#ssl-warnings\n",
      "  InsecureRequestWarning)\n"
     ]
    },
    {
     "name": "stdout",
     "output_type": "stream",
     "text": [
      "5\n",
      "Esta es la url inicial:  https://www.tripadvisor.com.mx/Attraction_Review-g150812-d7798921-Reviews-Quinta_Alegria_Shopping_Mall-Playa_del_Carmen_Yucatan_Peninsula.html\n",
      "url 000: https://www.tripadvisor.com.mx/Attraction_Review-g150812-d7798921-Reviews-or10-Quinta_Alegria_Shopping_Mall-Playa_del_Carmen_Yucatan_Peninsula.html\n"
     ]
    },
    {
     "name": "stderr",
     "output_type": "stream",
     "text": [
      "C:\\Users\\israel.vargas\\AppData\\Local\\Continuum\\anaconda3\\envs\\EnvPos\\lib\\site-packages\\urllib3\\connectionpool.py:847: InsecureRequestWarning: Unverified HTTPS request is being made. Adding certificate verification is strongly advised. See: https://urllib3.readthedocs.io/en/latest/advanced-usage.html#ssl-warnings\n",
      "  InsecureRequestWarning)\n"
     ]
    },
    {
     "name": "stdout",
     "output_type": "stream",
     "text": [
      "Esta es mi segunda url: https://www.tripadvisor.com.mx/Attraction_Review-g150812-d7798921-Reviews-or10-Quinta_Alegria_Shopping_Mall-Playa_del_Carmen_Yucatan_Peninsula.html\n",
      "url 000: https://www.tripadvisor.com.mx/Attraction_Review-g150812-d7798921-Reviews-or20-Quinta_Alegria_Shopping_Mall-Playa_del_Carmen_Yucatan_Peninsula.html\n"
     ]
    },
    {
     "name": "stderr",
     "output_type": "stream",
     "text": [
      "C:\\Users\\israel.vargas\\AppData\\Local\\Continuum\\anaconda3\\envs\\EnvPos\\lib\\site-packages\\urllib3\\connectionpool.py:847: InsecureRequestWarning: Unverified HTTPS request is being made. Adding certificate verification is strongly advised. See: https://urllib3.readthedocs.io/en/latest/advanced-usage.html#ssl-warnings\n",
      "  InsecureRequestWarning)\n"
     ]
    },
    {
     "name": "stdout",
     "output_type": "stream",
     "text": [
      "Esta es mi segunda url: https://www.tripadvisor.com.mx/Attraction_Review-g150812-d7798921-Reviews-or20-Quinta_Alegria_Shopping_Mall-Playa_del_Carmen_Yucatan_Peninsula.html\n",
      "url 000: https://www.tripadvisor.com.mx/Attraction_Review-g150812-d7798921-Reviews-or30-Quinta_Alegria_Shopping_Mall-Playa_del_Carmen_Yucatan_Peninsula.html\n"
     ]
    },
    {
     "name": "stderr",
     "output_type": "stream",
     "text": [
      "C:\\Users\\israel.vargas\\AppData\\Local\\Continuum\\anaconda3\\envs\\EnvPos\\lib\\site-packages\\urllib3\\connectionpool.py:847: InsecureRequestWarning: Unverified HTTPS request is being made. Adding certificate verification is strongly advised. See: https://urllib3.readthedocs.io/en/latest/advanced-usage.html#ssl-warnings\n",
      "  InsecureRequestWarning)\n"
     ]
    },
    {
     "name": "stdout",
     "output_type": "stream",
     "text": [
      "Esta es mi segunda url: https://www.tripadvisor.com.mx/Attraction_Review-g150812-d7798921-Reviews-or30-Quinta_Alegria_Shopping_Mall-Playa_del_Carmen_Yucatan_Peninsula.html\n"
     ]
    },
    {
     "name": "stderr",
     "output_type": "stream",
     "text": [
      "C:\\Users\\israel.vargas\\AppData\\Local\\Continuum\\anaconda3\\envs\\EnvPos\\lib\\site-packages\\urllib3\\connectionpool.py:847: InsecureRequestWarning: Unverified HTTPS request is being made. Adding certificate verification is strongly advised. See: https://urllib3.readthedocs.io/en/latest/advanced-usage.html#ssl-warnings\n",
      "  InsecureRequestWarning)\n"
     ]
    },
    {
     "name": "stdout",
     "output_type": "stream",
     "text": [
      "14\n",
      "Esta es la url inicial:  https://www.tripadvisor.com.mx/Attraction_Review-g150812-d2096221-Reviews-Kitxen-Playa_del_Carmen_Yucatan_Peninsula.html\n",
      "url 000: https://www.tripadvisor.com.mx/Attraction_Review-g150812-d2096221-Reviews-or10-Kitxen-Playa_del_Carmen_Yucatan_Peninsula.html\n"
     ]
    },
    {
     "name": "stderr",
     "output_type": "stream",
     "text": [
      "C:\\Users\\israel.vargas\\AppData\\Local\\Continuum\\anaconda3\\envs\\EnvPos\\lib\\site-packages\\urllib3\\connectionpool.py:847: InsecureRequestWarning: Unverified HTTPS request is being made. Adding certificate verification is strongly advised. See: https://urllib3.readthedocs.io/en/latest/advanced-usage.html#ssl-warnings\n",
      "  InsecureRequestWarning)\n"
     ]
    },
    {
     "name": "stdout",
     "output_type": "stream",
     "text": [
      "Esta es mi segunda url: https://www.tripadvisor.com.mx/Attraction_Review-g150812-d2096221-Reviews-or10-Kitxen-Playa_del_Carmen_Yucatan_Peninsula.html\n",
      "url 000: https://www.tripadvisor.com.mx/Attraction_Review-g150812-d2096221-Reviews-or20-Kitxen-Playa_del_Carmen_Yucatan_Peninsula.html\n"
     ]
    },
    {
     "name": "stderr",
     "output_type": "stream",
     "text": [
      "C:\\Users\\israel.vargas\\AppData\\Local\\Continuum\\anaconda3\\envs\\EnvPos\\lib\\site-packages\\urllib3\\connectionpool.py:847: InsecureRequestWarning: Unverified HTTPS request is being made. Adding certificate verification is strongly advised. See: https://urllib3.readthedocs.io/en/latest/advanced-usage.html#ssl-warnings\n",
      "  InsecureRequestWarning)\n"
     ]
    },
    {
     "name": "stdout",
     "output_type": "stream",
     "text": [
      "Esta es mi segunda url: https://www.tripadvisor.com.mx/Attraction_Review-g150812-d2096221-Reviews-or20-Kitxen-Playa_del_Carmen_Yucatan_Peninsula.html\n",
      "url 000: https://www.tripadvisor.com.mx/Attraction_Review-g150812-d2096221-Reviews-or30-Kitxen-Playa_del_Carmen_Yucatan_Peninsula.html\n"
     ]
    },
    {
     "name": "stderr",
     "output_type": "stream",
     "text": [
      "C:\\Users\\israel.vargas\\AppData\\Local\\Continuum\\anaconda3\\envs\\EnvPos\\lib\\site-packages\\urllib3\\connectionpool.py:847: InsecureRequestWarning: Unverified HTTPS request is being made. Adding certificate verification is strongly advised. See: https://urllib3.readthedocs.io/en/latest/advanced-usage.html#ssl-warnings\n",
      "  InsecureRequestWarning)\n"
     ]
    },
    {
     "name": "stdout",
     "output_type": "stream",
     "text": [
      "Esta es mi segunda url: https://www.tripadvisor.com.mx/Attraction_Review-g150812-d2096221-Reviews-or30-Kitxen-Playa_del_Carmen_Yucatan_Peninsula.html\n",
      "url 000: https://www.tripadvisor.com.mx/Attraction_Review-g150812-d2096221-Reviews-or40-Kitxen-Playa_del_Carmen_Yucatan_Peninsula.html\n"
     ]
    },
    {
     "name": "stderr",
     "output_type": "stream",
     "text": [
      "C:\\Users\\israel.vargas\\AppData\\Local\\Continuum\\anaconda3\\envs\\EnvPos\\lib\\site-packages\\urllib3\\connectionpool.py:847: InsecureRequestWarning: Unverified HTTPS request is being made. Adding certificate verification is strongly advised. See: https://urllib3.readthedocs.io/en/latest/advanced-usage.html#ssl-warnings\n",
      "  InsecureRequestWarning)\n"
     ]
    },
    {
     "name": "stdout",
     "output_type": "stream",
     "text": [
      "Esta es mi segunda url: https://www.tripadvisor.com.mx/Attraction_Review-g150812-d2096221-Reviews-or40-Kitxen-Playa_del_Carmen_Yucatan_Peninsula.html\n",
      "url 000: https://www.tripadvisor.com.mx/Attraction_Review-g150812-d2096221-Reviews-or50-Kitxen-Playa_del_Carmen_Yucatan_Peninsula.html\n"
     ]
    },
    {
     "name": "stderr",
     "output_type": "stream",
     "text": [
      "C:\\Users\\israel.vargas\\AppData\\Local\\Continuum\\anaconda3\\envs\\EnvPos\\lib\\site-packages\\urllib3\\connectionpool.py:847: InsecureRequestWarning: Unverified HTTPS request is being made. Adding certificate verification is strongly advised. See: https://urllib3.readthedocs.io/en/latest/advanced-usage.html#ssl-warnings\n",
      "  InsecureRequestWarning)\n"
     ]
    },
    {
     "name": "stdout",
     "output_type": "stream",
     "text": [
      "Esta es mi segunda url: https://www.tripadvisor.com.mx/Attraction_Review-g150812-d2096221-Reviews-or50-Kitxen-Playa_del_Carmen_Yucatan_Peninsula.html\n",
      "url 000: https://www.tripadvisor.com.mx/Attraction_Review-g150812-d2096221-Reviews-or60-Kitxen-Playa_del_Carmen_Yucatan_Peninsula.html\n"
     ]
    },
    {
     "name": "stderr",
     "output_type": "stream",
     "text": [
      "C:\\Users\\israel.vargas\\AppData\\Local\\Continuum\\anaconda3\\envs\\EnvPos\\lib\\site-packages\\urllib3\\connectionpool.py:847: InsecureRequestWarning: Unverified HTTPS request is being made. Adding certificate verification is strongly advised. See: https://urllib3.readthedocs.io/en/latest/advanced-usage.html#ssl-warnings\n",
      "  InsecureRequestWarning)\n"
     ]
    },
    {
     "name": "stdout",
     "output_type": "stream",
     "text": [
      "Esta es mi segunda url: https://www.tripadvisor.com.mx/Attraction_Review-g150812-d2096221-Reviews-or60-Kitxen-Playa_del_Carmen_Yucatan_Peninsula.html\n",
      "url 000: https://www.tripadvisor.com.mx/Attraction_Review-g150812-d2096221-Reviews-or70-Kitxen-Playa_del_Carmen_Yucatan_Peninsula.html\n"
     ]
    },
    {
     "name": "stderr",
     "output_type": "stream",
     "text": [
      "C:\\Users\\israel.vargas\\AppData\\Local\\Continuum\\anaconda3\\envs\\EnvPos\\lib\\site-packages\\urllib3\\connectionpool.py:847: InsecureRequestWarning: Unverified HTTPS request is being made. Adding certificate verification is strongly advised. See: https://urllib3.readthedocs.io/en/latest/advanced-usage.html#ssl-warnings\n",
      "  InsecureRequestWarning)\n"
     ]
    },
    {
     "name": "stdout",
     "output_type": "stream",
     "text": [
      "Esta es mi segunda url: https://www.tripadvisor.com.mx/Attraction_Review-g150812-d2096221-Reviews-or70-Kitxen-Playa_del_Carmen_Yucatan_Peninsula.html\n",
      "url 000: https://www.tripadvisor.com.mx/Attraction_Review-g150812-d2096221-Reviews-or80-Kitxen-Playa_del_Carmen_Yucatan_Peninsula.html\n"
     ]
    },
    {
     "name": "stderr",
     "output_type": "stream",
     "text": [
      "C:\\Users\\israel.vargas\\AppData\\Local\\Continuum\\anaconda3\\envs\\EnvPos\\lib\\site-packages\\urllib3\\connectionpool.py:847: InsecureRequestWarning: Unverified HTTPS request is being made. Adding certificate verification is strongly advised. See: https://urllib3.readthedocs.io/en/latest/advanced-usage.html#ssl-warnings\n",
      "  InsecureRequestWarning)\n"
     ]
    },
    {
     "name": "stdout",
     "output_type": "stream",
     "text": [
      "Esta es mi segunda url: https://www.tripadvisor.com.mx/Attraction_Review-g150812-d2096221-Reviews-or80-Kitxen-Playa_del_Carmen_Yucatan_Peninsula.html\n",
      "url 000: https://www.tripadvisor.com.mx/Attraction_Review-g150812-d2096221-Reviews-or90-Kitxen-Playa_del_Carmen_Yucatan_Peninsula.html\n"
     ]
    },
    {
     "name": "stderr",
     "output_type": "stream",
     "text": [
      "C:\\Users\\israel.vargas\\AppData\\Local\\Continuum\\anaconda3\\envs\\EnvPos\\lib\\site-packages\\urllib3\\connectionpool.py:847: InsecureRequestWarning: Unverified HTTPS request is being made. Adding certificate verification is strongly advised. See: https://urllib3.readthedocs.io/en/latest/advanced-usage.html#ssl-warnings\n",
      "  InsecureRequestWarning)\n"
     ]
    },
    {
     "name": "stdout",
     "output_type": "stream",
     "text": [
      "Esta es mi segunda url: https://www.tripadvisor.com.mx/Attraction_Review-g150812-d2096221-Reviews-or90-Kitxen-Playa_del_Carmen_Yucatan_Peninsula.html\n",
      "url 000: https://www.tripadvisor.com.mx/Attraction_Review-g150812-d2096221-Reviews-or100-Kitxen-Playa_del_Carmen_Yucatan_Peninsula.html\n"
     ]
    },
    {
     "name": "stderr",
     "output_type": "stream",
     "text": [
      "C:\\Users\\israel.vargas\\AppData\\Local\\Continuum\\anaconda3\\envs\\EnvPos\\lib\\site-packages\\urllib3\\connectionpool.py:847: InsecureRequestWarning: Unverified HTTPS request is being made. Adding certificate verification is strongly advised. See: https://urllib3.readthedocs.io/en/latest/advanced-usage.html#ssl-warnings\n",
      "  InsecureRequestWarning)\n"
     ]
    },
    {
     "name": "stdout",
     "output_type": "stream",
     "text": [
      "Esta es mi segunda url: https://www.tripadvisor.com.mx/Attraction_Review-g150812-d2096221-Reviews-or100-Kitxen-Playa_del_Carmen_Yucatan_Peninsula.html\n",
      "url 000: https://www.tripadvisor.com.mx/Attraction_Review-g150812-d2096221-Reviews-or110-Kitxen-Playa_del_Carmen_Yucatan_Peninsula.html\n"
     ]
    },
    {
     "name": "stderr",
     "output_type": "stream",
     "text": [
      "C:\\Users\\israel.vargas\\AppData\\Local\\Continuum\\anaconda3\\envs\\EnvPos\\lib\\site-packages\\urllib3\\connectionpool.py:847: InsecureRequestWarning: Unverified HTTPS request is being made. Adding certificate verification is strongly advised. See: https://urllib3.readthedocs.io/en/latest/advanced-usage.html#ssl-warnings\n",
      "  InsecureRequestWarning)\n"
     ]
    },
    {
     "name": "stdout",
     "output_type": "stream",
     "text": [
      "Esta es mi segunda url: https://www.tripadvisor.com.mx/Attraction_Review-g150812-d2096221-Reviews-or110-Kitxen-Playa_del_Carmen_Yucatan_Peninsula.html\n",
      "url 000: https://www.tripadvisor.com.mx/Attraction_Review-g150812-d2096221-Reviews-or120-Kitxen-Playa_del_Carmen_Yucatan_Peninsula.html\n"
     ]
    },
    {
     "name": "stderr",
     "output_type": "stream",
     "text": [
      "C:\\Users\\israel.vargas\\AppData\\Local\\Continuum\\anaconda3\\envs\\EnvPos\\lib\\site-packages\\urllib3\\connectionpool.py:847: InsecureRequestWarning: Unverified HTTPS request is being made. Adding certificate verification is strongly advised. See: https://urllib3.readthedocs.io/en/latest/advanced-usage.html#ssl-warnings\n",
      "  InsecureRequestWarning)\n"
     ]
    },
    {
     "name": "stdout",
     "output_type": "stream",
     "text": [
      "Esta es mi segunda url: https://www.tripadvisor.com.mx/Attraction_Review-g150812-d2096221-Reviews-or120-Kitxen-Playa_del_Carmen_Yucatan_Peninsula.html\n"
     ]
    },
    {
     "name": "stderr",
     "output_type": "stream",
     "text": [
      "C:\\Users\\israel.vargas\\AppData\\Local\\Continuum\\anaconda3\\envs\\EnvPos\\lib\\site-packages\\urllib3\\connectionpool.py:847: InsecureRequestWarning: Unverified HTTPS request is being made. Adding certificate verification is strongly advised. See: https://urllib3.readthedocs.io/en/latest/advanced-usage.html#ssl-warnings\n",
      "  InsecureRequestWarning)\n"
     ]
    },
    {
     "name": "stdout",
     "output_type": "stream",
     "text": [
      "6\n",
      "Esta es la url inicial:  https://www.tripadvisor.com.mx/Attraction_Review-g150812-d7913486-Reviews-Ambarte-Playa_del_Carmen_Yucatan_Peninsula.html\n",
      "url 000: https://www.tripadvisor.com.mx/Attraction_Review-g150812-d7913486-Reviews-or10-Ambarte-Playa_del_Carmen_Yucatan_Peninsula.html\n"
     ]
    },
    {
     "name": "stderr",
     "output_type": "stream",
     "text": [
      "C:\\Users\\israel.vargas\\AppData\\Local\\Continuum\\anaconda3\\envs\\EnvPos\\lib\\site-packages\\urllib3\\connectionpool.py:847: InsecureRequestWarning: Unverified HTTPS request is being made. Adding certificate verification is strongly advised. See: https://urllib3.readthedocs.io/en/latest/advanced-usage.html#ssl-warnings\n",
      "  InsecureRequestWarning)\n"
     ]
    },
    {
     "name": "stdout",
     "output_type": "stream",
     "text": [
      "Esta es mi segunda url: https://www.tripadvisor.com.mx/Attraction_Review-g150812-d7913486-Reviews-or10-Ambarte-Playa_del_Carmen_Yucatan_Peninsula.html\n",
      "url 000: https://www.tripadvisor.com.mx/Attraction_Review-g150812-d7913486-Reviews-or20-Ambarte-Playa_del_Carmen_Yucatan_Peninsula.html\n"
     ]
    },
    {
     "name": "stderr",
     "output_type": "stream",
     "text": [
      "C:\\Users\\israel.vargas\\AppData\\Local\\Continuum\\anaconda3\\envs\\EnvPos\\lib\\site-packages\\urllib3\\connectionpool.py:847: InsecureRequestWarning: Unverified HTTPS request is being made. Adding certificate verification is strongly advised. See: https://urllib3.readthedocs.io/en/latest/advanced-usage.html#ssl-warnings\n",
      "  InsecureRequestWarning)\n"
     ]
    },
    {
     "name": "stdout",
     "output_type": "stream",
     "text": [
      "Esta es mi segunda url: https://www.tripadvisor.com.mx/Attraction_Review-g150812-d7913486-Reviews-or20-Ambarte-Playa_del_Carmen_Yucatan_Peninsula.html\n",
      "url 000: https://www.tripadvisor.com.mx/Attraction_Review-g150812-d7913486-Reviews-or30-Ambarte-Playa_del_Carmen_Yucatan_Peninsula.html\n"
     ]
    },
    {
     "name": "stderr",
     "output_type": "stream",
     "text": [
      "C:\\Users\\israel.vargas\\AppData\\Local\\Continuum\\anaconda3\\envs\\EnvPos\\lib\\site-packages\\urllib3\\connectionpool.py:847: InsecureRequestWarning: Unverified HTTPS request is being made. Adding certificate verification is strongly advised. See: https://urllib3.readthedocs.io/en/latest/advanced-usage.html#ssl-warnings\n",
      "  InsecureRequestWarning)\n"
     ]
    },
    {
     "name": "stdout",
     "output_type": "stream",
     "text": [
      "Esta es mi segunda url: https://www.tripadvisor.com.mx/Attraction_Review-g150812-d7913486-Reviews-or30-Ambarte-Playa_del_Carmen_Yucatan_Peninsula.html\n",
      "url 000: https://www.tripadvisor.com.mx/Attraction_Review-g150812-d7913486-Reviews-or40-Ambarte-Playa_del_Carmen_Yucatan_Peninsula.html\n"
     ]
    },
    {
     "name": "stderr",
     "output_type": "stream",
     "text": [
      "C:\\Users\\israel.vargas\\AppData\\Local\\Continuum\\anaconda3\\envs\\EnvPos\\lib\\site-packages\\urllib3\\connectionpool.py:847: InsecureRequestWarning: Unverified HTTPS request is being made. Adding certificate verification is strongly advised. See: https://urllib3.readthedocs.io/en/latest/advanced-usage.html#ssl-warnings\n",
      "  InsecureRequestWarning)\n"
     ]
    },
    {
     "name": "stdout",
     "output_type": "stream",
     "text": [
      "Esta es mi segunda url: https://www.tripadvisor.com.mx/Attraction_Review-g150812-d7913486-Reviews-or40-Ambarte-Playa_del_Carmen_Yucatan_Peninsula.html\n"
     ]
    }
   ],
   "source": [
    "\"\"\"'Luma taverna del mar',\n",
    "                     '500 Gramos Grill',\n",
    "                     'Rockas Jamaican Kitchen',\n",
    "                     'Micaelas',\n",
    "                     \n",
    "'https://www.tripadvisor.com.mx/Restaurant_Review-g150812-d14074124-Reviews-Luma_taverna_del_mar-Playa_del_Carmen_Yucatan_Peninsula.html',\n",
    "                        'https://www.tripadvisor.com.mx/Restaurant_Review-g150812-d7679509-Reviews-500_Gramos_Grill-Playa_del_Carmen_Yucatan_Peninsula.html',\n",
    "                        'https://www.tripadvisor.com.mx/Restaurant_Review-g150812-d15850267-Reviews-Rockas_Jamaican_Kitchen-Playa_del_Carmen_Yucatan_Peninsula.html',\n",
    "                        'https://www.tripadvisor.com.mx/Restaurant_Review-g150812-d7803096-Reviews-Micaela_s-Playa_del_Carmen_Yucatan_Peninsula.html',\n",
    "                        \"\"\"\n",
    "\n",
    "restaurantes_name = ['Coralina Daylight Club',\n",
    "                     'Quinta Alegria Shopping Mall',\n",
    "                     'Kitxen',\n",
    "                     'Ambarte']\n",
    "restuarantes_lugares = ['https://www.tripadvisor.com.mx/Attraction_Review-g150812-d8628350-Reviews-Coralina_Daylight_Club-Playa_del_Carmen_Yucatan_Peninsula.html',\n",
    "                        'https://www.tripadvisor.com.mx/Attraction_Review-g150812-d7798921-Reviews-Quinta_Alegria_Shopping_Mall-Playa_del_Carmen_Yucatan_Peninsula.html',\n",
    "                        'https://www.tripadvisor.com.mx/Attraction_Review-g150812-d2096221-Reviews-Kitxen-Playa_del_Carmen_Yucatan_Peninsula.html',\n",
    "                        'https://www.tripadvisor.com.mx/Attraction_Review-g150812-d7913486-Reviews-Ambarte-Playa_del_Carmen_Yucatan_Peninsula.html']\n",
    "\n",
    "for i in range(len(restuarantes_lugares)):\n",
    "    df_comentarios = _selenium_booking_LABRPC_restaurantes(restuarantes_lugares[i])\n",
    "    df_comentarios = df_comentarios.replace('\\n','')\n",
    "    # Ubicacion: \n",
    "    # Hoteles cercanos (Primeros 15 hoteles)\n",
    "    # Restaurantes\n",
    "    # Atracciones \n",
    "\n",
    "    # Comentarios\n",
    "    df_comentarios.to_csv('./DataPC/Lugares_'+restaurantes_name[i]+'_Comments.csv',index=False,encoding='utf-8-sig')"
   ]
  },
  {
   "cell_type": "code",
   "execution_count": null,
   "metadata": {},
   "outputs": [],
   "source": [
    "url = 'https://www.tripadvisor.com/Hotel_Review-g150812-d8903733-Reviews-Live_Aqua_Boutique_Resort_Playa_del_Carmen-Playa_del_Carmen_Yucatan_Peninsula.html#REVIEWS'\n",
    "df_comentarios = _selenium_booking_LABRPC_gringos(url)\n",
    "\n",
    "# Ubicacion: \n",
    "    # Hoteles cercanos (Primeros 15 hoteles)\n",
    "    # Restaurantes\n",
    "    # Atracciones\n",
    "\n",
    "# Comentarios\n",
    "df_comentarios.to_csv('./DataPC/'+name[i]+'_Comments_gringos.csv',index=False,encoding='utf-8-sig')"
   ]
  },
  {
   "cell_type": "code",
   "execution_count": 249,
   "metadata": {
    "collapsed": true
   },
   "outputs": [
    {
     "name": "stdout",
     "output_type": "stream",
     "text": [
      "['Excelente', 'Bueno', 'Regular', 'Malo', 'Pésimo', 'Mar-may', 'Jun-ago', 'Sep-nov', 'Dic-feb', 'Familias', 'Parejas', 'Solo', 'Negocios', 'Amigos']\n",
      "['809', '163', '47', '26', '42']\n",
      "https://www.tripadvisor.com.mx/Hotel_Review-g150812-d8903733-Reviews-or5-Live_Aqua_Boutique_Resort_Playa_del_Carmen-Playa_del_Carmen_Yucatan_Peninsula.html\n"
     ]
    },
    {
     "name": "stderr",
     "output_type": "stream",
     "text": [
      "C:\\Users\\israel.vargas\\AppData\\Local\\Continuum\\anaconda3\\envs\\EnvPos\\lib\\site-packages\\urllib3\\connectionpool.py:847: InsecureRequestWarning: Unverified HTTPS request is being made. Adding certificate verification is strongly advised. See: https://urllib3.readthedocs.io/en/latest/advanced-usage.html#ssl-warnings\n",
      "  InsecureRequestWarning)\n"
     ]
    },
    {
     "name": "stdout",
     "output_type": "stream",
     "text": [
      "https://www.tripadvisor.com.mx/Hotel_Review-g150812-d8903733-Reviews-or10-Live_Aqua_Boutique_Resort_Playa_del_Carmen-Playa_del_Carmen_Yucatan_Peninsula.html\n"
     ]
    },
    {
     "name": "stderr",
     "output_type": "stream",
     "text": [
      "C:\\Users\\israel.vargas\\AppData\\Local\\Continuum\\anaconda3\\envs\\EnvPos\\lib\\site-packages\\urllib3\\connectionpool.py:847: InsecureRequestWarning: Unverified HTTPS request is being made. Adding certificate verification is strongly advised. See: https://urllib3.readthedocs.io/en/latest/advanced-usage.html#ssl-warnings\n",
      "  InsecureRequestWarning)\n"
     ]
    },
    {
     "name": "stdout",
     "output_type": "stream",
     "text": [
      "https://www.tripadvisor.com.mx/Hotel_Review-g150812-d8903733-Reviews-or15-Live_Aqua_Boutique_Resort_Playa_del_Carmen-Playa_del_Carmen_Yucatan_Peninsula.html\n"
     ]
    },
    {
     "name": "stderr",
     "output_type": "stream",
     "text": [
      "C:\\Users\\israel.vargas\\AppData\\Local\\Continuum\\anaconda3\\envs\\EnvPos\\lib\\site-packages\\urllib3\\connectionpool.py:847: InsecureRequestWarning: Unverified HTTPS request is being made. Adding certificate verification is strongly advised. See: https://urllib3.readthedocs.io/en/latest/advanced-usage.html#ssl-warnings\n",
      "  InsecureRequestWarning)\n"
     ]
    },
    {
     "name": "stdout",
     "output_type": "stream",
     "text": [
      "https://www.tripadvisor.com.mx/Hotel_Review-g150812-d8903733-Reviews-or20-Live_Aqua_Boutique_Resort_Playa_del_Carmen-Playa_del_Carmen_Yucatan_Peninsula.html\n"
     ]
    },
    {
     "name": "stderr",
     "output_type": "stream",
     "text": [
      "C:\\Users\\israel.vargas\\AppData\\Local\\Continuum\\anaconda3\\envs\\EnvPos\\lib\\site-packages\\urllib3\\connectionpool.py:847: InsecureRequestWarning: Unverified HTTPS request is being made. Adding certificate verification is strongly advised. See: https://urllib3.readthedocs.io/en/latest/advanced-usage.html#ssl-warnings\n",
      "  InsecureRequestWarning)\n"
     ]
    },
    {
     "name": "stdout",
     "output_type": "stream",
     "text": [
      "https://www.tripadvisor.com.mx/Hotel_Review-g150812-d8903733-Reviews-or25-Live_Aqua_Boutique_Resort_Playa_del_Carmen-Playa_del_Carmen_Yucatan_Peninsula.html\n"
     ]
    },
    {
     "name": "stderr",
     "output_type": "stream",
     "text": [
      "C:\\Users\\israel.vargas\\AppData\\Local\\Continuum\\anaconda3\\envs\\EnvPos\\lib\\site-packages\\urllib3\\connectionpool.py:847: InsecureRequestWarning: Unverified HTTPS request is being made. Adding certificate verification is strongly advised. See: https://urllib3.readthedocs.io/en/latest/advanced-usage.html#ssl-warnings\n",
      "  InsecureRequestWarning)\n"
     ]
    },
    {
     "name": "stdout",
     "output_type": "stream",
     "text": [
      "https://www.tripadvisor.com.mx/Hotel_Review-g150812-d8903733-Reviews-or30-Live_Aqua_Boutique_Resort_Playa_del_Carmen-Playa_del_Carmen_Yucatan_Peninsula.html\n"
     ]
    },
    {
     "name": "stderr",
     "output_type": "stream",
     "text": [
      "C:\\Users\\israel.vargas\\AppData\\Local\\Continuum\\anaconda3\\envs\\EnvPos\\lib\\site-packages\\urllib3\\connectionpool.py:847: InsecureRequestWarning: Unverified HTTPS request is being made. Adding certificate verification is strongly advised. See: https://urllib3.readthedocs.io/en/latest/advanced-usage.html#ssl-warnings\n",
      "  InsecureRequestWarning)\n"
     ]
    },
    {
     "name": "stdout",
     "output_type": "stream",
     "text": [
      "https://www.tripadvisor.com.mx/Hotel_Review-g150812-d8903733-Reviews-or35-Live_Aqua_Boutique_Resort_Playa_del_Carmen-Playa_del_Carmen_Yucatan_Peninsula.html\n"
     ]
    },
    {
     "name": "stderr",
     "output_type": "stream",
     "text": [
      "C:\\Users\\israel.vargas\\AppData\\Local\\Continuum\\anaconda3\\envs\\EnvPos\\lib\\site-packages\\urllib3\\connectionpool.py:847: InsecureRequestWarning: Unverified HTTPS request is being made. Adding certificate verification is strongly advised. See: https://urllib3.readthedocs.io/en/latest/advanced-usage.html#ssl-warnings\n",
      "  InsecureRequestWarning)\n"
     ]
    },
    {
     "name": "stdout",
     "output_type": "stream",
     "text": [
      "https://www.tripadvisor.com.mx/Hotel_Review-g150812-d8903733-Reviews-or40-Live_Aqua_Boutique_Resort_Playa_del_Carmen-Playa_del_Carmen_Yucatan_Peninsula.html\n"
     ]
    },
    {
     "name": "stderr",
     "output_type": "stream",
     "text": [
      "C:\\Users\\israel.vargas\\AppData\\Local\\Continuum\\anaconda3\\envs\\EnvPos\\lib\\site-packages\\urllib3\\connectionpool.py:847: InsecureRequestWarning: Unverified HTTPS request is being made. Adding certificate verification is strongly advised. See: https://urllib3.readthedocs.io/en/latest/advanced-usage.html#ssl-warnings\n",
      "  InsecureRequestWarning)\n"
     ]
    },
    {
     "name": "stdout",
     "output_type": "stream",
     "text": [
      "https://www.tripadvisor.com.mx/Hotel_Review-g150812-d8903733-Reviews-or45-Live_Aqua_Boutique_Resort_Playa_del_Carmen-Playa_del_Carmen_Yucatan_Peninsula.html\n"
     ]
    },
    {
     "name": "stderr",
     "output_type": "stream",
     "text": [
      "C:\\Users\\israel.vargas\\AppData\\Local\\Continuum\\anaconda3\\envs\\EnvPos\\lib\\site-packages\\urllib3\\connectionpool.py:847: InsecureRequestWarning: Unverified HTTPS request is being made. Adding certificate verification is strongly advised. See: https://urllib3.readthedocs.io/en/latest/advanced-usage.html#ssl-warnings\n",
      "  InsecureRequestWarning)\n"
     ]
    },
    {
     "name": "stdout",
     "output_type": "stream",
     "text": [
      "https://www.tripadvisor.com.mx/Hotel_Review-g150812-d8903733-Reviews-or50-Live_Aqua_Boutique_Resort_Playa_del_Carmen-Playa_del_Carmen_Yucatan_Peninsula.html\n"
     ]
    },
    {
     "name": "stderr",
     "output_type": "stream",
     "text": [
      "C:\\Users\\israel.vargas\\AppData\\Local\\Continuum\\anaconda3\\envs\\EnvPos\\lib\\site-packages\\urllib3\\connectionpool.py:847: InsecureRequestWarning: Unverified HTTPS request is being made. Adding certificate verification is strongly advised. See: https://urllib3.readthedocs.io/en/latest/advanced-usage.html#ssl-warnings\n",
      "  InsecureRequestWarning)\n"
     ]
    },
    {
     "name": "stdout",
     "output_type": "stream",
     "text": [
      "https://www.tripadvisor.com.mx/Hotel_Review-g150812-d8903733-Reviews-or55-Live_Aqua_Boutique_Resort_Playa_del_Carmen-Playa_del_Carmen_Yucatan_Peninsula.html\n"
     ]
    },
    {
     "name": "stderr",
     "output_type": "stream",
     "text": [
      "C:\\Users\\israel.vargas\\AppData\\Local\\Continuum\\anaconda3\\envs\\EnvPos\\lib\\site-packages\\urllib3\\connectionpool.py:847: InsecureRequestWarning: Unverified HTTPS request is being made. Adding certificate verification is strongly advised. See: https://urllib3.readthedocs.io/en/latest/advanced-usage.html#ssl-warnings\n",
      "  InsecureRequestWarning)\n"
     ]
    },
    {
     "name": "stdout",
     "output_type": "stream",
     "text": [
      "https://www.tripadvisor.com.mx/Hotel_Review-g150812-d8903733-Reviews-or60-Live_Aqua_Boutique_Resort_Playa_del_Carmen-Playa_del_Carmen_Yucatan_Peninsula.html\n"
     ]
    },
    {
     "name": "stderr",
     "output_type": "stream",
     "text": [
      "C:\\Users\\israel.vargas\\AppData\\Local\\Continuum\\anaconda3\\envs\\EnvPos\\lib\\site-packages\\urllib3\\connectionpool.py:847: InsecureRequestWarning: Unverified HTTPS request is being made. Adding certificate verification is strongly advised. See: https://urllib3.readthedocs.io/en/latest/advanced-usage.html#ssl-warnings\n",
      "  InsecureRequestWarning)\n"
     ]
    },
    {
     "name": "stdout",
     "output_type": "stream",
     "text": [
      "https://www.tripadvisor.com.mx/Hotel_Review-g150812-d8903733-Reviews-or65-Live_Aqua_Boutique_Resort_Playa_del_Carmen-Playa_del_Carmen_Yucatan_Peninsula.html\n"
     ]
    },
    {
     "name": "stderr",
     "output_type": "stream",
     "text": [
      "C:\\Users\\israel.vargas\\AppData\\Local\\Continuum\\anaconda3\\envs\\EnvPos\\lib\\site-packages\\urllib3\\connectionpool.py:847: InsecureRequestWarning: Unverified HTTPS request is being made. Adding certificate verification is strongly advised. See: https://urllib3.readthedocs.io/en/latest/advanced-usage.html#ssl-warnings\n",
      "  InsecureRequestWarning)\n"
     ]
    },
    {
     "name": "stdout",
     "output_type": "stream",
     "text": [
      "https://www.tripadvisor.com.mx/Hotel_Review-g150812-d8903733-Reviews-or70-Live_Aqua_Boutique_Resort_Playa_del_Carmen-Playa_del_Carmen_Yucatan_Peninsula.html\n"
     ]
    },
    {
     "name": "stderr",
     "output_type": "stream",
     "text": [
      "C:\\Users\\israel.vargas\\AppData\\Local\\Continuum\\anaconda3\\envs\\EnvPos\\lib\\site-packages\\urllib3\\connectionpool.py:847: InsecureRequestWarning: Unverified HTTPS request is being made. Adding certificate verification is strongly advised. See: https://urllib3.readthedocs.io/en/latest/advanced-usage.html#ssl-warnings\n",
      "  InsecureRequestWarning)\n"
     ]
    },
    {
     "name": "stdout",
     "output_type": "stream",
     "text": [
      "https://www.tripadvisor.com.mx/Hotel_Review-g150812-d8903733-Reviews-or75-Live_Aqua_Boutique_Resort_Playa_del_Carmen-Playa_del_Carmen_Yucatan_Peninsula.html\n"
     ]
    },
    {
     "name": "stderr",
     "output_type": "stream",
     "text": [
      "C:\\Users\\israel.vargas\\AppData\\Local\\Continuum\\anaconda3\\envs\\EnvPos\\lib\\site-packages\\urllib3\\connectionpool.py:847: InsecureRequestWarning: Unverified HTTPS request is being made. Adding certificate verification is strongly advised. See: https://urllib3.readthedocs.io/en/latest/advanced-usage.html#ssl-warnings\n",
      "  InsecureRequestWarning)\n"
     ]
    },
    {
     "name": "stdout",
     "output_type": "stream",
     "text": [
      "https://www.tripadvisor.com.mx/Hotel_Review-g150812-d8903733-Reviews-or80-Live_Aqua_Boutique_Resort_Playa_del_Carmen-Playa_del_Carmen_Yucatan_Peninsula.html\n"
     ]
    },
    {
     "name": "stderr",
     "output_type": "stream",
     "text": [
      "C:\\Users\\israel.vargas\\AppData\\Local\\Continuum\\anaconda3\\envs\\EnvPos\\lib\\site-packages\\urllib3\\connectionpool.py:847: InsecureRequestWarning: Unverified HTTPS request is being made. Adding certificate verification is strongly advised. See: https://urllib3.readthedocs.io/en/latest/advanced-usage.html#ssl-warnings\n",
      "  InsecureRequestWarning)\n"
     ]
    },
    {
     "name": "stdout",
     "output_type": "stream",
     "text": [
      "https://www.tripadvisor.com.mx/Hotel_Review-g150812-d8903733-Reviews-or85-Live_Aqua_Boutique_Resort_Playa_del_Carmen-Playa_del_Carmen_Yucatan_Peninsula.html\n"
     ]
    },
    {
     "name": "stderr",
     "output_type": "stream",
     "text": [
      "C:\\Users\\israel.vargas\\AppData\\Local\\Continuum\\anaconda3\\envs\\EnvPos\\lib\\site-packages\\urllib3\\connectionpool.py:847: InsecureRequestWarning: Unverified HTTPS request is being made. Adding certificate verification is strongly advised. See: https://urllib3.readthedocs.io/en/latest/advanced-usage.html#ssl-warnings\n",
      "  InsecureRequestWarning)\n"
     ]
    },
    {
     "name": "stdout",
     "output_type": "stream",
     "text": [
      "https://www.tripadvisor.com.mx/Hotel_Review-g150812-d8903733-Reviews-or90-Live_Aqua_Boutique_Resort_Playa_del_Carmen-Playa_del_Carmen_Yucatan_Peninsula.html\n"
     ]
    },
    {
     "name": "stderr",
     "output_type": "stream",
     "text": [
      "C:\\Users\\israel.vargas\\AppData\\Local\\Continuum\\anaconda3\\envs\\EnvPos\\lib\\site-packages\\urllib3\\connectionpool.py:847: InsecureRequestWarning: Unverified HTTPS request is being made. Adding certificate verification is strongly advised. See: https://urllib3.readthedocs.io/en/latest/advanced-usage.html#ssl-warnings\n",
      "  InsecureRequestWarning)\n"
     ]
    },
    {
     "name": "stdout",
     "output_type": "stream",
     "text": [
      "[WinError 145] The directory is not empty: 'C:\\\\Users\\\\ISRAEL~1.VAR\\\\AppData\\\\Local\\\\Temp\\\\tmpuc2zlj3w\\\\cache2\\\\entries'\n",
      "['Excelente', 'Bueno', 'Regular', 'Malo', 'Pésimo', 'Mar-may', 'Jun-ago', 'Sep-nov', 'Dic-feb', 'Familias', 'Parejas', 'Solo', 'Negocios', 'Amigos']\n",
      "['474', '194', '39', '18', '15']\n",
      "https://www.tripadvisor.com.mx/Hotel_Review-g150812-d10540838-Reviews-or5-Fiesta_Inn_Playa_Del_Carmen-Playa_del_Carmen_Yucatan_Peninsula.html\n"
     ]
    },
    {
     "name": "stderr",
     "output_type": "stream",
     "text": [
      "C:\\Users\\israel.vargas\\AppData\\Local\\Continuum\\anaconda3\\envs\\EnvPos\\lib\\site-packages\\urllib3\\connectionpool.py:847: InsecureRequestWarning: Unverified HTTPS request is being made. Adding certificate verification is strongly advised. See: https://urllib3.readthedocs.io/en/latest/advanced-usage.html#ssl-warnings\n",
      "  InsecureRequestWarning)\n"
     ]
    },
    {
     "name": "stdout",
     "output_type": "stream",
     "text": [
      "https://www.tripadvisor.com.mx/Hotel_Review-g150812-d10540838-Reviews-or10-Fiesta_Inn_Playa_Del_Carmen-Playa_del_Carmen_Yucatan_Peninsula.html\n"
     ]
    },
    {
     "name": "stderr",
     "output_type": "stream",
     "text": [
      "C:\\Users\\israel.vargas\\AppData\\Local\\Continuum\\anaconda3\\envs\\EnvPos\\lib\\site-packages\\urllib3\\connectionpool.py:847: InsecureRequestWarning: Unverified HTTPS request is being made. Adding certificate verification is strongly advised. See: https://urllib3.readthedocs.io/en/latest/advanced-usage.html#ssl-warnings\n",
      "  InsecureRequestWarning)\n"
     ]
    },
    {
     "name": "stdout",
     "output_type": "stream",
     "text": [
      "https://www.tripadvisor.com.mx/Hotel_Review-g150812-d10540838-Reviews-or15-Fiesta_Inn_Playa_Del_Carmen-Playa_del_Carmen_Yucatan_Peninsula.html\n"
     ]
    },
    {
     "name": "stderr",
     "output_type": "stream",
     "text": [
      "C:\\Users\\israel.vargas\\AppData\\Local\\Continuum\\anaconda3\\envs\\EnvPos\\lib\\site-packages\\urllib3\\connectionpool.py:847: InsecureRequestWarning: Unverified HTTPS request is being made. Adding certificate verification is strongly advised. See: https://urllib3.readthedocs.io/en/latest/advanced-usage.html#ssl-warnings\n",
      "  InsecureRequestWarning)\n"
     ]
    },
    {
     "name": "stdout",
     "output_type": "stream",
     "text": [
      "https://www.tripadvisor.com.mx/Hotel_Review-g150812-d10540838-Reviews-or20-Fiesta_Inn_Playa_Del_Carmen-Playa_del_Carmen_Yucatan_Peninsula.html\n"
     ]
    },
    {
     "name": "stderr",
     "output_type": "stream",
     "text": [
      "C:\\Users\\israel.vargas\\AppData\\Local\\Continuum\\anaconda3\\envs\\EnvPos\\lib\\site-packages\\urllib3\\connectionpool.py:847: InsecureRequestWarning: Unverified HTTPS request is being made. Adding certificate verification is strongly advised. See: https://urllib3.readthedocs.io/en/latest/advanced-usage.html#ssl-warnings\n",
      "  InsecureRequestWarning)\n"
     ]
    },
    {
     "name": "stdout",
     "output_type": "stream",
     "text": [
      "https://www.tripadvisor.com.mx/Hotel_Review-g150812-d10540838-Reviews-or25-Fiesta_Inn_Playa_Del_Carmen-Playa_del_Carmen_Yucatan_Peninsula.html\n"
     ]
    },
    {
     "name": "stderr",
     "output_type": "stream",
     "text": [
      "C:\\Users\\israel.vargas\\AppData\\Local\\Continuum\\anaconda3\\envs\\EnvPos\\lib\\site-packages\\urllib3\\connectionpool.py:847: InsecureRequestWarning: Unverified HTTPS request is being made. Adding certificate verification is strongly advised. See: https://urllib3.readthedocs.io/en/latest/advanced-usage.html#ssl-warnings\n",
      "  InsecureRequestWarning)\n"
     ]
    },
    {
     "name": "stdout",
     "output_type": "stream",
     "text": [
      "https://www.tripadvisor.com.mx/Hotel_Review-g150812-d10540838-Reviews-or30-Fiesta_Inn_Playa_Del_Carmen-Playa_del_Carmen_Yucatan_Peninsula.html\n"
     ]
    },
    {
     "name": "stderr",
     "output_type": "stream",
     "text": [
      "C:\\Users\\israel.vargas\\AppData\\Local\\Continuum\\anaconda3\\envs\\EnvPos\\lib\\site-packages\\urllib3\\connectionpool.py:847: InsecureRequestWarning: Unverified HTTPS request is being made. Adding certificate verification is strongly advised. See: https://urllib3.readthedocs.io/en/latest/advanced-usage.html#ssl-warnings\n",
      "  InsecureRequestWarning)\n"
     ]
    },
    {
     "name": "stdout",
     "output_type": "stream",
     "text": [
      "https://www.tripadvisor.com.mx/Hotel_Review-g150812-d10540838-Reviews-or35-Fiesta_Inn_Playa_Del_Carmen-Playa_del_Carmen_Yucatan_Peninsula.html\n"
     ]
    },
    {
     "name": "stderr",
     "output_type": "stream",
     "text": [
      "C:\\Users\\israel.vargas\\AppData\\Local\\Continuum\\anaconda3\\envs\\EnvPos\\lib\\site-packages\\urllib3\\connectionpool.py:847: InsecureRequestWarning: Unverified HTTPS request is being made. Adding certificate verification is strongly advised. See: https://urllib3.readthedocs.io/en/latest/advanced-usage.html#ssl-warnings\n",
      "  InsecureRequestWarning)\n"
     ]
    },
    {
     "name": "stdout",
     "output_type": "stream",
     "text": [
      "https://www.tripadvisor.com.mx/Hotel_Review-g150812-d10540838-Reviews-or40-Fiesta_Inn_Playa_Del_Carmen-Playa_del_Carmen_Yucatan_Peninsula.html\n"
     ]
    },
    {
     "name": "stderr",
     "output_type": "stream",
     "text": [
      "C:\\Users\\israel.vargas\\AppData\\Local\\Continuum\\anaconda3\\envs\\EnvPos\\lib\\site-packages\\urllib3\\connectionpool.py:847: InsecureRequestWarning: Unverified HTTPS request is being made. Adding certificate verification is strongly advised. See: https://urllib3.readthedocs.io/en/latest/advanced-usage.html#ssl-warnings\n",
      "  InsecureRequestWarning)\n"
     ]
    },
    {
     "name": "stdout",
     "output_type": "stream",
     "text": [
      "https://www.tripadvisor.com.mx/Hotel_Review-g150812-d10540838-Reviews-or45-Fiesta_Inn_Playa_Del_Carmen-Playa_del_Carmen_Yucatan_Peninsula.html\n"
     ]
    },
    {
     "name": "stderr",
     "output_type": "stream",
     "text": [
      "C:\\Users\\israel.vargas\\AppData\\Local\\Continuum\\anaconda3\\envs\\EnvPos\\lib\\site-packages\\urllib3\\connectionpool.py:847: InsecureRequestWarning: Unverified HTTPS request is being made. Adding certificate verification is strongly advised. See: https://urllib3.readthedocs.io/en/latest/advanced-usage.html#ssl-warnings\n",
      "  InsecureRequestWarning)\n"
     ]
    },
    {
     "name": "stdout",
     "output_type": "stream",
     "text": [
      "https://www.tripadvisor.com.mx/Hotel_Review-g150812-d10540838-Reviews-or50-Fiesta_Inn_Playa_Del_Carmen-Playa_del_Carmen_Yucatan_Peninsula.html\n"
     ]
    },
    {
     "name": "stderr",
     "output_type": "stream",
     "text": [
      "C:\\Users\\israel.vargas\\AppData\\Local\\Continuum\\anaconda3\\envs\\EnvPos\\lib\\site-packages\\urllib3\\connectionpool.py:847: InsecureRequestWarning: Unverified HTTPS request is being made. Adding certificate verification is strongly advised. See: https://urllib3.readthedocs.io/en/latest/advanced-usage.html#ssl-warnings\n",
      "  InsecureRequestWarning)\n"
     ]
    },
    {
     "name": "stdout",
     "output_type": "stream",
     "text": [
      "https://www.tripadvisor.com.mx/Hotel_Review-g150812-d10540838-Reviews-or55-Fiesta_Inn_Playa_Del_Carmen-Playa_del_Carmen_Yucatan_Peninsula.html\n"
     ]
    },
    {
     "name": "stderr",
     "output_type": "stream",
     "text": [
      "C:\\Users\\israel.vargas\\AppData\\Local\\Continuum\\anaconda3\\envs\\EnvPos\\lib\\site-packages\\urllib3\\connectionpool.py:847: InsecureRequestWarning: Unverified HTTPS request is being made. Adding certificate verification is strongly advised. See: https://urllib3.readthedocs.io/en/latest/advanced-usage.html#ssl-warnings\n",
      "  InsecureRequestWarning)\n"
     ]
    },
    {
     "name": "stdout",
     "output_type": "stream",
     "text": [
      "https://www.tripadvisor.com.mx/Hotel_Review-g150812-d10540838-Reviews-or60-Fiesta_Inn_Playa_Del_Carmen-Playa_del_Carmen_Yucatan_Peninsula.html\n"
     ]
    },
    {
     "name": "stderr",
     "output_type": "stream",
     "text": [
      "C:\\Users\\israel.vargas\\AppData\\Local\\Continuum\\anaconda3\\envs\\EnvPos\\lib\\site-packages\\urllib3\\connectionpool.py:847: InsecureRequestWarning: Unverified HTTPS request is being made. Adding certificate verification is strongly advised. See: https://urllib3.readthedocs.io/en/latest/advanced-usage.html#ssl-warnings\n",
      "  InsecureRequestWarning)\n"
     ]
    },
    {
     "name": "stdout",
     "output_type": "stream",
     "text": [
      "https://www.tripadvisor.com.mx/Hotel_Review-g150812-d10540838-Reviews-or65-Fiesta_Inn_Playa_Del_Carmen-Playa_del_Carmen_Yucatan_Peninsula.html\n"
     ]
    },
    {
     "name": "stderr",
     "output_type": "stream",
     "text": [
      "C:\\Users\\israel.vargas\\AppData\\Local\\Continuum\\anaconda3\\envs\\EnvPos\\lib\\site-packages\\urllib3\\connectionpool.py:847: InsecureRequestWarning: Unverified HTTPS request is being made. Adding certificate verification is strongly advised. See: https://urllib3.readthedocs.io/en/latest/advanced-usage.html#ssl-warnings\n",
      "  InsecureRequestWarning)\n"
     ]
    },
    {
     "name": "stdout",
     "output_type": "stream",
     "text": [
      "https://www.tripadvisor.com.mx/Hotel_Review-g150812-d10540838-Reviews-or70-Fiesta_Inn_Playa_Del_Carmen-Playa_del_Carmen_Yucatan_Peninsula.html\n"
     ]
    },
    {
     "name": "stderr",
     "output_type": "stream",
     "text": [
      "C:\\Users\\israel.vargas\\AppData\\Local\\Continuum\\anaconda3\\envs\\EnvPos\\lib\\site-packages\\urllib3\\connectionpool.py:847: InsecureRequestWarning: Unverified HTTPS request is being made. Adding certificate verification is strongly advised. See: https://urllib3.readthedocs.io/en/latest/advanced-usage.html#ssl-warnings\n",
      "  InsecureRequestWarning)\n"
     ]
    },
    {
     "name": "stdout",
     "output_type": "stream",
     "text": [
      "https://www.tripadvisor.com.mx/Hotel_Review-g150812-d10540838-Reviews-or75-Fiesta_Inn_Playa_Del_Carmen-Playa_del_Carmen_Yucatan_Peninsula.html\n"
     ]
    },
    {
     "name": "stderr",
     "output_type": "stream",
     "text": [
      "C:\\Users\\israel.vargas\\AppData\\Local\\Continuum\\anaconda3\\envs\\EnvPos\\lib\\site-packages\\urllib3\\connectionpool.py:847: InsecureRequestWarning: Unverified HTTPS request is being made. Adding certificate verification is strongly advised. See: https://urllib3.readthedocs.io/en/latest/advanced-usage.html#ssl-warnings\n",
      "  InsecureRequestWarning)\n"
     ]
    },
    {
     "name": "stdout",
     "output_type": "stream",
     "text": [
      "https://www.tripadvisor.com.mx/Hotel_Review-g150812-d10540838-Reviews-or80-Fiesta_Inn_Playa_Del_Carmen-Playa_del_Carmen_Yucatan_Peninsula.html\n"
     ]
    },
    {
     "name": "stderr",
     "output_type": "stream",
     "text": [
      "C:\\Users\\israel.vargas\\AppData\\Local\\Continuum\\anaconda3\\envs\\EnvPos\\lib\\site-packages\\urllib3\\connectionpool.py:847: InsecureRequestWarning: Unverified HTTPS request is being made. Adding certificate verification is strongly advised. See: https://urllib3.readthedocs.io/en/latest/advanced-usage.html#ssl-warnings\n",
      "  InsecureRequestWarning)\n"
     ]
    },
    {
     "name": "stdout",
     "output_type": "stream",
     "text": [
      "https://www.tripadvisor.com.mx/Hotel_Review-g150812-d10540838-Reviews-or85-Fiesta_Inn_Playa_Del_Carmen-Playa_del_Carmen_Yucatan_Peninsula.html\n"
     ]
    },
    {
     "name": "stderr",
     "output_type": "stream",
     "text": [
      "C:\\Users\\israel.vargas\\AppData\\Local\\Continuum\\anaconda3\\envs\\EnvPos\\lib\\site-packages\\urllib3\\connectionpool.py:847: InsecureRequestWarning: Unverified HTTPS request is being made. Adding certificate verification is strongly advised. See: https://urllib3.readthedocs.io/en/latest/advanced-usage.html#ssl-warnings\n",
      "  InsecureRequestWarning)\n"
     ]
    },
    {
     "name": "stdout",
     "output_type": "stream",
     "text": [
      "https://www.tripadvisor.com.mx/Hotel_Review-g150812-d10540838-Reviews-or90-Fiesta_Inn_Playa_Del_Carmen-Playa_del_Carmen_Yucatan_Peninsula.html\n"
     ]
    },
    {
     "name": "stderr",
     "output_type": "stream",
     "text": [
      "C:\\Users\\israel.vargas\\AppData\\Local\\Continuum\\anaconda3\\envs\\EnvPos\\lib\\site-packages\\urllib3\\connectionpool.py:847: InsecureRequestWarning: Unverified HTTPS request is being made. Adding certificate verification is strongly advised. See: https://urllib3.readthedocs.io/en/latest/advanced-usage.html#ssl-warnings\n",
      "  InsecureRequestWarning)\n"
     ]
    },
    {
     "name": "stdout",
     "output_type": "stream",
     "text": [
      "[WinError 145] The directory is not empty: 'C:\\\\Users\\\\ISRAEL~1.VAR\\\\AppData\\\\Local\\\\Temp\\\\tmp9ws6gm88\\\\cache2\\\\entries'\n",
      "['Excelente', 'Bueno', 'Regular', 'Malo', 'Pésimo', 'Mar-may', 'Jun-ago', 'Sep-nov', 'Dic-feb', 'Familias', 'Parejas', 'Solo', 'Negocios', 'Amigos']\n",
      "['410', '365', '98', '30', '42']\n",
      "https://www.tripadvisor.com.mx/Hotel_Review-g150812-d1789781-Reviews-or5-One_Playa_Del_Carmen-Playa_del_Carmen_Yucatan_Peninsula.html\n"
     ]
    },
    {
     "name": "stderr",
     "output_type": "stream",
     "text": [
      "C:\\Users\\israel.vargas\\AppData\\Local\\Continuum\\anaconda3\\envs\\EnvPos\\lib\\site-packages\\urllib3\\connectionpool.py:847: InsecureRequestWarning: Unverified HTTPS request is being made. Adding certificate verification is strongly advised. See: https://urllib3.readthedocs.io/en/latest/advanced-usage.html#ssl-warnings\n",
      "  InsecureRequestWarning)\n"
     ]
    },
    {
     "name": "stdout",
     "output_type": "stream",
     "text": [
      "https://www.tripadvisor.com.mx/Hotel_Review-g150812-d1789781-Reviews-or10-One_Playa_Del_Carmen-Playa_del_Carmen_Yucatan_Peninsula.html\n"
     ]
    },
    {
     "name": "stderr",
     "output_type": "stream",
     "text": [
      "C:\\Users\\israel.vargas\\AppData\\Local\\Continuum\\anaconda3\\envs\\EnvPos\\lib\\site-packages\\urllib3\\connectionpool.py:847: InsecureRequestWarning: Unverified HTTPS request is being made. Adding certificate verification is strongly advised. See: https://urllib3.readthedocs.io/en/latest/advanced-usage.html#ssl-warnings\n",
      "  InsecureRequestWarning)\n"
     ]
    },
    {
     "name": "stdout",
     "output_type": "stream",
     "text": [
      "https://www.tripadvisor.com.mx/Hotel_Review-g150812-d1789781-Reviews-or15-One_Playa_Del_Carmen-Playa_del_Carmen_Yucatan_Peninsula.html\n"
     ]
    },
    {
     "name": "stderr",
     "output_type": "stream",
     "text": [
      "C:\\Users\\israel.vargas\\AppData\\Local\\Continuum\\anaconda3\\envs\\EnvPos\\lib\\site-packages\\urllib3\\connectionpool.py:847: InsecureRequestWarning: Unverified HTTPS request is being made. Adding certificate verification is strongly advised. See: https://urllib3.readthedocs.io/en/latest/advanced-usage.html#ssl-warnings\n",
      "  InsecureRequestWarning)\n"
     ]
    },
    {
     "name": "stdout",
     "output_type": "stream",
     "text": [
      "https://www.tripadvisor.com.mx/Hotel_Review-g150812-d1789781-Reviews-or20-One_Playa_Del_Carmen-Playa_del_Carmen_Yucatan_Peninsula.html\n"
     ]
    },
    {
     "name": "stderr",
     "output_type": "stream",
     "text": [
      "C:\\Users\\israel.vargas\\AppData\\Local\\Continuum\\anaconda3\\envs\\EnvPos\\lib\\site-packages\\urllib3\\connectionpool.py:847: InsecureRequestWarning: Unverified HTTPS request is being made. Adding certificate verification is strongly advised. See: https://urllib3.readthedocs.io/en/latest/advanced-usage.html#ssl-warnings\n",
      "  InsecureRequestWarning)\n"
     ]
    },
    {
     "name": "stdout",
     "output_type": "stream",
     "text": [
      "https://www.tripadvisor.com.mx/Hotel_Review-g150812-d1789781-Reviews-or25-One_Playa_Del_Carmen-Playa_del_Carmen_Yucatan_Peninsula.html\n"
     ]
    },
    {
     "name": "stderr",
     "output_type": "stream",
     "text": [
      "C:\\Users\\israel.vargas\\AppData\\Local\\Continuum\\anaconda3\\envs\\EnvPos\\lib\\site-packages\\urllib3\\connectionpool.py:847: InsecureRequestWarning: Unverified HTTPS request is being made. Adding certificate verification is strongly advised. See: https://urllib3.readthedocs.io/en/latest/advanced-usage.html#ssl-warnings\n",
      "  InsecureRequestWarning)\n"
     ]
    },
    {
     "name": "stdout",
     "output_type": "stream",
     "text": [
      "https://www.tripadvisor.com.mx/Hotel_Review-g150812-d1789781-Reviews-or30-One_Playa_Del_Carmen-Playa_del_Carmen_Yucatan_Peninsula.html\n"
     ]
    },
    {
     "name": "stderr",
     "output_type": "stream",
     "text": [
      "C:\\Users\\israel.vargas\\AppData\\Local\\Continuum\\anaconda3\\envs\\EnvPos\\lib\\site-packages\\urllib3\\connectionpool.py:847: InsecureRequestWarning: Unverified HTTPS request is being made. Adding certificate verification is strongly advised. See: https://urllib3.readthedocs.io/en/latest/advanced-usage.html#ssl-warnings\n",
      "  InsecureRequestWarning)\n"
     ]
    },
    {
     "name": "stdout",
     "output_type": "stream",
     "text": [
      "https://www.tripadvisor.com.mx/Hotel_Review-g150812-d1789781-Reviews-or35-One_Playa_Del_Carmen-Playa_del_Carmen_Yucatan_Peninsula.html\n"
     ]
    },
    {
     "name": "stderr",
     "output_type": "stream",
     "text": [
      "C:\\Users\\israel.vargas\\AppData\\Local\\Continuum\\anaconda3\\envs\\EnvPos\\lib\\site-packages\\urllib3\\connectionpool.py:847: InsecureRequestWarning: Unverified HTTPS request is being made. Adding certificate verification is strongly advised. See: https://urllib3.readthedocs.io/en/latest/advanced-usage.html#ssl-warnings\n",
      "  InsecureRequestWarning)\n"
     ]
    },
    {
     "name": "stdout",
     "output_type": "stream",
     "text": [
      "https://www.tripadvisor.com.mx/Hotel_Review-g150812-d1789781-Reviews-or40-One_Playa_Del_Carmen-Playa_del_Carmen_Yucatan_Peninsula.html\n"
     ]
    },
    {
     "name": "stderr",
     "output_type": "stream",
     "text": [
      "C:\\Users\\israel.vargas\\AppData\\Local\\Continuum\\anaconda3\\envs\\EnvPos\\lib\\site-packages\\urllib3\\connectionpool.py:847: InsecureRequestWarning: Unverified HTTPS request is being made. Adding certificate verification is strongly advised. See: https://urllib3.readthedocs.io/en/latest/advanced-usage.html#ssl-warnings\n",
      "  InsecureRequestWarning)\n"
     ]
    },
    {
     "name": "stdout",
     "output_type": "stream",
     "text": [
      "https://www.tripadvisor.com.mx/Hotel_Review-g150812-d1789781-Reviews-or45-One_Playa_Del_Carmen-Playa_del_Carmen_Yucatan_Peninsula.html\n"
     ]
    },
    {
     "name": "stderr",
     "output_type": "stream",
     "text": [
      "C:\\Users\\israel.vargas\\AppData\\Local\\Continuum\\anaconda3\\envs\\EnvPos\\lib\\site-packages\\urllib3\\connectionpool.py:847: InsecureRequestWarning: Unverified HTTPS request is being made. Adding certificate verification is strongly advised. See: https://urllib3.readthedocs.io/en/latest/advanced-usage.html#ssl-warnings\n",
      "  InsecureRequestWarning)\n"
     ]
    },
    {
     "name": "stdout",
     "output_type": "stream",
     "text": [
      "https://www.tripadvisor.com.mx/Hotel_Review-g150812-d1789781-Reviews-or50-One_Playa_Del_Carmen-Playa_del_Carmen_Yucatan_Peninsula.html\n"
     ]
    },
    {
     "name": "stderr",
     "output_type": "stream",
     "text": [
      "C:\\Users\\israel.vargas\\AppData\\Local\\Continuum\\anaconda3\\envs\\EnvPos\\lib\\site-packages\\urllib3\\connectionpool.py:847: InsecureRequestWarning: Unverified HTTPS request is being made. Adding certificate verification is strongly advised. See: https://urllib3.readthedocs.io/en/latest/advanced-usage.html#ssl-warnings\n",
      "  InsecureRequestWarning)\n"
     ]
    },
    {
     "name": "stdout",
     "output_type": "stream",
     "text": [
      "https://www.tripadvisor.com.mx/Hotel_Review-g150812-d1789781-Reviews-or55-One_Playa_Del_Carmen-Playa_del_Carmen_Yucatan_Peninsula.html\n"
     ]
    },
    {
     "name": "stderr",
     "output_type": "stream",
     "text": [
      "C:\\Users\\israel.vargas\\AppData\\Local\\Continuum\\anaconda3\\envs\\EnvPos\\lib\\site-packages\\urllib3\\connectionpool.py:847: InsecureRequestWarning: Unverified HTTPS request is being made. Adding certificate verification is strongly advised. See: https://urllib3.readthedocs.io/en/latest/advanced-usage.html#ssl-warnings\n",
      "  InsecureRequestWarning)\n"
     ]
    },
    {
     "name": "stdout",
     "output_type": "stream",
     "text": [
      "https://www.tripadvisor.com.mx/Hotel_Review-g150812-d1789781-Reviews-or60-One_Playa_Del_Carmen-Playa_del_Carmen_Yucatan_Peninsula.html\n"
     ]
    },
    {
     "name": "stderr",
     "output_type": "stream",
     "text": [
      "C:\\Users\\israel.vargas\\AppData\\Local\\Continuum\\anaconda3\\envs\\EnvPos\\lib\\site-packages\\urllib3\\connectionpool.py:847: InsecureRequestWarning: Unverified HTTPS request is being made. Adding certificate verification is strongly advised. See: https://urllib3.readthedocs.io/en/latest/advanced-usage.html#ssl-warnings\n",
      "  InsecureRequestWarning)\n"
     ]
    },
    {
     "name": "stdout",
     "output_type": "stream",
     "text": [
      "https://www.tripadvisor.com.mx/Hotel_Review-g150812-d1789781-Reviews-or65-One_Playa_Del_Carmen-Playa_del_Carmen_Yucatan_Peninsula.html\n"
     ]
    },
    {
     "name": "stderr",
     "output_type": "stream",
     "text": [
      "C:\\Users\\israel.vargas\\AppData\\Local\\Continuum\\anaconda3\\envs\\EnvPos\\lib\\site-packages\\urllib3\\connectionpool.py:847: InsecureRequestWarning: Unverified HTTPS request is being made. Adding certificate verification is strongly advised. See: https://urllib3.readthedocs.io/en/latest/advanced-usage.html#ssl-warnings\n",
      "  InsecureRequestWarning)\n"
     ]
    },
    {
     "name": "stdout",
     "output_type": "stream",
     "text": [
      "https://www.tripadvisor.com.mx/Hotel_Review-g150812-d1789781-Reviews-or70-One_Playa_Del_Carmen-Playa_del_Carmen_Yucatan_Peninsula.html\n"
     ]
    },
    {
     "name": "stderr",
     "output_type": "stream",
     "text": [
      "C:\\Users\\israel.vargas\\AppData\\Local\\Continuum\\anaconda3\\envs\\EnvPos\\lib\\site-packages\\urllib3\\connectionpool.py:847: InsecureRequestWarning: Unverified HTTPS request is being made. Adding certificate verification is strongly advised. See: https://urllib3.readthedocs.io/en/latest/advanced-usage.html#ssl-warnings\n",
      "  InsecureRequestWarning)\n"
     ]
    },
    {
     "name": "stdout",
     "output_type": "stream",
     "text": [
      "https://www.tripadvisor.com.mx/Hotel_Review-g150812-d1789781-Reviews-or75-One_Playa_Del_Carmen-Playa_del_Carmen_Yucatan_Peninsula.html\n"
     ]
    },
    {
     "name": "stderr",
     "output_type": "stream",
     "text": [
      "C:\\Users\\israel.vargas\\AppData\\Local\\Continuum\\anaconda3\\envs\\EnvPos\\lib\\site-packages\\urllib3\\connectionpool.py:847: InsecureRequestWarning: Unverified HTTPS request is being made. Adding certificate verification is strongly advised. See: https://urllib3.readthedocs.io/en/latest/advanced-usage.html#ssl-warnings\n",
      "  InsecureRequestWarning)\n"
     ]
    },
    {
     "name": "stdout",
     "output_type": "stream",
     "text": [
      "https://www.tripadvisor.com.mx/Hotel_Review-g150812-d1789781-Reviews-or80-One_Playa_Del_Carmen-Playa_del_Carmen_Yucatan_Peninsula.html\n"
     ]
    },
    {
     "name": "stderr",
     "output_type": "stream",
     "text": [
      "C:\\Users\\israel.vargas\\AppData\\Local\\Continuum\\anaconda3\\envs\\EnvPos\\lib\\site-packages\\urllib3\\connectionpool.py:847: InsecureRequestWarning: Unverified HTTPS request is being made. Adding certificate verification is strongly advised. See: https://urllib3.readthedocs.io/en/latest/advanced-usage.html#ssl-warnings\n",
      "  InsecureRequestWarning)\n"
     ]
    },
    {
     "name": "stdout",
     "output_type": "stream",
     "text": [
      "https://www.tripadvisor.com.mx/Hotel_Review-g150812-d1789781-Reviews-or85-One_Playa_Del_Carmen-Playa_del_Carmen_Yucatan_Peninsula.html\n"
     ]
    },
    {
     "name": "stderr",
     "output_type": "stream",
     "text": [
      "C:\\Users\\israel.vargas\\AppData\\Local\\Continuum\\anaconda3\\envs\\EnvPos\\lib\\site-packages\\urllib3\\connectionpool.py:847: InsecureRequestWarning: Unverified HTTPS request is being made. Adding certificate verification is strongly advised. See: https://urllib3.readthedocs.io/en/latest/advanced-usage.html#ssl-warnings\n",
      "  InsecureRequestWarning)\n"
     ]
    },
    {
     "name": "stdout",
     "output_type": "stream",
     "text": [
      "https://www.tripadvisor.com.mx/Hotel_Review-g150812-d1789781-Reviews-or90-One_Playa_Del_Carmen-Playa_del_Carmen_Yucatan_Peninsula.html\n"
     ]
    },
    {
     "name": "stderr",
     "output_type": "stream",
     "text": [
      "C:\\Users\\israel.vargas\\AppData\\Local\\Continuum\\anaconda3\\envs\\EnvPos\\lib\\site-packages\\urllib3\\connectionpool.py:847: InsecureRequestWarning: Unverified HTTPS request is being made. Adding certificate verification is strongly advised. See: https://urllib3.readthedocs.io/en/latest/advanced-usage.html#ssl-warnings\n",
      "  InsecureRequestWarning)\n"
     ]
    },
    {
     "name": "stdout",
     "output_type": "stream",
     "text": [
      "['Excelente', 'Bueno', 'Regular', 'Malo', 'Pésimo', 'Mar-may', 'Jun-ago', 'Sep-nov', 'Dic-feb', 'Familias', 'Parejas', 'Solo', 'Negocios', 'Amigos']\n",
      "['80', '117', '84', '24', '38']\n",
      "https://www.tripadvisor.com.mx/Hotel_Review-g150812-d630613-Reviews-or5-Hotel_Magic_Express-Playa_del_Carmen_Yucatan_Peninsula.html\n"
     ]
    },
    {
     "name": "stderr",
     "output_type": "stream",
     "text": [
      "C:\\Users\\israel.vargas\\AppData\\Local\\Continuum\\anaconda3\\envs\\EnvPos\\lib\\site-packages\\urllib3\\connectionpool.py:847: InsecureRequestWarning: Unverified HTTPS request is being made. Adding certificate verification is strongly advised. See: https://urllib3.readthedocs.io/en/latest/advanced-usage.html#ssl-warnings\n",
      "  InsecureRequestWarning)\n"
     ]
    },
    {
     "name": "stdout",
     "output_type": "stream",
     "text": [
      "https://www.tripadvisor.com.mx/Hotel_Review-g150812-d630613-Reviews-or10-Hotel_Magic_Express-Playa_del_Carmen_Yucatan_Peninsula.html\n"
     ]
    },
    {
     "name": "stderr",
     "output_type": "stream",
     "text": [
      "C:\\Users\\israel.vargas\\AppData\\Local\\Continuum\\anaconda3\\envs\\EnvPos\\lib\\site-packages\\urllib3\\connectionpool.py:847: InsecureRequestWarning: Unverified HTTPS request is being made. Adding certificate verification is strongly advised. See: https://urllib3.readthedocs.io/en/latest/advanced-usage.html#ssl-warnings\n",
      "  InsecureRequestWarning)\n"
     ]
    },
    {
     "name": "stdout",
     "output_type": "stream",
     "text": [
      "https://www.tripadvisor.com.mx/Hotel_Review-g150812-d630613-Reviews-or15-Hotel_Magic_Express-Playa_del_Carmen_Yucatan_Peninsula.html\n"
     ]
    },
    {
     "name": "stderr",
     "output_type": "stream",
     "text": [
      "C:\\Users\\israel.vargas\\AppData\\Local\\Continuum\\anaconda3\\envs\\EnvPos\\lib\\site-packages\\urllib3\\connectionpool.py:847: InsecureRequestWarning: Unverified HTTPS request is being made. Adding certificate verification is strongly advised. See: https://urllib3.readthedocs.io/en/latest/advanced-usage.html#ssl-warnings\n",
      "  InsecureRequestWarning)\n"
     ]
    },
    {
     "name": "stdout",
     "output_type": "stream",
     "text": [
      "https://www.tripadvisor.com.mx/Hotel_Review-g150812-d630613-Reviews-or20-Hotel_Magic_Express-Playa_del_Carmen_Yucatan_Peninsula.html\n"
     ]
    },
    {
     "name": "stderr",
     "output_type": "stream",
     "text": [
      "C:\\Users\\israel.vargas\\AppData\\Local\\Continuum\\anaconda3\\envs\\EnvPos\\lib\\site-packages\\urllib3\\connectionpool.py:847: InsecureRequestWarning: Unverified HTTPS request is being made. Adding certificate verification is strongly advised. See: https://urllib3.readthedocs.io/en/latest/advanced-usage.html#ssl-warnings\n",
      "  InsecureRequestWarning)\n"
     ]
    },
    {
     "name": "stdout",
     "output_type": "stream",
     "text": [
      "https://www.tripadvisor.com.mx/Hotel_Review-g150812-d630613-Reviews-or25-Hotel_Magic_Express-Playa_del_Carmen_Yucatan_Peninsula.html\n"
     ]
    },
    {
     "name": "stderr",
     "output_type": "stream",
     "text": [
      "C:\\Users\\israel.vargas\\AppData\\Local\\Continuum\\anaconda3\\envs\\EnvPos\\lib\\site-packages\\urllib3\\connectionpool.py:847: InsecureRequestWarning: Unverified HTTPS request is being made. Adding certificate verification is strongly advised. See: https://urllib3.readthedocs.io/en/latest/advanced-usage.html#ssl-warnings\n",
      "  InsecureRequestWarning)\n"
     ]
    },
    {
     "name": "stdout",
     "output_type": "stream",
     "text": [
      "https://www.tripadvisor.com.mx/Hotel_Review-g150812-d630613-Reviews-or30-Hotel_Magic_Express-Playa_del_Carmen_Yucatan_Peninsula.html\n"
     ]
    },
    {
     "name": "stderr",
     "output_type": "stream",
     "text": [
      "C:\\Users\\israel.vargas\\AppData\\Local\\Continuum\\anaconda3\\envs\\EnvPos\\lib\\site-packages\\urllib3\\connectionpool.py:847: InsecureRequestWarning: Unverified HTTPS request is being made. Adding certificate verification is strongly advised. See: https://urllib3.readthedocs.io/en/latest/advanced-usage.html#ssl-warnings\n",
      "  InsecureRequestWarning)\n"
     ]
    },
    {
     "name": "stdout",
     "output_type": "stream",
     "text": [
      "https://www.tripadvisor.com.mx/Hotel_Review-g150812-d630613-Reviews-or35-Hotel_Magic_Express-Playa_del_Carmen_Yucatan_Peninsula.html\n"
     ]
    },
    {
     "name": "stderr",
     "output_type": "stream",
     "text": [
      "C:\\Users\\israel.vargas\\AppData\\Local\\Continuum\\anaconda3\\envs\\EnvPos\\lib\\site-packages\\urllib3\\connectionpool.py:847: InsecureRequestWarning: Unverified HTTPS request is being made. Adding certificate verification is strongly advised. See: https://urllib3.readthedocs.io/en/latest/advanced-usage.html#ssl-warnings\n",
      "  InsecureRequestWarning)\n"
     ]
    },
    {
     "name": "stdout",
     "output_type": "stream",
     "text": [
      "https://www.tripadvisor.com.mx/Hotel_Review-g150812-d630613-Reviews-or40-Hotel_Magic_Express-Playa_del_Carmen_Yucatan_Peninsula.html\n"
     ]
    },
    {
     "name": "stderr",
     "output_type": "stream",
     "text": [
      "C:\\Users\\israel.vargas\\AppData\\Local\\Continuum\\anaconda3\\envs\\EnvPos\\lib\\site-packages\\urllib3\\connectionpool.py:847: InsecureRequestWarning: Unverified HTTPS request is being made. Adding certificate verification is strongly advised. See: https://urllib3.readthedocs.io/en/latest/advanced-usage.html#ssl-warnings\n",
      "  InsecureRequestWarning)\n"
     ]
    },
    {
     "name": "stdout",
     "output_type": "stream",
     "text": [
      "https://www.tripadvisor.com.mx/Hotel_Review-g150812-d630613-Reviews-or45-Hotel_Magic_Express-Playa_del_Carmen_Yucatan_Peninsula.html\n"
     ]
    },
    {
     "name": "stderr",
     "output_type": "stream",
     "text": [
      "C:\\Users\\israel.vargas\\AppData\\Local\\Continuum\\anaconda3\\envs\\EnvPos\\lib\\site-packages\\urllib3\\connectionpool.py:847: InsecureRequestWarning: Unverified HTTPS request is being made. Adding certificate verification is strongly advised. See: https://urllib3.readthedocs.io/en/latest/advanced-usage.html#ssl-warnings\n",
      "  InsecureRequestWarning)\n"
     ]
    },
    {
     "name": "stdout",
     "output_type": "stream",
     "text": [
      "https://www.tripadvisor.com.mx/Hotel_Review-g150812-d630613-Reviews-or50-Hotel_Magic_Express-Playa_del_Carmen_Yucatan_Peninsula.html\n"
     ]
    },
    {
     "name": "stderr",
     "output_type": "stream",
     "text": [
      "C:\\Users\\israel.vargas\\AppData\\Local\\Continuum\\anaconda3\\envs\\EnvPos\\lib\\site-packages\\urllib3\\connectionpool.py:847: InsecureRequestWarning: Unverified HTTPS request is being made. Adding certificate verification is strongly advised. See: https://urllib3.readthedocs.io/en/latest/advanced-usage.html#ssl-warnings\n",
      "  InsecureRequestWarning)\n"
     ]
    },
    {
     "name": "stdout",
     "output_type": "stream",
     "text": [
      "https://www.tripadvisor.com.mx/Hotel_Review-g150812-d630613-Reviews-or55-Hotel_Magic_Express-Playa_del_Carmen_Yucatan_Peninsula.html\n"
     ]
    },
    {
     "name": "stderr",
     "output_type": "stream",
     "text": [
      "C:\\Users\\israel.vargas\\AppData\\Local\\Continuum\\anaconda3\\envs\\EnvPos\\lib\\site-packages\\urllib3\\connectionpool.py:847: InsecureRequestWarning: Unverified HTTPS request is being made. Adding certificate verification is strongly advised. See: https://urllib3.readthedocs.io/en/latest/advanced-usage.html#ssl-warnings\n",
      "  InsecureRequestWarning)\n"
     ]
    },
    {
     "name": "stdout",
     "output_type": "stream",
     "text": [
      "https://www.tripadvisor.com.mx/Hotel_Review-g150812-d630613-Reviews-or60-Hotel_Magic_Express-Playa_del_Carmen_Yucatan_Peninsula.html\n"
     ]
    },
    {
     "name": "stderr",
     "output_type": "stream",
     "text": [
      "C:\\Users\\israel.vargas\\AppData\\Local\\Continuum\\anaconda3\\envs\\EnvPos\\lib\\site-packages\\urllib3\\connectionpool.py:847: InsecureRequestWarning: Unverified HTTPS request is being made. Adding certificate verification is strongly advised. See: https://urllib3.readthedocs.io/en/latest/advanced-usage.html#ssl-warnings\n",
      "  InsecureRequestWarning)\n"
     ]
    },
    {
     "name": "stdout",
     "output_type": "stream",
     "text": [
      "https://www.tripadvisor.com.mx/Hotel_Review-g150812-d630613-Reviews-or65-Hotel_Magic_Express-Playa_del_Carmen_Yucatan_Peninsula.html\n"
     ]
    },
    {
     "name": "stderr",
     "output_type": "stream",
     "text": [
      "C:\\Users\\israel.vargas\\AppData\\Local\\Continuum\\anaconda3\\envs\\EnvPos\\lib\\site-packages\\urllib3\\connectionpool.py:847: InsecureRequestWarning: Unverified HTTPS request is being made. Adding certificate verification is strongly advised. See: https://urllib3.readthedocs.io/en/latest/advanced-usage.html#ssl-warnings\n",
      "  InsecureRequestWarning)\n"
     ]
    },
    {
     "name": "stdout",
     "output_type": "stream",
     "text": [
      "https://www.tripadvisor.com.mx/Hotel_Review-g150812-d630613-Reviews-or70-Hotel_Magic_Express-Playa_del_Carmen_Yucatan_Peninsula.html\n"
     ]
    },
    {
     "name": "stderr",
     "output_type": "stream",
     "text": [
      "C:\\Users\\israel.vargas\\AppData\\Local\\Continuum\\anaconda3\\envs\\EnvPos\\lib\\site-packages\\urllib3\\connectionpool.py:847: InsecureRequestWarning: Unverified HTTPS request is being made. Adding certificate verification is strongly advised. See: https://urllib3.readthedocs.io/en/latest/advanced-usage.html#ssl-warnings\n",
      "  InsecureRequestWarning)\n"
     ]
    },
    {
     "name": "stdout",
     "output_type": "stream",
     "text": [
      "https://www.tripadvisor.com.mx/Hotel_Review-g150812-d630613-Reviews-or75-Hotel_Magic_Express-Playa_del_Carmen_Yucatan_Peninsula.html\n"
     ]
    },
    {
     "name": "stderr",
     "output_type": "stream",
     "text": [
      "C:\\Users\\israel.vargas\\AppData\\Local\\Continuum\\anaconda3\\envs\\EnvPos\\lib\\site-packages\\urllib3\\connectionpool.py:847: InsecureRequestWarning: Unverified HTTPS request is being made. Adding certificate verification is strongly advised. See: https://urllib3.readthedocs.io/en/latest/advanced-usage.html#ssl-warnings\n",
      "  InsecureRequestWarning)\n"
     ]
    },
    {
     "name": "stdout",
     "output_type": "stream",
     "text": [
      "https://www.tripadvisor.com.mx/Hotel_Review-g150812-d630613-Reviews-or80-Hotel_Magic_Express-Playa_del_Carmen_Yucatan_Peninsula.html\n"
     ]
    },
    {
     "name": "stderr",
     "output_type": "stream",
     "text": [
      "C:\\Users\\israel.vargas\\AppData\\Local\\Continuum\\anaconda3\\envs\\EnvPos\\lib\\site-packages\\urllib3\\connectionpool.py:847: InsecureRequestWarning: Unverified HTTPS request is being made. Adding certificate verification is strongly advised. See: https://urllib3.readthedocs.io/en/latest/advanced-usage.html#ssl-warnings\n",
      "  InsecureRequestWarning)\n"
     ]
    },
    {
     "name": "stdout",
     "output_type": "stream",
     "text": [
      "https://www.tripadvisor.com.mx/Hotel_Review-g150812-d630613-Reviews-or85-Hotel_Magic_Express-Playa_del_Carmen_Yucatan_Peninsula.html\n"
     ]
    },
    {
     "name": "stderr",
     "output_type": "stream",
     "text": [
      "C:\\Users\\israel.vargas\\AppData\\Local\\Continuum\\anaconda3\\envs\\EnvPos\\lib\\site-packages\\urllib3\\connectionpool.py:847: InsecureRequestWarning: Unverified HTTPS request is being made. Adding certificate verification is strongly advised. See: https://urllib3.readthedocs.io/en/latest/advanced-usage.html#ssl-warnings\n",
      "  InsecureRequestWarning)\n"
     ]
    },
    {
     "name": "stdout",
     "output_type": "stream",
     "text": [
      "https://www.tripadvisor.com.mx/Hotel_Review-g150812-d630613-Reviews-or90-Hotel_Magic_Express-Playa_del_Carmen_Yucatan_Peninsula.html\n"
     ]
    },
    {
     "name": "stderr",
     "output_type": "stream",
     "text": [
      "C:\\Users\\israel.vargas\\AppData\\Local\\Continuum\\anaconda3\\envs\\EnvPos\\lib\\site-packages\\urllib3\\connectionpool.py:847: InsecureRequestWarning: Unverified HTTPS request is being made. Adding certificate verification is strongly advised. See: https://urllib3.readthedocs.io/en/latest/advanced-usage.html#ssl-warnings\n",
      "  InsecureRequestWarning)\n"
     ]
    },
    {
     "name": "stdout",
     "output_type": "stream",
     "text": [
      "['Excelente', 'Bueno', 'Regular', 'Malo', 'Pésimo', 'Mar-may', 'Jun-ago', 'Sep-nov', 'Dic-feb', 'Familias', 'Parejas', 'Solo', 'Negocios', 'Amigos']\n",
      "['220', '227', '161', '68', '62']\n",
      "https://www.tripadvisor.com.mx/Hotel_Review-g150812-d2298835-Reviews-or5-City_Express_Playa_del_Carmen-Playa_del_Carmen_Yucatan_Peninsula.html\n"
     ]
    },
    {
     "name": "stderr",
     "output_type": "stream",
     "text": [
      "C:\\Users\\israel.vargas\\AppData\\Local\\Continuum\\anaconda3\\envs\\EnvPos\\lib\\site-packages\\urllib3\\connectionpool.py:847: InsecureRequestWarning: Unverified HTTPS request is being made. Adding certificate verification is strongly advised. See: https://urllib3.readthedocs.io/en/latest/advanced-usage.html#ssl-warnings\n",
      "  InsecureRequestWarning)\n"
     ]
    },
    {
     "name": "stdout",
     "output_type": "stream",
     "text": [
      "https://www.tripadvisor.com.mx/Hotel_Review-g150812-d2298835-Reviews-or10-City_Express_Playa_del_Carmen-Playa_del_Carmen_Yucatan_Peninsula.html\n"
     ]
    },
    {
     "name": "stderr",
     "output_type": "stream",
     "text": [
      "C:\\Users\\israel.vargas\\AppData\\Local\\Continuum\\anaconda3\\envs\\EnvPos\\lib\\site-packages\\urllib3\\connectionpool.py:847: InsecureRequestWarning: Unverified HTTPS request is being made. Adding certificate verification is strongly advised. See: https://urllib3.readthedocs.io/en/latest/advanced-usage.html#ssl-warnings\n",
      "  InsecureRequestWarning)\n"
     ]
    },
    {
     "name": "stdout",
     "output_type": "stream",
     "text": [
      "https://www.tripadvisor.com.mx/Hotel_Review-g150812-d2298835-Reviews-or15-City_Express_Playa_del_Carmen-Playa_del_Carmen_Yucatan_Peninsula.html\n"
     ]
    },
    {
     "name": "stderr",
     "output_type": "stream",
     "text": [
      "C:\\Users\\israel.vargas\\AppData\\Local\\Continuum\\anaconda3\\envs\\EnvPos\\lib\\site-packages\\urllib3\\connectionpool.py:847: InsecureRequestWarning: Unverified HTTPS request is being made. Adding certificate verification is strongly advised. See: https://urllib3.readthedocs.io/en/latest/advanced-usage.html#ssl-warnings\n",
      "  InsecureRequestWarning)\n"
     ]
    },
    {
     "name": "stdout",
     "output_type": "stream",
     "text": [
      "https://www.tripadvisor.com.mx/Hotel_Review-g150812-d2298835-Reviews-or20-City_Express_Playa_del_Carmen-Playa_del_Carmen_Yucatan_Peninsula.html\n"
     ]
    },
    {
     "name": "stderr",
     "output_type": "stream",
     "text": [
      "C:\\Users\\israel.vargas\\AppData\\Local\\Continuum\\anaconda3\\envs\\EnvPos\\lib\\site-packages\\urllib3\\connectionpool.py:847: InsecureRequestWarning: Unverified HTTPS request is being made. Adding certificate verification is strongly advised. See: https://urllib3.readthedocs.io/en/latest/advanced-usage.html#ssl-warnings\n",
      "  InsecureRequestWarning)\n"
     ]
    },
    {
     "name": "stdout",
     "output_type": "stream",
     "text": [
      "https://www.tripadvisor.com.mx/Hotel_Review-g150812-d2298835-Reviews-or25-City_Express_Playa_del_Carmen-Playa_del_Carmen_Yucatan_Peninsula.html\n"
     ]
    },
    {
     "name": "stderr",
     "output_type": "stream",
     "text": [
      "C:\\Users\\israel.vargas\\AppData\\Local\\Continuum\\anaconda3\\envs\\EnvPos\\lib\\site-packages\\urllib3\\connectionpool.py:847: InsecureRequestWarning: Unverified HTTPS request is being made. Adding certificate verification is strongly advised. See: https://urllib3.readthedocs.io/en/latest/advanced-usage.html#ssl-warnings\n",
      "  InsecureRequestWarning)\n"
     ]
    },
    {
     "name": "stdout",
     "output_type": "stream",
     "text": [
      "https://www.tripadvisor.com.mx/Hotel_Review-g150812-d2298835-Reviews-or30-City_Express_Playa_del_Carmen-Playa_del_Carmen_Yucatan_Peninsula.html\n"
     ]
    },
    {
     "name": "stderr",
     "output_type": "stream",
     "text": [
      "C:\\Users\\israel.vargas\\AppData\\Local\\Continuum\\anaconda3\\envs\\EnvPos\\lib\\site-packages\\urllib3\\connectionpool.py:847: InsecureRequestWarning: Unverified HTTPS request is being made. Adding certificate verification is strongly advised. See: https://urllib3.readthedocs.io/en/latest/advanced-usage.html#ssl-warnings\n",
      "  InsecureRequestWarning)\n"
     ]
    },
    {
     "name": "stdout",
     "output_type": "stream",
     "text": [
      "https://www.tripadvisor.com.mx/Hotel_Review-g150812-d2298835-Reviews-or35-City_Express_Playa_del_Carmen-Playa_del_Carmen_Yucatan_Peninsula.html\n"
     ]
    },
    {
     "name": "stderr",
     "output_type": "stream",
     "text": [
      "C:\\Users\\israel.vargas\\AppData\\Local\\Continuum\\anaconda3\\envs\\EnvPos\\lib\\site-packages\\urllib3\\connectionpool.py:847: InsecureRequestWarning: Unverified HTTPS request is being made. Adding certificate verification is strongly advised. See: https://urllib3.readthedocs.io/en/latest/advanced-usage.html#ssl-warnings\n",
      "  InsecureRequestWarning)\n"
     ]
    },
    {
     "name": "stdout",
     "output_type": "stream",
     "text": [
      "https://www.tripadvisor.com.mx/Hotel_Review-g150812-d2298835-Reviews-or40-City_Express_Playa_del_Carmen-Playa_del_Carmen_Yucatan_Peninsula.html\n"
     ]
    },
    {
     "name": "stderr",
     "output_type": "stream",
     "text": [
      "C:\\Users\\israel.vargas\\AppData\\Local\\Continuum\\anaconda3\\envs\\EnvPos\\lib\\site-packages\\urllib3\\connectionpool.py:847: InsecureRequestWarning: Unverified HTTPS request is being made. Adding certificate verification is strongly advised. See: https://urllib3.readthedocs.io/en/latest/advanced-usage.html#ssl-warnings\n",
      "  InsecureRequestWarning)\n"
     ]
    },
    {
     "name": "stdout",
     "output_type": "stream",
     "text": [
      "https://www.tripadvisor.com.mx/Hotel_Review-g150812-d2298835-Reviews-or45-City_Express_Playa_del_Carmen-Playa_del_Carmen_Yucatan_Peninsula.html\n"
     ]
    },
    {
     "name": "stderr",
     "output_type": "stream",
     "text": [
      "C:\\Users\\israel.vargas\\AppData\\Local\\Continuum\\anaconda3\\envs\\EnvPos\\lib\\site-packages\\urllib3\\connectionpool.py:847: InsecureRequestWarning: Unverified HTTPS request is being made. Adding certificate verification is strongly advised. See: https://urllib3.readthedocs.io/en/latest/advanced-usage.html#ssl-warnings\n",
      "  InsecureRequestWarning)\n"
     ]
    },
    {
     "name": "stdout",
     "output_type": "stream",
     "text": [
      "https://www.tripadvisor.com.mx/Hotel_Review-g150812-d2298835-Reviews-or50-City_Express_Playa_del_Carmen-Playa_del_Carmen_Yucatan_Peninsula.html\n"
     ]
    },
    {
     "name": "stderr",
     "output_type": "stream",
     "text": [
      "C:\\Users\\israel.vargas\\AppData\\Local\\Continuum\\anaconda3\\envs\\EnvPos\\lib\\site-packages\\urllib3\\connectionpool.py:847: InsecureRequestWarning: Unverified HTTPS request is being made. Adding certificate verification is strongly advised. See: https://urllib3.readthedocs.io/en/latest/advanced-usage.html#ssl-warnings\n",
      "  InsecureRequestWarning)\n"
     ]
    },
    {
     "name": "stdout",
     "output_type": "stream",
     "text": [
      "https://www.tripadvisor.com.mx/Hotel_Review-g150812-d2298835-Reviews-or55-City_Express_Playa_del_Carmen-Playa_del_Carmen_Yucatan_Peninsula.html\n"
     ]
    },
    {
     "name": "stderr",
     "output_type": "stream",
     "text": [
      "C:\\Users\\israel.vargas\\AppData\\Local\\Continuum\\anaconda3\\envs\\EnvPos\\lib\\site-packages\\urllib3\\connectionpool.py:847: InsecureRequestWarning: Unverified HTTPS request is being made. Adding certificate verification is strongly advised. See: https://urllib3.readthedocs.io/en/latest/advanced-usage.html#ssl-warnings\n",
      "  InsecureRequestWarning)\n"
     ]
    },
    {
     "name": "stdout",
     "output_type": "stream",
     "text": [
      "https://www.tripadvisor.com.mx/Hotel_Review-g150812-d2298835-Reviews-or60-City_Express_Playa_del_Carmen-Playa_del_Carmen_Yucatan_Peninsula.html\n"
     ]
    },
    {
     "name": "stderr",
     "output_type": "stream",
     "text": [
      "C:\\Users\\israel.vargas\\AppData\\Local\\Continuum\\anaconda3\\envs\\EnvPos\\lib\\site-packages\\urllib3\\connectionpool.py:847: InsecureRequestWarning: Unverified HTTPS request is being made. Adding certificate verification is strongly advised. See: https://urllib3.readthedocs.io/en/latest/advanced-usage.html#ssl-warnings\n",
      "  InsecureRequestWarning)\n"
     ]
    },
    {
     "name": "stdout",
     "output_type": "stream",
     "text": [
      "https://www.tripadvisor.com.mx/Hotel_Review-g150812-d2298835-Reviews-or65-City_Express_Playa_del_Carmen-Playa_del_Carmen_Yucatan_Peninsula.html\n"
     ]
    },
    {
     "name": "stderr",
     "output_type": "stream",
     "text": [
      "C:\\Users\\israel.vargas\\AppData\\Local\\Continuum\\anaconda3\\envs\\EnvPos\\lib\\site-packages\\urllib3\\connectionpool.py:847: InsecureRequestWarning: Unverified HTTPS request is being made. Adding certificate verification is strongly advised. See: https://urllib3.readthedocs.io/en/latest/advanced-usage.html#ssl-warnings\n",
      "  InsecureRequestWarning)\n"
     ]
    },
    {
     "name": "stdout",
     "output_type": "stream",
     "text": [
      "https://www.tripadvisor.com.mx/Hotel_Review-g150812-d2298835-Reviews-or70-City_Express_Playa_del_Carmen-Playa_del_Carmen_Yucatan_Peninsula.html\n"
     ]
    },
    {
     "name": "stderr",
     "output_type": "stream",
     "text": [
      "C:\\Users\\israel.vargas\\AppData\\Local\\Continuum\\anaconda3\\envs\\EnvPos\\lib\\site-packages\\urllib3\\connectionpool.py:847: InsecureRequestWarning: Unverified HTTPS request is being made. Adding certificate verification is strongly advised. See: https://urllib3.readthedocs.io/en/latest/advanced-usage.html#ssl-warnings\n",
      "  InsecureRequestWarning)\n"
     ]
    },
    {
     "name": "stdout",
     "output_type": "stream",
     "text": [
      "https://www.tripadvisor.com.mx/Hotel_Review-g150812-d2298835-Reviews-or75-City_Express_Playa_del_Carmen-Playa_del_Carmen_Yucatan_Peninsula.html\n"
     ]
    },
    {
     "name": "stderr",
     "output_type": "stream",
     "text": [
      "C:\\Users\\israel.vargas\\AppData\\Local\\Continuum\\anaconda3\\envs\\EnvPos\\lib\\site-packages\\urllib3\\connectionpool.py:847: InsecureRequestWarning: Unverified HTTPS request is being made. Adding certificate verification is strongly advised. See: https://urllib3.readthedocs.io/en/latest/advanced-usage.html#ssl-warnings\n",
      "  InsecureRequestWarning)\n"
     ]
    },
    {
     "name": "stdout",
     "output_type": "stream",
     "text": [
      "https://www.tripadvisor.com.mx/Hotel_Review-g150812-d2298835-Reviews-or80-City_Express_Playa_del_Carmen-Playa_del_Carmen_Yucatan_Peninsula.html\n"
     ]
    },
    {
     "name": "stderr",
     "output_type": "stream",
     "text": [
      "C:\\Users\\israel.vargas\\AppData\\Local\\Continuum\\anaconda3\\envs\\EnvPos\\lib\\site-packages\\urllib3\\connectionpool.py:847: InsecureRequestWarning: Unverified HTTPS request is being made. Adding certificate verification is strongly advised. See: https://urllib3.readthedocs.io/en/latest/advanced-usage.html#ssl-warnings\n",
      "  InsecureRequestWarning)\n"
     ]
    },
    {
     "name": "stdout",
     "output_type": "stream",
     "text": [
      "https://www.tripadvisor.com.mx/Hotel_Review-g150812-d2298835-Reviews-or85-City_Express_Playa_del_Carmen-Playa_del_Carmen_Yucatan_Peninsula.html\n"
     ]
    },
    {
     "name": "stderr",
     "output_type": "stream",
     "text": [
      "C:\\Users\\israel.vargas\\AppData\\Local\\Continuum\\anaconda3\\envs\\EnvPos\\lib\\site-packages\\urllib3\\connectionpool.py:847: InsecureRequestWarning: Unverified HTTPS request is being made. Adding certificate verification is strongly advised. See: https://urllib3.readthedocs.io/en/latest/advanced-usage.html#ssl-warnings\n",
      "  InsecureRequestWarning)\n"
     ]
    },
    {
     "name": "stdout",
     "output_type": "stream",
     "text": [
      "https://www.tripadvisor.com.mx/Hotel_Review-g150812-d2298835-Reviews-or90-City_Express_Playa_del_Carmen-Playa_del_Carmen_Yucatan_Peninsula.html\n"
     ]
    },
    {
     "name": "stderr",
     "output_type": "stream",
     "text": [
      "C:\\Users\\israel.vargas\\AppData\\Local\\Continuum\\anaconda3\\envs\\EnvPos\\lib\\site-packages\\urllib3\\connectionpool.py:847: InsecureRequestWarning: Unverified HTTPS request is being made. Adding certificate verification is strongly advised. See: https://urllib3.readthedocs.io/en/latest/advanced-usage.html#ssl-warnings\n",
      "  InsecureRequestWarning)\n"
     ]
    },
    {
     "name": "stdout",
     "output_type": "stream",
     "text": [
      "[WinError 145] The directory is not empty: 'C:\\\\Users\\\\ISRAEL~1.VAR\\\\AppData\\\\Local\\\\Temp\\\\tmpgicbvta0\\\\cache2\\\\entries'\n",
      "['Excelente', 'Bueno', 'Regular', 'Malo', 'Pésimo', 'Mar-may', 'Jun-ago', 'Sep-nov', 'Dic-feb', 'Familias', 'Parejas', 'Solo', 'Negocios', 'Amigos']\n",
      "['521', '161', '70', '23', '22']\n",
      "https://www.tripadvisor.com.mx/Hotel_Review-g150812-d12700386-Reviews-or5-The_Reef_28-Playa_del_Carmen_Yucatan_Peninsula.html\n"
     ]
    },
    {
     "name": "stderr",
     "output_type": "stream",
     "text": [
      "C:\\Users\\israel.vargas\\AppData\\Local\\Continuum\\anaconda3\\envs\\EnvPos\\lib\\site-packages\\urllib3\\connectionpool.py:847: InsecureRequestWarning: Unverified HTTPS request is being made. Adding certificate verification is strongly advised. See: https://urllib3.readthedocs.io/en/latest/advanced-usage.html#ssl-warnings\n",
      "  InsecureRequestWarning)\n"
     ]
    },
    {
     "name": "stdout",
     "output_type": "stream",
     "text": [
      "https://www.tripadvisor.com.mx/Hotel_Review-g150812-d12700386-Reviews-or10-The_Reef_28-Playa_del_Carmen_Yucatan_Peninsula.html\n"
     ]
    },
    {
     "name": "stderr",
     "output_type": "stream",
     "text": [
      "C:\\Users\\israel.vargas\\AppData\\Local\\Continuum\\anaconda3\\envs\\EnvPos\\lib\\site-packages\\urllib3\\connectionpool.py:847: InsecureRequestWarning: Unverified HTTPS request is being made. Adding certificate verification is strongly advised. See: https://urllib3.readthedocs.io/en/latest/advanced-usage.html#ssl-warnings\n",
      "  InsecureRequestWarning)\n"
     ]
    },
    {
     "name": "stdout",
     "output_type": "stream",
     "text": [
      "https://www.tripadvisor.com.mx/Hotel_Review-g150812-d12700386-Reviews-or15-The_Reef_28-Playa_del_Carmen_Yucatan_Peninsula.html\n"
     ]
    },
    {
     "name": "stderr",
     "output_type": "stream",
     "text": [
      "C:\\Users\\israel.vargas\\AppData\\Local\\Continuum\\anaconda3\\envs\\EnvPos\\lib\\site-packages\\urllib3\\connectionpool.py:847: InsecureRequestWarning: Unverified HTTPS request is being made. Adding certificate verification is strongly advised. See: https://urllib3.readthedocs.io/en/latest/advanced-usage.html#ssl-warnings\n",
      "  InsecureRequestWarning)\n"
     ]
    },
    {
     "name": "stdout",
     "output_type": "stream",
     "text": [
      "https://www.tripadvisor.com.mx/Hotel_Review-g150812-d12700386-Reviews-or20-The_Reef_28-Playa_del_Carmen_Yucatan_Peninsula.html\n"
     ]
    },
    {
     "name": "stderr",
     "output_type": "stream",
     "text": [
      "C:\\Users\\israel.vargas\\AppData\\Local\\Continuum\\anaconda3\\envs\\EnvPos\\lib\\site-packages\\urllib3\\connectionpool.py:847: InsecureRequestWarning: Unverified HTTPS request is being made. Adding certificate verification is strongly advised. See: https://urllib3.readthedocs.io/en/latest/advanced-usage.html#ssl-warnings\n",
      "  InsecureRequestWarning)\n"
     ]
    },
    {
     "name": "stdout",
     "output_type": "stream",
     "text": [
      "https://www.tripadvisor.com.mx/Hotel_Review-g150812-d12700386-Reviews-or25-The_Reef_28-Playa_del_Carmen_Yucatan_Peninsula.html\n"
     ]
    },
    {
     "name": "stderr",
     "output_type": "stream",
     "text": [
      "C:\\Users\\israel.vargas\\AppData\\Local\\Continuum\\anaconda3\\envs\\EnvPos\\lib\\site-packages\\urllib3\\connectionpool.py:847: InsecureRequestWarning: Unverified HTTPS request is being made. Adding certificate verification is strongly advised. See: https://urllib3.readthedocs.io/en/latest/advanced-usage.html#ssl-warnings\n",
      "  InsecureRequestWarning)\n"
     ]
    },
    {
     "name": "stdout",
     "output_type": "stream",
     "text": [
      "https://www.tripadvisor.com.mx/Hotel_Review-g150812-d12700386-Reviews-or30-The_Reef_28-Playa_del_Carmen_Yucatan_Peninsula.html\n"
     ]
    },
    {
     "name": "stderr",
     "output_type": "stream",
     "text": [
      "C:\\Users\\israel.vargas\\AppData\\Local\\Continuum\\anaconda3\\envs\\EnvPos\\lib\\site-packages\\urllib3\\connectionpool.py:847: InsecureRequestWarning: Unverified HTTPS request is being made. Adding certificate verification is strongly advised. See: https://urllib3.readthedocs.io/en/latest/advanced-usage.html#ssl-warnings\n",
      "  InsecureRequestWarning)\n"
     ]
    },
    {
     "name": "stdout",
     "output_type": "stream",
     "text": [
      "https://www.tripadvisor.com.mx/Hotel_Review-g150812-d12700386-Reviews-or35-The_Reef_28-Playa_del_Carmen_Yucatan_Peninsula.html\n"
     ]
    },
    {
     "name": "stderr",
     "output_type": "stream",
     "text": [
      "C:\\Users\\israel.vargas\\AppData\\Local\\Continuum\\anaconda3\\envs\\EnvPos\\lib\\site-packages\\urllib3\\connectionpool.py:847: InsecureRequestWarning: Unverified HTTPS request is being made. Adding certificate verification is strongly advised. See: https://urllib3.readthedocs.io/en/latest/advanced-usage.html#ssl-warnings\n",
      "  InsecureRequestWarning)\n"
     ]
    },
    {
     "name": "stdout",
     "output_type": "stream",
     "text": [
      "https://www.tripadvisor.com.mx/Hotel_Review-g150812-d12700386-Reviews-or40-The_Reef_28-Playa_del_Carmen_Yucatan_Peninsula.html\n"
     ]
    },
    {
     "name": "stderr",
     "output_type": "stream",
     "text": [
      "C:\\Users\\israel.vargas\\AppData\\Local\\Continuum\\anaconda3\\envs\\EnvPos\\lib\\site-packages\\urllib3\\connectionpool.py:847: InsecureRequestWarning: Unverified HTTPS request is being made. Adding certificate verification is strongly advised. See: https://urllib3.readthedocs.io/en/latest/advanced-usage.html#ssl-warnings\n",
      "  InsecureRequestWarning)\n"
     ]
    },
    {
     "name": "stdout",
     "output_type": "stream",
     "text": [
      "https://www.tripadvisor.com.mx/Hotel_Review-g150812-d12700386-Reviews-or45-The_Reef_28-Playa_del_Carmen_Yucatan_Peninsula.html\n"
     ]
    },
    {
     "name": "stderr",
     "output_type": "stream",
     "text": [
      "C:\\Users\\israel.vargas\\AppData\\Local\\Continuum\\anaconda3\\envs\\EnvPos\\lib\\site-packages\\urllib3\\connectionpool.py:847: InsecureRequestWarning: Unverified HTTPS request is being made. Adding certificate verification is strongly advised. See: https://urllib3.readthedocs.io/en/latest/advanced-usage.html#ssl-warnings\n",
      "  InsecureRequestWarning)\n"
     ]
    },
    {
     "name": "stdout",
     "output_type": "stream",
     "text": [
      "https://www.tripadvisor.com.mx/Hotel_Review-g150812-d12700386-Reviews-or50-The_Reef_28-Playa_del_Carmen_Yucatan_Peninsula.html\n"
     ]
    },
    {
     "name": "stderr",
     "output_type": "stream",
     "text": [
      "C:\\Users\\israel.vargas\\AppData\\Local\\Continuum\\anaconda3\\envs\\EnvPos\\lib\\site-packages\\urllib3\\connectionpool.py:847: InsecureRequestWarning: Unverified HTTPS request is being made. Adding certificate verification is strongly advised. See: https://urllib3.readthedocs.io/en/latest/advanced-usage.html#ssl-warnings\n",
      "  InsecureRequestWarning)\n"
     ]
    },
    {
     "name": "stdout",
     "output_type": "stream",
     "text": [
      "https://www.tripadvisor.com.mx/Hotel_Review-g150812-d12700386-Reviews-or55-The_Reef_28-Playa_del_Carmen_Yucatan_Peninsula.html\n"
     ]
    },
    {
     "name": "stderr",
     "output_type": "stream",
     "text": [
      "C:\\Users\\israel.vargas\\AppData\\Local\\Continuum\\anaconda3\\envs\\EnvPos\\lib\\site-packages\\urllib3\\connectionpool.py:847: InsecureRequestWarning: Unverified HTTPS request is being made. Adding certificate verification is strongly advised. See: https://urllib3.readthedocs.io/en/latest/advanced-usage.html#ssl-warnings\n",
      "  InsecureRequestWarning)\n"
     ]
    },
    {
     "name": "stdout",
     "output_type": "stream",
     "text": [
      "https://www.tripadvisor.com.mx/Hotel_Review-g150812-d12700386-Reviews-or60-The_Reef_28-Playa_del_Carmen_Yucatan_Peninsula.html\n"
     ]
    },
    {
     "name": "stderr",
     "output_type": "stream",
     "text": [
      "C:\\Users\\israel.vargas\\AppData\\Local\\Continuum\\anaconda3\\envs\\EnvPos\\lib\\site-packages\\urllib3\\connectionpool.py:847: InsecureRequestWarning: Unverified HTTPS request is being made. Adding certificate verification is strongly advised. See: https://urllib3.readthedocs.io/en/latest/advanced-usage.html#ssl-warnings\n",
      "  InsecureRequestWarning)\n"
     ]
    },
    {
     "name": "stdout",
     "output_type": "stream",
     "text": [
      "https://www.tripadvisor.com.mx/Hotel_Review-g150812-d12700386-Reviews-or65-The_Reef_28-Playa_del_Carmen_Yucatan_Peninsula.html\n"
     ]
    },
    {
     "name": "stderr",
     "output_type": "stream",
     "text": [
      "C:\\Users\\israel.vargas\\AppData\\Local\\Continuum\\anaconda3\\envs\\EnvPos\\lib\\site-packages\\urllib3\\connectionpool.py:847: InsecureRequestWarning: Unverified HTTPS request is being made. Adding certificate verification is strongly advised. See: https://urllib3.readthedocs.io/en/latest/advanced-usage.html#ssl-warnings\n",
      "  InsecureRequestWarning)\n"
     ]
    },
    {
     "name": "stdout",
     "output_type": "stream",
     "text": [
      "https://www.tripadvisor.com.mx/Hotel_Review-g150812-d12700386-Reviews-or70-The_Reef_28-Playa_del_Carmen_Yucatan_Peninsula.html\n"
     ]
    },
    {
     "name": "stderr",
     "output_type": "stream",
     "text": [
      "C:\\Users\\israel.vargas\\AppData\\Local\\Continuum\\anaconda3\\envs\\EnvPos\\lib\\site-packages\\urllib3\\connectionpool.py:847: InsecureRequestWarning: Unverified HTTPS request is being made. Adding certificate verification is strongly advised. See: https://urllib3.readthedocs.io/en/latest/advanced-usage.html#ssl-warnings\n",
      "  InsecureRequestWarning)\n"
     ]
    },
    {
     "name": "stdout",
     "output_type": "stream",
     "text": [
      "https://www.tripadvisor.com.mx/Hotel_Review-g150812-d12700386-Reviews-or75-The_Reef_28-Playa_del_Carmen_Yucatan_Peninsula.html\n"
     ]
    },
    {
     "name": "stderr",
     "output_type": "stream",
     "text": [
      "C:\\Users\\israel.vargas\\AppData\\Local\\Continuum\\anaconda3\\envs\\EnvPos\\lib\\site-packages\\urllib3\\connectionpool.py:847: InsecureRequestWarning: Unverified HTTPS request is being made. Adding certificate verification is strongly advised. See: https://urllib3.readthedocs.io/en/latest/advanced-usage.html#ssl-warnings\n",
      "  InsecureRequestWarning)\n"
     ]
    },
    {
     "name": "stdout",
     "output_type": "stream",
     "text": [
      "https://www.tripadvisor.com.mx/Hotel_Review-g150812-d12700386-Reviews-or80-The_Reef_28-Playa_del_Carmen_Yucatan_Peninsula.html\n"
     ]
    },
    {
     "name": "stderr",
     "output_type": "stream",
     "text": [
      "C:\\Users\\israel.vargas\\AppData\\Local\\Continuum\\anaconda3\\envs\\EnvPos\\lib\\site-packages\\urllib3\\connectionpool.py:847: InsecureRequestWarning: Unverified HTTPS request is being made. Adding certificate verification is strongly advised. See: https://urllib3.readthedocs.io/en/latest/advanced-usage.html#ssl-warnings\n",
      "  InsecureRequestWarning)\n"
     ]
    },
    {
     "name": "stdout",
     "output_type": "stream",
     "text": [
      "https://www.tripadvisor.com.mx/Hotel_Review-g150812-d12700386-Reviews-or85-The_Reef_28-Playa_del_Carmen_Yucatan_Peninsula.html\n"
     ]
    },
    {
     "name": "stderr",
     "output_type": "stream",
     "text": [
      "C:\\Users\\israel.vargas\\AppData\\Local\\Continuum\\anaconda3\\envs\\EnvPos\\lib\\site-packages\\urllib3\\connectionpool.py:847: InsecureRequestWarning: Unverified HTTPS request is being made. Adding certificate verification is strongly advised. See: https://urllib3.readthedocs.io/en/latest/advanced-usage.html#ssl-warnings\n",
      "  InsecureRequestWarning)\n"
     ]
    },
    {
     "name": "stdout",
     "output_type": "stream",
     "text": [
      "https://www.tripadvisor.com.mx/Hotel_Review-g150812-d12700386-Reviews-or90-The_Reef_28-Playa_del_Carmen_Yucatan_Peninsula.html\n"
     ]
    },
    {
     "name": "stderr",
     "output_type": "stream",
     "text": [
      "C:\\Users\\israel.vargas\\AppData\\Local\\Continuum\\anaconda3\\envs\\EnvPos\\lib\\site-packages\\urllib3\\connectionpool.py:847: InsecureRequestWarning: Unverified HTTPS request is being made. Adding certificate verification is strongly advised. See: https://urllib3.readthedocs.io/en/latest/advanced-usage.html#ssl-warnings\n",
      "  InsecureRequestWarning)\n"
     ]
    },
    {
     "name": "stdout",
     "output_type": "stream",
     "text": [
      "['Excelente', 'Bueno', 'Regular', 'Malo', 'Pésimo', 'Ver opiniones sobre seguridad (1)', 'Mar-may', 'Jun-ago', 'Sep-nov', 'Dic-feb', 'Familias', 'Parejas', 'Solo', 'Negocios', 'Amigos']\n",
      "['15,759', '2,732', '855', '387', '326']\n",
      "https://www.tripadvisor.com.mx/Hotel_Review-g150812-d530483-Reviews-or5-Hilton_Playa_del_Carmen_an_All_Inclusive_Adult_Only_Resort-Playa_del_Carmen_Yucatan_Pen.html\n"
     ]
    },
    {
     "name": "stderr",
     "output_type": "stream",
     "text": [
      "C:\\Users\\israel.vargas\\AppData\\Local\\Continuum\\anaconda3\\envs\\EnvPos\\lib\\site-packages\\urllib3\\connectionpool.py:847: InsecureRequestWarning: Unverified HTTPS request is being made. Adding certificate verification is strongly advised. See: https://urllib3.readthedocs.io/en/latest/advanced-usage.html#ssl-warnings\n",
      "  InsecureRequestWarning)\n",
      "C:\\Users\\israel.vargas\\AppData\\Local\\Continuum\\anaconda3\\envs\\EnvPos\\lib\\site-packages\\urllib3\\connectionpool.py:847: InsecureRequestWarning: Unverified HTTPS request is being made. Adding certificate verification is strongly advised. See: https://urllib3.readthedocs.io/en/latest/advanced-usage.html#ssl-warnings\n",
      "  InsecureRequestWarning)\n"
     ]
    },
    {
     "name": "stdout",
     "output_type": "stream",
     "text": [
      "https://www.tripadvisor.com.mx/Hotel_Review-g150812-d530483-Reviews-or10-Hilton_Playa_del_Carmen_an_All_Inclusive_Adult_Only_Resort-Playa_del_Carmen_Yucatan.html\n"
     ]
    },
    {
     "name": "stderr",
     "output_type": "stream",
     "text": [
      "C:\\Users\\israel.vargas\\AppData\\Local\\Continuum\\anaconda3\\envs\\EnvPos\\lib\\site-packages\\urllib3\\connectionpool.py:847: InsecureRequestWarning: Unverified HTTPS request is being made. Adding certificate verification is strongly advised. See: https://urllib3.readthedocs.io/en/latest/advanced-usage.html#ssl-warnings\n",
      "  InsecureRequestWarning)\n",
      "C:\\Users\\israel.vargas\\AppData\\Local\\Continuum\\anaconda3\\envs\\EnvPos\\lib\\site-packages\\urllib3\\connectionpool.py:847: InsecureRequestWarning: Unverified HTTPS request is being made. Adding certificate verification is strongly advised. See: https://urllib3.readthedocs.io/en/latest/advanced-usage.html#ssl-warnings\n",
      "  InsecureRequestWarning)\n"
     ]
    },
    {
     "name": "stdout",
     "output_type": "stream",
     "text": [
      "https://www.tripadvisor.com.mx/Hotel_Review-g150812-d530483-Reviews-or15-Hilton_Playa_del_Carmen_an_All_Inclusive_Adult_Only_Resort-Playa_del_Carmen_Yucata.html\n"
     ]
    },
    {
     "name": "stderr",
     "output_type": "stream",
     "text": [
      "C:\\Users\\israel.vargas\\AppData\\Local\\Continuum\\anaconda3\\envs\\EnvPos\\lib\\site-packages\\urllib3\\connectionpool.py:847: InsecureRequestWarning: Unverified HTTPS request is being made. Adding certificate verification is strongly advised. See: https://urllib3.readthedocs.io/en/latest/advanced-usage.html#ssl-warnings\n",
      "  InsecureRequestWarning)\n"
     ]
    },
    {
     "name": "stdout",
     "output_type": "stream",
     "text": [
      "https://www.tripadvisor.com.mx/Hotel_Review-g150812-d530483-Reviews-or20-Hilton_Playa_del_Carmen_an_All_Inclusive_Adult_Only_Resort-Playa_del_Carmen_Yucata.html\n"
     ]
    },
    {
     "name": "stderr",
     "output_type": "stream",
     "text": [
      "C:\\Users\\israel.vargas\\AppData\\Local\\Continuum\\anaconda3\\envs\\EnvPos\\lib\\site-packages\\urllib3\\connectionpool.py:847: InsecureRequestWarning: Unverified HTTPS request is being made. Adding certificate verification is strongly advised. See: https://urllib3.readthedocs.io/en/latest/advanced-usage.html#ssl-warnings\n",
      "  InsecureRequestWarning)\n"
     ]
    },
    {
     "name": "stdout",
     "output_type": "stream",
     "text": [
      "https://www.tripadvisor.com.mx/Hotel_Review-g150812-d530483-Reviews-or25-Hilton_Playa_del_Carmen_an_All_Inclusive_Adult_Only_Resort-Playa_del_Carmen_Yucata.html\n"
     ]
    },
    {
     "name": "stderr",
     "output_type": "stream",
     "text": [
      "C:\\Users\\israel.vargas\\AppData\\Local\\Continuum\\anaconda3\\envs\\EnvPos\\lib\\site-packages\\urllib3\\connectionpool.py:847: InsecureRequestWarning: Unverified HTTPS request is being made. Adding certificate verification is strongly advised. See: https://urllib3.readthedocs.io/en/latest/advanced-usage.html#ssl-warnings\n",
      "  InsecureRequestWarning)\n"
     ]
    },
    {
     "name": "stdout",
     "output_type": "stream",
     "text": [
      "https://www.tripadvisor.com.mx/Hotel_Review-g150812-d530483-Reviews-or30-Hilton_Playa_del_Carmen_an_All_Inclusive_Adult_Only_Resort-Playa_del_Carmen_Yucata.html\n"
     ]
    },
    {
     "name": "stderr",
     "output_type": "stream",
     "text": [
      "C:\\Users\\israel.vargas\\AppData\\Local\\Continuum\\anaconda3\\envs\\EnvPos\\lib\\site-packages\\urllib3\\connectionpool.py:847: InsecureRequestWarning: Unverified HTTPS request is being made. Adding certificate verification is strongly advised. See: https://urllib3.readthedocs.io/en/latest/advanced-usage.html#ssl-warnings\n",
      "  InsecureRequestWarning)\n"
     ]
    },
    {
     "name": "stdout",
     "output_type": "stream",
     "text": [
      "https://www.tripadvisor.com.mx/Hotel_Review-g150812-d530483-Reviews-or35-Hilton_Playa_del_Carmen_an_All_Inclusive_Adult_Only_Resort-Playa_del_Carmen_Yucata.html\n"
     ]
    },
    {
     "name": "stderr",
     "output_type": "stream",
     "text": [
      "C:\\Users\\israel.vargas\\AppData\\Local\\Continuum\\anaconda3\\envs\\EnvPos\\lib\\site-packages\\urllib3\\connectionpool.py:847: InsecureRequestWarning: Unverified HTTPS request is being made. Adding certificate verification is strongly advised. See: https://urllib3.readthedocs.io/en/latest/advanced-usage.html#ssl-warnings\n",
      "  InsecureRequestWarning)\n"
     ]
    },
    {
     "name": "stdout",
     "output_type": "stream",
     "text": [
      "https://www.tripadvisor.com.mx/Hotel_Review-g150812-d530483-Reviews-or40-Hilton_Playa_del_Carmen_an_All_Inclusive_Adult_Only_Resort-Playa_del_Carmen_Yucata.html\n"
     ]
    },
    {
     "name": "stderr",
     "output_type": "stream",
     "text": [
      "C:\\Users\\israel.vargas\\AppData\\Local\\Continuum\\anaconda3\\envs\\EnvPos\\lib\\site-packages\\urllib3\\connectionpool.py:847: InsecureRequestWarning: Unverified HTTPS request is being made. Adding certificate verification is strongly advised. See: https://urllib3.readthedocs.io/en/latest/advanced-usage.html#ssl-warnings\n",
      "  InsecureRequestWarning)\n"
     ]
    },
    {
     "name": "stdout",
     "output_type": "stream",
     "text": [
      "https://www.tripadvisor.com.mx/Hotel_Review-g150812-d530483-Reviews-or45-Hilton_Playa_del_Carmen_an_All_Inclusive_Adult_Only_Resort-Playa_del_Carmen_Yucata.html\n"
     ]
    },
    {
     "name": "stderr",
     "output_type": "stream",
     "text": [
      "C:\\Users\\israel.vargas\\AppData\\Local\\Continuum\\anaconda3\\envs\\EnvPos\\lib\\site-packages\\urllib3\\connectionpool.py:847: InsecureRequestWarning: Unverified HTTPS request is being made. Adding certificate verification is strongly advised. See: https://urllib3.readthedocs.io/en/latest/advanced-usage.html#ssl-warnings\n",
      "  InsecureRequestWarning)\n"
     ]
    },
    {
     "name": "stdout",
     "output_type": "stream",
     "text": [
      "https://www.tripadvisor.com.mx/Hotel_Review-g150812-d530483-Reviews-or50-Hilton_Playa_del_Carmen_an_All_Inclusive_Adult_Only_Resort-Playa_del_Carmen_Yucata.html\n"
     ]
    },
    {
     "name": "stderr",
     "output_type": "stream",
     "text": [
      "C:\\Users\\israel.vargas\\AppData\\Local\\Continuum\\anaconda3\\envs\\EnvPos\\lib\\site-packages\\urllib3\\connectionpool.py:847: InsecureRequestWarning: Unverified HTTPS request is being made. Adding certificate verification is strongly advised. See: https://urllib3.readthedocs.io/en/latest/advanced-usage.html#ssl-warnings\n",
      "  InsecureRequestWarning)\n"
     ]
    },
    {
     "name": "stdout",
     "output_type": "stream",
     "text": [
      "https://www.tripadvisor.com.mx/Hotel_Review-g150812-d530483-Reviews-or55-Hilton_Playa_del_Carmen_an_All_Inclusive_Adult_Only_Resort-Playa_del_Carmen_Yucata.html\n"
     ]
    },
    {
     "name": "stderr",
     "output_type": "stream",
     "text": [
      "C:\\Users\\israel.vargas\\AppData\\Local\\Continuum\\anaconda3\\envs\\EnvPos\\lib\\site-packages\\urllib3\\connectionpool.py:847: InsecureRequestWarning: Unverified HTTPS request is being made. Adding certificate verification is strongly advised. See: https://urllib3.readthedocs.io/en/latest/advanced-usage.html#ssl-warnings\n",
      "  InsecureRequestWarning)\n"
     ]
    },
    {
     "name": "stdout",
     "output_type": "stream",
     "text": [
      "https://www.tripadvisor.com.mx/Hotel_Review-g150812-d530483-Reviews-or60-Hilton_Playa_del_Carmen_an_All_Inclusive_Adult_Only_Resort-Playa_del_Carmen_Yucata.html\n"
     ]
    },
    {
     "name": "stderr",
     "output_type": "stream",
     "text": [
      "C:\\Users\\israel.vargas\\AppData\\Local\\Continuum\\anaconda3\\envs\\EnvPos\\lib\\site-packages\\urllib3\\connectionpool.py:847: InsecureRequestWarning: Unverified HTTPS request is being made. Adding certificate verification is strongly advised. See: https://urllib3.readthedocs.io/en/latest/advanced-usage.html#ssl-warnings\n",
      "  InsecureRequestWarning)\n"
     ]
    },
    {
     "name": "stdout",
     "output_type": "stream",
     "text": [
      "https://www.tripadvisor.com.mx/Hotel_Review-g150812-d530483-Reviews-or65-Hilton_Playa_del_Carmen_an_All_Inclusive_Adult_Only_Resort-Playa_del_Carmen_Yucata.html\n"
     ]
    },
    {
     "name": "stderr",
     "output_type": "stream",
     "text": [
      "C:\\Users\\israel.vargas\\AppData\\Local\\Continuum\\anaconda3\\envs\\EnvPos\\lib\\site-packages\\urllib3\\connectionpool.py:847: InsecureRequestWarning: Unverified HTTPS request is being made. Adding certificate verification is strongly advised. See: https://urllib3.readthedocs.io/en/latest/advanced-usage.html#ssl-warnings\n",
      "  InsecureRequestWarning)\n"
     ]
    },
    {
     "name": "stdout",
     "output_type": "stream",
     "text": [
      "https://www.tripadvisor.com.mx/Hotel_Review-g150812-d530483-Reviews-or70-Hilton_Playa_del_Carmen_an_All_Inclusive_Adult_Only_Resort-Playa_del_Carmen_Yucata.html\n"
     ]
    },
    {
     "name": "stderr",
     "output_type": "stream",
     "text": [
      "C:\\Users\\israel.vargas\\AppData\\Local\\Continuum\\anaconda3\\envs\\EnvPos\\lib\\site-packages\\urllib3\\connectionpool.py:847: InsecureRequestWarning: Unverified HTTPS request is being made. Adding certificate verification is strongly advised. See: https://urllib3.readthedocs.io/en/latest/advanced-usage.html#ssl-warnings\n",
      "  InsecureRequestWarning)\n"
     ]
    },
    {
     "name": "stdout",
     "output_type": "stream",
     "text": [
      "https://www.tripadvisor.com.mx/Hotel_Review-g150812-d530483-Reviews-or75-Hilton_Playa_del_Carmen_an_All_Inclusive_Adult_Only_Resort-Playa_del_Carmen_Yucata.html\n"
     ]
    },
    {
     "name": "stderr",
     "output_type": "stream",
     "text": [
      "C:\\Users\\israel.vargas\\AppData\\Local\\Continuum\\anaconda3\\envs\\EnvPos\\lib\\site-packages\\urllib3\\connectionpool.py:847: InsecureRequestWarning: Unverified HTTPS request is being made. Adding certificate verification is strongly advised. See: https://urllib3.readthedocs.io/en/latest/advanced-usage.html#ssl-warnings\n",
      "  InsecureRequestWarning)\n"
     ]
    },
    {
     "name": "stdout",
     "output_type": "stream",
     "text": [
      "https://www.tripadvisor.com.mx/Hotel_Review-g150812-d530483-Reviews-or80-Hilton_Playa_del_Carmen_an_All_Inclusive_Adult_Only_Resort-Playa_del_Carmen_Yucata.html\n"
     ]
    },
    {
     "name": "stderr",
     "output_type": "stream",
     "text": [
      "C:\\Users\\israel.vargas\\AppData\\Local\\Continuum\\anaconda3\\envs\\EnvPos\\lib\\site-packages\\urllib3\\connectionpool.py:847: InsecureRequestWarning: Unverified HTTPS request is being made. Adding certificate verification is strongly advised. See: https://urllib3.readthedocs.io/en/latest/advanced-usage.html#ssl-warnings\n",
      "  InsecureRequestWarning)\n"
     ]
    },
    {
     "name": "stdout",
     "output_type": "stream",
     "text": [
      "https://www.tripadvisor.com.mx/Hotel_Review-g150812-d530483-Reviews-or85-Hilton_Playa_del_Carmen_an_All_Inclusive_Adult_Only_Resort-Playa_del_Carmen_Yucata.html\n"
     ]
    },
    {
     "name": "stderr",
     "output_type": "stream",
     "text": [
      "C:\\Users\\israel.vargas\\AppData\\Local\\Continuum\\anaconda3\\envs\\EnvPos\\lib\\site-packages\\urllib3\\connectionpool.py:847: InsecureRequestWarning: Unverified HTTPS request is being made. Adding certificate verification is strongly advised. See: https://urllib3.readthedocs.io/en/latest/advanced-usage.html#ssl-warnings\n",
      "  InsecureRequestWarning)\n"
     ]
    },
    {
     "name": "stdout",
     "output_type": "stream",
     "text": [
      "https://www.tripadvisor.com.mx/Hotel_Review-g150812-d530483-Reviews-or90-Hilton_Playa_del_Carmen_an_All_Inclusive_Adult_Only_Resort-Playa_del_Carmen_Yucata.html\n"
     ]
    },
    {
     "name": "stderr",
     "output_type": "stream",
     "text": [
      "C:\\Users\\israel.vargas\\AppData\\Local\\Continuum\\anaconda3\\envs\\EnvPos\\lib\\site-packages\\urllib3\\connectionpool.py:847: InsecureRequestWarning: Unverified HTTPS request is being made. Adding certificate verification is strongly advised. See: https://urllib3.readthedocs.io/en/latest/advanced-usage.html#ssl-warnings\n",
      "  InsecureRequestWarning)\n"
     ]
    }
   ],
   "source": [
    "###\n",
    "# Using of TripAdvisor\n",
    "###\n",
    "url = ['https://www.tripadvisor.com.mx/Hotel_Review-g150812-d8903733-Reviews-Live_Aqua_Boutique_Resort_Playa_del_Carmen-Playa_del_Carmen_Yucatan_Peninsula.html',\n",
    "       'https://www.tripadvisor.com.mx/Hotel_Review-g150812-d10540838-Reviews-Fiesta_Inn_Playa_Del_Carmen-Playa_del_Carmen_Yucatan_Peninsula.html',\n",
    "       'https://www.tripadvisor.com.mx/Hotel_Review-g150812-d1789781-Reviews-One_Playa_Del_Carmen-Playa_del_Carmen_Yucatan_Peninsula.html',\n",
    "       'https://www.tripadvisor.com.mx/Hotel_Review-g150812-d630613-Reviews-Hotel_Magic_Express-Playa_del_Carmen_Yucatan_Peninsula.html',\n",
    "       'https://www.tripadvisor.com.mx/Hotel_Review-g150812-d2298835-Reviews-City_Express_Playa_del_Carmen-Playa_del_Carmen_Yucatan_Peninsula.html',\n",
    "       'https://www.tripadvisor.com.mx/Hotel_Review-g150812-d12700386-Reviews-The_Reef_28-Playa_del_Carmen_Yucatan_Peninsula.html',\n",
    "       'https://www.tripadvisor.com.mx/Hotel_Review-g150812-d530483-Reviews-Hilton_Playa_del_Carmen_an_All_Inclusive_Adult_Only_Resort-Playa_del_Carmen_Yucatan_Pen.html']\n",
    "name = ['Live Aqua Boutique Resort Playa del Carmen',\n",
    "        'Fiesta Inn Playa del Carmen',\n",
    "        'One Playa del Carmen',\n",
    "        'Hotel Magic Express Playa del Carmen',\n",
    "        'City Express Playa del Carmen',\n",
    "        'The Reef 28',\n",
    "        'Hilton Playa del Carmen, an All-Inclusive Adult Only Resort']\n",
    "for i in range(7):   \n",
    "    df_gencom,df_comentarios = _selenium_booking_LABRPC(url[i])\n",
    "\n",
    "    # Información general de las opiniones\n",
    "    df_gencom.to_csv('./DataPC/'+name[i]+'_GC.csv',index=False,encoding='utf-8-sig')\n",
    "\n",
    "    # Ubicacion: \n",
    "        # Hoteles cercanos (Primeros 15 hoteles)\n",
    "        # Restaurantes\n",
    "        # Atracciones\n",
    "\n",
    "    # Comentarios\n",
    "    df_comentarios.to_csv('./DataPC/'+name[i]+'_Comments.csv',index=False,encoding='utf-8-sig')"
   ]
  },
  {
   "cell_type": "code",
   "execution_count": 195,
   "metadata": {},
   "outputs": [
    {
     "name": "stdout",
     "output_type": "stream",
     "text": [
      "The geograpical coordinate of Mexico are 20.632934, -87.0673638.\n"
     ]
    }
   ],
   "source": [
    "address = 'Live Aqua Playa del Carmen'\n",
    "\n",
    "geolocator = Nominatim(user_agent=\"mex_explorer\")\n",
    "location = geolocator.geocode(address)\n",
    "latitude = location.latitude\n",
    "longitude = location.longitude\n",
    "print('The geograpical coordinate of Mexico are {}, {}.'.format(latitude, longitude))"
   ]
  },
  {
   "cell_type": "code",
   "execution_count": 196,
   "metadata": {},
   "outputs": [
    {
     "name": "stdout",
     "output_type": "stream",
     "text": [
      "The geograpical coordinate of Mexico are 20.6328317, -87.0694494.\n"
     ]
    }
   ],
   "source": [
    "address = 'Fiesta Inn Playa del Carmen'\n",
    "\n",
    "geolocator = Nominatim(user_agent=\"mex_explorer\")\n",
    "location = geolocator.geocode(address)\n",
    "latitude = location.latitude\n",
    "longitude = location.longitude\n",
    "print('The geograpical coordinate of Mexico are {}, {}.'.format(latitude, longitude))"
   ]
  },
  {
   "cell_type": "code",
   "execution_count": 197,
   "metadata": {},
   "outputs": [
    {
     "name": "stdout",
     "output_type": "stream",
     "text": [
      "The geograpical coordinate of Mexico are 20.6304397, -87.0694051.\n"
     ]
    }
   ],
   "source": [
    "address = 'One Playa del Carmen'\n",
    "\n",
    "geolocator = Nominatim(user_agent=\"mex_explorer\")\n",
    "location = geolocator.geocode(address)\n",
    "latitude = location.latitude\n",
    "longitude = location.longitude\n",
    "print('The geograpical coordinate of Mexico are {}, {}.'.format(latitude, longitude))"
   ]
  },
  {
   "cell_type": "code",
   "execution_count": 199,
   "metadata": {},
   "outputs": [
    {
     "name": "stdout",
     "output_type": "stream",
     "text": [
      "The geograpical coordinate of Mexico are 20.6211706, -87.0751165.\n"
     ]
    }
   ],
   "source": [
    "address = 'The Reef 28 Playa del Carmen'\n",
    "\n",
    "geolocator = Nominatim(user_agent=\"mex_explorer\")\n",
    "location = geolocator.geocode(address)\n",
    "latitude = location.latitude\n",
    "longitude = location.longitude\n",
    "print('The geograpical coordinate of Mexico are {}, {}.'.format(latitude, longitude))"
   ]
  },
  {
   "cell_type": "code",
   "execution_count": 201,
   "metadata": {},
   "outputs": [
    {
     "name": "stdout",
     "output_type": "stream",
     "text": [
      "The geograpical coordinate of Mexico are 20.6207551, -87.0894277.\n"
     ]
    }
   ],
   "source": [
    "address = 'City Express Playa del Carmen'\n",
    "\n",
    "geolocator = Nominatim(user_agent=\"mex_explorer\")\n",
    "location = geolocator.geocode(address)\n",
    "latitude = location.latitude\n",
    "longitude = location.longitude\n",
    "print('The geograpical coordinate of Mexico are {}, {}.'.format(latitude, longitude))"
   ]
  },
  {
   "cell_type": "code",
   "execution_count": 379,
   "metadata": {},
   "outputs": [
    {
     "name": "stdout",
     "output_type": "stream",
     "text": [
      "Lugar no encontrado\n",
      "Lugar no encontrado\n",
      "Lugar no encontrado\n",
      "Lugar no encontrado\n",
      "Lugar no encontrado\n",
      "Lugar no encontrado\n",
      "Lugar no encontrado\n"
     ]
    }
   ],
   "source": [
    "lugares = ['Luma taverna del mar',\n",
    "'500 Gramos Grill',\n",
    "'Rockas Jamaican Kitchen',\n",
    "'Micaelas'\n",
    "'Coralina Daylight Club',\n",
    "'Quinta Alegria Shopping Mall',\n",
    "'Kitxen',\n",
    "'Ambarte']\n",
    "\n",
    "for value in lugares:\n",
    "    try:\n",
    "        geolocator = Nominatim(user_agent=\"mex_explorer\")\n",
    "        location = geolocator.geocode(address)\n",
    "        latitude = location.latitude\n",
    "        longitude = location.longitude\n",
    "        print('The geograpical coordinate of Mexico are {}, {}.'.format(latitude, longitude))\n",
    "    except:\n",
    "        print(\"Lugar no encontrado\")\n",
    "    "
   ]
  }
 ],
 "metadata": {
  "kernelspec": {
   "display_name": "Python 3",
   "language": "python",
   "name": "python3"
  },
  "language_info": {
   "codemirror_mode": {
    "name": "ipython",
    "version": 3
   },
   "file_extension": ".py",
   "mimetype": "text/x-python",
   "name": "python",
   "nbconvert_exporter": "python",
   "pygments_lexer": "ipython3",
   "version": "3.7.1"
  }
 },
 "nbformat": 4,
 "nbformat_minor": 2
}
