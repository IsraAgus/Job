{
 "cells": [
  {
   "cell_type": "markdown",
   "metadata": {},
   "source": [
    "<H1><CENTER>OPI PROCING</CENTER></H1>\n",
    "<img src='./Data/Capture.JPG'>\n",
    "<H3><CENTER>Descripcion:</CENTER></H3>\n",
    "<H5><CENTER>Crear clusters de los Hoteles para determinar en cuales se puede mover la tarifa.</CENTER></H5>"
   ]
  },
  {
   "cell_type": "markdown",
   "metadata": {},
   "source": [
    "### IMPORTACION DE LIBRERIAS"
   ]
  },
  {
   "cell_type": "code",
   "execution_count": 183,
   "metadata": {},
   "outputs": [],
   "source": [
    "###\n",
    "# IMPORTACIONES NECESARIAS\n",
    "###\n",
    "import plotly.plotly as py\n",
    "import plotly.figure_factory as ff\n",
    "import plotly.graph_objs as go\n",
    "from plotly.graph_objs import *\n",
    "import pandas as pd\n",
    "import numpy as np\n",
    "import scipy as sp\n",
    "import plotly \n",
    "from IPython.display import IFrame \n",
    "import matplotlib.pyplot as plt\n",
    "import cufflinks as cf\n",
    "import statistics"
   ]
  },
  {
   "cell_type": "code",
   "execution_count": 63,
   "metadata": {},
   "outputs": [],
   "source": [
    "%matplotlib inline"
   ]
  },
  {
   "cell_type": "code",
   "execution_count": 2,
   "metadata": {},
   "outputs": [],
   "source": [
    "###\n",
    "# API KEY PARA PLOTLY\n",
    "###\n",
    "plotly.tools.set_credentials_file(username='Israel.Vargas', api_key='wqx2U9kneSEyGJ4ZjrsY')"
   ]
  },
  {
   "cell_type": "markdown",
   "metadata": {},
   "source": [
    "### LIMPIEZA DE LOS DATOS:\n",
    "**Cargamos los datos, rellenamos los datos del canal de posadas que sean nulos con \"WALKIN\" y creamos una agrupacion con una nueva columna que contenga la frecuencia de los dias de diferencia entre la fecha de llegada y la fecha de reserva**"
   ]
  },
  {
   "cell_type": "code",
   "execution_count": 6,
   "metadata": {},
   "outputs": [
    {
     "data": {
      "text/html": [
       "<div>\n",
       "<style scoped>\n",
       "    .dataframe tbody tr th:only-of-type {\n",
       "        vertical-align: middle;\n",
       "    }\n",
       "\n",
       "    .dataframe tbody tr th {\n",
       "        vertical-align: top;\n",
       "    }\n",
       "\n",
       "    .dataframe thead th {\n",
       "        text-align: right;\n",
       "    }\n",
       "</style>\n",
       "<table border=\"1\" class=\"dataframe\">\n",
       "  <thead>\n",
       "    <tr style=\"text-align: right;\">\n",
       "      <th></th>\n",
       "      <th>Hotel</th>\n",
       "      <th>CANAL POSADAS</th>\n",
       "      <th>Marca</th>\n",
       "      <th>num_Resv</th>\n",
       "      <th>days</th>\n",
       "    </tr>\n",
       "  </thead>\n",
       "  <tbody>\n",
       "    <tr>\n",
       "      <th>0</th>\n",
       "      <td>OAC</td>\n",
       "      <td>NaN</td>\n",
       "      <td>ONE</td>\n",
       "      <td>1</td>\n",
       "      <td>NaN</td>\n",
       "    </tr>\n",
       "    <tr>\n",
       "      <th>1</th>\n",
       "      <td>OAC</td>\n",
       "      <td>NaN</td>\n",
       "      <td>ONE</td>\n",
       "      <td>1</td>\n",
       "      <td>0.0</td>\n",
       "    </tr>\n",
       "    <tr>\n",
       "      <th>2</th>\n",
       "      <td>OAC</td>\n",
       "      <td>NaN</td>\n",
       "      <td>ONE</td>\n",
       "      <td>1</td>\n",
       "      <td>0.0</td>\n",
       "    </tr>\n",
       "    <tr>\n",
       "      <th>3</th>\n",
       "      <td>OAC</td>\n",
       "      <td>NaN</td>\n",
       "      <td>ONE</td>\n",
       "      <td>1</td>\n",
       "      <td>0.0</td>\n",
       "    </tr>\n",
       "    <tr>\n",
       "      <th>4</th>\n",
       "      <td>OAC</td>\n",
       "      <td>NaN</td>\n",
       "      <td>ONE</td>\n",
       "      <td>2</td>\n",
       "      <td>0.0</td>\n",
       "    </tr>\n",
       "  </tbody>\n",
       "</table>\n",
       "</div>"
      ],
      "text/plain": [
       "  Hotel CANAL POSADAS Marca  num_Resv  days\n",
       "0   OAC           NaN   ONE         1   NaN\n",
       "1   OAC           NaN   ONE         1   0.0\n",
       "2   OAC           NaN   ONE         1   0.0\n",
       "3   OAC           NaN   ONE         1   0.0\n",
       "4   OAC           NaN   ONE         2   0.0"
      ]
     },
     "execution_count": 6,
     "metadata": {},
     "output_type": "execute_result"
    }
   ],
   "source": [
    "###\n",
    "# Cargando Data\n",
    "###\n",
    "data = pd.read_csv(r\"./Data/Denograma.csv\",low_memory=False)\n",
    "data.head()"
   ]
  },
  {
   "cell_type": "code",
   "execution_count": 7,
   "metadata": {},
   "outputs": [],
   "source": [
    "###\n",
    "# Rellenando los WALKIN\n",
    "###\n",
    "data.fillna(value={'CANAL POSADAS':'WALKIN'},inplace=True)\n",
    "data.head()"
   ]
  },
  {
   "cell_type": "code",
   "execution_count": 23,
   "metadata": {},
   "outputs": [
    {
     "name": "stdout",
     "output_type": "stream",
     "text": [
      "(9445, 4)\n"
     ]
    },
    {
     "data": {
      "text/html": [
       "<div>\n",
       "<style scoped>\n",
       "    .dataframe tbody tr th:only-of-type {\n",
       "        vertical-align: middle;\n",
       "    }\n",
       "\n",
       "    .dataframe tbody tr th {\n",
       "        vertical-align: top;\n",
       "    }\n",
       "\n",
       "    .dataframe thead th {\n",
       "        text-align: right;\n",
       "    }\n",
       "</style>\n",
       "<table border=\"1\" class=\"dataframe\">\n",
       "  <thead>\n",
       "    <tr style=\"text-align: right;\">\n",
       "      <th></th>\n",
       "      <th>Hotel</th>\n",
       "      <th>CANAL POSADAS</th>\n",
       "      <th>days</th>\n",
       "      <th>Freq</th>\n",
       "    </tr>\n",
       "  </thead>\n",
       "  <tbody>\n",
       "    <tr>\n",
       "      <th>0</th>\n",
       "      <td>OAC</td>\n",
       "      <td>CORPO-RATE</td>\n",
       "      <td>0.0</td>\n",
       "      <td>35</td>\n",
       "    </tr>\n",
       "    <tr>\n",
       "      <th>1</th>\n",
       "      <td>OAC</td>\n",
       "      <td>CORPO-RATE</td>\n",
       "      <td>1.0</td>\n",
       "      <td>23</td>\n",
       "    </tr>\n",
       "    <tr>\n",
       "      <th>2</th>\n",
       "      <td>OAC</td>\n",
       "      <td>CORPO-RATE</td>\n",
       "      <td>4.0</td>\n",
       "      <td>18</td>\n",
       "    </tr>\n",
       "    <tr>\n",
       "      <th>3</th>\n",
       "      <td>OAC</td>\n",
       "      <td>CORPO-RATE</td>\n",
       "      <td>3.0</td>\n",
       "      <td>17</td>\n",
       "    </tr>\n",
       "    <tr>\n",
       "      <th>4</th>\n",
       "      <td>OAC</td>\n",
       "      <td>CORPO-RATE</td>\n",
       "      <td>2.0</td>\n",
       "      <td>14</td>\n",
       "    </tr>\n",
       "    <tr>\n",
       "      <th>5</th>\n",
       "      <td>OAC</td>\n",
       "      <td>CORPO-RATE</td>\n",
       "      <td>5.0</td>\n",
       "      <td>10</td>\n",
       "    </tr>\n",
       "    <tr>\n",
       "      <th>6</th>\n",
       "      <td>OAC</td>\n",
       "      <td>CORPO-RATE</td>\n",
       "      <td>6.0</td>\n",
       "      <td>8</td>\n",
       "    </tr>\n",
       "    <tr>\n",
       "      <th>7</th>\n",
       "      <td>OAC</td>\n",
       "      <td>CORPO-RATE</td>\n",
       "      <td>7.0</td>\n",
       "      <td>8</td>\n",
       "    </tr>\n",
       "    <tr>\n",
       "      <th>8</th>\n",
       "      <td>OAC</td>\n",
       "      <td>CORPO-RATE</td>\n",
       "      <td>8.0</td>\n",
       "      <td>8</td>\n",
       "    </tr>\n",
       "    <tr>\n",
       "      <th>9</th>\n",
       "      <td>OAC</td>\n",
       "      <td>CORPO-RATE</td>\n",
       "      <td>10.0</td>\n",
       "      <td>4</td>\n",
       "    </tr>\n",
       "    <tr>\n",
       "      <th>10</th>\n",
       "      <td>OAC</td>\n",
       "      <td>CORPO-RATE</td>\n",
       "      <td>17.0</td>\n",
       "      <td>4</td>\n",
       "    </tr>\n",
       "    <tr>\n",
       "      <th>11</th>\n",
       "      <td>OAC</td>\n",
       "      <td>CORPO-RATE</td>\n",
       "      <td>9.0</td>\n",
       "      <td>3</td>\n",
       "    </tr>\n",
       "    <tr>\n",
       "      <th>12</th>\n",
       "      <td>OAC</td>\n",
       "      <td>CORPO-RATE</td>\n",
       "      <td>14.0</td>\n",
       "      <td>2</td>\n",
       "    </tr>\n",
       "    <tr>\n",
       "      <th>13</th>\n",
       "      <td>OAC</td>\n",
       "      <td>CORPO-RATE</td>\n",
       "      <td>16.0</td>\n",
       "      <td>2</td>\n",
       "    </tr>\n",
       "    <tr>\n",
       "      <th>14</th>\n",
       "      <td>OAC</td>\n",
       "      <td>CORPO-RATE</td>\n",
       "      <td>19.0</td>\n",
       "      <td>2</td>\n",
       "    </tr>\n",
       "    <tr>\n",
       "      <th>15</th>\n",
       "      <td>OAC</td>\n",
       "      <td>CORPO-RATE</td>\n",
       "      <td>20.0</td>\n",
       "      <td>2</td>\n",
       "    </tr>\n",
       "    <tr>\n",
       "      <th>16</th>\n",
       "      <td>OAC</td>\n",
       "      <td>CORPO-RATE</td>\n",
       "      <td>11.0</td>\n",
       "      <td>1</td>\n",
       "    </tr>\n",
       "    <tr>\n",
       "      <th>17</th>\n",
       "      <td>OAC</td>\n",
       "      <td>CORPO-RATE</td>\n",
       "      <td>12.0</td>\n",
       "      <td>1</td>\n",
       "    </tr>\n",
       "    <tr>\n",
       "      <th>18</th>\n",
       "      <td>OAC</td>\n",
       "      <td>CORPO-RATE</td>\n",
       "      <td>13.0</td>\n",
       "      <td>1</td>\n",
       "    </tr>\n",
       "    <tr>\n",
       "      <th>19</th>\n",
       "      <td>OAC</td>\n",
       "      <td>CORPO-RATE</td>\n",
       "      <td>15.0</td>\n",
       "      <td>1</td>\n",
       "    </tr>\n",
       "    <tr>\n",
       "      <th>20</th>\n",
       "      <td>OAC</td>\n",
       "      <td>CORPO-RATE</td>\n",
       "      <td>18.0</td>\n",
       "      <td>1</td>\n",
       "    </tr>\n",
       "    <tr>\n",
       "      <th>21</th>\n",
       "      <td>OAC</td>\n",
       "      <td>CORPO-RATE</td>\n",
       "      <td>21.0</td>\n",
       "      <td>1</td>\n",
       "    </tr>\n",
       "    <tr>\n",
       "      <th>22</th>\n",
       "      <td>OAC</td>\n",
       "      <td>CORPO-RATE</td>\n",
       "      <td>24.0</td>\n",
       "      <td>1</td>\n",
       "    </tr>\n",
       "    <tr>\n",
       "      <th>23</th>\n",
       "      <td>OAC</td>\n",
       "      <td>CORPO-RATE</td>\n",
       "      <td>25.0</td>\n",
       "      <td>1</td>\n",
       "    </tr>\n",
       "    <tr>\n",
       "      <th>24</th>\n",
       "      <td>OAC</td>\n",
       "      <td>CORPO-RATE</td>\n",
       "      <td>28.0</td>\n",
       "      <td>1</td>\n",
       "    </tr>\n",
       "    <tr>\n",
       "      <th>25</th>\n",
       "      <td>OAC</td>\n",
       "      <td>CORPO-RATE</td>\n",
       "      <td>35.0</td>\n",
       "      <td>1</td>\n",
       "    </tr>\n",
       "    <tr>\n",
       "      <th>26</th>\n",
       "      <td>OAC</td>\n",
       "      <td>CORPO-RATE</td>\n",
       "      <td>39.0</td>\n",
       "      <td>1</td>\n",
       "    </tr>\n",
       "    <tr>\n",
       "      <th>27</th>\n",
       "      <td>OAC</td>\n",
       "      <td>CORPO-RATE</td>\n",
       "      <td>54.0</td>\n",
       "      <td>1</td>\n",
       "    </tr>\n",
       "    <tr>\n",
       "      <th>28</th>\n",
       "      <td>OAC</td>\n",
       "      <td>CORPO-RATE</td>\n",
       "      <td>201.0</td>\n",
       "      <td>1</td>\n",
       "    </tr>\n",
       "    <tr>\n",
       "      <th>29</th>\n",
       "      <td>OAC</td>\n",
       "      <td>GDS</td>\n",
       "      <td>0.0</td>\n",
       "      <td>43</td>\n",
       "    </tr>\n",
       "  </tbody>\n",
       "</table>\n",
       "</div>"
      ],
      "text/plain": [
       "   Hotel CANAL POSADAS   days  Freq\n",
       "0    OAC    CORPO-RATE    0.0    35\n",
       "1    OAC    CORPO-RATE    1.0    23\n",
       "2    OAC    CORPO-RATE    4.0    18\n",
       "3    OAC    CORPO-RATE    3.0    17\n",
       "4    OAC    CORPO-RATE    2.0    14\n",
       "5    OAC    CORPO-RATE    5.0    10\n",
       "6    OAC    CORPO-RATE    6.0     8\n",
       "7    OAC    CORPO-RATE    7.0     8\n",
       "8    OAC    CORPO-RATE    8.0     8\n",
       "9    OAC    CORPO-RATE   10.0     4\n",
       "10   OAC    CORPO-RATE   17.0     4\n",
       "11   OAC    CORPO-RATE    9.0     3\n",
       "12   OAC    CORPO-RATE   14.0     2\n",
       "13   OAC    CORPO-RATE   16.0     2\n",
       "14   OAC    CORPO-RATE   19.0     2\n",
       "15   OAC    CORPO-RATE   20.0     2\n",
       "16   OAC    CORPO-RATE   11.0     1\n",
       "17   OAC    CORPO-RATE   12.0     1\n",
       "18   OAC    CORPO-RATE   13.0     1\n",
       "19   OAC    CORPO-RATE   15.0     1\n",
       "20   OAC    CORPO-RATE   18.0     1\n",
       "21   OAC    CORPO-RATE   21.0     1\n",
       "22   OAC    CORPO-RATE   24.0     1\n",
       "23   OAC    CORPO-RATE   25.0     1\n",
       "24   OAC    CORPO-RATE   28.0     1\n",
       "25   OAC    CORPO-RATE   35.0     1\n",
       "26   OAC    CORPO-RATE   39.0     1\n",
       "27   OAC    CORPO-RATE   54.0     1\n",
       "28   OAC    CORPO-RATE  201.0     1\n",
       "29   OAC           GDS    0.0    43"
      ]
     },
     "execution_count": 23,
     "metadata": {},
     "output_type": "execute_result"
    }
   ],
   "source": [
    "###\n",
    "# Agrupando por Canal y Hotel la frecuencia de los días \n",
    "###\n",
    "freq = data.groupby(['Hotel','CANAL POSADAS'])['days'].value_counts().reset_index(name=\"Freq\")\n",
    "print(freq.shape)\n",
    "freq.head(30)"
   ]
  },
  {
   "cell_type": "markdown",
   "metadata": {},
   "source": [
    "### VISUALIZACIÓN:\n",
    "\n",
    "**Mostramos el histograma de la frecuencia para comprender hacia donde se carga la información de los dias.**"
   ]
  },
  {
   "cell_type": "code",
   "execution_count": 180,
   "metadata": {},
   "outputs": [],
   "source": [
    "###\n",
    "# PREPARANDO GRAFICACIÓN\n",
    "###\n",
    "data_plotly = [go.Histogram(y=freq.days)]"
   ]
  },
  {
   "cell_type": "code",
   "execution_count": 181,
   "metadata": {},
   "outputs": [
    {
     "data": {
      "text/html": [
       "<iframe id=\"igraph\" scrolling=\"no\" style=\"border:none;\" seamless=\"seamless\" src=\"https://plot.ly/~Israel.Vargas/156.embed\" height=\"525px\" width=\"100%\"></iframe>"
      ],
      "text/plain": [
       "<plotly.tools.PlotlyDisplay object>"
      ]
     },
     "execution_count": 181,
     "metadata": {},
     "output_type": "execute_result"
    }
   ],
   "source": [
    "###\n",
    "# CREANDO HISTOGRAMA DE LA FREQUENCIA\n",
    "###\n",
    "py.iplot(data_plotly)"
   ]
  },
  {
   "cell_type": "markdown",
   "metadata": {},
   "source": [
    "##### Observamos que la información se carga más a los días que son de -n hasta 14, siendo este rango el más alto en frecuencia. Por tal motivo quitamos los WALKIN y procedemos a realizar un análisis más profundo de los datos."
   ]
  },
  {
   "cell_type": "code",
   "execution_count": 52,
   "metadata": {},
   "outputs": [
    {
     "data": {
      "text/html": [
       "<div>\n",
       "<style scoped>\n",
       "    .dataframe tbody tr th:only-of-type {\n",
       "        vertical-align: middle;\n",
       "    }\n",
       "\n",
       "    .dataframe tbody tr th {\n",
       "        vertical-align: top;\n",
       "    }\n",
       "\n",
       "    .dataframe thead th {\n",
       "        text-align: right;\n",
       "    }\n",
       "</style>\n",
       "<table border=\"1\" class=\"dataframe\">\n",
       "  <thead>\n",
       "    <tr style=\"text-align: right;\">\n",
       "      <th></th>\n",
       "      <th>Hotel</th>\n",
       "      <th>CANAL POSADAS</th>\n",
       "      <th>days</th>\n",
       "      <th>Freq</th>\n",
       "    </tr>\n",
       "  </thead>\n",
       "  <tbody>\n",
       "    <tr>\n",
       "      <th>0</th>\n",
       "      <td>OAC</td>\n",
       "      <td>CORPO-RATE</td>\n",
       "      <td>0.0</td>\n",
       "      <td>35</td>\n",
       "    </tr>\n",
       "    <tr>\n",
       "      <th>1</th>\n",
       "      <td>OAC</td>\n",
       "      <td>CORPO-RATE</td>\n",
       "      <td>1.0</td>\n",
       "      <td>23</td>\n",
       "    </tr>\n",
       "    <tr>\n",
       "      <th>2</th>\n",
       "      <td>OAC</td>\n",
       "      <td>CORPO-RATE</td>\n",
       "      <td>4.0</td>\n",
       "      <td>18</td>\n",
       "    </tr>\n",
       "    <tr>\n",
       "      <th>3</th>\n",
       "      <td>OAC</td>\n",
       "      <td>CORPO-RATE</td>\n",
       "      <td>3.0</td>\n",
       "      <td>17</td>\n",
       "    </tr>\n",
       "    <tr>\n",
       "      <th>4</th>\n",
       "      <td>OAC</td>\n",
       "      <td>CORPO-RATE</td>\n",
       "      <td>2.0</td>\n",
       "      <td>14</td>\n",
       "    </tr>\n",
       "  </tbody>\n",
       "</table>\n",
       "</div>"
      ],
      "text/plain": [
       "  Hotel CANAL POSADAS  days  Freq\n",
       "0   OAC    CORPO-RATE   0.0    35\n",
       "1   OAC    CORPO-RATE   1.0    23\n",
       "2   OAC    CORPO-RATE   4.0    18\n",
       "3   OAC    CORPO-RATE   3.0    17\n",
       "4   OAC    CORPO-RATE   2.0    14"
      ]
     },
     "execution_count": 52,
     "metadata": {},
     "output_type": "execute_result"
    }
   ],
   "source": [
    "#w_W = widouth_wolkins\n",
    "w_w = freq.loc[freq['CANAL POSADAS'] != 'WALKIN']\n",
    "w_w.head()"
   ]
  },
  {
   "cell_type": "markdown",
   "metadata": {},
   "source": [
    "### AGURPACIÓN POR LA FRECUENCIA MÁXIMA.\n",
    "**¿Porque la frecuencia máxima? <br> La razón e smuy simple, no tiene ningun caso observar la frecuencia minima ya que la intención es poder tener un tiempo adecuado para que OPI pueda mover los precios, si a OPI se le da un rango de tiempo adecuado, se puede ajustar la tarifa de cada hotel con anticipación y mejorar los ingresos de la compañia.**"
   ]
  },
  {
   "cell_type": "code",
   "execution_count": 156,
   "metadata": {},
   "outputs": [
    {
     "data": {
      "text/html": [
       "<div>\n",
       "<style scoped>\n",
       "    .dataframe tbody tr th:only-of-type {\n",
       "        vertical-align: middle;\n",
       "    }\n",
       "\n",
       "    .dataframe tbody tr th {\n",
       "        vertical-align: top;\n",
       "    }\n",
       "\n",
       "    .dataframe thead th {\n",
       "        text-align: right;\n",
       "    }\n",
       "</style>\n",
       "<table border=\"1\" class=\"dataframe\">\n",
       "  <thead>\n",
       "    <tr style=\"text-align: right;\">\n",
       "      <th></th>\n",
       "      <th>Hotel</th>\n",
       "      <th>CANAL POSADAS</th>\n",
       "      <th>Max_Val</th>\n",
       "    </tr>\n",
       "  </thead>\n",
       "  <tbody>\n",
       "    <tr>\n",
       "      <th>0</th>\n",
       "      <td>OAC</td>\n",
       "      <td>CORPO-RATE</td>\n",
       "      <td>201.0</td>\n",
       "    </tr>\n",
       "    <tr>\n",
       "      <th>1</th>\n",
       "      <td>OAC</td>\n",
       "      <td>GDS</td>\n",
       "      <td>33.0</td>\n",
       "    </tr>\n",
       "    <tr>\n",
       "      <th>2</th>\n",
       "      <td>OAC</td>\n",
       "      <td>GRUPOS RL</td>\n",
       "      <td>151.0</td>\n",
       "    </tr>\n",
       "    <tr>\n",
       "      <th>3</th>\n",
       "      <td>OAC</td>\n",
       "      <td>HOTEL DATOS</td>\n",
       "      <td>72.0</td>\n",
       "    </tr>\n",
       "    <tr>\n",
       "      <th>4</th>\n",
       "      <td>OAC</td>\n",
       "      <td>HOTEL INTEGRACION</td>\n",
       "      <td>32.0</td>\n",
       "    </tr>\n",
       "    <tr>\n",
       "      <th>5</th>\n",
       "      <td>OAC</td>\n",
       "      <td>OTAs</td>\n",
       "      <td>310.0</td>\n",
       "    </tr>\n",
       "    <tr>\n",
       "      <th>6</th>\n",
       "      <td>OAC</td>\n",
       "      <td>VOZ</td>\n",
       "      <td>148.0</td>\n",
       "    </tr>\n",
       "    <tr>\n",
       "      <th>7</th>\n",
       "      <td>OAC</td>\n",
       "      <td>WEB</td>\n",
       "      <td>211.0</td>\n",
       "    </tr>\n",
       "    <tr>\n",
       "      <th>8</th>\n",
       "      <td>OAG</td>\n",
       "      <td>CORPO-RATE</td>\n",
       "      <td>23.0</td>\n",
       "    </tr>\n",
       "    <tr>\n",
       "      <th>9</th>\n",
       "      <td>OAG</td>\n",
       "      <td>GDS</td>\n",
       "      <td>25.0</td>\n",
       "    </tr>\n",
       "  </tbody>\n",
       "</table>\n",
       "</div>"
      ],
      "text/plain": [
       "  Hotel      CANAL POSADAS  Max_Val\n",
       "0   OAC         CORPO-RATE    201.0\n",
       "1   OAC                GDS     33.0\n",
       "2   OAC          GRUPOS RL    151.0\n",
       "3   OAC        HOTEL DATOS     72.0\n",
       "4   OAC  HOTEL INTEGRACION     32.0\n",
       "5   OAC               OTAs    310.0\n",
       "6   OAC                VOZ    148.0\n",
       "7   OAC                WEB    211.0\n",
       "8   OAG         CORPO-RATE     23.0\n",
       "9   OAG                GDS     25.0"
      ]
     },
     "execution_count": 156,
     "metadata": {},
     "output_type": "execute_result"
    }
   ],
   "source": [
    "aux = w_w.groupby(['Hotel','CANAL POSADAS'])['days'].max().reset_index(name=\"Max_Val\")\n",
    "aux.head(10)"
   ]
  },
  {
   "cell_type": "code",
   "execution_count": 107,
   "metadata": {},
   "outputs": [
    {
     "data": {
      "text/html": [
       "<div>\n",
       "<style scoped>\n",
       "    .dataframe tbody tr th:only-of-type {\n",
       "        vertical-align: middle;\n",
       "    }\n",
       "\n",
       "    .dataframe tbody tr th {\n",
       "        vertical-align: top;\n",
       "    }\n",
       "\n",
       "    .dataframe thead th {\n",
       "        text-align: right;\n",
       "    }\n",
       "</style>\n",
       "<table border=\"1\" class=\"dataframe\">\n",
       "  <thead>\n",
       "    <tr style=\"text-align: right;\">\n",
       "      <th></th>\n",
       "      <th>Hotel</th>\n",
       "      <th>CANAL POSADAS</th>\n",
       "      <th>Max_Val</th>\n",
       "    </tr>\n",
       "  </thead>\n",
       "  <tbody>\n",
       "    <tr>\n",
       "      <th>0</th>\n",
       "      <td>OAC</td>\n",
       "      <td>CORPO-RATE</td>\n",
       "      <td>201.0</td>\n",
       "    </tr>\n",
       "    <tr>\n",
       "      <th>1</th>\n",
       "      <td>OAC</td>\n",
       "      <td>GDS</td>\n",
       "      <td>33.0</td>\n",
       "    </tr>\n",
       "    <tr>\n",
       "      <th>2</th>\n",
       "      <td>OAC</td>\n",
       "      <td>GRUPOS RL</td>\n",
       "      <td>151.0</td>\n",
       "    </tr>\n",
       "    <tr>\n",
       "      <th>3</th>\n",
       "      <td>OAC</td>\n",
       "      <td>HOTEL DATOS</td>\n",
       "      <td>72.0</td>\n",
       "    </tr>\n",
       "    <tr>\n",
       "      <th>4</th>\n",
       "      <td>OAC</td>\n",
       "      <td>HOTEL INTEGRACION</td>\n",
       "      <td>32.0</td>\n",
       "    </tr>\n",
       "    <tr>\n",
       "      <th>5</th>\n",
       "      <td>OAC</td>\n",
       "      <td>OTAs</td>\n",
       "      <td>310.0</td>\n",
       "    </tr>\n",
       "    <tr>\n",
       "      <th>6</th>\n",
       "      <td>OAC</td>\n",
       "      <td>VOZ</td>\n",
       "      <td>148.0</td>\n",
       "    </tr>\n",
       "    <tr>\n",
       "      <th>7</th>\n",
       "      <td>OAC</td>\n",
       "      <td>WEB</td>\n",
       "      <td>211.0</td>\n",
       "    </tr>\n",
       "  </tbody>\n",
       "</table>\n",
       "</div>"
      ],
      "text/plain": [
       "  Hotel      CANAL POSADAS  Max_Val\n",
       "0   OAC         CORPO-RATE    201.0\n",
       "1   OAC                GDS     33.0\n",
       "2   OAC          GRUPOS RL    151.0\n",
       "3   OAC        HOTEL DATOS     72.0\n",
       "4   OAC  HOTEL INTEGRACION     32.0\n",
       "5   OAC               OTAs    310.0\n",
       "6   OAC                VOZ    148.0\n",
       "7   OAC                WEB    211.0"
      ]
     },
     "execution_count": 107,
     "metadata": {},
     "output_type": "execute_result"
    }
   ],
   "source": [
    "aux.loc[aux['Hotel'] == hotel]"
   ]
  },
  {
   "cell_type": "code",
   "execution_count": 146,
   "metadata": {},
   "outputs": [
    {
     "name": "stdout",
     "output_type": "stream",
     "text": [
      "44\n"
     ]
    },
    {
     "data": {
      "text/plain": [
       "array(['OAC', 'OAG', 'OAL', 'OAX', 'OCC', 'OCF', 'OCL', 'OCN', 'OCZ',\n",
       "       'ODR', 'OGA', 'OGC', 'OGD', 'OGS', 'OGV', 'OGX', 'OIR', 'OLA',\n",
       "       'OLP', 'OMN', 'OMT', 'OMX', 'OPC', 'OPF', 'OPJ', 'OPS', 'OPT',\n",
       "       'OPV', 'OPZ', 'OQA', 'OQR', 'OQS', 'ORY', 'OSC', 'OSD', 'OSL',\n",
       "       'OSM', 'OSP', 'OTL', 'OVA', 'OVC', 'OVM', 'OXC', 'OXL'],\n",
       "      dtype=object)"
      ]
     },
     "execution_count": 146,
     "metadata": {},
     "output_type": "execute_result"
    }
   ],
   "source": [
    "list_h = aux['Hotel'].unique()\n",
    "print(len(list_h))\n",
    "list_h"
   ]
  },
  {
   "cell_type": "markdown",
   "metadata": {},
   "source": [
    "## VIASUALIZACIÓN DE LA FRECUENCIA MÁS ALTA"
   ]
  },
  {
   "cell_type": "markdown",
   "metadata": {},
   "source": [
    "### <CENTER>GRAFICA QUE MUESTRA LA FRECUENCIA MÁS ALTA POR CANAL DE RESERVACIÓN DE CADA HOTEL</CENTER>"
   ]
  },
  {
   "cell_type": "code",
   "execution_count": 173,
   "metadata": {
    "scrolled": true
   },
   "outputs": [
    {
     "data": {
      "text/html": [
       "<iframe id=\"igraph\" scrolling=\"no\" style=\"border:none;\" seamless=\"seamless\" src=\"https://plot.ly/~Israel.Vargas/152.embed\" height=\"525px\" width=\"100%\"></iframe>"
      ],
      "text/plain": [
       "<plotly.tools.PlotlyDisplay object>"
      ]
     },
     "execution_count": 173,
     "metadata": {},
     "output_type": "execute_result"
    }
   ],
   "source": [
    "###\n",
    "# PLOTENADO EL MÁXIMO DE DIAS DE RESERVA POR HOTEL\n",
    "###\n",
    "canales = ['CORPO-RATE', 'GDS', 'GRUPOS RL','HOTEL DATOS','HOTEL INTEGRACION','OTAs','VOZ','WEB']\n",
    "data_aux = []\n",
    "for hotel in list_h:\n",
    "    m_v = aux.loc[aux['Hotel'] == hotel]\n",
    "    data_aux.append(go.Bar(name=hotel,x=canales,y=m_v['Max_Val']))\n",
    "\n",
    "fig = go.Figure(data=data_aux)\n",
    "fig.layout.update(barmode='group')\n",
    "py.iplot(fig)"
   ]
  },
  {
   "cell_type": "markdown",
   "metadata": {},
   "source": [
    "### <CENTER>GRAFICA QUE MUESTRA POR HOTEL LA FRECUENCIA MÁS ALTA EN CADA UNO DE SUS CANALES</CENTER>"
   ]
  },
  {
   "cell_type": "code",
   "execution_count": 123,
   "metadata": {
    "scrolled": true
   },
   "outputs": [
    {
     "data": {
      "text/html": [
       "<iframe id=\"igraph\" scrolling=\"no\" style=\"border:none;\" seamless=\"seamless\" src=\"https://plot.ly/~Israel.Vargas/80.embed\" height=\"525px\" width=\"100%\"></iframe>"
      ],
      "text/plain": [
       "<plotly.tools.PlotlyDisplay object>"
      ]
     },
     "execution_count": 123,
     "metadata": {},
     "output_type": "execute_result"
    }
   ],
   "source": [
    "###\n",
    "# PLOTENADO EL MÁXIMO VALOR DE CADA CANAL POR HOTEL\n",
    "###\n",
    "canales = ['CORPO-RATE', 'GDS', 'GRUPOS RL','HOTEL DATOS','HOTEL INTEGRACION','OTAs','VOZ','WEB']\n",
    "hoteles = ['OAC', 'OAG', 'OAL', 'OAX', 'OCC', 'OCF', 'OCL', 'OCN', 'OCZ',\n",
    "       'ODR', 'OGA', 'OGC', 'OGD', 'OGS', 'OGV', 'OGX', 'OIR', 'OLA',\n",
    "       'OLP', 'OMN', 'OMT', 'OMX', 'OPC', 'OPF', 'OPJ', 'OPS', 'OPT',\n",
    "       'OPV', 'OPZ', 'OQA', 'OQR', 'OQS', 'ORY', 'OSC', 'OSD', 'OSL',\n",
    "       'OSM', 'OSP', 'OTL', 'OVA', 'OVC', 'OVM', 'OXC', 'OXL']\n",
    "data_aux = []\n",
    "for canal in canales:\n",
    "    c = aux.loc[aux['CANAL POSADAS'] == canal]\n",
    "    c.sort_values(by=['Hotel','Max_Val'], ascending=False)\n",
    "    data_aux.append(go.Bar(name=canal,x=hoteles,y=c['Max_Val']))\n",
    "\n",
    "fig = go.Figure(data=data_aux)\n",
    "fig.layout.update(barmode='group')\n",
    "py.iplot(fig)"
   ]
  },
  {
   "cell_type": "markdown",
   "metadata": {},
   "source": [
    "### <CENTER> GRAFICANDO LA FRECUENCIA MÁS ALTA, LA MEDIA Y EL PROMEDIO POR HOTEL DEL CANAL OTAs </CENTER>"
   ]
  },
  {
   "cell_type": "code",
   "execution_count": 159,
   "metadata": {},
   "outputs": [
    {
     "name": "stderr",
     "output_type": "stream",
     "text": [
      "C:\\Users\\israel.vargas\\AppData\\Local\\Continuum\\anaconda3\\envs\\EnvPos\\lib\\site-packages\\IPython\\core\\display.py:689: UserWarning:\n",
      "\n",
      "Consider using IPython.display.IFrame instead\n",
      "\n"
     ]
    },
    {
     "data": {
      "text/html": [
       "<iframe id=\"igraph\" scrolling=\"no\" style=\"border:none;\" seamless=\"seamless\" src=\"https://plot.ly/~Israel.Vargas/126.embed\" height=\"525px\" width=\"100%\"></iframe>"
      ],
      "text/plain": [
       "<plotly.tools.PlotlyDisplay object>"
      ]
     },
     "execution_count": 159,
     "metadata": {},
     "output_type": "execute_result"
    }
   ],
   "source": [
    "###\n",
    "# EXTRAYENDO POR HOTEL Y CANAL LOS VALORES ORDENADOS. \n",
    "###\n",
    "                        #####OTAs\n",
    "values = aux.loc[aux['CANAL POSADAS'] == 'OTAs']\n",
    "values.sort_values(by=['Max_Val'], ascending=True,inplace=True)\n",
    "fig = go.Figure()\n",
    "fig.add_trace(go.Bar(name='OTAs',x=values['Hotel'].unique(),y=values['Max_Val']))\n",
    "fig.add_trace(go.Scatter(name='Median_OTAs',x=values['Hotel'],y=[values['Max_Val'].median()]*44))\n",
    "fig.add_trace(go.Scatter(name='Mean_OTAs',x=values['Hotel'],y=[values['Max_Val'].mean()]*44))\n",
    "py.iplot(fig)"
   ]
  },
  {
   "cell_type": "markdown",
   "metadata": {},
   "source": [
    "### <CENTER> GRAFICANDO LA FRECUENCIA MÁS ALTA, LA MEDIA Y EL PROMEDIO POR HOTEL DEL CANAL CORPO-RATE </CENTER>"
   ]
  },
  {
   "cell_type": "code",
   "execution_count": 160,
   "metadata": {},
   "outputs": [
    {
     "data": {
      "text/html": [
       "<iframe id=\"igraph\" scrolling=\"no\" style=\"border:none;\" seamless=\"seamless\" src=\"https://plot.ly/~Israel.Vargas/128.embed\" height=\"525px\" width=\"100%\"></iframe>"
      ],
      "text/plain": [
       "<plotly.tools.PlotlyDisplay object>"
      ]
     },
     "execution_count": 160,
     "metadata": {},
     "output_type": "execute_result"
    }
   ],
   "source": [
    "###\n",
    "# EXTRAYENDO POR HOTEL Y CANAL LOS VALORES ORDENADOS. \n",
    "###\n",
    "                        #####CORPO-RATE\n",
    "values = aux.loc[aux['CANAL POSADAS'] == 'CORPO-RATE']\n",
    "values.sort_values(by=['Max_Val'], ascending=True,inplace=True)\n",
    "fig = go.Figure()\n",
    "fig.add_trace(go.Bar(name='CORPO-RATE',x=values['Hotel'].unique(),y=values['Max_Val']))\n",
    "fig.add_trace(go.Scatter(name='Median_CORPO-RATE',x=values['Hotel'],y=[values['Max_Val'].median()]*44))\n",
    "fig.add_trace(go.Scatter(name='Mean_CORPO-RATE',x=values['Hotel'],y=[values['Max_Val'].mean()]*44))\n",
    "py.iplot(fig)"
   ]
  },
  {
   "cell_type": "markdown",
   "metadata": {},
   "source": [
    "### <CENTER> GRAFICANDO LA FRECUENCIA MÁS ALTA, LA MEDIA Y EL PROMEDIO POR HOTEL DEL CANAL GDS </CENTER>"
   ]
  },
  {
   "cell_type": "code",
   "execution_count": 167,
   "metadata": {},
   "outputs": [
    {
     "data": {
      "text/html": [
       "<iframe id=\"igraph\" scrolling=\"no\" style=\"border:none;\" seamless=\"seamless\" src=\"https://plot.ly/~Israel.Vargas/140.embed\" height=\"525px\" width=\"100%\"></iframe>"
      ],
      "text/plain": [
       "<plotly.tools.PlotlyDisplay object>"
      ]
     },
     "execution_count": 167,
     "metadata": {},
     "output_type": "execute_result"
    }
   ],
   "source": [
    "###\n",
    "# EXTRAYENDO POR HOTEL Y CANAL LOS VALORES ORDENADOS. \n",
    "###\n",
    "                        #####GDS\n",
    "values = aux.loc[aux['CANAL POSADAS'] == 'GDS']\n",
    "values.sort_values(by=['Max_Val'], ascending=True,inplace=True)\n",
    "fig = go.Figure()\n",
    "fig.add_trace(go.Bar(name='GDS',x=values['Hotel'].unique(),y=values['Max_Val']))\n",
    "fig.add_trace(go.Scatter(name='median_GDS',x=values['Hotel'],y=[values['Max_Val'].median()]*44))\n",
    "fig.add_trace(go.Scatter(name='mean_GDS',x=values['Hotel'],y=[values['Max_Val'].mean()]*44))\n",
    "py.iplot(fig)"
   ]
  },
  {
   "cell_type": "markdown",
   "metadata": {},
   "source": [
    "### <CENTER> GRAFICANDO LA FRECUENCIA MÁS ALTA, LA MEDIA Y EL PROMEDIO POR HOTEL DEL CANAL GRUPOS RL </CENTER>"
   ]
  },
  {
   "cell_type": "code",
   "execution_count": 168,
   "metadata": {},
   "outputs": [
    {
     "data": {
      "text/html": [
       "<iframe id=\"igraph\" scrolling=\"no\" style=\"border:none;\" seamless=\"seamless\" src=\"https://plot.ly/~Israel.Vargas/142.embed\" height=\"525px\" width=\"100%\"></iframe>"
      ],
      "text/plain": [
       "<plotly.tools.PlotlyDisplay object>"
      ]
     },
     "execution_count": 168,
     "metadata": {},
     "output_type": "execute_result"
    }
   ],
   "source": [
    "###\n",
    "# EXTRAYENDO POR HOTEL Y CANAL LOS VALORES ORDENADOS. \n",
    "###\n",
    "                        #####GRUPOS RL\n",
    "values = aux.loc[aux['CANAL POSADAS'] == 'GRUPOS RL']\n",
    "values.sort_values(by=['Max_Val'], ascending=True,inplace=True)\n",
    "fig = go.Figure()\n",
    "fig.add_trace(go.Bar(name='GRUPOS RL',x=values['Hotel'].unique(),y=values['Max_Val']))\n",
    "fig.add_trace(go.Scatter(name='median_GRUPOS RL',x=values['Hotel'],y=[values['Max_Val'].median()]*44))\n",
    "fig.add_trace(go.Scatter(name='mean_GRUPOS RL',x=values['Hotel'],y=[values['Max_Val'].mean()]*44))\n",
    "py.iplot(fig)"
   ]
  },
  {
   "cell_type": "markdown",
   "metadata": {},
   "source": [
    "### <CENTER> GRAFICANDO LA FRECUENCIA MÁS ALTA, LA MEDIA Y EL PROMEDIO POR HOTEL DEL CANAL HOTEL DATOS </CENTER>"
   ]
  },
  {
   "cell_type": "code",
   "execution_count": 169,
   "metadata": {},
   "outputs": [
    {
     "data": {
      "text/html": [
       "<iframe id=\"igraph\" scrolling=\"no\" style=\"border:none;\" seamless=\"seamless\" src=\"https://plot.ly/~Israel.Vargas/144.embed\" height=\"525px\" width=\"100%\"></iframe>"
      ],
      "text/plain": [
       "<plotly.tools.PlotlyDisplay object>"
      ]
     },
     "execution_count": 169,
     "metadata": {},
     "output_type": "execute_result"
    }
   ],
   "source": [
    "###\n",
    "# EXTRAYENDO POR HOTEL Y CANAL LOS VALORES ORDENADOS. \n",
    "###\n",
    "                        #####HOTEL DATOS\n",
    "values = aux.loc[aux['CANAL POSADAS'] == 'HOTEL DATOS']\n",
    "values.sort_values(by=['Max_Val'], ascending=True,inplace=True)\n",
    "fig = go.Figure()\n",
    "fig.add_trace(go.Bar(name='HOTEL DATOS',x=values['Hotel'].unique(),y=values['Max_Val']))\n",
    "fig.add_trace(go.Scatter(name='median_HOTEL DATOS',x=values['Hotel'],y=[values['Max_Val'].median()]*44))\n",
    "fig.add_trace(go.Scatter(name='mean_HOTEL DATOS',x=values['Hotel'],y=[values['Max_Val'].mean()]*44))\n",
    "py.iplot(fig)"
   ]
  },
  {
   "cell_type": "markdown",
   "metadata": {},
   "source": [
    "### <CENTER> GRAFICANDO LA FRECUENCIA MÁS ALTA, LA MEDIA Y EL PROMEDIO POR HOTEL DEL CANAL HOTEL INTEGRACION </CENTER>"
   ]
  },
  {
   "cell_type": "code",
   "execution_count": 170,
   "metadata": {},
   "outputs": [
    {
     "data": {
      "text/html": [
       "<iframe id=\"igraph\" scrolling=\"no\" style=\"border:none;\" seamless=\"seamless\" src=\"https://plot.ly/~Israel.Vargas/146.embed\" height=\"525px\" width=\"100%\"></iframe>"
      ],
      "text/plain": [
       "<plotly.tools.PlotlyDisplay object>"
      ]
     },
     "execution_count": 170,
     "metadata": {},
     "output_type": "execute_result"
    }
   ],
   "source": [
    "###\n",
    "# EXTRAYENDO POR HOTEL Y CANAL LOS VALORES ORDENADOS. \n",
    "###\n",
    "                        #####HOTEL INTEGRACION\n",
    "values = aux.loc[aux['CANAL POSADAS'] == 'HOTEL INTEGRACION']\n",
    "values.sort_values(by=['Max_Val'], ascending=True,inplace=True)\n",
    "fig = go.Figure()\n",
    "fig.add_trace(go.Bar(name='HOTEL INTEGRACION',x=values['Hotel'].unique(),y=values['Max_Val']))\n",
    "fig.add_trace(go.Scatter(name='median_HOTEL INTEGRACION',x=values['Hotel'],y=[values['Max_Val'].median()]*44))\n",
    "fig.add_trace(go.Scatter(name='mean_HOTEL INTEGRACION',x=values['Hotel'],y=[values['Max_Val'].mean()]*44))\n",
    "py.iplot(fig)"
   ]
  },
  {
   "cell_type": "markdown",
   "metadata": {},
   "source": [
    "### <CENTER> GRAFICANDO LA FRECUENCIA MÁS ALTA, LA MEDIA Y EL PROMEDIO POR HOTEL DEL CANAL VOZ </CENTER>"
   ]
  },
  {
   "cell_type": "code",
   "execution_count": 171,
   "metadata": {},
   "outputs": [
    {
     "data": {
      "text/html": [
       "<iframe id=\"igraph\" scrolling=\"no\" style=\"border:none;\" seamless=\"seamless\" src=\"https://plot.ly/~Israel.Vargas/148.embed\" height=\"525px\" width=\"100%\"></iframe>"
      ],
      "text/plain": [
       "<plotly.tools.PlotlyDisplay object>"
      ]
     },
     "execution_count": 171,
     "metadata": {},
     "output_type": "execute_result"
    }
   ],
   "source": [
    "###\n",
    "# EXTRAYENDO POR HOTEL Y CANAL LOS VALORES ORDENADOS. \n",
    "###\n",
    "                        #####VOZ\n",
    "values = aux.loc[aux['CANAL POSADAS'] == 'VOZ']\n",
    "values.sort_values(by=['Max_Val'], ascending=True,inplace=True)\n",
    "fig = go.Figure()\n",
    "fig.add_trace(go.Bar(name='VOZ',x=values['Hotel'].unique(),y=values['Max_Val']))\n",
    "fig.add_trace(go.Scatter(name='median_VOZ',x=values['Hotel'],y=[values['Max_Val'].median()]*44))\n",
    "fig.add_trace(go.Scatter(name='mean_VOZ',x=values['Hotel'],y=[values['Max_Val'].mean()]*44))\n",
    "py.iplot(fig)"
   ]
  },
  {
   "cell_type": "markdown",
   "metadata": {},
   "source": [
    "### <CENTER> GRAFICANDO LA FRECUENCIA MÁS ALTA, LA MEDIA Y EL PROMEDIO POR HOTEL DEL CANAL WEB </CENTER>"
   ]
  },
  {
   "cell_type": "code",
   "execution_count": 172,
   "metadata": {},
   "outputs": [
    {
     "data": {
      "text/html": [
       "<iframe id=\"igraph\" scrolling=\"no\" style=\"border:none;\" seamless=\"seamless\" src=\"https://plot.ly/~Israel.Vargas/150.embed\" height=\"525px\" width=\"100%\"></iframe>"
      ],
      "text/plain": [
       "<plotly.tools.PlotlyDisplay object>"
      ]
     },
     "execution_count": 172,
     "metadata": {},
     "output_type": "execute_result"
    }
   ],
   "source": [
    "###\n",
    "# EXTRAYENDO POR HOTEL Y CANAL LOS VALORES ORDENADOS. \n",
    "###\n",
    "                        #####WEB\n",
    "values = aux.loc[aux['CANAL POSADAS'] == 'WEB']\n",
    "values.sort_values(by=['Max_Val'], ascending=True,inplace=True)\n",
    "fig = go.Figure()\n",
    "fig.add_trace(go.Bar(name='WEB',x=values['Hotel'].unique(),y=values['Max_Val']))\n",
    "fig.add_trace(go.Scatter(name='median_WEB',x=values['Hotel'],y=[values['Max_Val'].median()]*44))\n",
    "fig.add_trace(go.Scatter(name='mean_WEB',x=values['Hotel'],y=[values['Max_Val'].mean()]*44))\n",
    "py.iplot(fig)"
   ]
  },
  {
   "cell_type": "markdown",
   "metadata": {},
   "source": [
    "### <CENTER> GRAFICANDO LAS MEDIAS DE CADA CANAL Y CALCULANDO LA MEDIA DE LAS MISMAS JUNTO CON EL VALOR MINIMO </CENTER>\n",
    "##### Esto con el fin de concluir con que valor nos quedamos para poder hacer la clusterización de los hoteles con base en ese minimo de dias. \n",
    "\n",
    "# Conclusión momentanea: Nos quedaremos con el valor minimo de las medias, 12 dias."
   ]
  },
  {
   "cell_type": "code",
   "execution_count": 185,
   "metadata": {},
   "outputs": [
    {
     "data": {
      "text/html": [
       "<iframe id=\"igraph\" scrolling=\"no\" style=\"border:none;\" seamless=\"seamless\" src=\"https://plot.ly/~Israel.Vargas/158.embed\" height=\"525px\" width=\"100%\"></iframe>"
      ],
      "text/plain": [
       "<plotly.tools.PlotlyDisplay object>"
      ]
     },
     "execution_count": 185,
     "metadata": {},
     "output_type": "execute_result"
    }
   ],
   "source": [
    "y_medians = [129.5,54,34,31,12.5,44,119,90]\n",
    "x_chanels = ['OTAs','CORPO RATE','GDS','GRUPOS RL','HOTEL DATOS','HOTEL INTEGRACION','VOZ','WEB']\n",
    "median_of_medians = [statistics.median(y_medians)]*8\n",
    "min_of_medians = [min(y_medians)]*8\n",
    "fig = go.Figure()\n",
    "fig.add_trace(go.Bar(name='Medians',x=x_chanels,y=y_medians))\n",
    "fig.add_trace(go.Scatter(name='median_of_medians',x=x_chanels,y=median_of_medians))\n",
    "fig.add_trace(go.Scatter(name='min_of_medians',x=x_chanels,y=min_of_medians))\n",
    "py.iplot(fig)"
   ]
  },
  {
   "cell_type": "markdown",
   "metadata": {},
   "source": [
    "# <CENTER>CREANDO CLUSTERS</CENTER>"
   ]
  },
  {
   "cell_type": "code",
   "execution_count": 187,
   "metadata": {},
   "outputs": [
    {
     "name": "stdout",
     "output_type": "stream",
     "text": [
      "(9305, 4)\n",
      "(365, 3)\n"
     ]
    }
   ],
   "source": [
    "print(w_w.shape)\n",
    "print(aux.shape)"
   ]
  },
  {
   "cell_type": "code",
   "execution_count": 188,
   "metadata": {},
   "outputs": [
    {
     "data": {
      "text/html": [
       "<div>\n",
       "<style scoped>\n",
       "    .dataframe tbody tr th:only-of-type {\n",
       "        vertical-align: middle;\n",
       "    }\n",
       "\n",
       "    .dataframe tbody tr th {\n",
       "        vertical-align: top;\n",
       "    }\n",
       "\n",
       "    .dataframe thead th {\n",
       "        text-align: right;\n",
       "    }\n",
       "</style>\n",
       "<table border=\"1\" class=\"dataframe\">\n",
       "  <thead>\n",
       "    <tr style=\"text-align: right;\">\n",
       "      <th></th>\n",
       "      <th>Hotel</th>\n",
       "      <th>CANAL POSADAS</th>\n",
       "      <th>Max_Val</th>\n",
       "    </tr>\n",
       "  </thead>\n",
       "  <tbody>\n",
       "    <tr>\n",
       "      <th>0</th>\n",
       "      <td>OAC</td>\n",
       "      <td>CORPO-RATE</td>\n",
       "      <td>201.0</td>\n",
       "    </tr>\n",
       "    <tr>\n",
       "      <th>1</th>\n",
       "      <td>OAC</td>\n",
       "      <td>GDS</td>\n",
       "      <td>33.0</td>\n",
       "    </tr>\n",
       "    <tr>\n",
       "      <th>2</th>\n",
       "      <td>OAC</td>\n",
       "      <td>GRUPOS RL</td>\n",
       "      <td>151.0</td>\n",
       "    </tr>\n",
       "    <tr>\n",
       "      <th>3</th>\n",
       "      <td>OAC</td>\n",
       "      <td>HOTEL DATOS</td>\n",
       "      <td>72.0</td>\n",
       "    </tr>\n",
       "    <tr>\n",
       "      <th>4</th>\n",
       "      <td>OAC</td>\n",
       "      <td>HOTEL INTEGRACION</td>\n",
       "      <td>32.0</td>\n",
       "    </tr>\n",
       "  </tbody>\n",
       "</table>\n",
       "</div>"
      ],
      "text/plain": [
       "  Hotel      CANAL POSADAS  Max_Val\n",
       "0   OAC         CORPO-RATE    201.0\n",
       "1   OAC                GDS     33.0\n",
       "2   OAC          GRUPOS RL    151.0\n",
       "3   OAC        HOTEL DATOS     72.0\n",
       "4   OAC  HOTEL INTEGRACION     32.0"
      ]
     },
     "execution_count": 188,
     "metadata": {},
     "output_type": "execute_result"
    }
   ],
   "source": [
    "aux.head()"
   ]
  },
  {
   "cell_type": "code",
   "execution_count": null,
   "metadata": {},
   "outputs": [],
   "source": [
    "vals = aux.loc[aux['Max_Val'] > 12.5]\n",
    "y = vals['Max_Val'].min()\n",
    "trace = go.Scatter(\n",
    "    x = aux['Hotel'].unique(),\n",
    "    y = vals,\n",
    "    text = vals['CANAL POSADAs'].unique(),\n",
    "    textposition = 'top-center',\n",
    "    mode = 'markers-text'\n",
    ")\n",
    "data = [trace]\n",
    "py.iplot(data)"
   ]
  }
 ],
 "metadata": {
  "kernelspec": {
   "display_name": "Python 3",
   "language": "python",
   "name": "python3"
  },
  "language_info": {
   "codemirror_mode": {
    "name": "ipython",
    "version": 3
   },
   "file_extension": ".py",
   "mimetype": "text/x-python",
   "name": "python",
   "nbconvert_exporter": "python",
   "pygments_lexer": "ipython3",
   "version": "3.7.1"
  }
 },
 "nbformat": 4,
 "nbformat_minor": 2
}
